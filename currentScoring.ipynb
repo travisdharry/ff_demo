{
 "cells": [
  {
   "cell_type": "code",
   "execution_count": 1,
   "metadata": {},
   "outputs": [],
   "source": [
    "# Import dependencies\n",
    "# Standard python libraries\n",
    "import json\n",
    "import os\n",
    "# Third-party libraries\n",
    "from flask import Flask, redirect, request, url_for, render_template, session\n",
    "from flask_login import (\n",
    "    UserMixin,\n",
    "    LoginManager,\n",
    "    current_user,\n",
    "    login_required,\n",
    "    login_user,\n",
    "    logout_user,\n",
    ")\n",
    "from bs4 import BeautifulSoup, ProcessingInstruction\n",
    "from oauthlib.oauth2 import WebApplicationClient\n",
    "import requests\n",
    "import pandas as pd\n",
    "import psycopg2\n",
    "import plotly\n",
    "import plotly.express as px\n",
    "import plotly.graph_objects as go\n",
    "\n",
    "# Internal imports\n",
    "from user import User\n",
    "from db import get_df\n",
    "from mfl import get_mfl, get_mfl_liveScoring, get_mfl_league\n",
    "\n",
    "# Configuration (These variables are stored as environment variables)\n",
    "GOOGLE_CLIENT_ID = os.environ.get(\"GOOGLE_CLIENT_ID\", None)\n",
    "GOOGLE_CLIENT_SECRET = os.environ.get(\"GOOGLE_CLIENT_SECRET\", None)\n",
    "GOOGLE_DISCOVERY_URL = (\"https://accounts.google.com/.well-known/openid-configuration\")\n",
    "\n",
    "# Find environment variables\n",
    "DATABASE_URL = os.environ.get(\"DATABASE_URL\", None)\n",
    "# sqlalchemy deprecated urls which begin with \"postgres://\"; now it needs to start with \"postgresql://\"\n",
    "if DATABASE_URL.startswith(\"postgres://\"):\n",
    "    DATABASE_URL = DATABASE_URL.replace(\"postgres://\", \"postgresql://\", 1)"
   ]
  },
  {
   "cell_type": "code",
   "execution_count": 2,
   "metadata": {},
   "outputs": [],
   "source": [
    "user_league = \"53906\""
   ]
  },
  {
   "cell_type": "code",
   "execution_count": 29,
   "metadata": {},
   "outputs": [
    {
     "data": {
      "text/html": [
       "<div>\n",
       "<style scoped>\n",
       "    .dataframe tbody tr th:only-of-type {\n",
       "        vertical-align: middle;\n",
       "    }\n",
       "\n",
       "    .dataframe tbody tr th {\n",
       "        vertical-align: top;\n",
       "    }\n",
       "\n",
       "    .dataframe thead th {\n",
       "        text-align: right;\n",
       "    }\n",
       "</style>\n",
       "<table border=\"1\" class=\"dataframe\">\n",
       "  <thead>\n",
       "    <tr style=\"text-align: right;\">\n",
       "      <th></th>\n",
       "      <th>franchiseID</th>\n",
       "      <th>id_mfl</th>\n",
       "      <th>liveScore</th>\n",
       "      <th>secondsRemaining</th>\n",
       "      <th>status</th>\n",
       "    </tr>\n",
       "  </thead>\n",
       "  <tbody>\n",
       "    <tr>\n",
       "      <th>0</th>\n",
       "      <td>0009</td>\n",
       "      <td>13671</td>\n",
       "      <td>6.5</td>\n",
       "      <td>0</td>\n",
       "      <td>starter</td>\n",
       "    </tr>\n",
       "    <tr>\n",
       "      <th>1</th>\n",
       "      <td>0009</td>\n",
       "      <td>11945</td>\n",
       "      <td>1.0</td>\n",
       "      <td>0</td>\n",
       "      <td>starter</td>\n",
       "    </tr>\n",
       "    <tr>\n",
       "      <th>2</th>\n",
       "      <td>0009</td>\n",
       "      <td>15241</td>\n",
       "      <td>6.7</td>\n",
       "      <td>0</td>\n",
       "      <td>starter</td>\n",
       "    </tr>\n",
       "    <tr>\n",
       "      <th>3</th>\n",
       "      <td>0009</td>\n",
       "      <td>13129</td>\n",
       "      <td>0.0</td>\n",
       "      <td>3600</td>\n",
       "      <td>starter</td>\n",
       "    </tr>\n",
       "    <tr>\n",
       "      <th>4</th>\n",
       "      <td>0009</td>\n",
       "      <td>11228</td>\n",
       "      <td>1.6</td>\n",
       "      <td>0</td>\n",
       "      <td>starter</td>\n",
       "    </tr>\n",
       "    <tr>\n",
       "      <th>...</th>\n",
       "      <td>...</td>\n",
       "      <td>...</td>\n",
       "      <td>...</td>\n",
       "      <td>...</td>\n",
       "      <td>...</td>\n",
       "    </tr>\n",
       "    <tr>\n",
       "      <th>175</th>\n",
       "      <td>0006</td>\n",
       "      <td>14558</td>\n",
       "      <td>1.9</td>\n",
       "      <td>0</td>\n",
       "      <td>starter</td>\n",
       "    </tr>\n",
       "    <tr>\n",
       "      <th>176</th>\n",
       "      <td>0006</td>\n",
       "      <td>15329</td>\n",
       "      <td>2.4</td>\n",
       "      <td>0</td>\n",
       "      <td>starter</td>\n",
       "    </tr>\n",
       "    <tr>\n",
       "      <th>177</th>\n",
       "      <td>0006</td>\n",
       "      <td>13590</td>\n",
       "      <td>15.7</td>\n",
       "      <td>0</td>\n",
       "      <td>starter</td>\n",
       "    </tr>\n",
       "    <tr>\n",
       "      <th>178</th>\n",
       "      <td>0006</td>\n",
       "      <td>12626</td>\n",
       "      <td>10.3</td>\n",
       "      <td>0</td>\n",
       "      <td>starter</td>\n",
       "    </tr>\n",
       "    <tr>\n",
       "      <th>179</th>\n",
       "      <td>0006</td>\n",
       "      <td>13354</td>\n",
       "      <td>9.4</td>\n",
       "      <td>0</td>\n",
       "      <td>starter</td>\n",
       "    </tr>\n",
       "  </tbody>\n",
       "</table>\n",
       "<p>180 rows × 5 columns</p>\n",
       "</div>"
      ],
      "text/plain": [
       "    franchiseID id_mfl liveScore secondsRemaining   status\n",
       "0          0009  13671       6.5                0  starter\n",
       "1          0009  11945       1.0                0  starter\n",
       "2          0009  15241       6.7                0  starter\n",
       "3          0009  13129       0.0             3600  starter\n",
       "4          0009  11228       1.6                0  starter\n",
       "..          ...    ...       ...              ...      ...\n",
       "175        0006  14558       1.9                0  starter\n",
       "176        0006  15329       2.4                0  starter\n",
       "177        0006  13590      15.7                0  starter\n",
       "178        0006  12626      10.3                0  starter\n",
       "179        0006  13354       9.4                0  starter\n",
       "\n",
       "[180 rows x 5 columns]"
      ]
     },
     "execution_count": 29,
     "metadata": {},
     "output_type": "execute_result"
    }
   ],
   "source": [
    "# Get MFL scoring data\n",
    "liveScores = get_mfl_liveScoring(user_league)\n",
    "liveScores"
   ]
  },
  {
   "cell_type": "code",
   "execution_count": 30,
   "metadata": {},
   "outputs": [
    {
     "data": {
      "text/html": [
       "<div>\n",
       "<style scoped>\n",
       "    .dataframe tbody tr th:only-of-type {\n",
       "        vertical-align: middle;\n",
       "    }\n",
       "\n",
       "    .dataframe tbody tr th {\n",
       "        vertical-align: top;\n",
       "    }\n",
       "\n",
       "    .dataframe thead th {\n",
       "        text-align: right;\n",
       "    }\n",
       "</style>\n",
       "<table border=\"1\" class=\"dataframe\">\n",
       "  <thead>\n",
       "    <tr style=\"text-align: right;\">\n",
       "      <th></th>\n",
       "      <th>franchiseID</th>\n",
       "      <th>franchiseName</th>\n",
       "    </tr>\n",
       "  </thead>\n",
       "  <tbody>\n",
       "    <tr>\n",
       "      <th>0</th>\n",
       "      <td>0001</td>\n",
       "      <td>Providence Monastic Spirits</td>\n",
       "    </tr>\n",
       "    <tr>\n",
       "      <th>1</th>\n",
       "      <td>0002</td>\n",
       "      <td>Washington Fantasy Football Team</td>\n",
       "    </tr>\n",
       "    <tr>\n",
       "      <th>2</th>\n",
       "      <td>0003</td>\n",
       "      <td>Verdansk Vaqueros FFC</td>\n",
       "    </tr>\n",
       "    <tr>\n",
       "      <th>3</th>\n",
       "      <td>0004</td>\n",
       "      <td>Down with the Sickness unto Death</td>\n",
       "    </tr>\n",
       "    <tr>\n",
       "      <th>4</th>\n",
       "      <td>0005</td>\n",
       "      <td>Crocodilopolis Body Snatchers</td>\n",
       "    </tr>\n",
       "    <tr>\n",
       "      <th>5</th>\n",
       "      <td>0006</td>\n",
       "      <td>O'Henry's Stiffies</td>\n",
       "    </tr>\n",
       "    <tr>\n",
       "      <th>6</th>\n",
       "      <td>0007</td>\n",
       "      <td>Comeback Kings</td>\n",
       "    </tr>\n",
       "    <tr>\n",
       "      <th>7</th>\n",
       "      <td>0008</td>\n",
       "      <td>WHAM! BAM! Thank You CAM!</td>\n",
       "    </tr>\n",
       "    <tr>\n",
       "      <th>8</th>\n",
       "      <td>0009</td>\n",
       "      <td>Pretty Big Wieners</td>\n",
       "    </tr>\n",
       "    <tr>\n",
       "      <th>9</th>\n",
       "      <td>0010</td>\n",
       "      <td>Saskatoon Squatches</td>\n",
       "    </tr>\n",
       "    <tr>\n",
       "      <th>10</th>\n",
       "      <td>0011</td>\n",
       "      <td>Gus The Bus</td>\n",
       "    </tr>\n",
       "    <tr>\n",
       "      <th>11</th>\n",
       "      <td>0012</td>\n",
       "      <td>IDK much about soccer</td>\n",
       "    </tr>\n",
       "  </tbody>\n",
       "</table>\n",
       "</div>"
      ],
      "text/plain": [
       "   franchiseID                      franchiseName\n",
       "0         0001        Providence Monastic Spirits\n",
       "1         0002   Washington Fantasy Football Team\n",
       "2         0003              Verdansk Vaqueros FFC\n",
       "3         0004  Down with the Sickness unto Death\n",
       "4         0005      Crocodilopolis Body Snatchers\n",
       "5         0006                 O'Henry's Stiffies\n",
       "6         0007                     Comeback Kings\n",
       "7         0008          WHAM! BAM! Thank You CAM!\n",
       "8         0009                 Pretty Big Wieners\n",
       "9         0010                Saskatoon Squatches\n",
       "10        0011                        Gus The Bus\n",
       "11        0012             IDK much about soccer "
      ]
     },
     "execution_count": 30,
     "metadata": {},
     "output_type": "execute_result"
    }
   ],
   "source": [
    "\n",
    "# Get Franchises in the league\n",
    "franchises = get_mfl_league(user_league)\n",
    "franchises"
   ]
  },
  {
   "cell_type": "code",
   "execution_count": 31,
   "metadata": {},
   "outputs": [
    {
     "data": {
      "text/html": [
       "<div>\n",
       "<style scoped>\n",
       "    .dataframe tbody tr th:only-of-type {\n",
       "        vertical-align: middle;\n",
       "    }\n",
       "\n",
       "    .dataframe tbody tr th {\n",
       "        vertical-align: top;\n",
       "    }\n",
       "\n",
       "    .dataframe thead th {\n",
       "        text-align: right;\n",
       "    }\n",
       "</style>\n",
       "<table border=\"1\" class=\"dataframe\">\n",
       "  <thead>\n",
       "    <tr style=\"text-align: right;\">\n",
       "      <th></th>\n",
       "      <th>id_mfl</th>\n",
       "      <th>player</th>\n",
       "      <th>age</th>\n",
       "      <th>team</th>\n",
       "      <th>pos</th>\n",
       "      <th>posRank</th>\n",
       "      <th>KR</th>\n",
       "      <th>PR</th>\n",
       "      <th>RES</th>\n",
       "      <th>sharkRank</th>\n",
       "      <th>adp</th>\n",
       "      <th>pred</th>\n",
       "      <th>sharkRelative</th>\n",
       "      <th>sharkAbsolute</th>\n",
       "      <th>adpRelative</th>\n",
       "      <th>adpAbsolute</th>\n",
       "    </tr>\n",
       "  </thead>\n",
       "  <tbody>\n",
       "    <tr>\n",
       "      <th>0</th>\n",
       "      <td>5848</td>\n",
       "      <td>TOM BRADY</td>\n",
       "      <td>45.0</td>\n",
       "      <td>TBB</td>\n",
       "      <td>QB</td>\n",
       "      <td>QB1</td>\n",
       "      <td>NO</td>\n",
       "      <td>NO</td>\n",
       "      <td>NO</td>\n",
       "      <td>78.0</td>\n",
       "      <td>60.66</td>\n",
       "      <td>347.798672</td>\n",
       "      <td>145.069999</td>\n",
       "      <td>302.669999</td>\n",
       "      <td>136.640001</td>\n",
       "      <td>294.240001</td>\n",
       "    </tr>\n",
       "    <tr>\n",
       "      <th>1</th>\n",
       "      <td>14779</td>\n",
       "      <td>JUSTIN HERBERT</td>\n",
       "      <td>24.0</td>\n",
       "      <td>LAC</td>\n",
       "      <td>QB</td>\n",
       "      <td>QB1</td>\n",
       "      <td>NO</td>\n",
       "      <td>NO</td>\n",
       "      <td>NO</td>\n",
       "      <td>63.0</td>\n",
       "      <td>29.60</td>\n",
       "      <td>341.323461</td>\n",
       "      <td>178.046668</td>\n",
       "      <td>335.646667</td>\n",
       "      <td>178.046668</td>\n",
       "      <td>335.646667</td>\n",
       "    </tr>\n",
       "    <tr>\n",
       "      <th>2</th>\n",
       "      <td>13116</td>\n",
       "      <td>PATRICK MAHOMES</td>\n",
       "      <td>26.0</td>\n",
       "      <td>KCC</td>\n",
       "      <td>QB</td>\n",
       "      <td>QB1</td>\n",
       "      <td>NO</td>\n",
       "      <td>NO</td>\n",
       "      <td>NO</td>\n",
       "      <td>55.0</td>\n",
       "      <td>26.56</td>\n",
       "      <td>339.347453</td>\n",
       "      <td>193.409999</td>\n",
       "      <td>351.009999</td>\n",
       "      <td>193.409999</td>\n",
       "      <td>351.009999</td>\n",
       "    </tr>\n",
       "    <tr>\n",
       "      <th>3</th>\n",
       "      <td>12620</td>\n",
       "      <td>DAK PRESCOTT</td>\n",
       "      <td>29.0</td>\n",
       "      <td>DAL</td>\n",
       "      <td>QB</td>\n",
       "      <td>QB1</td>\n",
       "      <td>NO</td>\n",
       "      <td>NO</td>\n",
       "      <td>NO</td>\n",
       "      <td>75.0</td>\n",
       "      <td>71.23</td>\n",
       "      <td>332.541423</td>\n",
       "      <td>153.929998</td>\n",
       "      <td>311.529998</td>\n",
       "      <td>118.080001</td>\n",
       "      <td>275.680001</td>\n",
       "    </tr>\n",
       "    <tr>\n",
       "      <th>4</th>\n",
       "      <td>9431</td>\n",
       "      <td>MATTHEW STAFFORD</td>\n",
       "      <td>34.0</td>\n",
       "      <td>LAR</td>\n",
       "      <td>QB</td>\n",
       "      <td>QB1</td>\n",
       "      <td>NO</td>\n",
       "      <td>NO</td>\n",
       "      <td>NO</td>\n",
       "      <td>118.0</td>\n",
       "      <td>84.10</td>\n",
       "      <td>331.415001</td>\n",
       "      <td>67.943333</td>\n",
       "      <td>225.543333</td>\n",
       "      <td>102.406669</td>\n",
       "      <td>260.006669</td>\n",
       "    </tr>\n",
       "    <tr>\n",
       "      <th>...</th>\n",
       "      <td>...</td>\n",
       "      <td>...</td>\n",
       "      <td>...</td>\n",
       "      <td>...</td>\n",
       "      <td>...</td>\n",
       "      <td>...</td>\n",
       "      <td>...</td>\n",
       "      <td>...</td>\n",
       "      <td>...</td>\n",
       "      <td>...</td>\n",
       "      <td>...</td>\n",
       "      <td>...</td>\n",
       "      <td>...</td>\n",
       "      <td>...</td>\n",
       "      <td>...</td>\n",
       "      <td>...</td>\n",
       "    </tr>\n",
       "    <tr>\n",
       "      <th>614</th>\n",
       "      <td>13308</td>\n",
       "      <td>JAMAL AGNEW</td>\n",
       "      <td>27.0</td>\n",
       "      <td>JAC</td>\n",
       "      <td>WR</td>\n",
       "      <td>WR2</td>\n",
       "      <td>KR1</td>\n",
       "      <td>PR1</td>\n",
       "      <td>NO</td>\n",
       "      <td>747.0</td>\n",
       "      <td>3000.00</td>\n",
       "      <td>109.342865</td>\n",
       "      <td>-47.473333</td>\n",
       "      <td>152.126667</td>\n",
       "      <td>-85.246667</td>\n",
       "      <td>114.353333</td>\n",
       "    </tr>\n",
       "    <tr>\n",
       "      <th>615</th>\n",
       "      <td>14838</td>\n",
       "      <td>LAVISKA SHENAULT</td>\n",
       "      <td>23.0</td>\n",
       "      <td>CAR</td>\n",
       "      <td>WR</td>\n",
       "      <td>WR3</td>\n",
       "      <td>NO</td>\n",
       "      <td>NO</td>\n",
       "      <td>NO</td>\n",
       "      <td>827.0</td>\n",
       "      <td>3000.00</td>\n",
       "      <td>24.121850</td>\n",
       "      <td>-51.323333</td>\n",
       "      <td>64.276667</td>\n",
       "      <td>-83.530000</td>\n",
       "      <td>32.070000</td>\n",
       "    </tr>\n",
       "    <tr>\n",
       "      <th>616</th>\n",
       "      <td>14555</td>\n",
       "      <td>GUNNER OLSZEWSKI</td>\n",
       "      <td>25.0</td>\n",
       "      <td>PIT</td>\n",
       "      <td>WR</td>\n",
       "      <td>WR2</td>\n",
       "      <td>KR1</td>\n",
       "      <td>PR1</td>\n",
       "      <td>NO</td>\n",
       "      <td>1284.0</td>\n",
       "      <td>3000.00</td>\n",
       "      <td>107.820542</td>\n",
       "      <td>-86.543333</td>\n",
       "      <td>113.056667</td>\n",
       "      <td>-54.880000</td>\n",
       "      <td>144.720000</td>\n",
       "    </tr>\n",
       "    <tr>\n",
       "      <th>617</th>\n",
       "      <td>12394</td>\n",
       "      <td>DEANDRE CARTER</td>\n",
       "      <td>29.0</td>\n",
       "      <td>LAC</td>\n",
       "      <td>WR</td>\n",
       "      <td>WR2</td>\n",
       "      <td>KR1</td>\n",
       "      <td>PR1</td>\n",
       "      <td>NO</td>\n",
       "      <td>1044.0</td>\n",
       "      <td>3000.00</td>\n",
       "      <td>105.890985</td>\n",
       "      <td>-59.080001</td>\n",
       "      <td>140.519999</td>\n",
       "      <td>-94.883334</td>\n",
       "      <td>104.716666</td>\n",
       "    </tr>\n",
       "    <tr>\n",
       "      <th>618</th>\n",
       "      <td>15302</td>\n",
       "      <td>DWAYNE ESKRIDGE</td>\n",
       "      <td>25.0</td>\n",
       "      <td>SEA</td>\n",
       "      <td>WR</td>\n",
       "      <td>WR3</td>\n",
       "      <td>NO</td>\n",
       "      <td>NO</td>\n",
       "      <td>NO</td>\n",
       "      <td>856.0</td>\n",
       "      <td>3000.00</td>\n",
       "      <td>20.931060</td>\n",
       "      <td>-53.203334</td>\n",
       "      <td>62.396666</td>\n",
       "      <td>-80.900000</td>\n",
       "      <td>34.700000</td>\n",
       "    </tr>\n",
       "  </tbody>\n",
       "</table>\n",
       "<p>619 rows × 16 columns</p>\n",
       "</div>"
      ],
      "text/plain": [
       "    id_mfl            player   age team pos posRank   KR   PR RES  sharkRank  \\\n",
       "0     5848         TOM BRADY  45.0  TBB  QB     QB1   NO   NO  NO       78.0   \n",
       "1    14779    JUSTIN HERBERT  24.0  LAC  QB     QB1   NO   NO  NO       63.0   \n",
       "2    13116   PATRICK MAHOMES  26.0  KCC  QB     QB1   NO   NO  NO       55.0   \n",
       "3    12620      DAK PRESCOTT  29.0  DAL  QB     QB1   NO   NO  NO       75.0   \n",
       "4     9431  MATTHEW STAFFORD  34.0  LAR  QB     QB1   NO   NO  NO      118.0   \n",
       "..     ...               ...   ...  ...  ..     ...  ...  ...  ..        ...   \n",
       "614  13308       JAMAL AGNEW  27.0  JAC  WR     WR2  KR1  PR1  NO      747.0   \n",
       "615  14838  LAVISKA SHENAULT  23.0  CAR  WR     WR3   NO   NO  NO      827.0   \n",
       "616  14555  GUNNER OLSZEWSKI  25.0  PIT  WR     WR2  KR1  PR1  NO     1284.0   \n",
       "617  12394    DEANDRE CARTER  29.0  LAC  WR     WR2  KR1  PR1  NO     1044.0   \n",
       "618  15302   DWAYNE ESKRIDGE  25.0  SEA  WR     WR3   NO   NO  NO      856.0   \n",
       "\n",
       "         adp        pred  sharkRelative  sharkAbsolute  adpRelative  \\\n",
       "0      60.66  347.798672     145.069999     302.669999   136.640001   \n",
       "1      29.60  341.323461     178.046668     335.646667   178.046668   \n",
       "2      26.56  339.347453     193.409999     351.009999   193.409999   \n",
       "3      71.23  332.541423     153.929998     311.529998   118.080001   \n",
       "4      84.10  331.415001      67.943333     225.543333   102.406669   \n",
       "..       ...         ...            ...            ...          ...   \n",
       "614  3000.00  109.342865     -47.473333     152.126667   -85.246667   \n",
       "615  3000.00   24.121850     -51.323333      64.276667   -83.530000   \n",
       "616  3000.00  107.820542     -86.543333     113.056667   -54.880000   \n",
       "617  3000.00  105.890985     -59.080001     140.519999   -94.883334   \n",
       "618  3000.00   20.931060     -53.203334      62.396666   -80.900000   \n",
       "\n",
       "     adpAbsolute  \n",
       "0     294.240001  \n",
       "1     335.646667  \n",
       "2     351.009999  \n",
       "3     275.680001  \n",
       "4     260.006669  \n",
       "..           ...  \n",
       "614   114.353333  \n",
       "615    32.070000  \n",
       "616   144.720000  \n",
       "617   104.716666  \n",
       "618    34.700000  \n",
       "\n",
       "[619 rows x 16 columns]"
      ]
     },
     "execution_count": 31,
     "metadata": {},
     "output_type": "execute_result"
    }
   ],
   "source": [
    "# Get all players, sharkRank, and ADP\n",
    "predictions = get_df(\"predictions\")\n",
    "predictions\n"
   ]
  },
  {
   "cell_type": "code",
   "execution_count": 32,
   "metadata": {},
   "outputs": [],
   "source": [
    "# merge predictions, franchises, and liveScores\n",
    "merged = liveScores.merge(franchises, how='left', on='franchiseID').merge(predictions, how='left', on='id_mfl')"
   ]
  },
  {
   "cell_type": "code",
   "execution_count": 33,
   "metadata": {},
   "outputs": [],
   "source": [
    "merged['liveScore'] = merged.liveScore.astype('float64')\n",
    "merged['secondsRemaining'] = merged.secondsRemaining.astype('float64')"
   ]
  },
  {
   "cell_type": "code",
   "execution_count": 34,
   "metadata": {},
   "outputs": [
    {
     "data": {
      "text/html": [
       "<div>\n",
       "<style scoped>\n",
       "    .dataframe tbody tr th:only-of-type {\n",
       "        vertical-align: middle;\n",
       "    }\n",
       "\n",
       "    .dataframe tbody tr th {\n",
       "        vertical-align: top;\n",
       "    }\n",
       "\n",
       "    .dataframe thead th {\n",
       "        text-align: right;\n",
       "    }\n",
       "</style>\n",
       "<table border=\"1\" class=\"dataframe\">\n",
       "  <thead>\n",
       "    <tr style=\"text-align: right;\">\n",
       "      <th></th>\n",
       "      <th>franchiseID</th>\n",
       "      <th>id_mfl</th>\n",
       "      <th>liveScore</th>\n",
       "      <th>secondsRemaining</th>\n",
       "      <th>status</th>\n",
       "      <th>franchiseName</th>\n",
       "      <th>player</th>\n",
       "      <th>age</th>\n",
       "      <th>team</th>\n",
       "      <th>pos</th>\n",
       "      <th>...</th>\n",
       "      <th>RES</th>\n",
       "      <th>sharkRank</th>\n",
       "      <th>adp</th>\n",
       "      <th>pred</th>\n",
       "      <th>sharkRelative</th>\n",
       "      <th>sharkAbsolute</th>\n",
       "      <th>adpRelative</th>\n",
       "      <th>adpAbsolute</th>\n",
       "      <th>weeklyPred</th>\n",
       "      <th>scoreRemaining</th>\n",
       "    </tr>\n",
       "  </thead>\n",
       "  <tbody>\n",
       "    <tr>\n",
       "      <th>0</th>\n",
       "      <td>0009</td>\n",
       "      <td>13671</td>\n",
       "      <td>6.5</td>\n",
       "      <td>0.0</td>\n",
       "      <td>starter</td>\n",
       "      <td>Pretty Big Wieners</td>\n",
       "      <td>MARK ANDREWS</td>\n",
       "      <td>26.0</td>\n",
       "      <td>BAL</td>\n",
       "      <td>TE</td>\n",
       "      <td>...</td>\n",
       "      <td>NO</td>\n",
       "      <td>33.0</td>\n",
       "      <td>25.89</td>\n",
       "      <td>196.051249</td>\n",
       "      <td>127.150002</td>\n",
       "      <td>186.850002</td>\n",
       "      <td>127.150002</td>\n",
       "      <td>186.850002</td>\n",
       "      <td>11.532426</td>\n",
       "      <td>6.50000</td>\n",
       "    </tr>\n",
       "    <tr>\n",
       "      <th>1</th>\n",
       "      <td>0009</td>\n",
       "      <td>11945</td>\n",
       "      <td>1.0</td>\n",
       "      <td>0.0</td>\n",
       "      <td>starter</td>\n",
       "      <td>Pretty Big Wieners</td>\n",
       "      <td>CAIRO SANTOS</td>\n",
       "      <td>30.0</td>\n",
       "      <td>CHI</td>\n",
       "      <td>PK</td>\n",
       "      <td>...</td>\n",
       "      <td>NO</td>\n",
       "      <td>560.0</td>\n",
       "      <td>172.77</td>\n",
       "      <td>136.911686</td>\n",
       "      <td>37.810001</td>\n",
       "      <td>138.810001</td>\n",
       "      <td>18.643334</td>\n",
       "      <td>119.643334</td>\n",
       "      <td>8.053629</td>\n",
       "      <td>1.00000</td>\n",
       "    </tr>\n",
       "    <tr>\n",
       "      <th>2</th>\n",
       "      <td>0009</td>\n",
       "      <td>15241</td>\n",
       "      <td>6.7</td>\n",
       "      <td>0.0</td>\n",
       "      <td>starter</td>\n",
       "      <td>Pretty Big Wieners</td>\n",
       "      <td>MAC JONES</td>\n",
       "      <td>24.0</td>\n",
       "      <td>NEP</td>\n",
       "      <td>QB</td>\n",
       "      <td>...</td>\n",
       "      <td>NO</td>\n",
       "      <td>234.0</td>\n",
       "      <td>138.18</td>\n",
       "      <td>259.548074</td>\n",
       "      <td>37.893331</td>\n",
       "      <td>195.493331</td>\n",
       "      <td>22.279997</td>\n",
       "      <td>179.879997</td>\n",
       "      <td>15.267534</td>\n",
       "      <td>6.70000</td>\n",
       "    </tr>\n",
       "    <tr>\n",
       "      <th>3</th>\n",
       "      <td>0009</td>\n",
       "      <td>13129</td>\n",
       "      <td>0.0</td>\n",
       "      <td>3600.0</td>\n",
       "      <td>starter</td>\n",
       "      <td>Pretty Big Wieners</td>\n",
       "      <td>LEONARD FOURNETTE</td>\n",
       "      <td>27.0</td>\n",
       "      <td>TBB</td>\n",
       "      <td>RB</td>\n",
       "      <td>...</td>\n",
       "      <td>NO</td>\n",
       "      <td>7.0</td>\n",
       "      <td>22.11</td>\n",
       "      <td>230.187649</td>\n",
       "      <td>131.549997</td>\n",
       "      <td>250.849997</td>\n",
       "      <td>93.793333</td>\n",
       "      <td>213.093333</td>\n",
       "      <td>13.540450</td>\n",
       "      <td>13.54045</td>\n",
       "    </tr>\n",
       "    <tr>\n",
       "      <th>4</th>\n",
       "      <td>0009</td>\n",
       "      <td>11228</td>\n",
       "      <td>1.6</td>\n",
       "      <td>0.0</td>\n",
       "      <td>starter</td>\n",
       "      <td>Pretty Big Wieners</td>\n",
       "      <td>ROBERT WOODS</td>\n",
       "      <td>30.0</td>\n",
       "      <td>TEN</td>\n",
       "      <td>WR</td>\n",
       "      <td>...</td>\n",
       "      <td>NO</td>\n",
       "      <td>94.0</td>\n",
       "      <td>97.63</td>\n",
       "      <td>181.939059</td>\n",
       "      <td>24.013332</td>\n",
       "      <td>139.613332</td>\n",
       "      <td>22.739999</td>\n",
       "      <td>138.339999</td>\n",
       "      <td>10.702298</td>\n",
       "      <td>1.60000</td>\n",
       "    </tr>\n",
       "    <tr>\n",
       "      <th>...</th>\n",
       "      <td>...</td>\n",
       "      <td>...</td>\n",
       "      <td>...</td>\n",
       "      <td>...</td>\n",
       "      <td>...</td>\n",
       "      <td>...</td>\n",
       "      <td>...</td>\n",
       "      <td>...</td>\n",
       "      <td>...</td>\n",
       "      <td>...</td>\n",
       "      <td>...</td>\n",
       "      <td>...</td>\n",
       "      <td>...</td>\n",
       "      <td>...</td>\n",
       "      <td>...</td>\n",
       "      <td>...</td>\n",
       "      <td>...</td>\n",
       "      <td>...</td>\n",
       "      <td>...</td>\n",
       "      <td>...</td>\n",
       "      <td>...</td>\n",
       "    </tr>\n",
       "    <tr>\n",
       "      <th>175</th>\n",
       "      <td>0006</td>\n",
       "      <td>14558</td>\n",
       "      <td>1.9</td>\n",
       "      <td>0.0</td>\n",
       "      <td>starter</td>\n",
       "      <td>O'Henry's Stiffies</td>\n",
       "      <td>DEONTE HARTY</td>\n",
       "      <td>24.0</td>\n",
       "      <td>NOS</td>\n",
       "      <td>WR</td>\n",
       "      <td>...</td>\n",
       "      <td>NO</td>\n",
       "      <td>356.0</td>\n",
       "      <td>3000.00</td>\n",
       "      <td>122.209997</td>\n",
       "      <td>-23.856666</td>\n",
       "      <td>175.743334</td>\n",
       "      <td>-91.863333</td>\n",
       "      <td>107.736667</td>\n",
       "      <td>7.188823</td>\n",
       "      <td>1.90000</td>\n",
       "    </tr>\n",
       "    <tr>\n",
       "      <th>176</th>\n",
       "      <td>0006</td>\n",
       "      <td>15329</td>\n",
       "      <td>2.4</td>\n",
       "      <td>0.0</td>\n",
       "      <td>starter</td>\n",
       "      <td>O'Henry's Stiffies</td>\n",
       "      <td>KYLE PITTS</td>\n",
       "      <td>21.0</td>\n",
       "      <td>ATL</td>\n",
       "      <td>TE</td>\n",
       "      <td>...</td>\n",
       "      <td>NO</td>\n",
       "      <td>109.0</td>\n",
       "      <td>38.28</td>\n",
       "      <td>157.924377</td>\n",
       "      <td>67.749999</td>\n",
       "      <td>127.450000</td>\n",
       "      <td>103.826669</td>\n",
       "      <td>163.526669</td>\n",
       "      <td>9.289669</td>\n",
       "      <td>2.40000</td>\n",
       "    </tr>\n",
       "    <tr>\n",
       "      <th>177</th>\n",
       "      <td>0006</td>\n",
       "      <td>13590</td>\n",
       "      <td>15.7</td>\n",
       "      <td>0.0</td>\n",
       "      <td>starter</td>\n",
       "      <td>O'Henry's Stiffies</td>\n",
       "      <td>BAKER MAYFIELD</td>\n",
       "      <td>27.0</td>\n",
       "      <td>CAR</td>\n",
       "      <td>QB</td>\n",
       "      <td>...</td>\n",
       "      <td>NO</td>\n",
       "      <td>768.0</td>\n",
       "      <td>143.75</td>\n",
       "      <td>254.643395</td>\n",
       "      <td>29.506664</td>\n",
       "      <td>187.106664</td>\n",
       "      <td>16.359999</td>\n",
       "      <td>173.959999</td>\n",
       "      <td>14.979023</td>\n",
       "      <td>15.70000</td>\n",
       "    </tr>\n",
       "    <tr>\n",
       "      <th>178</th>\n",
       "      <td>0006</td>\n",
       "      <td>12626</td>\n",
       "      <td>10.3</td>\n",
       "      <td>0.0</td>\n",
       "      <td>starter</td>\n",
       "      <td>O'Henry's Stiffies</td>\n",
       "      <td>DERRICK HENRY</td>\n",
       "      <td>28.0</td>\n",
       "      <td>TEN</td>\n",
       "      <td>RB</td>\n",
       "      <td>...</td>\n",
       "      <td>NO</td>\n",
       "      <td>5.0</td>\n",
       "      <td>4.97</td>\n",
       "      <td>279.270756</td>\n",
       "      <td>146.439995</td>\n",
       "      <td>265.739995</td>\n",
       "      <td>163.976664</td>\n",
       "      <td>283.276664</td>\n",
       "      <td>16.427692</td>\n",
       "      <td>10.30000</td>\n",
       "    </tr>\n",
       "    <tr>\n",
       "      <th>179</th>\n",
       "      <td>0006</td>\n",
       "      <td>13354</td>\n",
       "      <td>9.4</td>\n",
       "      <td>0.0</td>\n",
       "      <td>starter</td>\n",
       "      <td>O'Henry's Stiffies</td>\n",
       "      <td>HARRISON BUTKER</td>\n",
       "      <td>27.0</td>\n",
       "      <td>KCC</td>\n",
       "      <td>PK</td>\n",
       "      <td>...</td>\n",
       "      <td>NO</td>\n",
       "      <td>394.0</td>\n",
       "      <td>137.70</td>\n",
       "      <td>143.177400</td>\n",
       "      <td>55.240000</td>\n",
       "      <td>156.240000</td>\n",
       "      <td>59.936667</td>\n",
       "      <td>160.936667</td>\n",
       "      <td>8.422200</td>\n",
       "      <td>9.40000</td>\n",
       "    </tr>\n",
       "  </tbody>\n",
       "</table>\n",
       "<p>180 rows × 23 columns</p>\n",
       "</div>"
      ],
      "text/plain": [
       "    franchiseID id_mfl  liveScore  secondsRemaining   status  \\\n",
       "0          0009  13671        6.5               0.0  starter   \n",
       "1          0009  11945        1.0               0.0  starter   \n",
       "2          0009  15241        6.7               0.0  starter   \n",
       "3          0009  13129        0.0            3600.0  starter   \n",
       "4          0009  11228        1.6               0.0  starter   \n",
       "..          ...    ...        ...               ...      ...   \n",
       "175        0006  14558        1.9               0.0  starter   \n",
       "176        0006  15329        2.4               0.0  starter   \n",
       "177        0006  13590       15.7               0.0  starter   \n",
       "178        0006  12626       10.3               0.0  starter   \n",
       "179        0006  13354        9.4               0.0  starter   \n",
       "\n",
       "          franchiseName             player   age team pos  ... RES sharkRank  \\\n",
       "0    Pretty Big Wieners       MARK ANDREWS  26.0  BAL  TE  ...  NO      33.0   \n",
       "1    Pretty Big Wieners       CAIRO SANTOS  30.0  CHI  PK  ...  NO     560.0   \n",
       "2    Pretty Big Wieners          MAC JONES  24.0  NEP  QB  ...  NO     234.0   \n",
       "3    Pretty Big Wieners  LEONARD FOURNETTE  27.0  TBB  RB  ...  NO       7.0   \n",
       "4    Pretty Big Wieners       ROBERT WOODS  30.0  TEN  WR  ...  NO      94.0   \n",
       "..                  ...                ...   ...  ...  ..  ...  ..       ...   \n",
       "175  O'Henry's Stiffies       DEONTE HARTY  24.0  NOS  WR  ...  NO     356.0   \n",
       "176  O'Henry's Stiffies         KYLE PITTS  21.0  ATL  TE  ...  NO     109.0   \n",
       "177  O'Henry's Stiffies     BAKER MAYFIELD  27.0  CAR  QB  ...  NO     768.0   \n",
       "178  O'Henry's Stiffies      DERRICK HENRY  28.0  TEN  RB  ...  NO       5.0   \n",
       "179  O'Henry's Stiffies    HARRISON BUTKER  27.0  KCC  PK  ...  NO     394.0   \n",
       "\n",
       "         adp        pred  sharkRelative  sharkAbsolute  adpRelative  \\\n",
       "0      25.89  196.051249     127.150002     186.850002   127.150002   \n",
       "1     172.77  136.911686      37.810001     138.810001    18.643334   \n",
       "2     138.18  259.548074      37.893331     195.493331    22.279997   \n",
       "3      22.11  230.187649     131.549997     250.849997    93.793333   \n",
       "4      97.63  181.939059      24.013332     139.613332    22.739999   \n",
       "..       ...         ...            ...            ...          ...   \n",
       "175  3000.00  122.209997     -23.856666     175.743334   -91.863333   \n",
       "176    38.28  157.924377      67.749999     127.450000   103.826669   \n",
       "177   143.75  254.643395      29.506664     187.106664    16.359999   \n",
       "178     4.97  279.270756     146.439995     265.739995   163.976664   \n",
       "179   137.70  143.177400      55.240000     156.240000    59.936667   \n",
       "\n",
       "     adpAbsolute  weeklyPred  scoreRemaining  \n",
       "0     186.850002   11.532426         6.50000  \n",
       "1     119.643334    8.053629         1.00000  \n",
       "2     179.879997   15.267534         6.70000  \n",
       "3     213.093333   13.540450        13.54045  \n",
       "4     138.339999   10.702298         1.60000  \n",
       "..           ...         ...             ...  \n",
       "175   107.736667    7.188823         1.90000  \n",
       "176   163.526669    9.289669         2.40000  \n",
       "177   173.959999   14.979023        15.70000  \n",
       "178   283.276664   16.427692        10.30000  \n",
       "179   160.936667    8.422200         9.40000  \n",
       "\n",
       "[180 rows x 23 columns]"
      ]
     },
     "execution_count": 34,
     "metadata": {},
     "output_type": "execute_result"
    }
   ],
   "source": [
    "# calculate scoreRemaining\n",
    "merged['weeklyPred'] = merged['pred'] / 17\n",
    "\n",
    "def calcScoreRemaining(row):\n",
    "    result = ((row['weeklyPred']) * (row['secondsRemaining'] / 3600)) + row['liveScore']\n",
    "    return result\n",
    "\n",
    "merged['scoreRemaining'] = merged.apply(calcScoreRemaining, axis=1)\n",
    "merged\n"
   ]
  },
  {
   "cell_type": "code",
   "execution_count": 35,
   "metadata": {},
   "outputs": [],
   "source": [
    "merged['diff'] = merged.scoreRemaining - merged.weeklyPred\n",
    "merged.loc[merged['diff']>30, 'diff'] = 30\n",
    "merged.loc[merged['diff']<-30, 'diff'] = -30\n",
    "\n",
    "merged['scaled'] = round(merged['diff'] * 255 / 30, 0)\n",
    "merged.dropna(inplace=True)\n",
    "merged['scaled'] = merged['scaled'].astype('int')"
   ]
  },
  {
   "cell_type": "code",
   "execution_count": 36,
   "metadata": {},
   "outputs": [
    {
     "data": {
      "text/html": [
       "<div>\n",
       "<style scoped>\n",
       "    .dataframe tbody tr th:only-of-type {\n",
       "        vertical-align: middle;\n",
       "    }\n",
       "\n",
       "    .dataframe tbody tr th {\n",
       "        vertical-align: top;\n",
       "    }\n",
       "\n",
       "    .dataframe thead th {\n",
       "        text-align: right;\n",
       "    }\n",
       "</style>\n",
       "<table border=\"1\" class=\"dataframe\">\n",
       "  <thead>\n",
       "    <tr style=\"text-align: right;\">\n",
       "      <th></th>\n",
       "      <th>franchiseID</th>\n",
       "      <th>id_mfl</th>\n",
       "      <th>liveScore</th>\n",
       "      <th>secondsRemaining</th>\n",
       "      <th>status</th>\n",
       "      <th>franchiseName</th>\n",
       "      <th>player</th>\n",
       "      <th>age</th>\n",
       "      <th>team</th>\n",
       "      <th>pos</th>\n",
       "      <th>...</th>\n",
       "      <th>pred</th>\n",
       "      <th>sharkRelative</th>\n",
       "      <th>sharkAbsolute</th>\n",
       "      <th>adpRelative</th>\n",
       "      <th>adpAbsolute</th>\n",
       "      <th>weeklyPred</th>\n",
       "      <th>scoreRemaining</th>\n",
       "      <th>diff</th>\n",
       "      <th>scaled</th>\n",
       "      <th>color</th>\n",
       "    </tr>\n",
       "  </thead>\n",
       "  <tbody>\n",
       "    <tr>\n",
       "      <th>0</th>\n",
       "      <td>0009</td>\n",
       "      <td>13671</td>\n",
       "      <td>6.5</td>\n",
       "      <td>0.0</td>\n",
       "      <td>starter</td>\n",
       "      <td>Pretty Big Wieners</td>\n",
       "      <td>MARK ANDREWS</td>\n",
       "      <td>26.0</td>\n",
       "      <td>BAL</td>\n",
       "      <td>TE</td>\n",
       "      <td>...</td>\n",
       "      <td>196.051249</td>\n",
       "      <td>127.150002</td>\n",
       "      <td>186.850002</td>\n",
       "      <td>127.150002</td>\n",
       "      <td>186.850002</td>\n",
       "      <td>11.532426</td>\n",
       "      <td>6.50000</td>\n",
       "      <td>-5.032426</td>\n",
       "      <td>-43</td>\n",
       "      <td>rgb(255,212,212)</td>\n",
       "    </tr>\n",
       "    <tr>\n",
       "      <th>1</th>\n",
       "      <td>0009</td>\n",
       "      <td>11945</td>\n",
       "      <td>1.0</td>\n",
       "      <td>0.0</td>\n",
       "      <td>starter</td>\n",
       "      <td>Pretty Big Wieners</td>\n",
       "      <td>CAIRO SANTOS</td>\n",
       "      <td>30.0</td>\n",
       "      <td>CHI</td>\n",
       "      <td>PK</td>\n",
       "      <td>...</td>\n",
       "      <td>136.911686</td>\n",
       "      <td>37.810001</td>\n",
       "      <td>138.810001</td>\n",
       "      <td>18.643334</td>\n",
       "      <td>119.643334</td>\n",
       "      <td>8.053629</td>\n",
       "      <td>1.00000</td>\n",
       "      <td>-7.053629</td>\n",
       "      <td>-60</td>\n",
       "      <td>rgb(255,195,195)</td>\n",
       "    </tr>\n",
       "    <tr>\n",
       "      <th>2</th>\n",
       "      <td>0009</td>\n",
       "      <td>15241</td>\n",
       "      <td>6.7</td>\n",
       "      <td>0.0</td>\n",
       "      <td>starter</td>\n",
       "      <td>Pretty Big Wieners</td>\n",
       "      <td>MAC JONES</td>\n",
       "      <td>24.0</td>\n",
       "      <td>NEP</td>\n",
       "      <td>QB</td>\n",
       "      <td>...</td>\n",
       "      <td>259.548074</td>\n",
       "      <td>37.893331</td>\n",
       "      <td>195.493331</td>\n",
       "      <td>22.279997</td>\n",
       "      <td>179.879997</td>\n",
       "      <td>15.267534</td>\n",
       "      <td>6.70000</td>\n",
       "      <td>-8.567534</td>\n",
       "      <td>-73</td>\n",
       "      <td>rgb(255,182,182)</td>\n",
       "    </tr>\n",
       "    <tr>\n",
       "      <th>3</th>\n",
       "      <td>0009</td>\n",
       "      <td>13129</td>\n",
       "      <td>0.0</td>\n",
       "      <td>3600.0</td>\n",
       "      <td>starter</td>\n",
       "      <td>Pretty Big Wieners</td>\n",
       "      <td>LEONARD FOURNETTE</td>\n",
       "      <td>27.0</td>\n",
       "      <td>TBB</td>\n",
       "      <td>RB</td>\n",
       "      <td>...</td>\n",
       "      <td>230.187649</td>\n",
       "      <td>131.549997</td>\n",
       "      <td>250.849997</td>\n",
       "      <td>93.793333</td>\n",
       "      <td>213.093333</td>\n",
       "      <td>13.540450</td>\n",
       "      <td>13.54045</td>\n",
       "      <td>0.000000</td>\n",
       "      <td>0</td>\n",
       "      <td>rgb(255,255,255)</td>\n",
       "    </tr>\n",
       "    <tr>\n",
       "      <th>4</th>\n",
       "      <td>0009</td>\n",
       "      <td>11228</td>\n",
       "      <td>1.6</td>\n",
       "      <td>0.0</td>\n",
       "      <td>starter</td>\n",
       "      <td>Pretty Big Wieners</td>\n",
       "      <td>ROBERT WOODS</td>\n",
       "      <td>30.0</td>\n",
       "      <td>TEN</td>\n",
       "      <td>WR</td>\n",
       "      <td>...</td>\n",
       "      <td>181.939059</td>\n",
       "      <td>24.013332</td>\n",
       "      <td>139.613332</td>\n",
       "      <td>22.739999</td>\n",
       "      <td>138.339999</td>\n",
       "      <td>10.702298</td>\n",
       "      <td>1.60000</td>\n",
       "      <td>-9.102298</td>\n",
       "      <td>-77</td>\n",
       "      <td>rgb(255,178,178)</td>\n",
       "    </tr>\n",
       "    <tr>\n",
       "      <th>...</th>\n",
       "      <td>...</td>\n",
       "      <td>...</td>\n",
       "      <td>...</td>\n",
       "      <td>...</td>\n",
       "      <td>...</td>\n",
       "      <td>...</td>\n",
       "      <td>...</td>\n",
       "      <td>...</td>\n",
       "      <td>...</td>\n",
       "      <td>...</td>\n",
       "      <td>...</td>\n",
       "      <td>...</td>\n",
       "      <td>...</td>\n",
       "      <td>...</td>\n",
       "      <td>...</td>\n",
       "      <td>...</td>\n",
       "      <td>...</td>\n",
       "      <td>...</td>\n",
       "      <td>...</td>\n",
       "      <td>...</td>\n",
       "      <td>...</td>\n",
       "    </tr>\n",
       "    <tr>\n",
       "      <th>175</th>\n",
       "      <td>0006</td>\n",
       "      <td>14558</td>\n",
       "      <td>1.9</td>\n",
       "      <td>0.0</td>\n",
       "      <td>starter</td>\n",
       "      <td>O'Henry's Stiffies</td>\n",
       "      <td>DEONTE HARTY</td>\n",
       "      <td>24.0</td>\n",
       "      <td>NOS</td>\n",
       "      <td>WR</td>\n",
       "      <td>...</td>\n",
       "      <td>122.209997</td>\n",
       "      <td>-23.856666</td>\n",
       "      <td>175.743334</td>\n",
       "      <td>-91.863333</td>\n",
       "      <td>107.736667</td>\n",
       "      <td>7.188823</td>\n",
       "      <td>1.90000</td>\n",
       "      <td>-5.288823</td>\n",
       "      <td>-45</td>\n",
       "      <td>rgb(255,210,210)</td>\n",
       "    </tr>\n",
       "    <tr>\n",
       "      <th>176</th>\n",
       "      <td>0006</td>\n",
       "      <td>15329</td>\n",
       "      <td>2.4</td>\n",
       "      <td>0.0</td>\n",
       "      <td>starter</td>\n",
       "      <td>O'Henry's Stiffies</td>\n",
       "      <td>KYLE PITTS</td>\n",
       "      <td>21.0</td>\n",
       "      <td>ATL</td>\n",
       "      <td>TE</td>\n",
       "      <td>...</td>\n",
       "      <td>157.924377</td>\n",
       "      <td>67.749999</td>\n",
       "      <td>127.450000</td>\n",
       "      <td>103.826669</td>\n",
       "      <td>163.526669</td>\n",
       "      <td>9.289669</td>\n",
       "      <td>2.40000</td>\n",
       "      <td>-6.889669</td>\n",
       "      <td>-59</td>\n",
       "      <td>rgb(255,196,196)</td>\n",
       "    </tr>\n",
       "    <tr>\n",
       "      <th>177</th>\n",
       "      <td>0006</td>\n",
       "      <td>13590</td>\n",
       "      <td>15.7</td>\n",
       "      <td>0.0</td>\n",
       "      <td>starter</td>\n",
       "      <td>O'Henry's Stiffies</td>\n",
       "      <td>BAKER MAYFIELD</td>\n",
       "      <td>27.0</td>\n",
       "      <td>CAR</td>\n",
       "      <td>QB</td>\n",
       "      <td>...</td>\n",
       "      <td>254.643395</td>\n",
       "      <td>29.506664</td>\n",
       "      <td>187.106664</td>\n",
       "      <td>16.359999</td>\n",
       "      <td>173.959999</td>\n",
       "      <td>14.979023</td>\n",
       "      <td>15.70000</td>\n",
       "      <td>0.720977</td>\n",
       "      <td>6</td>\n",
       "      <td>rgb(249,255,249)</td>\n",
       "    </tr>\n",
       "    <tr>\n",
       "      <th>178</th>\n",
       "      <td>0006</td>\n",
       "      <td>12626</td>\n",
       "      <td>10.3</td>\n",
       "      <td>0.0</td>\n",
       "      <td>starter</td>\n",
       "      <td>O'Henry's Stiffies</td>\n",
       "      <td>DERRICK HENRY</td>\n",
       "      <td>28.0</td>\n",
       "      <td>TEN</td>\n",
       "      <td>RB</td>\n",
       "      <td>...</td>\n",
       "      <td>279.270756</td>\n",
       "      <td>146.439995</td>\n",
       "      <td>265.739995</td>\n",
       "      <td>163.976664</td>\n",
       "      <td>283.276664</td>\n",
       "      <td>16.427692</td>\n",
       "      <td>10.30000</td>\n",
       "      <td>-6.127692</td>\n",
       "      <td>-52</td>\n",
       "      <td>rgb(255,203,203)</td>\n",
       "    </tr>\n",
       "    <tr>\n",
       "      <th>179</th>\n",
       "      <td>0006</td>\n",
       "      <td>13354</td>\n",
       "      <td>9.4</td>\n",
       "      <td>0.0</td>\n",
       "      <td>starter</td>\n",
       "      <td>O'Henry's Stiffies</td>\n",
       "      <td>HARRISON BUTKER</td>\n",
       "      <td>27.0</td>\n",
       "      <td>KCC</td>\n",
       "      <td>PK</td>\n",
       "      <td>...</td>\n",
       "      <td>143.177400</td>\n",
       "      <td>55.240000</td>\n",
       "      <td>156.240000</td>\n",
       "      <td>59.936667</td>\n",
       "      <td>160.936667</td>\n",
       "      <td>8.422200</td>\n",
       "      <td>9.40000</td>\n",
       "      <td>0.977800</td>\n",
       "      <td>8</td>\n",
       "      <td>rgb(247,255,247)</td>\n",
       "    </tr>\n",
       "  </tbody>\n",
       "</table>\n",
       "<p>179 rows × 26 columns</p>\n",
       "</div>"
      ],
      "text/plain": [
       "    franchiseID id_mfl  liveScore  secondsRemaining   status  \\\n",
       "0          0009  13671        6.5               0.0  starter   \n",
       "1          0009  11945        1.0               0.0  starter   \n",
       "2          0009  15241        6.7               0.0  starter   \n",
       "3          0009  13129        0.0            3600.0  starter   \n",
       "4          0009  11228        1.6               0.0  starter   \n",
       "..          ...    ...        ...               ...      ...   \n",
       "175        0006  14558        1.9               0.0  starter   \n",
       "176        0006  15329        2.4               0.0  starter   \n",
       "177        0006  13590       15.7               0.0  starter   \n",
       "178        0006  12626       10.3               0.0  starter   \n",
       "179        0006  13354        9.4               0.0  starter   \n",
       "\n",
       "          franchiseName             player   age team pos  ...        pred  \\\n",
       "0    Pretty Big Wieners       MARK ANDREWS  26.0  BAL  TE  ...  196.051249   \n",
       "1    Pretty Big Wieners       CAIRO SANTOS  30.0  CHI  PK  ...  136.911686   \n",
       "2    Pretty Big Wieners          MAC JONES  24.0  NEP  QB  ...  259.548074   \n",
       "3    Pretty Big Wieners  LEONARD FOURNETTE  27.0  TBB  RB  ...  230.187649   \n",
       "4    Pretty Big Wieners       ROBERT WOODS  30.0  TEN  WR  ...  181.939059   \n",
       "..                  ...                ...   ...  ...  ..  ...         ...   \n",
       "175  O'Henry's Stiffies       DEONTE HARTY  24.0  NOS  WR  ...  122.209997   \n",
       "176  O'Henry's Stiffies         KYLE PITTS  21.0  ATL  TE  ...  157.924377   \n",
       "177  O'Henry's Stiffies     BAKER MAYFIELD  27.0  CAR  QB  ...  254.643395   \n",
       "178  O'Henry's Stiffies      DERRICK HENRY  28.0  TEN  RB  ...  279.270756   \n",
       "179  O'Henry's Stiffies    HARRISON BUTKER  27.0  KCC  PK  ...  143.177400   \n",
       "\n",
       "    sharkRelative sharkAbsolute adpRelative  adpAbsolute  weeklyPred  \\\n",
       "0      127.150002    186.850002  127.150002   186.850002   11.532426   \n",
       "1       37.810001    138.810001   18.643334   119.643334    8.053629   \n",
       "2       37.893331    195.493331   22.279997   179.879997   15.267534   \n",
       "3      131.549997    250.849997   93.793333   213.093333   13.540450   \n",
       "4       24.013332    139.613332   22.739999   138.339999   10.702298   \n",
       "..            ...           ...         ...          ...         ...   \n",
       "175    -23.856666    175.743334  -91.863333   107.736667    7.188823   \n",
       "176     67.749999    127.450000  103.826669   163.526669    9.289669   \n",
       "177     29.506664    187.106664   16.359999   173.959999   14.979023   \n",
       "178    146.439995    265.739995  163.976664   283.276664   16.427692   \n",
       "179     55.240000    156.240000   59.936667   160.936667    8.422200   \n",
       "\n",
       "     scoreRemaining      diff  scaled             color  \n",
       "0           6.50000 -5.032426     -43  rgb(255,212,212)  \n",
       "1           1.00000 -7.053629     -60  rgb(255,195,195)  \n",
       "2           6.70000 -8.567534     -73  rgb(255,182,182)  \n",
       "3          13.54045  0.000000       0  rgb(255,255,255)  \n",
       "4           1.60000 -9.102298     -77  rgb(255,178,178)  \n",
       "..              ...       ...     ...               ...  \n",
       "175         1.90000 -5.288823     -45  rgb(255,210,210)  \n",
       "176         2.40000 -6.889669     -59  rgb(255,196,196)  \n",
       "177        15.70000  0.720977       6  rgb(249,255,249)  \n",
       "178        10.30000 -6.127692     -52  rgb(255,203,203)  \n",
       "179         9.40000  0.977800       8  rgb(247,255,247)  \n",
       "\n",
       "[179 rows x 26 columns]"
      ]
     },
     "execution_count": 36,
     "metadata": {},
     "output_type": "execute_result"
    }
   ],
   "source": [
    "def colorPicker(row):\n",
    "    scalar = row['scaled']\n",
    "    if scalar >= 0:\n",
    "        red = 255 - scalar\n",
    "        green = 255\n",
    "        blue = 255 - scalar\n",
    "    else:\n",
    "        red = 255 \n",
    "        green = 255 + scalar\n",
    "        blue = 255 + scalar\n",
    "    color = f'rgb({red},{green},{blue})'\n",
    "    return color\n",
    "merged['color'] = merged.apply(colorPicker, axis=1)\n",
    "merged"
   ]
  },
  {
   "cell_type": "code",
   "execution_count": 37,
   "metadata": {},
   "outputs": [
    {
     "name": "stderr",
     "output_type": "stream",
     "text": [
      "/Users/travisharry/opt/anaconda3/envs/ffdemo/lib/python3.7/site-packages/pandas/core/arrays/categorical.py:2631: FutureWarning:\n",
      "\n",
      "The `inplace` parameter in pandas.Categorical.set_categories is deprecated and will be removed in a future version. Removing unused categories will always return a new Categorical object.\n",
      "\n"
     ]
    },
    {
     "data": {
      "application/vnd.plotly.v1+json": {
       "config": {
        "plotlyServerURL": "https://plot.ly"
       },
       "data": [
        {
         "alignmentgroup": "True",
         "customdata": [
          [
           19.96161488241985,
           130,
           "PATRICK MAHOMES",
           "QB"
          ]
         ],
         "hovertemplate": "<b>%{hovertext}</b><br><br>scoreRemaining=%{y}<br>weeklyPred=%{customdata[0]}<br>scaled=%{customdata[1]}<extra></extra>",
         "hovertext": [
          "PATRICK MAHOMES"
         ],
         "legendgroup": "PATRICK MAHOMES",
         "marker": {
          "color": "rgb(125,255,125)",
          "pattern": {
           "shape": ""
          }
         },
         "name": "PATRICK MAHOMES",
         "offsetgroup": "PATRICK MAHOMES",
         "orientation": "v",
         "showlegend": true,
         "text": [
          "PATRICK MAHOMES"
         ],
         "textposition": "auto",
         "type": "bar",
         "x": [
          "Saskatoon Squatches"
         ],
         "xaxis": "x",
         "y": [
          35.2
         ],
         "yaxis": "y"
        },
        {
         "alignmentgroup": "True",
         "customdata": [
          [
           8.59853407599813,
           43,
           "GREG JOSEPH",
           "PK"
          ]
         ],
         "hovertemplate": "<b>%{hovertext}</b><br><br>scoreRemaining=%{y}<br>weeklyPred=%{customdata[0]}<br>scaled=%{customdata[1]}<extra></extra>",
         "hovertext": [
          "GREG JOSEPH"
         ],
         "legendgroup": "GREG JOSEPH",
         "marker": {
          "color": "rgb(212,255,212)",
          "pattern": {
           "shape": ""
          }
         },
         "name": "GREG JOSEPH",
         "offsetgroup": "GREG JOSEPH",
         "orientation": "v",
         "showlegend": true,
         "text": [
          "GREG JOSEPH"
         ],
         "textposition": "auto",
         "type": "bar",
         "x": [
          "Saskatoon Squatches"
         ],
         "xaxis": "x",
         "y": [
          13.6
         ],
         "yaxis": "y"
        },
        {
         "alignmentgroup": "True",
         "customdata": [
          [
           7.274267169394909,
           44,
           "RASHOD BATEMAN",
           "WR"
          ]
         ],
         "hovertemplate": "<b>%{hovertext}</b><br><br>scoreRemaining=%{y}<br>weeklyPred=%{customdata[0]}<br>scaled=%{customdata[1]}<extra></extra>",
         "hovertext": [
          "RASHOD BATEMAN"
         ],
         "legendgroup": "RASHOD BATEMAN",
         "marker": {
          "color": "rgb(211,255,211)",
          "pattern": {
           "shape": ""
          }
         },
         "name": "RASHOD BATEMAN",
         "offsetgroup": "RASHOD BATEMAN",
         "orientation": "v",
         "showlegend": true,
         "text": [
          "RASHOD BATEMAN"
         ],
         "textposition": "auto",
         "type": "bar",
         "x": [
          "Saskatoon Squatches"
         ],
         "xaxis": "x",
         "y": [
          12.4
         ],
         "yaxis": "y"
        },
        {
         "alignmentgroup": "True",
         "customdata": [
          [
           13.555845241243828,
           -12,
           "TYREEK HILL",
           "WR"
          ]
         ],
         "hovertemplate": "<b>%{hovertext}</b><br><br>scoreRemaining=%{y}<br>weeklyPred=%{customdata[0]}<br>scaled=%{customdata[1]}<extra></extra>",
         "hovertext": [
          "TYREEK HILL"
         ],
         "legendgroup": "TYREEK HILL",
         "marker": {
          "color": "rgb(255,243,243)",
          "pattern": {
           "shape": ""
          }
         },
         "name": "TYREEK HILL",
         "offsetgroup": "TYREEK HILL",
         "orientation": "v",
         "showlegend": true,
         "text": [
          "TYREEK HILL"
         ],
         "textposition": "auto",
         "type": "bar",
         "x": [
          "Saskatoon Squatches"
         ],
         "xaxis": "x",
         "y": [
          12.1
         ],
         "yaxis": "y"
        },
        {
         "alignmentgroup": "True",
         "customdata": [
          [
           18.41344729108152,
           -64,
           "DEREK CARR",
           "QB"
          ]
         ],
         "hovertemplate": "<b>%{hovertext}</b><br><br>scoreRemaining=%{y}<br>weeklyPred=%{customdata[0]}<br>scaled=%{customdata[1]}<extra></extra>",
         "hovertext": [
          "DEREK CARR"
         ],
         "legendgroup": "DEREK CARR",
         "marker": {
          "color": "rgb(255,191,191)",
          "pattern": {
           "shape": ""
          }
         },
         "name": "DEREK CARR",
         "offsetgroup": "DEREK CARR",
         "orientation": "v",
         "showlegend": true,
         "text": [
          "DEREK CARR"
         ],
         "textposition": "auto",
         "type": "bar",
         "x": [
          "Saskatoon Squatches"
         ],
         "xaxis": "x",
         "y": [
          10.9
         ],
         "yaxis": "y"
        },
        {
         "alignmentgroup": "True",
         "customdata": [
          [
           9.325665095431036,
           -21,
           "DALLAS GOEDERT",
           "TE"
          ]
         ],
         "hovertemplate": "<b>%{hovertext}</b><br><br>scoreRemaining=%{y}<br>weeklyPred=%{customdata[0]}<br>scaled=%{customdata[1]}<extra></extra>",
         "hovertext": [
          "DALLAS GOEDERT"
         ],
         "legendgroup": "DALLAS GOEDERT",
         "marker": {
          "color": "rgb(255,234,234)",
          "pattern": {
           "shape": ""
          }
         },
         "name": "DALLAS GOEDERT",
         "offsetgroup": "DALLAS GOEDERT",
         "orientation": "v",
         "showlegend": true,
         "text": [
          "DALLAS GOEDERT"
         ],
         "textposition": "auto",
         "type": "bar",
         "x": [
          "Saskatoon Squatches"
         ],
         "xaxis": "x",
         "y": [
          6.8
         ],
         "yaxis": "y"
        },
        {
         "alignmentgroup": "True",
         "customdata": [
          [
           8.342745863725323,
           -14,
           "MATT GAY",
           "PK"
          ]
         ],
         "hovertemplate": "<b>%{hovertext}</b><br><br>scoreRemaining=%{y}<br>weeklyPred=%{customdata[0]}<br>scaled=%{customdata[1]}<extra></extra>",
         "hovertext": [
          "MATT GAY"
         ],
         "legendgroup": "MATT GAY",
         "marker": {
          "color": "rgb(255,241,241)",
          "pattern": {
           "shape": ""
          }
         },
         "name": "MATT GAY",
         "offsetgroup": "MATT GAY",
         "orientation": "v",
         "showlegend": true,
         "text": [
          "MATT GAY"
         ],
         "textposition": "auto",
         "type": "bar",
         "x": [
          "Saskatoon Squatches"
         ],
         "xaxis": "x",
         "y": [
          6.7
         ],
         "yaxis": "y"
        },
        {
         "alignmentgroup": "True",
         "customdata": [
          [
           13.279871213160412,
           69,
           "JAMARR CHASE",
           "WR"
          ]
         ],
         "hovertemplate": "<b>%{hovertext}</b><br><br>scoreRemaining=%{y}<br>weeklyPred=%{customdata[0]}<br>scaled=%{customdata[1]}<extra></extra>",
         "hovertext": [
          "JAMARR CHASE"
         ],
         "legendgroup": "JAMARR CHASE",
         "marker": {
          "color": "rgb(186,255,186)",
          "pattern": {
           "shape": ""
          }
         },
         "name": "JAMARR CHASE",
         "offsetgroup": "JAMARR CHASE",
         "orientation": "v",
         "showlegend": true,
         "text": [
          "JAMARR CHASE"
         ],
         "textposition": "auto",
         "type": "bar",
         "x": [
          "Saskatoon Squatches"
         ],
         "xaxis": "x",
         "y": [
          21.4
         ],
         "yaxis": "y"
        },
        {
         "alignmentgroup": "True",
         "customdata": [
          [
           7.9446432682605215,
           -25,
           "HOUSTON TEXANS",
           "DF"
          ]
         ],
         "hovertemplate": "<b>%{hovertext}</b><br><br>scoreRemaining=%{y}<br>weeklyPred=%{customdata[0]}<br>scaled=%{customdata[1]}<extra></extra>",
         "hovertext": [
          "HOUSTON TEXANS"
         ],
         "legendgroup": "HOUSTON TEXANS",
         "marker": {
          "color": "rgb(255,230,230)",
          "pattern": {
           "shape": ""
          }
         },
         "name": "HOUSTON TEXANS",
         "offsetgroup": "HOUSTON TEXANS",
         "orientation": "v",
         "showlegend": true,
         "text": [
          "HOUSTON TEXANS"
         ],
         "textposition": "auto",
         "type": "bar",
         "x": [
          "Saskatoon Squatches"
         ],
         "xaxis": "x",
         "y": [
          5
         ],
         "yaxis": "y"
        },
        {
         "alignmentgroup": "True",
         "customdata": [
          [
           13.099262461014959,
           0,
           "JAVONTE WILLIAMS",
           "RB"
          ]
         ],
         "hovertemplate": "<b>%{hovertext}</b><br><br>scoreRemaining=%{y}<br>weeklyPred=%{customdata[0]}<br>scaled=%{customdata[1]}<extra></extra>",
         "hovertext": [
          "JAVONTE WILLIAMS"
         ],
         "legendgroup": "JAVONTE WILLIAMS",
         "marker": {
          "color": "rgb(255,255,255)",
          "pattern": {
           "shape": ""
          }
         },
         "name": "JAVONTE WILLIAMS",
         "offsetgroup": "JAVONTE WILLIAMS",
         "orientation": "v",
         "showlegend": true,
         "text": [
          "JAVONTE WILLIAMS"
         ],
         "textposition": "auto",
         "type": "bar",
         "x": [
          "Saskatoon Squatches"
         ],
         "xaxis": "x",
         "y": [
          13.099262461014959
         ],
         "yaxis": "y"
        },
        {
         "alignmentgroup": "True",
         "customdata": [
          [
           8.21869104599847,
           -27,
           "JACKSONVILLE JAGUARS",
           "DF"
          ]
         ],
         "hovertemplate": "<b>%{hovertext}</b><br><br>scoreRemaining=%{y}<br>weeklyPred=%{customdata[0]}<br>scaled=%{customdata[1]}<extra></extra>",
         "hovertext": [
          "JACKSONVILLE JAGUARS"
         ],
         "legendgroup": "JACKSONVILLE JAGUARS",
         "marker": {
          "color": "rgb(255,228,228)",
          "pattern": {
           "shape": ""
          }
         },
         "name": "JACKSONVILLE JAGUARS",
         "offsetgroup": "JACKSONVILLE JAGUARS",
         "orientation": "v",
         "showlegend": true,
         "text": [
          "JACKSONVILLE JAGUARS"
         ],
         "textposition": "auto",
         "type": "bar",
         "x": [
          "Saskatoon Squatches"
         ],
         "xaxis": "x",
         "y": [
          5
         ],
         "yaxis": "y"
        },
        {
         "alignmentgroup": "True",
         "customdata": [
          [
           4.595360664927345,
           -5,
           "RHAMONDRE STEVENSON",
           "RB"
          ]
         ],
         "hovertemplate": "<b>%{hovertext}</b><br><br>scoreRemaining=%{y}<br>weeklyPred=%{customdata[0]}<br>scaled=%{customdata[1]}<extra></extra>",
         "hovertext": [
          "RHAMONDRE STEVENSON"
         ],
         "legendgroup": "RHAMONDRE STEVENSON",
         "marker": {
          "color": "rgb(255,250,250)",
          "pattern": {
           "shape": ""
          }
         },
         "name": "RHAMONDRE STEVENSON",
         "offsetgroup": "RHAMONDRE STEVENSON",
         "orientation": "v",
         "showlegend": true,
         "text": [
          "RHAMONDRE STEVENSON"
         ],
         "textposition": "auto",
         "type": "bar",
         "x": [
          "Saskatoon Squatches"
         ],
         "xaxis": "x",
         "y": [
          4
         ],
         "yaxis": "y"
        },
        {
         "alignmentgroup": "True",
         "customdata": [
          [
           2.835855197938142,
           -11,
           "ALLEN ROBINSON",
           "WR"
          ]
         ],
         "hovertemplate": "<b>%{hovertext}</b><br><br>scoreRemaining=%{y}<br>weeklyPred=%{customdata[0]}<br>scaled=%{customdata[1]}<extra></extra>",
         "hovertext": [
          "ALLEN ROBINSON"
         ],
         "legendgroup": "ALLEN ROBINSON",
         "marker": {
          "color": "rgb(255,244,244)",
          "pattern": {
           "shape": ""
          }
         },
         "name": "ALLEN ROBINSON",
         "offsetgroup": "ALLEN ROBINSON",
         "orientation": "v",
         "showlegend": true,
         "text": [
          "ALLEN ROBINSON"
         ],
         "textposition": "auto",
         "type": "bar",
         "x": [
          "Saskatoon Squatches"
         ],
         "xaxis": "x",
         "y": [
          1.5
         ],
         "yaxis": "y"
        },
        {
         "alignmentgroup": "True",
         "customdata": [
          [
           12.818133026393358,
           152,
           "SAQUON BARKLEY",
           "RB"
          ]
         ],
         "hovertemplate": "<b>%{hovertext}</b><br><br>scoreRemaining=%{y}<br>weeklyPred=%{customdata[0]}<br>scaled=%{customdata[1]}<extra></extra>",
         "hovertext": [
          "SAQUON BARKLEY"
         ],
         "legendgroup": "SAQUON BARKLEY",
         "marker": {
          "color": "rgb(103,255,103)",
          "pattern": {
           "shape": ""
          }
         },
         "name": "SAQUON BARKLEY",
         "offsetgroup": "SAQUON BARKLEY",
         "orientation": "v",
         "showlegend": true,
         "text": [
          "SAQUON BARKLEY"
         ],
         "textposition": "auto",
         "type": "bar",
         "x": [
          "Saskatoon Squatches"
         ],
         "xaxis": "x",
         "y": [
          30.7
         ],
         "yaxis": "y"
        },
        {
         "alignmentgroup": "True",
         "customdata": [
          [
           8.655978745367259,
           -33,
           "TJ HOCKENSON",
           "TE"
          ]
         ],
         "hovertemplate": "<b>%{hovertext}</b><br><br>scoreRemaining=%{y}<br>weeklyPred=%{customdata[0]}<br>scaled=%{customdata[1]}<extra></extra>",
         "hovertext": [
          "TJ HOCKENSON"
         ],
         "legendgroup": "TJ HOCKENSON",
         "marker": {
          "color": "rgb(255,222,222)",
          "pattern": {
           "shape": ""
          }
         },
         "name": "TJ HOCKENSON",
         "offsetgroup": "TJ HOCKENSON",
         "orientation": "v",
         "showlegend": true,
         "text": [
          "TJ HOCKENSON"
         ],
         "textposition": "auto",
         "type": "bar",
         "x": [
          "Saskatoon Squatches"
         ],
         "xaxis": "x",
         "y": [
          4.8
         ],
         "yaxis": "y"
        },
        {
         "alignmentgroup": "True",
         "customdata": [
          [
           11.31031399370333,
           -51,
           "DAMEON PIERCE",
           "RB"
          ]
         ],
         "hovertemplate": "<b>%{hovertext}</b><br><br>scoreRemaining=%{y}<br>weeklyPred=%{customdata[0]}<br>scaled=%{customdata[1]}<extra></extra>",
         "hovertext": [
          "DAMEON PIERCE"
         ],
         "legendgroup": "DAMEON PIERCE",
         "marker": {
          "color": "rgb(255,204,204)",
          "pattern": {
           "shape": ""
          }
         },
         "name": "DAMEON PIERCE",
         "offsetgroup": "DAMEON PIERCE",
         "orientation": "v",
         "showlegend": true,
         "text": [
          "DAMEON PIERCE"
         ],
         "textposition": "auto",
         "type": "bar",
         "x": [
          "Gus The Bus"
         ],
         "xaxis": "x",
         "y": [
          5.3
         ],
         "yaxis": "y"
        },
        {
         "alignmentgroup": "True",
         "customdata": [
          [
           4.596756264667032,
           -37,
           "CAM AKERS",
           "RB"
          ]
         ],
         "hovertemplate": "<b>%{hovertext}</b><br><br>scoreRemaining=%{y}<br>weeklyPred=%{customdata[0]}<br>scaled=%{customdata[1]}<extra></extra>",
         "hovertext": [
          "CAM AKERS"
         ],
         "legendgroup": "CAM AKERS",
         "marker": {
          "color": "rgb(255,218,218)",
          "pattern": {
           "shape": ""
          }
         },
         "name": "CAM AKERS",
         "offsetgroup": "CAM AKERS",
         "orientation": "v",
         "showlegend": true,
         "text": [
          "CAM AKERS"
         ],
         "textposition": "auto",
         "type": "bar",
         "x": [
          "Gus The Bus"
         ],
         "xaxis": "x",
         "y": [
          0.3
         ],
         "yaxis": "y"
        },
        {
         "alignmentgroup": "True",
         "customdata": [
          [
           8.603149304261805,
           122,
           "PITTSBURGH STEELERS",
           "DF"
          ]
         ],
         "hovertemplate": "<b>%{hovertext}</b><br><br>scoreRemaining=%{y}<br>weeklyPred=%{customdata[0]}<br>scaled=%{customdata[1]}<extra></extra>",
         "hovertext": [
          "PITTSBURGH STEELERS"
         ],
         "legendgroup": "PITTSBURGH STEELERS",
         "marker": {
          "color": "rgb(133,255,133)",
          "pattern": {
           "shape": ""
          }
         },
         "name": "PITTSBURGH STEELERS",
         "offsetgroup": "PITTSBURGH STEELERS",
         "orientation": "v",
         "showlegend": true,
         "text": [
          "PITTSBURGH STEELERS"
         ],
         "textposition": "auto",
         "type": "bar",
         "x": [
          "Gus The Bus"
         ],
         "xaxis": "x",
         "y": [
          23
         ],
         "yaxis": "y"
        },
        {
         "alignmentgroup": "True",
         "customdata": [
          [
           8.23491284858687,
           41,
           "BALTIMORE RAVENS",
           "DF"
          ]
         ],
         "hovertemplate": "<b>%{hovertext}</b><br><br>scoreRemaining=%{y}<br>weeklyPred=%{customdata[0]}<br>scaled=%{customdata[1]}<extra></extra>",
         "hovertext": [
          "BALTIMORE RAVENS"
         ],
         "legendgroup": "BALTIMORE RAVENS",
         "marker": {
          "color": "rgb(214,255,214)",
          "pattern": {
           "shape": ""
          }
         },
         "name": "BALTIMORE RAVENS",
         "offsetgroup": "BALTIMORE RAVENS",
         "orientation": "v",
         "showlegend": true,
         "text": [
          "BALTIMORE RAVENS"
         ],
         "textposition": "auto",
         "type": "bar",
         "x": [
          "Gus The Bus"
         ],
         "xaxis": "x",
         "y": [
          13
         ],
         "yaxis": "y"
        },
        {
         "alignmentgroup": "True",
         "customdata": [
          [
           10.076633069823565,
           40,
           "JAYLEN WADDLE",
           "WR"
          ]
         ],
         "hovertemplate": "<b>%{hovertext}</b><br><br>scoreRemaining=%{y}<br>weeklyPred=%{customdata[0]}<br>scaled=%{customdata[1]}<extra></extra>",
         "hovertext": [
          "JAYLEN WADDLE"
         ],
         "legendgroup": "JAYLEN WADDLE",
         "marker": {
          "color": "rgb(215,255,215)",
          "pattern": {
           "shape": ""
          }
         },
         "name": "JAYLEN WADDLE",
         "offsetgroup": "JAYLEN WADDLE",
         "orientation": "v",
         "showlegend": true,
         "text": [
          "JAYLEN WADDLE"
         ],
         "textposition": "auto",
         "type": "bar",
         "x": [
          "Gus The Bus"
         ],
         "xaxis": "x",
         "y": [
          14.8
         ],
         "yaxis": "y"
        },
        {
         "alignmentgroup": "True",
         "customdata": [
          [
           9.13887655567166,
           35,
           "CHRISTIAN KIRK",
           "WR"
          ]
         ],
         "hovertemplate": "<b>%{hovertext}</b><br><br>scoreRemaining=%{y}<br>weeklyPred=%{customdata[0]}<br>scaled=%{customdata[1]}<extra></extra>",
         "hovertext": [
          "CHRISTIAN KIRK"
         ],
         "legendgroup": "CHRISTIAN KIRK",
         "marker": {
          "color": "rgb(220,255,220)",
          "pattern": {
           "shape": ""
          }
         },
         "name": "CHRISTIAN KIRK",
         "offsetgroup": "CHRISTIAN KIRK",
         "orientation": "v",
         "showlegend": true,
         "text": [
          "CHRISTIAN KIRK"
         ],
         "textposition": "auto",
         "type": "bar",
         "x": [
          "Gus The Bus"
         ],
         "xaxis": "x",
         "y": [
          13.2
         ],
         "yaxis": "y"
        },
        {
         "alignmentgroup": "True",
         "customdata": [
          [
           8.231828971045749,
           -8,
           "DUSTIN HOPKINS",
           "PK"
          ]
         ],
         "hovertemplate": "<b>%{hovertext}</b><br><br>scoreRemaining=%{y}<br>weeklyPred=%{customdata[0]}<br>scaled=%{customdata[1]}<extra></extra>",
         "hovertext": [
          "DUSTIN HOPKINS"
         ],
         "legendgroup": "DUSTIN HOPKINS",
         "marker": {
          "color": "rgb(255,247,247)",
          "pattern": {
           "shape": ""
          }
         },
         "name": "DUSTIN HOPKINS",
         "offsetgroup": "DUSTIN HOPKINS",
         "orientation": "v",
         "showlegend": true,
         "text": [
          "DUSTIN HOPKINS"
         ],
         "textposition": "auto",
         "type": "bar",
         "x": [
          "Gus The Bus"
         ],
         "xaxis": "x",
         "y": [
          7.3
         ],
         "yaxis": "y"
        },
        {
         "alignmentgroup": "True",
         "customdata": [
          [
           7.1649235850514055,
           -16,
           "LOGAN THOMAS",
           "TE"
          ]
         ],
         "hovertemplate": "<b>%{hovertext}</b><br><br>scoreRemaining=%{y}<br>weeklyPred=%{customdata[0]}<br>scaled=%{customdata[1]}<extra></extra>",
         "hovertext": [
          "LOGAN THOMAS"
         ],
         "legendgroup": "LOGAN THOMAS",
         "marker": {
          "color": "rgb(255,239,239)",
          "pattern": {
           "shape": ""
          }
         },
         "name": "LOGAN THOMAS",
         "offsetgroup": "LOGAN THOMAS",
         "orientation": "v",
         "showlegend": true,
         "text": [
          "LOGAN THOMAS"
         ],
         "textposition": "auto",
         "type": "bar",
         "x": [
          "Gus The Bus"
         ],
         "xaxis": "x",
         "y": [
          5.3
         ],
         "yaxis": "y"
        },
        {
         "alignmentgroup": "True",
         "customdata": [
          [
           8.850950198363336,
           0,
           "NOAH FANT",
           "TE"
          ]
         ],
         "hovertemplate": "<b>%{hovertext}</b><br><br>scoreRemaining=%{y}<br>weeklyPred=%{customdata[0]}<br>scaled=%{customdata[1]}<extra></extra>",
         "hovertext": [
          "NOAH FANT"
         ],
         "legendgroup": "NOAH FANT",
         "marker": {
          "color": "rgb(255,255,255)",
          "pattern": {
           "shape": ""
          }
         },
         "name": "NOAH FANT",
         "offsetgroup": "NOAH FANT",
         "orientation": "v",
         "showlegend": true,
         "text": [
          "NOAH FANT"
         ],
         "textposition": "auto",
         "type": "bar",
         "x": [
          "Gus The Bus"
         ],
         "xaxis": "x",
         "y": [
          8.850950198363336
         ],
         "yaxis": "y"
        },
        {
         "alignmentgroup": "True",
         "customdata": [
          [
           11.086974686662243,
           -66,
           "HUNTER RENFROW",
           "WR"
          ]
         ],
         "hovertemplate": "<b>%{hovertext}</b><br><br>scoreRemaining=%{y}<br>weeklyPred=%{customdata[0]}<br>scaled=%{customdata[1]}<extra></extra>",
         "hovertext": [
          "HUNTER RENFROW"
         ],
         "legendgroup": "HUNTER RENFROW",
         "marker": {
          "color": "rgb(255,189,189)",
          "pattern": {
           "shape": ""
          }
         },
         "name": "HUNTER RENFROW",
         "offsetgroup": "HUNTER RENFROW",
         "orientation": "v",
         "showlegend": true,
         "text": [
          "HUNTER RENFROW"
         ],
         "textposition": "auto",
         "type": "bar",
         "x": [
          "Gus The Bus"
         ],
         "xaxis": "x",
         "y": [
          3.3
         ],
         "yaxis": "y"
        },
        {
         "alignmentgroup": "True",
         "customdata": [
          [
           7.663678692404054,
           107,
           "JAMES ROBINSON",
           "RB"
          ]
         ],
         "hovertemplate": "<b>%{hovertext}</b><br><br>scoreRemaining=%{y}<br>weeklyPred=%{customdata[0]}<br>scaled=%{customdata[1]}<extra></extra>",
         "hovertext": [
          "JAMES ROBINSON"
         ],
         "legendgroup": "JAMES ROBINSON",
         "marker": {
          "color": "rgb(148,255,148)",
          "pattern": {
           "shape": ""
          }
         },
         "name": "JAMES ROBINSON",
         "offsetgroup": "JAMES ROBINSON",
         "orientation": "v",
         "showlegend": true,
         "text": [
          "JAMES ROBINSON"
         ],
         "textposition": "auto",
         "type": "bar",
         "x": [
          "Gus The Bus"
         ],
         "xaxis": "x",
         "y": [
          20.3
         ],
         "yaxis": "y"
        },
        {
         "alignmentgroup": "True",
         "customdata": [
          [
           2.651421495451568,
           151,
           "MICHAEL PITTMAN",
           "WR"
          ]
         ],
         "hovertemplate": "<b>%{hovertext}</b><br><br>scoreRemaining=%{y}<br>weeklyPred=%{customdata[0]}<br>scaled=%{customdata[1]}<extra></extra>",
         "hovertext": [
          "MICHAEL PITTMAN"
         ],
         "legendgroup": "MICHAEL PITTMAN",
         "marker": {
          "color": "rgb(104,255,104)",
          "pattern": {
           "shape": ""
          }
         },
         "name": "MICHAEL PITTMAN",
         "offsetgroup": "MICHAEL PITTMAN",
         "orientation": "v",
         "showlegend": true,
         "text": [
          "MICHAEL PITTMAN"
         ],
         "textposition": "auto",
         "type": "bar",
         "x": [
          "Gus The Bus"
         ],
         "xaxis": "x",
         "y": [
          20.4
         ],
         "yaxis": "y"
        },
        {
         "alignmentgroup": "True",
         "customdata": [
          [
           8.548911206685988,
           -22,
           "JUSTIN TUCKER",
           "PK"
          ]
         ],
         "hovertemplate": "<b>%{hovertext}</b><br><br>scoreRemaining=%{y}<br>weeklyPred=%{customdata[0]}<br>scaled=%{customdata[1]}<extra></extra>",
         "hovertext": [
          "JUSTIN TUCKER"
         ],
         "legendgroup": "JUSTIN TUCKER",
         "marker": {
          "color": "rgb(255,233,233)",
          "pattern": {
           "shape": ""
          }
         },
         "name": "JUSTIN TUCKER",
         "offsetgroup": "JUSTIN TUCKER",
         "orientation": "v",
         "showlegend": true,
         "text": [
          "JUSTIN TUCKER"
         ],
         "textposition": "auto",
         "type": "bar",
         "x": [
          "Gus The Bus"
         ],
         "xaxis": "x",
         "y": [
          6
         ],
         "yaxis": "y"
        },
        {
         "alignmentgroup": "True",
         "customdata": [
          [
           15.354575111499013,
           45,
           "LAMAR JACKSON",
           "QB"
          ]
         ],
         "hovertemplate": "<b>%{hovertext}</b><br><br>scoreRemaining=%{y}<br>weeklyPred=%{customdata[0]}<br>scaled=%{customdata[1]}<extra></extra>",
         "hovertext": [
          "LAMAR JACKSON"
         ],
         "legendgroup": "LAMAR JACKSON",
         "marker": {
          "color": "rgb(210,255,210)",
          "pattern": {
           "shape": ""
          }
         },
         "name": "LAMAR JACKSON",
         "offsetgroup": "LAMAR JACKSON",
         "orientation": "v",
         "showlegend": true,
         "text": [
          "LAMAR JACKSON"
         ],
         "textposition": "auto",
         "type": "bar",
         "x": [
          "Gus The Bus"
         ],
         "xaxis": "x",
         "y": [
          20.6
         ],
         "yaxis": "y"
        },
        {
         "alignmentgroup": "True",
         "customdata": [
          [
           14.81266454871164,
           -10,
           "DALVIN COOK",
           "RB"
          ]
         ],
         "hovertemplate": "<b>%{hovertext}</b><br><br>scoreRemaining=%{y}<br>weeklyPred=%{customdata[0]}<br>scaled=%{customdata[1]}<extra></extra>",
         "hovertext": [
          "DALVIN COOK"
         ],
         "legendgroup": "DALVIN COOK",
         "marker": {
          "color": "rgb(255,245,245)",
          "pattern": {
           "shape": ""
          }
         },
         "name": "DALVIN COOK",
         "offsetgroup": "DALVIN COOK",
         "orientation": "v",
         "showlegend": true,
         "text": [
          "DALVIN COOK"
         ],
         "textposition": "auto",
         "type": "bar",
         "x": [
          "Gus The Bus"
         ],
         "xaxis": "x",
         "y": [
          13.6
         ],
         "yaxis": "y"
        },
        {
         "alignmentgroup": "True",
         "customdata": [
          [
           11.761918451603304,
           9,
           "BRAXTON BERRIOS",
           "WR"
          ]
         ],
         "hovertemplate": "<b>%{hovertext}</b><br><br>scoreRemaining=%{y}<br>weeklyPred=%{customdata[0]}<br>scaled=%{customdata[1]}<extra></extra>",
         "hovertext": [
          "BRAXTON BERRIOS"
         ],
         "legendgroup": "BRAXTON BERRIOS",
         "marker": {
          "color": "rgb(246,255,246)",
          "pattern": {
           "shape": ""
          }
         },
         "name": "BRAXTON BERRIOS",
         "offsetgroup": "BRAXTON BERRIOS",
         "orientation": "v",
         "showlegend": true,
         "text": [
          "BRAXTON BERRIOS"
         ],
         "textposition": "auto",
         "type": "bar",
         "x": [
          "Crocodilopolis Body Snatchers"
         ],
         "xaxis": "x",
         "y": [
          12.8
         ],
         "yaxis": "y"
        },
        {
         "alignmentgroup": "True",
         "customdata": [
          [
           9.799809601709208,
           14,
           "MARQUISE BROWN",
           "WR"
          ]
         ],
         "hovertemplate": "<b>%{hovertext}</b><br><br>scoreRemaining=%{y}<br>weeklyPred=%{customdata[0]}<br>scaled=%{customdata[1]}<extra></extra>",
         "hovertext": [
          "MARQUISE BROWN"
         ],
         "legendgroup": "MARQUISE BROWN",
         "marker": {
          "color": "rgb(241,255,241)",
          "pattern": {
           "shape": ""
          }
         },
         "name": "MARQUISE BROWN",
         "offsetgroup": "MARQUISE BROWN",
         "orientation": "v",
         "showlegend": true,
         "text": [
          "MARQUISE BROWN"
         ],
         "textposition": "auto",
         "type": "bar",
         "x": [
          "Crocodilopolis Body Snatchers"
         ],
         "xaxis": "x",
         "y": [
          11.4
         ],
         "yaxis": "y"
        },
        {
         "alignmentgroup": "True",
         "customdata": [
          [
           9.11195652278341,
           -74,
           "MIKE GESICKI",
           "TE"
          ]
         ],
         "hovertemplate": "<b>%{hovertext}</b><br><br>scoreRemaining=%{y}<br>weeklyPred=%{customdata[0]}<br>scaled=%{customdata[1]}<extra></extra>",
         "hovertext": [
          "MIKE GESICKI"
         ],
         "legendgroup": "MIKE GESICKI",
         "marker": {
          "color": "rgb(255,181,181)",
          "pattern": {
           "shape": ""
          }
         },
         "name": "MIKE GESICKI",
         "offsetgroup": "MIKE GESICKI",
         "orientation": "v",
         "showlegend": true,
         "text": [
          "MIKE GESICKI"
         ],
         "textposition": "auto",
         "type": "bar",
         "x": [
          "Crocodilopolis Body Snatchers"
         ],
         "xaxis": "x",
         "y": [
          0.4
         ],
         "yaxis": "y"
        },
        {
         "alignmentgroup": "True",
         "customdata": [
          [
           6.756996668806618,
           -51,
           "DAWSON KNOX",
           "TE"
          ]
         ],
         "hovertemplate": "<b>%{hovertext}</b><br><br>scoreRemaining=%{y}<br>weeklyPred=%{customdata[0]}<br>scaled=%{customdata[1]}<extra></extra>",
         "hovertext": [
          "DAWSON KNOX"
         ],
         "legendgroup": "DAWSON KNOX",
         "marker": {
          "color": "rgb(255,204,204)",
          "pattern": {
           "shape": ""
          }
         },
         "name": "DAWSON KNOX",
         "offsetgroup": "DAWSON KNOX",
         "orientation": "v",
         "showlegend": true,
         "text": [
          "DAWSON KNOX"
         ],
         "textposition": "auto",
         "type": "bar",
         "x": [
          "Crocodilopolis Body Snatchers"
         ],
         "xaxis": "x",
         "y": [
          0.8
         ],
         "yaxis": "y"
        },
        {
         "alignmentgroup": "True",
         "customdata": [
          [
           8.921282559839675,
           0,
           "DENVER BRONCOS",
           "DF"
          ]
         ],
         "hovertemplate": "<b>%{hovertext}</b><br><br>scoreRemaining=%{y}<br>weeklyPred=%{customdata[0]}<br>scaled=%{customdata[1]}<extra></extra>",
         "hovertext": [
          "DENVER BRONCOS"
         ],
         "legendgroup": "DENVER BRONCOS",
         "marker": {
          "color": "rgb(255,255,255)",
          "pattern": {
           "shape": ""
          }
         },
         "name": "DENVER BRONCOS",
         "offsetgroup": "DENVER BRONCOS",
         "orientation": "v",
         "showlegend": true,
         "text": [
          "DENVER BRONCOS"
         ],
         "textposition": "auto",
         "type": "bar",
         "x": [
          "Crocodilopolis Body Snatchers"
         ],
         "xaxis": "x",
         "y": [
          8.921282559839675
         ],
         "yaxis": "y"
        },
        {
         "alignmentgroup": "True",
         "customdata": [
          [
           9.341697063375534,
           23,
           "SAN FRANCISCO 49ERS",
           "DF"
          ]
         ],
         "hovertemplate": "<b>%{hovertext}</b><br><br>scoreRemaining=%{y}<br>weeklyPred=%{customdata[0]}<br>scaled=%{customdata[1]}<extra></extra>",
         "hovertext": [
          "SAN FRANCISCO 49ERS"
         ],
         "legendgroup": "SAN FRANCISCO 49ERS",
         "marker": {
          "color": "rgb(232,255,232)",
          "pattern": {
           "shape": ""
          }
         },
         "name": "SAN FRANCISCO 49ERS",
         "offsetgroup": "SAN FRANCISCO 49ERS",
         "orientation": "v",
         "showlegend": true,
         "text": [
          "SAN FRANCISCO 49ERS"
         ],
         "textposition": "auto",
         "type": "bar",
         "x": [
          "Crocodilopolis Body Snatchers"
         ],
         "xaxis": "x",
         "y": [
          12
         ],
         "yaxis": "y"
        },
        {
         "alignmentgroup": "True",
         "customdata": [
          [
           13.838220014634828,
           -54,
           "DAVID MONTGOMERY",
           "RB"
          ]
         ],
         "hovertemplate": "<b>%{hovertext}</b><br><br>scoreRemaining=%{y}<br>weeklyPred=%{customdata[0]}<br>scaled=%{customdata[1]}<extra></extra>",
         "hovertext": [
          "DAVID MONTGOMERY"
         ],
         "legendgroup": "DAVID MONTGOMERY",
         "marker": {
          "color": "rgb(255,201,201)",
          "pattern": {
           "shape": ""
          }
         },
         "name": "DAVID MONTGOMERY",
         "offsetgroup": "DAVID MONTGOMERY",
         "orientation": "v",
         "showlegend": true,
         "text": [
          "DAVID MONTGOMERY"
         ],
         "textposition": "auto",
         "type": "bar",
         "x": [
          "Crocodilopolis Body Snatchers"
         ],
         "xaxis": "x",
         "y": [
          7.5
         ],
         "yaxis": "y"
        },
        {
         "alignmentgroup": "True",
         "customdata": [
          [
           8.045239196228927,
           97,
           "YOUNGHOE KOO",
           "PK"
          ]
         ],
         "hovertemplate": "<b>%{hovertext}</b><br><br>scoreRemaining=%{y}<br>weeklyPred=%{customdata[0]}<br>scaled=%{customdata[1]}<extra></extra>",
         "hovertext": [
          "YOUNGHOE KOO"
         ],
         "legendgroup": "YOUNGHOE KOO",
         "marker": {
          "color": "rgb(158,255,158)",
          "pattern": {
           "shape": ""
          }
         },
         "name": "YOUNGHOE KOO",
         "offsetgroup": "YOUNGHOE KOO",
         "orientation": "v",
         "showlegend": true,
         "text": [
          "YOUNGHOE KOO"
         ],
         "textposition": "auto",
         "type": "bar",
         "x": [
          "Crocodilopolis Body Snatchers"
         ],
         "xaxis": "x",
         "y": [
          19.4
         ],
         "yaxis": "y"
        },
        {
         "alignmentgroup": "True",
         "customdata": [
          [
           13.437973766084683,
           -41,
           "JOSH JACOBS",
           "RB"
          ]
         ],
         "hovertemplate": "<b>%{hovertext}</b><br><br>scoreRemaining=%{y}<br>weeklyPred=%{customdata[0]}<br>scaled=%{customdata[1]}<extra></extra>",
         "hovertext": [
          "JOSH JACOBS"
         ],
         "legendgroup": "JOSH JACOBS",
         "marker": {
          "color": "rgb(255,214,214)",
          "pattern": {
           "shape": ""
          }
         },
         "name": "JOSH JACOBS",
         "offsetgroup": "JOSH JACOBS",
         "orientation": "v",
         "showlegend": true,
         "text": [
          "JOSH JACOBS"
         ],
         "textposition": "auto",
         "type": "bar",
         "x": [
          "Crocodilopolis Body Snatchers"
         ],
         "xaxis": "x",
         "y": [
          8.6
         ],
         "yaxis": "y"
        },
        {
         "alignmentgroup": "True",
         "customdata": [
          [
           8.650377925957358,
           -65,
           "NICK FOLK",
           "PK"
          ]
         ],
         "hovertemplate": "<b>%{hovertext}</b><br><br>scoreRemaining=%{y}<br>weeklyPred=%{customdata[0]}<br>scaled=%{customdata[1]}<extra></extra>",
         "hovertext": [
          "NICK FOLK"
         ],
         "legendgroup": "NICK FOLK",
         "marker": {
          "color": "rgb(255,190,190)",
          "pattern": {
           "shape": ""
          }
         },
         "name": "NICK FOLK",
         "offsetgroup": "NICK FOLK",
         "orientation": "v",
         "showlegend": true,
         "text": [
          "NICK FOLK"
         ],
         "textposition": "auto",
         "type": "bar",
         "x": [
          "Crocodilopolis Body Snatchers"
         ],
         "xaxis": "x",
         "y": [
          1
         ],
         "yaxis": "y"
        },
        {
         "alignmentgroup": "True",
         "customdata": [
          [
           14.582932520913808,
           38,
           "JOE MIXON",
           "RB"
          ]
         ],
         "hovertemplate": "<b>%{hovertext}</b><br><br>scoreRemaining=%{y}<br>weeklyPred=%{customdata[0]}<br>scaled=%{customdata[1]}<extra></extra>",
         "hovertext": [
          "JOE MIXON"
         ],
         "legendgroup": "JOE MIXON",
         "marker": {
          "color": "rgb(217,255,217)",
          "pattern": {
           "shape": ""
          }
         },
         "name": "JOE MIXON",
         "offsetgroup": "JOE MIXON",
         "orientation": "v",
         "showlegend": true,
         "text": [
          "JOE MIXON"
         ],
         "textposition": "auto",
         "type": "bar",
         "x": [
          "Crocodilopolis Body Snatchers"
         ],
         "xaxis": "x",
         "y": [
          19
         ],
         "yaxis": "y"
        },
        {
         "alignmentgroup": "True",
         "customdata": [
          [
           10.275879494835099,
           -37,
           "DJ MOORE",
           "WR"
          ]
         ],
         "hovertemplate": "<b>%{hovertext}</b><br><br>scoreRemaining=%{y}<br>weeklyPred=%{customdata[0]}<br>scaled=%{customdata[1]}<extra></extra>",
         "hovertext": [
          "DJ MOORE"
         ],
         "legendgroup": "DJ MOORE",
         "marker": {
          "color": "rgb(255,218,218)",
          "pattern": {
           "shape": ""
          }
         },
         "name": "DJ MOORE",
         "offsetgroup": "DJ MOORE",
         "orientation": "v",
         "showlegend": true,
         "text": [
          "DJ MOORE"
         ],
         "textposition": "auto",
         "type": "bar",
         "x": [
          "Crocodilopolis Body Snatchers"
         ],
         "xaxis": "x",
         "y": [
          5.9
         ],
         "yaxis": "y"
        },
        {
         "alignmentgroup": "True",
         "customdata": [
          [
           19.342225373904586,
           0,
           "KYLER MURRAY",
           "QB"
          ]
         ],
         "hovertemplate": "<b>%{hovertext}</b><br><br>scoreRemaining=%{y}<br>weeklyPred=%{customdata[0]}<br>scaled=%{customdata[1]}<extra></extra>",
         "hovertext": [
          "KYLER MURRAY"
         ],
         "legendgroup": "KYLER MURRAY",
         "marker": {
          "color": "rgb(255,255,255)",
          "pattern": {
           "shape": ""
          }
         },
         "name": "KYLER MURRAY",
         "offsetgroup": "KYLER MURRAY",
         "orientation": "v",
         "showlegend": true,
         "text": [
          "KYLER MURRAY"
         ],
         "textposition": "auto",
         "type": "bar",
         "x": [
          "Crocodilopolis Body Snatchers"
         ],
         "xaxis": "x",
         "y": [
          19.3
         ],
         "yaxis": "y"
        },
        {
         "alignmentgroup": "True",
         "customdata": [
          [
           14.506475961728677,
           98,
           "JALEN HURTS",
           "QB"
          ]
         ],
         "hovertemplate": "<b>%{hovertext}</b><br><br>scoreRemaining=%{y}<br>weeklyPred=%{customdata[0]}<br>scaled=%{customdata[1]}<extra></extra>",
         "hovertext": [
          "JALEN HURTS"
         ],
         "legendgroup": "JALEN HURTS",
         "marker": {
          "color": "rgb(157,255,157)",
          "pattern": {
           "shape": ""
          }
         },
         "name": "JALEN HURTS",
         "offsetgroup": "JALEN HURTS",
         "orientation": "v",
         "showlegend": true,
         "text": [
          "JALEN HURTS"
         ],
         "textposition": "auto",
         "type": "bar",
         "x": [
          "Crocodilopolis Body Snatchers"
         ],
         "xaxis": "x",
         "y": [
          26
         ],
         "yaxis": "y"
        },
        {
         "alignmentgroup": "True",
         "customdata": [
          [
           11.237000242563829,
           75,
           "DEVIN DUVERNAY",
           "WR"
          ]
         ],
         "hovertemplate": "<b>%{hovertext}</b><br><br>scoreRemaining=%{y}<br>weeklyPred=%{customdata[0]}<br>scaled=%{customdata[1]}<extra></extra>",
         "hovertext": [
          "DEVIN DUVERNAY"
         ],
         "legendgroup": "DEVIN DUVERNAY",
         "marker": {
          "color": "rgb(180,255,180)",
          "pattern": {
           "shape": ""
          }
         },
         "name": "DEVIN DUVERNAY",
         "offsetgroup": "DEVIN DUVERNAY",
         "orientation": "v",
         "showlegend": true,
         "text": [
          "DEVIN DUVERNAY"
         ],
         "textposition": "auto",
         "type": "bar",
         "x": [
          "Crocodilopolis Body Snatchers"
         ],
         "xaxis": "x",
         "y": [
          20.1
         ],
         "yaxis": "y"
        },
        {
         "alignmentgroup": "True",
         "customdata": [
          [
           6.5238909751892935,
           -11,
           "TYLER HIGBEE",
           "TE"
          ]
         ],
         "hovertemplate": "<b>%{hovertext}</b><br><br>scoreRemaining=%{y}<br>weeklyPred=%{customdata[0]}<br>scaled=%{customdata[1]}<extra></extra>",
         "hovertext": [
          "TYLER HIGBEE"
         ],
         "legendgroup": "TYLER HIGBEE",
         "marker": {
          "color": "rgb(255,244,244)",
          "pattern": {
           "shape": ""
          }
         },
         "name": "TYLER HIGBEE",
         "offsetgroup": "TYLER HIGBEE",
         "orientation": "v",
         "showlegend": true,
         "text": [
          "TYLER HIGBEE"
         ],
         "textposition": "auto",
         "type": "bar",
         "x": [
          "Providence Monastic Spirits"
         ],
         "xaxis": "x",
         "y": [
          5.2
         ],
         "yaxis": "y"
        },
        {
         "alignmentgroup": "True",
         "customdata": [
          [
           6.43193320927449,
           -39,
           "JAMAL AGNEW",
           "WR"
          ]
         ],
         "hovertemplate": "<b>%{hovertext}</b><br><br>scoreRemaining=%{y}<br>weeklyPred=%{customdata[0]}<br>scaled=%{customdata[1]}<extra></extra>",
         "hovertext": [
          "JAMAL AGNEW"
         ],
         "legendgroup": "JAMAL AGNEW",
         "marker": {
          "color": "rgb(255,216,216)",
          "pattern": {
           "shape": ""
          }
         },
         "name": "JAMAL AGNEW",
         "offsetgroup": "JAMAL AGNEW",
         "orientation": "v",
         "showlegend": true,
         "text": [
          "JAMAL AGNEW"
         ],
         "textposition": "auto",
         "type": "bar",
         "x": [
          "Providence Monastic Spirits"
         ],
         "xaxis": "x",
         "y": [
          1.8
         ],
         "yaxis": "y"
        },
        {
         "alignmentgroup": "True",
         "customdata": [
          [
           6.341704181757287,
           0,
           "ALBERT OKWUEGBUNAM",
           "TE"
          ]
         ],
         "hovertemplate": "<b>%{hovertext}</b><br><br>scoreRemaining=%{y}<br>weeklyPred=%{customdata[0]}<br>scaled=%{customdata[1]}<extra></extra>",
         "hovertext": [
          "ALBERT OKWUEGBUNAM"
         ],
         "legendgroup": "ALBERT OKWUEGBUNAM",
         "marker": {
          "color": "rgb(255,255,255)",
          "pattern": {
           "shape": ""
          }
         },
         "name": "ALBERT OKWUEGBUNAM",
         "offsetgroup": "ALBERT OKWUEGBUNAM",
         "orientation": "v",
         "showlegend": true,
         "text": [
          "ALBERT OKWUEGBUNAM"
         ],
         "textposition": "auto",
         "type": "bar",
         "x": [
          "Providence Monastic Spirits"
         ],
         "xaxis": "x",
         "y": [
          6.341704181757287
         ],
         "yaxis": "y"
        },
        {
         "alignmentgroup": "True",
         "customdata": [
          [
           8.6933028455787,
           0,
           "DALLAS COWBOYS",
           "DF"
          ]
         ],
         "hovertemplate": "<b>%{hovertext}</b><br><br>scoreRemaining=%{y}<br>weeklyPred=%{customdata[0]}<br>scaled=%{customdata[1]}<extra></extra>",
         "hovertext": [
          "DALLAS COWBOYS"
         ],
         "legendgroup": "DALLAS COWBOYS",
         "marker": {
          "color": "rgb(255,255,255)",
          "pattern": {
           "shape": ""
          }
         },
         "name": "DALLAS COWBOYS",
         "offsetgroup": "DALLAS COWBOYS",
         "orientation": "v",
         "showlegend": true,
         "text": [
          "DALLAS COWBOYS"
         ],
         "textposition": "auto",
         "type": "bar",
         "x": [
          "Providence Monastic Spirits"
         ],
         "xaxis": "x",
         "y": [
          8.6933028455787
         ],
         "yaxis": "y"
        },
        {
         "alignmentgroup": "True",
         "customdata": [
          [
           8.431492146437567,
           22,
           "TENNESSEE TITANS",
           "DF"
          ]
         ],
         "hovertemplate": "<b>%{hovertext}</b><br><br>scoreRemaining=%{y}<br>weeklyPred=%{customdata[0]}<br>scaled=%{customdata[1]}<extra></extra>",
         "hovertext": [
          "TENNESSEE TITANS"
         ],
         "legendgroup": "TENNESSEE TITANS",
         "marker": {
          "color": "rgb(233,255,233)",
          "pattern": {
           "shape": ""
          }
         },
         "name": "TENNESSEE TITANS",
         "offsetgroup": "TENNESSEE TITANS",
         "orientation": "v",
         "showlegend": true,
         "text": [
          "TENNESSEE TITANS"
         ],
         "textposition": "auto",
         "type": "bar",
         "x": [
          "Providence Monastic Spirits"
         ],
         "xaxis": "x",
         "y": [
          11
         ],
         "yaxis": "y"
        },
        {
         "alignmentgroup": "True",
         "customdata": [
          [
           8.033511242627183,
           -5,
           "JUJU SMITH-SCHUSTER",
           "WR"
          ]
         ],
         "hovertemplate": "<b>%{hovertext}</b><br><br>scoreRemaining=%{y}<br>weeklyPred=%{customdata[0]}<br>scaled=%{customdata[1]}<extra></extra>",
         "hovertext": [
          "JUJU SMITH-SCHUSTER"
         ],
         "legendgroup": "JUJU SMITH-SCHUSTER",
         "marker": {
          "color": "rgb(255,250,250)",
          "pattern": {
           "shape": ""
          }
         },
         "name": "JUJU SMITH-SCHUSTER",
         "offsetgroup": "JUJU SMITH-SCHUSTER",
         "orientation": "v",
         "showlegend": true,
         "text": [
          "JUJU SMITH-SCHUSTER"
         ],
         "textposition": "auto",
         "type": "bar",
         "x": [
          "Providence Monastic Spirits"
         ],
         "xaxis": "x",
         "y": [
          7.4
         ],
         "yaxis": "y"
        },
        {
         "alignmentgroup": "True",
         "customdata": [
          [
           8.470709912034593,
           -3,
           "TYLER BASS",
           "PK"
          ]
         ],
         "hovertemplate": "<b>%{hovertext}</b><br><br>scoreRemaining=%{y}<br>weeklyPred=%{customdata[0]}<br>scaled=%{customdata[1]}<extra></extra>",
         "hovertext": [
          "TYLER BASS"
         ],
         "legendgroup": "TYLER BASS",
         "marker": {
          "color": "rgb(255,252,252)",
          "pattern": {
           "shape": ""
          }
         },
         "name": "TYLER BASS",
         "offsetgroup": "TYLER BASS",
         "orientation": "v",
         "showlegend": true,
         "text": [
          "TYLER BASS"
         ],
         "textposition": "auto",
         "type": "bar",
         "x": [
          "Providence Monastic Spirits"
         ],
         "xaxis": "x",
         "y": [
          8.1
         ],
         "yaxis": "y"
        },
        {
         "alignmentgroup": "True",
         "customdata": [
          [
           8.597392493851984,
           3,
           "EVAN MCPHERSON",
           "PK"
          ]
         ],
         "hovertemplate": "<b>%{hovertext}</b><br><br>scoreRemaining=%{y}<br>weeklyPred=%{customdata[0]}<br>scaled=%{customdata[1]}<extra></extra>",
         "hovertext": [
          "EVAN MCPHERSON"
         ],
         "legendgroup": "EVAN MCPHERSON",
         "marker": {
          "color": "rgb(252,255,252)",
          "pattern": {
           "shape": ""
          }
         },
         "name": "EVAN MCPHERSON",
         "offsetgroup": "EVAN MCPHERSON",
         "orientation": "v",
         "showlegend": true,
         "text": [
          "EVAN MCPHERSON"
         ],
         "textposition": "auto",
         "type": "bar",
         "x": [
          "Providence Monastic Spirits"
         ],
         "xaxis": "x",
         "y": [
          8.9
         ],
         "yaxis": "y"
        },
        {
         "alignmentgroup": "True",
         "customdata": [
          [
           7.255522270761829,
           0,
           "COURTLAND SUTTON",
           "WR"
          ]
         ],
         "hovertemplate": "<b>%{hovertext}</b><br><br>scoreRemaining=%{y}<br>weeklyPred=%{customdata[0]}<br>scaled=%{customdata[1]}<extra></extra>",
         "hovertext": [
          "COURTLAND SUTTON"
         ],
         "legendgroup": "COURTLAND SUTTON",
         "marker": {
          "color": "rgb(255,255,255)",
          "pattern": {
           "shape": ""
          }
         },
         "name": "COURTLAND SUTTON",
         "offsetgroup": "COURTLAND SUTTON",
         "orientation": "v",
         "showlegend": true,
         "text": [
          "COURTLAND SUTTON"
         ],
         "textposition": "auto",
         "type": "bar",
         "x": [
          "Providence Monastic Spirits"
         ],
         "xaxis": "x",
         "y": [
          7.255522270761829
         ],
         "yaxis": "y"
        },
        {
         "alignmentgroup": "True",
         "customdata": [
          [
           5.447181431264969,
           -25,
           "KENE NWANGWU",
           "RB"
          ]
         ],
         "hovertemplate": "<b>%{hovertext}</b><br><br>scoreRemaining=%{y}<br>weeklyPred=%{customdata[0]}<br>scaled=%{customdata[1]}<extra></extra>",
         "hovertext": [
          "KENE NWANGWU"
         ],
         "legendgroup": "KENE NWANGWU",
         "marker": {
          "color": "rgb(255,230,230)",
          "pattern": {
           "shape": ""
          }
         },
         "name": "KENE NWANGWU",
         "offsetgroup": "KENE NWANGWU",
         "orientation": "v",
         "showlegend": true,
         "text": [
          "KENE NWANGWU"
         ],
         "textposition": "auto",
         "type": "bar",
         "x": [
          "Providence Monastic Spirits"
         ],
         "xaxis": "x",
         "y": [
          2.5
         ],
         "yaxis": "y"
        },
        {
         "alignmentgroup": "True",
         "customdata": [
          [
           5.776076504157796,
           99,
           "AJ DILLON",
           "RB"
          ]
         ],
         "hovertemplate": "<b>%{hovertext}</b><br><br>scoreRemaining=%{y}<br>weeklyPred=%{customdata[0]}<br>scaled=%{customdata[1]}<extra></extra>",
         "hovertext": [
          "AJ DILLON"
         ],
         "legendgroup": "AJ DILLON",
         "marker": {
          "color": "rgb(156,255,156)",
          "pattern": {
           "shape": ""
          }
         },
         "name": "AJ DILLON",
         "offsetgroup": "AJ DILLON",
         "orientation": "v",
         "showlegend": true,
         "text": [
          "AJ DILLON"
         ],
         "textposition": "auto",
         "type": "bar",
         "x": [
          "Providence Monastic Spirits"
         ],
         "xaxis": "x",
         "y": [
          17.4
         ],
         "yaxis": "y"
        },
        {
         "alignmentgroup": "True",
         "customdata": [
          [
           19.5612602006206,
           0,
           "DAK PRESCOTT",
           "QB"
          ]
         ],
         "hovertemplate": "<b>%{hovertext}</b><br><br>scoreRemaining=%{y}<br>weeklyPred=%{customdata[0]}<br>scaled=%{customdata[1]}<extra></extra>",
         "hovertext": [
          "DAK PRESCOTT"
         ],
         "legendgroup": "DAK PRESCOTT",
         "marker": {
          "color": "rgb(255,255,255)",
          "pattern": {
           "shape": ""
          }
         },
         "name": "DAK PRESCOTT",
         "offsetgroup": "DAK PRESCOTT",
         "orientation": "v",
         "showlegend": true,
         "text": [
          "DAK PRESCOTT"
         ],
         "textposition": "auto",
         "type": "bar",
         "x": [
          "Providence Monastic Spirits"
         ],
         "xaxis": "x",
         "y": [
          19.5612602006206
         ],
         "yaxis": "y"
        },
        {
         "alignmentgroup": "True",
         "customdata": [
          [
           14.025776045060404,
           100,
           "DANDRE SWIFT",
           "RB"
          ]
         ],
         "hovertemplate": "<b>%{hovertext}</b><br><br>scoreRemaining=%{y}<br>weeklyPred=%{customdata[0]}<br>scaled=%{customdata[1]}<extra></extra>",
         "hovertext": [
          "DANDRE SWIFT"
         ],
         "legendgroup": "DANDRE SWIFT",
         "marker": {
          "color": "rgb(155,255,155)",
          "pattern": {
           "shape": ""
          }
         },
         "name": "DANDRE SWIFT",
         "offsetgroup": "DANDRE SWIFT",
         "orientation": "v",
         "showlegend": true,
         "text": [
          "DANDRE SWIFT"
         ],
         "textposition": "auto",
         "type": "bar",
         "x": [
          "Providence Monastic Spirits"
         ],
         "xaxis": "x",
         "y": [
          25.8
         ],
         "yaxis": "y"
        },
        {
         "alignmentgroup": "True",
         "customdata": [
          [
           13.646775875585817,
           76,
           "CORDARRELLE PATTERSON",
           "RB"
          ]
         ],
         "hovertemplate": "<b>%{hovertext}</b><br><br>scoreRemaining=%{y}<br>weeklyPred=%{customdata[0]}<br>scaled=%{customdata[1]}<extra></extra>",
         "hovertext": [
          "CORDARRELLE PATTERSON"
         ],
         "legendgroup": "CORDARRELLE PATTERSON",
         "marker": {
          "color": "rgb(179,255,179)",
          "pattern": {
           "shape": ""
          }
         },
         "name": "CORDARRELLE PATTERSON",
         "offsetgroup": "CORDARRELLE PATTERSON",
         "orientation": "v",
         "showlegend": true,
         "text": [
          "CORDARRELLE PATTERSON"
         ],
         "textposition": "auto",
         "type": "bar",
         "x": [
          "Providence Monastic Spirits"
         ],
         "xaxis": "x",
         "y": [
          22.6
         ],
         "yaxis": "y"
        },
        {
         "alignmentgroup": "True",
         "customdata": [
          [
           18.065959687257212,
           -30,
           "MATT RYAN",
           "QB"
          ]
         ],
         "hovertemplate": "<b>%{hovertext}</b><br><br>scoreRemaining=%{y}<br>weeklyPred=%{customdata[0]}<br>scaled=%{customdata[1]}<extra></extra>",
         "hovertext": [
          "MATT RYAN"
         ],
         "legendgroup": "MATT RYAN",
         "marker": {
          "color": "rgb(255,225,225)",
          "pattern": {
           "shape": ""
          }
         },
         "name": "MATT RYAN",
         "offsetgroup": "MATT RYAN",
         "orientation": "v",
         "showlegend": true,
         "text": [
          "MATT RYAN"
         ],
         "textposition": "auto",
         "type": "bar",
         "x": [
          "Providence Monastic Spirits"
         ],
         "xaxis": "x",
         "y": [
          14.5
         ],
         "yaxis": "y"
        },
        {
         "alignmentgroup": "True",
         "customdata": [
          [
           8.531679282730154,
           0,
           "TAMPA BAY BUCCANEERS",
           "DF"
          ]
         ],
         "hovertemplate": "<b>%{hovertext}</b><br><br>scoreRemaining=%{y}<br>weeklyPred=%{customdata[0]}<br>scaled=%{customdata[1]}<extra></extra>",
         "hovertext": [
          "TAMPA BAY BUCCANEERS"
         ],
         "legendgroup": "TAMPA BAY BUCCANEERS",
         "marker": {
          "color": "rgb(255,255,255)",
          "pattern": {
           "shape": ""
          }
         },
         "name": "TAMPA BAY BUCCANEERS",
         "offsetgroup": "TAMPA BAY BUCCANEERS",
         "orientation": "v",
         "showlegend": true,
         "text": [
          "TAMPA BAY BUCCANEERS"
         ],
         "textposition": "auto",
         "type": "bar",
         "x": [
          "Comeback Kings"
         ],
         "xaxis": "x",
         "y": [
          8.531679282730154
         ],
         "yaxis": "y"
        },
        {
         "alignmentgroup": "True",
         "customdata": [
          [
           8.276832361005205,
           0,
           "RYAN SUCCOP",
           "PK"
          ]
         ],
         "hovertemplate": "<b>%{hovertext}</b><br><br>scoreRemaining=%{y}<br>weeklyPred=%{customdata[0]}<br>scaled=%{customdata[1]}<extra></extra>",
         "hovertext": [
          "RYAN SUCCOP"
         ],
         "legendgroup": "RYAN SUCCOP",
         "marker": {
          "color": "rgb(255,255,255)",
          "pattern": {
           "shape": ""
          }
         },
         "name": "RYAN SUCCOP",
         "offsetgroup": "RYAN SUCCOP",
         "orientation": "v",
         "showlegend": true,
         "text": [
          "RYAN SUCCOP"
         ],
         "textposition": "auto",
         "type": "bar",
         "x": [
          "Comeback Kings"
         ],
         "xaxis": "x",
         "y": [
          8.276832361005205
         ],
         "yaxis": "y"
        },
        {
         "alignmentgroup": "True",
         "customdata": [
          [
           9.67189553558239,
           3,
           "BRANDIN COOKS",
           "WR"
          ]
         ],
         "hovertemplate": "<b>%{hovertext}</b><br><br>scoreRemaining=%{y}<br>weeklyPred=%{customdata[0]}<br>scaled=%{customdata[1]}<extra></extra>",
         "hovertext": [
          "BRANDIN COOKS"
         ],
         "legendgroup": "BRANDIN COOKS",
         "marker": {
          "color": "rgb(252,255,252)",
          "pattern": {
           "shape": ""
          }
         },
         "name": "BRANDIN COOKS",
         "offsetgroup": "BRANDIN COOKS",
         "orientation": "v",
         "showlegend": true,
         "text": [
          "BRANDIN COOKS"
         ],
         "textposition": "auto",
         "type": "bar",
         "x": [
          "Comeback Kings"
         ],
         "xaxis": "x",
         "y": [
          10
         ],
         "yaxis": "y"
        },
        {
         "alignmentgroup": "True",
         "customdata": [
          [
           11.412816702856155,
           75,
           "STEFON DIGGS",
           "WR"
          ]
         ],
         "hovertemplate": "<b>%{hovertext}</b><br><br>scoreRemaining=%{y}<br>weeklyPred=%{customdata[0]}<br>scaled=%{customdata[1]}<extra></extra>",
         "hovertext": [
          "STEFON DIGGS"
         ],
         "legendgroup": "STEFON DIGGS",
         "marker": {
          "color": "rgb(180,255,180)",
          "pattern": {
           "shape": ""
          }
         },
         "name": "STEFON DIGGS",
         "offsetgroup": "STEFON DIGGS",
         "orientation": "v",
         "showlegend": true,
         "text": [
          "STEFON DIGGS"
         ],
         "textposition": "auto",
         "type": "bar",
         "x": [
          "Comeback Kings"
         ],
         "xaxis": "x",
         "y": [
          20.2
         ],
         "yaxis": "y"
        },
        {
         "alignmentgroup": "True",
         "customdata": [
          [
           4.471441577034786,
           15,
           "BREECE HALL",
           "RB"
          ]
         ],
         "hovertemplate": "<b>%{hovertext}</b><br><br>scoreRemaining=%{y}<br>weeklyPred=%{customdata[0]}<br>scaled=%{customdata[1]}<extra></extra>",
         "hovertext": [
          "BREECE HALL"
         ],
         "legendgroup": "BREECE HALL",
         "marker": {
          "color": "rgb(240,255,240)",
          "pattern": {
           "shape": ""
          }
         },
         "name": "BREECE HALL",
         "offsetgroup": "BREECE HALL",
         "orientation": "v",
         "showlegend": true,
         "text": [
          "BREECE HALL"
         ],
         "textposition": "auto",
         "type": "bar",
         "x": [
          "Comeback Kings"
         ],
         "xaxis": "x",
         "y": [
          6.2
         ],
         "yaxis": "y"
        },
        {
         "alignmentgroup": "True",
         "customdata": [
          [
           8.143364442620319,
           58,
           "MINNESOTA VIKINGS",
           "DF"
          ]
         ],
         "hovertemplate": "<b>%{hovertext}</b><br><br>scoreRemaining=%{y}<br>weeklyPred=%{customdata[0]}<br>scaled=%{customdata[1]}<extra></extra>",
         "hovertext": [
          "MINNESOTA VIKINGS"
         ],
         "legendgroup": "MINNESOTA VIKINGS",
         "marker": {
          "color": "rgb(197,255,197)",
          "pattern": {
           "shape": ""
          }
         },
         "name": "MINNESOTA VIKINGS",
         "offsetgroup": "MINNESOTA VIKINGS",
         "orientation": "v",
         "showlegend": true,
         "text": [
          "MINNESOTA VIKINGS"
         ],
         "textposition": "auto",
         "type": "bar",
         "x": [
          "Comeback Kings"
         ],
         "xaxis": "x",
         "y": [
          15
         ],
         "yaxis": "y"
        },
        {
         "alignmentgroup": "True",
         "customdata": [
          [
           8.40282167611545,
           24,
           "JASON SANDERS",
           "PK"
          ]
         ],
         "hovertemplate": "<b>%{hovertext}</b><br><br>scoreRemaining=%{y}<br>weeklyPred=%{customdata[0]}<br>scaled=%{customdata[1]}<extra></extra>",
         "hovertext": [
          "JASON SANDERS"
         ],
         "legendgroup": "JASON SANDERS",
         "marker": {
          "color": "rgb(231,255,231)",
          "pattern": {
           "shape": ""
          }
         },
         "name": "JASON SANDERS",
         "offsetgroup": "JASON SANDERS",
         "orientation": "v",
         "showlegend": true,
         "text": [
          "JASON SANDERS"
         ],
         "textposition": "auto",
         "type": "bar",
         "x": [
          "Comeback Kings"
         ],
         "xaxis": "x",
         "y": [
          11.2
         ],
         "yaxis": "y"
        },
        {
         "alignmentgroup": "True",
         "customdata": [
          [
           14.29411481618236,
           56,
           "CLYDE EDWARDS-HELAIRE",
           "RB"
          ]
         ],
         "hovertemplate": "<b>%{hovertext}</b><br><br>scoreRemaining=%{y}<br>weeklyPred=%{customdata[0]}<br>scaled=%{customdata[1]}<extra></extra>",
         "hovertext": [
          "CLYDE EDWARDS-HELAIRE"
         ],
         "legendgroup": "CLYDE EDWARDS-HELAIRE",
         "marker": {
          "color": "rgb(199,255,199)",
          "pattern": {
           "shape": ""
          }
         },
         "name": "CLYDE EDWARDS-HELAIRE",
         "offsetgroup": "CLYDE EDWARDS-HELAIRE",
         "orientation": "v",
         "showlegend": true,
         "text": [
          "CLYDE EDWARDS-HELAIRE"
         ],
         "textposition": "auto",
         "type": "bar",
         "x": [
          "Comeback Kings"
         ],
         "xaxis": "x",
         "y": [
          20.9
         ],
         "yaxis": "y"
        },
        {
         "alignmentgroup": "True",
         "customdata": [
          [
           7.3400599061490155,
           -51,
           "MIKE DAVIS",
           "RB"
          ]
         ],
         "hovertemplate": "<b>%{hovertext}</b><br><br>scoreRemaining=%{y}<br>weeklyPred=%{customdata[0]}<br>scaled=%{customdata[1]}<extra></extra>",
         "hovertext": [
          "MIKE DAVIS"
         ],
         "legendgroup": "MIKE DAVIS",
         "marker": {
          "color": "rgb(255,204,204)",
          "pattern": {
           "shape": ""
          }
         },
         "name": "MIKE DAVIS",
         "offsetgroup": "MIKE DAVIS",
         "orientation": "v",
         "showlegend": true,
         "text": [
          "MIKE DAVIS"
         ],
         "textposition": "auto",
         "type": "bar",
         "x": [
          "Comeback Kings"
         ],
         "xaxis": "x",
         "y": [
          1.3
         ],
         "yaxis": "y"
        },
        {
         "alignmentgroup": "True",
         "customdata": [
          [
           19.49500005961535,
           -140,
           "MATTHEW STAFFORD",
           "QB"
          ]
         ],
         "hovertemplate": "<b>%{hovertext}</b><br><br>scoreRemaining=%{y}<br>weeklyPred=%{customdata[0]}<br>scaled=%{customdata[1]}<extra></extra>",
         "hovertext": [
          "MATTHEW STAFFORD"
         ],
         "legendgroup": "MATTHEW STAFFORD",
         "marker": {
          "color": "rgb(255,115,115)",
          "pattern": {
           "shape": ""
          }
         },
         "name": "MATTHEW STAFFORD",
         "offsetgroup": "MATTHEW STAFFORD",
         "orientation": "v",
         "showlegend": true,
         "text": [
          "MATTHEW STAFFORD"
         ],
         "textposition": "auto",
         "type": "bar",
         "x": [
          "Comeback Kings"
         ],
         "xaxis": "x",
         "y": [
          3
         ],
         "yaxis": "y"
        },
        {
         "alignmentgroup": "True",
         "customdata": [
          [
           6.28573780026773,
           -27,
           "NICO COLLINS",
           "WR"
          ]
         ],
         "hovertemplate": "<b>%{hovertext}</b><br><br>scoreRemaining=%{y}<br>weeklyPred=%{customdata[0]}<br>scaled=%{customdata[1]}<extra></extra>",
         "hovertext": [
          "NICO COLLINS"
         ],
         "legendgroup": "NICO COLLINS",
         "marker": {
          "color": "rgb(255,228,228)",
          "pattern": {
           "shape": ""
          }
         },
         "name": "NICO COLLINS",
         "offsetgroup": "NICO COLLINS",
         "orientation": "v",
         "showlegend": true,
         "text": [
          "NICO COLLINS"
         ],
         "textposition": "auto",
         "type": "bar",
         "x": [
          "Comeback Kings"
         ],
         "xaxis": "x",
         "y": [
          3.1
         ],
         "yaxis": "y"
        },
        {
         "alignmentgroup": "True",
         "customdata": [
          [
           19.102512584849354,
           110,
           "JOSH ALLEN",
           "QB"
          ]
         ],
         "hovertemplate": "<b>%{hovertext}</b><br><br>scoreRemaining=%{y}<br>weeklyPred=%{customdata[0]}<br>scaled=%{customdata[1]}<extra></extra>",
         "hovertext": [
          "JOSH ALLEN"
         ],
         "legendgroup": "JOSH ALLEN",
         "marker": {
          "color": "rgb(145,255,145)",
          "pattern": {
           "shape": ""
          }
         },
         "name": "JOSH ALLEN",
         "offsetgroup": "JOSH ALLEN",
         "orientation": "v",
         "showlegend": true,
         "text": [
          "JOSH ALLEN"
         ],
         "textposition": "auto",
         "type": "bar",
         "x": [
          "Comeback Kings"
         ],
         "xaxis": "x",
         "y": [
          32
         ],
         "yaxis": "y"
        },
        {
         "alignmentgroup": "True",
         "customdata": [
          [
           8.58675108063519,
           -23,
           "JD MCKISSIC",
           "RB"
          ]
         ],
         "hovertemplate": "<b>%{hovertext}</b><br><br>scoreRemaining=%{y}<br>weeklyPred=%{customdata[0]}<br>scaled=%{customdata[1]}<extra></extra>",
         "hovertext": [
          "JD MCKISSIC"
         ],
         "legendgroup": "JD MCKISSIC",
         "marker": {
          "color": "rgb(255,232,232)",
          "pattern": {
           "shape": ""
          }
         },
         "name": "JD MCKISSIC",
         "offsetgroup": "JD MCKISSIC",
         "orientation": "v",
         "showlegend": true,
         "text": [
          "JD MCKISSIC"
         ],
         "textposition": "auto",
         "type": "bar",
         "x": [
          "Comeback Kings"
         ],
         "xaxis": "x",
         "y": [
          5.9
         ],
         "yaxis": "y"
        },
        {
         "alignmentgroup": "True",
         "customdata": [
          [
           2.792894552533919,
           14,
           "ROBERT TONYAN",
           "TE"
          ]
         ],
         "hovertemplate": "<b>%{hovertext}</b><br><br>scoreRemaining=%{y}<br>weeklyPred=%{customdata[0]}<br>scaled=%{customdata[1]}<extra></extra>",
         "hovertext": [
          "ROBERT TONYAN"
         ],
         "legendgroup": "ROBERT TONYAN",
         "marker": {
          "color": "rgb(241,255,241)",
          "pattern": {
           "shape": ""
          }
         },
         "name": "ROBERT TONYAN",
         "offsetgroup": "ROBERT TONYAN",
         "orientation": "v",
         "showlegend": true,
         "text": [
          "ROBERT TONYAN"
         ],
         "textposition": "auto",
         "type": "bar",
         "x": [
          "Comeback Kings"
         ],
         "xaxis": "x",
         "y": [
          4.4
         ],
         "yaxis": "y"
        },
        {
         "alignmentgroup": "True",
         "customdata": [
          [
           9.12074639600288,
           0,
           "DALTON SCHULTZ",
           "TE"
          ]
         ],
         "hovertemplate": "<b>%{hovertext}</b><br><br>scoreRemaining=%{y}<br>weeklyPred=%{customdata[0]}<br>scaled=%{customdata[1]}<extra></extra>",
         "hovertext": [
          "DALTON SCHULTZ"
         ],
         "legendgroup": "DALTON SCHULTZ",
         "marker": {
          "color": "rgb(255,255,255)",
          "pattern": {
           "shape": ""
          }
         },
         "name": "DALTON SCHULTZ",
         "offsetgroup": "DALTON SCHULTZ",
         "orientation": "v",
         "showlegend": true,
         "text": [
          "DALTON SCHULTZ"
         ],
         "textposition": "auto",
         "type": "bar",
         "x": [
          "Comeback Kings"
         ],
         "xaxis": "x",
         "y": [
          9.12074639600288
         ],
         "yaxis": "y"
        },
        {
         "alignmentgroup": "True",
         "customdata": [
          [
           6.446366849546292,
           0,
           "TONY POLLARD",
           "RB"
          ]
         ],
         "hovertemplate": "<b>%{hovertext}</b><br><br>scoreRemaining=%{y}<br>weeklyPred=%{customdata[0]}<br>scaled=%{customdata[1]}<extra></extra>",
         "hovertext": [
          "TONY POLLARD"
         ],
         "legendgroup": "TONY POLLARD",
         "marker": {
          "color": "rgb(255,255,255)",
          "pattern": {
           "shape": ""
          }
         },
         "name": "TONY POLLARD",
         "offsetgroup": "TONY POLLARD",
         "orientation": "v",
         "showlegend": true,
         "text": [
          "TONY POLLARD"
         ],
         "textposition": "auto",
         "type": "bar",
         "x": [
          "Washington Fantasy Football Team"
         ],
         "xaxis": "x",
         "y": [
          6.446366849546292
         ],
         "yaxis": "y"
        },
        {
         "alignmentgroup": "True",
         "customdata": [
          [
           13.585613901688777,
           72,
           "COOPER KUPP",
           "WR"
          ]
         ],
         "hovertemplate": "<b>%{hovertext}</b><br><br>scoreRemaining=%{y}<br>weeklyPred=%{customdata[0]}<br>scaled=%{customdata[1]}<extra></extra>",
         "hovertext": [
          "COOPER KUPP"
         ],
         "legendgroup": "COOPER KUPP",
         "marker": {
          "color": "rgb(183,255,183)",
          "pattern": {
           "shape": ""
          }
         },
         "name": "COOPER KUPP",
         "offsetgroup": "COOPER KUPP",
         "orientation": "v",
         "showlegend": true,
         "text": [
          "COOPER KUPP"
         ],
         "textposition": "auto",
         "type": "bar",
         "x": [
          "Washington Fantasy Football Team"
         ],
         "xaxis": "x",
         "y": [
          22.1
         ],
         "yaxis": "y"
        },
        {
         "alignmentgroup": "True",
         "customdata": [
          [
           1.5976957207077047,
           -14,
           "IRV SMITH JR",
           "TE"
          ]
         ],
         "hovertemplate": "<b>%{hovertext}</b><br><br>scoreRemaining=%{y}<br>weeklyPred=%{customdata[0]}<br>scaled=%{customdata[1]}<extra></extra>",
         "hovertext": [
          "IRV SMITH JR"
         ],
         "legendgroup": "IRV SMITH JR",
         "marker": {
          "color": "rgb(255,241,241)",
          "pattern": {
           "shape": ""
          }
         },
         "name": "IRV SMITH JR",
         "offsetgroup": "IRV SMITH JR",
         "orientation": "v",
         "showlegend": true,
         "text": [
          "IRV SMITH JR"
         ],
         "textposition": "auto",
         "type": "bar",
         "x": [
          "Washington Fantasy Football Team"
         ],
         "xaxis": "x",
         "y": [
          0
         ],
         "yaxis": "y"
        },
        {
         "alignmentgroup": "True",
         "customdata": [
          [
           8.459751656729416,
           -63,
           "MATT PRATER",
           "PK"
          ]
         ],
         "hovertemplate": "<b>%{hovertext}</b><br><br>scoreRemaining=%{y}<br>weeklyPred=%{customdata[0]}<br>scaled=%{customdata[1]}<extra></extra>",
         "hovertext": [
          "MATT PRATER"
         ],
         "legendgroup": "MATT PRATER",
         "marker": {
          "color": "rgb(255,192,192)",
          "pattern": {
           "shape": ""
          }
         },
         "name": "MATT PRATER",
         "offsetgroup": "MATT PRATER",
         "orientation": "v",
         "showlegend": true,
         "text": [
          "MATT PRATER"
         ],
         "textposition": "auto",
         "type": "bar",
         "x": [
          "Washington Fantasy Football Team"
         ],
         "xaxis": "x",
         "y": [
          1
         ],
         "yaxis": "y"
        },
        {
         "alignmentgroup": "True",
         "customdata": [
          [
           18.280497241393093,
           0,
           "KIRK COUSINS",
           "QB"
          ]
         ],
         "hovertemplate": "<b>%{hovertext}</b><br><br>scoreRemaining=%{y}<br>weeklyPred=%{customdata[0]}<br>scaled=%{customdata[1]}<extra></extra>",
         "hovertext": [
          "KIRK COUSINS"
         ],
         "legendgroup": "KIRK COUSINS",
         "marker": {
          "color": "rgb(255,255,255)",
          "pattern": {
           "shape": ""
          }
         },
         "name": "KIRK COUSINS",
         "offsetgroup": "KIRK COUSINS",
         "orientation": "v",
         "showlegend": true,
         "text": [
          "KIRK COUSINS"
         ],
         "textposition": "auto",
         "type": "bar",
         "x": [
          "Washington Fantasy Football Team"
         ],
         "xaxis": "x",
         "y": [
          18.3
         ],
         "yaxis": "y"
        },
        {
         "alignmentgroup": "True",
         "customdata": [
          [
           11.052576760843491,
           -67,
           "TEE HIGGINS",
           "WR"
          ]
         ],
         "hovertemplate": "<b>%{hovertext}</b><br><br>scoreRemaining=%{y}<br>weeklyPred=%{customdata[0]}<br>scaled=%{customdata[1]}<extra></extra>",
         "hovertext": [
          "TEE HIGGINS"
         ],
         "legendgroup": "TEE HIGGINS",
         "marker": {
          "color": "rgb(255,188,188)",
          "pattern": {
           "shape": ""
          }
         },
         "name": "TEE HIGGINS",
         "offsetgroup": "TEE HIGGINS",
         "orientation": "v",
         "showlegend": true,
         "text": [
          "TEE HIGGINS"
         ],
         "textposition": "auto",
         "type": "bar",
         "x": [
          "Washington Fantasy Football Team"
         ],
         "xaxis": "x",
         "y": [
          3.2
         ],
         "yaxis": "y"
        },
        {
         "alignmentgroup": "True",
         "customdata": [
          [
           20.458745433804562,
           0,
           "TOM BRADY",
           "QB"
          ]
         ],
         "hovertemplate": "<b>%{hovertext}</b><br><br>scoreRemaining=%{y}<br>weeklyPred=%{customdata[0]}<br>scaled=%{customdata[1]}<extra></extra>",
         "hovertext": [
          "TOM BRADY"
         ],
         "legendgroup": "TOM BRADY",
         "marker": {
          "color": "rgb(255,255,255)",
          "pattern": {
           "shape": ""
          }
         },
         "name": "TOM BRADY",
         "offsetgroup": "TOM BRADY",
         "orientation": "v",
         "showlegend": true,
         "text": [
          "TOM BRADY"
         ],
         "textposition": "auto",
         "type": "bar",
         "x": [
          "Washington Fantasy Football Team"
         ],
         "xaxis": "x",
         "y": [
          20.458745433804562
         ],
         "yaxis": "y"
        },
        {
         "alignmentgroup": "True",
         "customdata": [
          [
           2.6445966386376405,
           112,
           "GABRIEL DAVIS",
           "WR"
          ]
         ],
         "hovertemplate": "<b>%{hovertext}</b><br><br>scoreRemaining=%{y}<br>weeklyPred=%{customdata[0]}<br>scaled=%{customdata[1]}<extra></extra>",
         "hovertext": [
          "GABRIEL DAVIS"
         ],
         "legendgroup": "GABRIEL DAVIS",
         "marker": {
          "color": "rgb(143,255,143)",
          "pattern": {
           "shape": ""
          }
         },
         "name": "GABRIEL DAVIS",
         "offsetgroup": "GABRIEL DAVIS",
         "orientation": "v",
         "showlegend": true,
         "text": [
          "GABRIEL DAVIS"
         ],
         "textposition": "auto",
         "type": "bar",
         "x": [
          "Washington Fantasy Football Team"
         ],
         "xaxis": "x",
         "y": [
          15.8
         ],
         "yaxis": "y"
        },
        {
         "alignmentgroup": "True",
         "customdata": [
          [
           11.78921479492333,
           -58,
           "WASHINGTON COMMANDERS",
           "DF"
          ]
         ],
         "hovertemplate": "<b>%{hovertext}</b><br><br>scoreRemaining=%{y}<br>weeklyPred=%{customdata[0]}<br>scaled=%{customdata[1]}<extra></extra>",
         "hovertext": [
          "WASHINGTON COMMANDERS"
         ],
         "legendgroup": "WASHINGTON COMMANDERS",
         "marker": {
          "color": "rgb(255,197,197)",
          "pattern": {
           "shape": ""
          }
         },
         "name": "WASHINGTON COMMANDERS",
         "offsetgroup": "WASHINGTON COMMANDERS",
         "orientation": "v",
         "showlegend": true,
         "text": [
          "WASHINGTON COMMANDERS"
         ],
         "textposition": "auto",
         "type": "bar",
         "x": [
          "Washington Fantasy Football Team"
         ],
         "xaxis": "x",
         "y": [
          5
         ],
         "yaxis": "y"
        },
        {
         "alignmentgroup": "True",
         "customdata": [
          [
           13.434103849902796,
           -53,
           "DAMIEN HARRIS",
           "RB"
          ]
         ],
         "hovertemplate": "<b>%{hovertext}</b><br><br>scoreRemaining=%{y}<br>weeklyPred=%{customdata[0]}<br>scaled=%{customdata[1]}<extra></extra>",
         "hovertext": [
          "DAMIEN HARRIS"
         ],
         "legendgroup": "DAMIEN HARRIS",
         "marker": {
          "color": "rgb(255,202,202)",
          "pattern": {
           "shape": ""
          }
         },
         "name": "DAMIEN HARRIS",
         "offsetgroup": "DAMIEN HARRIS",
         "orientation": "v",
         "showlegend": true,
         "text": [
          "DAMIEN HARRIS"
         ],
         "textposition": "auto",
         "type": "bar",
         "x": [
          "Washington Fantasy Football Team"
         ],
         "xaxis": "x",
         "y": [
          7.2
         ],
         "yaxis": "y"
        },
        {
         "alignmentgroup": "True",
         "customdata": [
          [
           9.277998357398923,
           32,
           "CHICAGO BEARS",
           "DF"
          ]
         ],
         "hovertemplate": "<b>%{hovertext}</b><br><br>scoreRemaining=%{y}<br>weeklyPred=%{customdata[0]}<br>scaled=%{customdata[1]}<extra></extra>",
         "hovertext": [
          "CHICAGO BEARS"
         ],
         "legendgroup": "CHICAGO BEARS",
         "marker": {
          "color": "rgb(223,255,223)",
          "pattern": {
           "shape": ""
          }
         },
         "name": "CHICAGO BEARS",
         "offsetgroup": "CHICAGO BEARS",
         "orientation": "v",
         "showlegend": true,
         "text": [
          "CHICAGO BEARS"
         ],
         "textposition": "auto",
         "type": "bar",
         "x": [
          "Washington Fantasy Football Team"
         ],
         "xaxis": "x",
         "y": [
          13
         ],
         "yaxis": "y"
        },
        {
         "alignmentgroup": "True",
         "customdata": [
          [
           14.103697859048816,
           -34,
           "NAJEE HARRIS",
           "RB"
          ]
         ],
         "hovertemplate": "<b>%{hovertext}</b><br><br>scoreRemaining=%{y}<br>weeklyPred=%{customdata[0]}<br>scaled=%{customdata[1]}<extra></extra>",
         "hovertext": [
          "NAJEE HARRIS"
         ],
         "legendgroup": "NAJEE HARRIS",
         "marker": {
          "color": "rgb(255,221,221)",
          "pattern": {
           "shape": ""
          }
         },
         "name": "NAJEE HARRIS",
         "offsetgroup": "NAJEE HARRIS",
         "orientation": "v",
         "showlegend": true,
         "text": [
          "NAJEE HARRIS"
         ],
         "textposition": "auto",
         "type": "bar",
         "x": [
          "Washington Fantasy Football Team"
         ],
         "xaxis": "x",
         "y": [
          10.1
         ],
         "yaxis": "y"
        },
        {
         "alignmentgroup": "True",
         "customdata": [
          [
           8.457829311165089,
           22,
           "WIL LUTZ",
           "PK"
          ]
         ],
         "hovertemplate": "<b>%{hovertext}</b><br><br>scoreRemaining=%{y}<br>weeklyPred=%{customdata[0]}<br>scaled=%{customdata[1]}<extra></extra>",
         "hovertext": [
          "WIL LUTZ"
         ],
         "legendgroup": "WIL LUTZ",
         "marker": {
          "color": "rgb(233,255,233)",
          "pattern": {
           "shape": ""
          }
         },
         "name": "WIL LUTZ",
         "offsetgroup": "WIL LUTZ",
         "orientation": "v",
         "showlegend": true,
         "text": [
          "WIL LUTZ"
         ],
         "textposition": "auto",
         "type": "bar",
         "x": [
          "Washington Fantasy Football Team"
         ],
         "xaxis": "x",
         "y": [
          11
         ],
         "yaxis": "y"
        },
        {
         "alignmentgroup": "True",
         "customdata": [
          [
           8.207601729726239,
           14,
           "ZACH ERTZ",
           "TE"
          ]
         ],
         "hovertemplate": "<b>%{hovertext}</b><br><br>scoreRemaining=%{y}<br>weeklyPred=%{customdata[0]}<br>scaled=%{customdata[1]}<extra></extra>",
         "hovertext": [
          "ZACH ERTZ"
         ],
         "legendgroup": "ZACH ERTZ",
         "marker": {
          "color": "rgb(241,255,241)",
          "pattern": {
           "shape": ""
          }
         },
         "name": "ZACH ERTZ",
         "offsetgroup": "ZACH ERTZ",
         "orientation": "v",
         "showlegend": true,
         "text": [
          "ZACH ERTZ"
         ],
         "textposition": "auto",
         "type": "bar",
         "x": [
          "Washington Fantasy Football Team"
         ],
         "xaxis": "x",
         "y": [
          9.9
         ],
         "yaxis": "y"
        },
        {
         "alignmentgroup": "True",
         "customdata": [
          [
           13.981305767378032,
           -18,
           "DEEBO SAMUEL",
           "WR"
          ]
         ],
         "hovertemplate": "<b>%{hovertext}</b><br><br>scoreRemaining=%{y}<br>weeklyPred=%{customdata[0]}<br>scaled=%{customdata[1]}<extra></extra>",
         "hovertext": [
          "DEEBO SAMUEL"
         ],
         "legendgroup": "DEEBO SAMUEL",
         "marker": {
          "color": "rgb(255,237,237)",
          "pattern": {
           "shape": ""
          }
         },
         "name": "DEEBO SAMUEL",
         "offsetgroup": "DEEBO SAMUEL",
         "orientation": "v",
         "showlegend": true,
         "text": [
          "DEEBO SAMUEL"
         ],
         "textposition": "auto",
         "type": "bar",
         "x": [
          "Washington Fantasy Football Team"
         ],
         "xaxis": "x",
         "y": [
          11.9
         ],
         "yaxis": "y"
        },
        {
         "alignmentgroup": "True",
         "customdata": [
          [
           8.96047754299226,
           11,
           "NYHEIM HINES",
           "RB"
          ]
         ],
         "hovertemplate": "<b>%{hovertext}</b><br><br>scoreRemaining=%{y}<br>weeklyPred=%{customdata[0]}<br>scaled=%{customdata[1]}<extra></extra>",
         "hovertext": [
          "NYHEIM HINES"
         ],
         "legendgroup": "NYHEIM HINES",
         "marker": {
          "color": "rgb(244,255,244)",
          "pattern": {
           "shape": ""
          }
         },
         "name": "NYHEIM HINES",
         "offsetgroup": "NYHEIM HINES",
         "orientation": "v",
         "showlegend": true,
         "text": [
          "NYHEIM HINES"
         ],
         "textposition": "auto",
         "type": "bar",
         "x": [
          "Down with the Sickness unto Death"
         ],
         "xaxis": "x",
         "y": [
          10.3
         ],
         "yaxis": "y"
        },
        {
         "alignmentgroup": "True",
         "customdata": [
          [
           15.670547200445258,
           33,
           "RYAN TANNEHILL",
           "QB"
          ]
         ],
         "hovertemplate": "<b>%{hovertext}</b><br><br>scoreRemaining=%{y}<br>weeklyPred=%{customdata[0]}<br>scaled=%{customdata[1]}<extra></extra>",
         "hovertext": [
          "RYAN TANNEHILL"
         ],
         "legendgroup": "RYAN TANNEHILL",
         "marker": {
          "color": "rgb(222,255,222)",
          "pattern": {
           "shape": ""
          }
         },
         "name": "RYAN TANNEHILL",
         "offsetgroup": "RYAN TANNEHILL",
         "orientation": "v",
         "showlegend": true,
         "text": [
          "RYAN TANNEHILL"
         ],
         "textposition": "auto",
         "type": "bar",
         "x": [
          "Down with the Sickness unto Death"
         ],
         "xaxis": "x",
         "y": [
          19.5
         ],
         "yaxis": "y"
        },
        {
         "alignmentgroup": "True",
         "customdata": [
          [
           10.019381523220696,
           0,
           "MIKE EVANS",
           "WR"
          ]
         ],
         "hovertemplate": "<b>%{hovertext}</b><br><br>scoreRemaining=%{y}<br>weeklyPred=%{customdata[0]}<br>scaled=%{customdata[1]}<extra></extra>",
         "hovertext": [
          "MIKE EVANS"
         ],
         "legendgroup": "MIKE EVANS",
         "marker": {
          "color": "rgb(255,255,255)",
          "pattern": {
           "shape": ""
          }
         },
         "name": "MIKE EVANS",
         "offsetgroup": "MIKE EVANS",
         "orientation": "v",
         "showlegend": true,
         "text": [
          "MIKE EVANS"
         ],
         "textposition": "auto",
         "type": "bar",
         "x": [
          "Down with the Sickness unto Death"
         ],
         "xaxis": "x",
         "y": [
          10.019381523220696
         ],
         "yaxis": "y"
        },
        {
         "alignmentgroup": "True",
         "customdata": [
          [
           8.515808756580322,
           -64,
           "MASON CROSBY",
           "PK"
          ]
         ],
         "hovertemplate": "<b>%{hovertext}</b><br><br>scoreRemaining=%{y}<br>weeklyPred=%{customdata[0]}<br>scaled=%{customdata[1]}<extra></extra>",
         "hovertext": [
          "MASON CROSBY"
         ],
         "legendgroup": "MASON CROSBY",
         "marker": {
          "color": "rgb(255,191,191)",
          "pattern": {
           "shape": ""
          }
         },
         "name": "MASON CROSBY",
         "offsetgroup": "MASON CROSBY",
         "orientation": "v",
         "showlegend": true,
         "text": [
          "MASON CROSBY"
         ],
         "textposition": "auto",
         "type": "bar",
         "x": [
          "Down with the Sickness unto Death"
         ],
         "xaxis": "x",
         "y": [
          1
         ],
         "yaxis": "y"
        },
        {
         "alignmentgroup": "True",
         "customdata": [
          [
           9.818219097464919,
           21,
           "TERRY MCLAURIN",
           "WR"
          ]
         ],
         "hovertemplate": "<b>%{hovertext}</b><br><br>scoreRemaining=%{y}<br>weeklyPred=%{customdata[0]}<br>scaled=%{customdata[1]}<extra></extra>",
         "hovertext": [
          "TERRY MCLAURIN"
         ],
         "legendgroup": "TERRY MCLAURIN",
         "marker": {
          "color": "rgb(234,255,234)",
          "pattern": {
           "shape": ""
          }
         },
         "name": "TERRY MCLAURIN",
         "offsetgroup": "TERRY MCLAURIN",
         "orientation": "v",
         "showlegend": true,
         "text": [
          "TERRY MCLAURIN"
         ],
         "textposition": "auto",
         "type": "bar",
         "x": [
          "Down with the Sickness unto Death"
         ],
         "xaxis": "x",
         "y": [
          12.3
         ],
         "yaxis": "y"
        },
        {
         "alignmentgroup": "True",
         "customdata": [
          [
           3.5607486578158865,
           92,
           "AMON-RA ST BROWN",
           "WR"
          ]
         ],
         "hovertemplate": "<b>%{hovertext}</b><br><br>scoreRemaining=%{y}<br>weeklyPred=%{customdata[0]}<br>scaled=%{customdata[1]}<extra></extra>",
         "hovertext": [
          "AMON-RA ST BROWN"
         ],
         "legendgroup": "AMON-RA ST BROWN",
         "marker": {
          "color": "rgb(163,255,163)",
          "pattern": {
           "shape": ""
          }
         },
         "name": "AMON-RA ST BROWN",
         "offsetgroup": "AMON-RA ST BROWN",
         "orientation": "v",
         "showlegend": true,
         "text": [
          "AMON-RA ST BROWN"
         ],
         "textposition": "auto",
         "type": "bar",
         "x": [
          "Down with the Sickness unto Death"
         ],
         "xaxis": "x",
         "y": [
          14.4
         ],
         "yaxis": "y"
        },
        {
         "alignmentgroup": "True",
         "customdata": [
          [
           8.283599097812676,
           0,
           "BRETT MAHER",
           "PK"
          ]
         ],
         "hovertemplate": "<b>%{hovertext}</b><br><br>scoreRemaining=%{y}<br>weeklyPred=%{customdata[0]}<br>scaled=%{customdata[1]}<extra></extra>",
         "hovertext": [
          "BRETT MAHER"
         ],
         "legendgroup": "BRETT MAHER",
         "marker": {
          "color": "rgb(255,255,255)",
          "pattern": {
           "shape": ""
          }
         },
         "name": "BRETT MAHER",
         "offsetgroup": "BRETT MAHER",
         "orientation": "v",
         "showlegend": true,
         "text": [
          "BRETT MAHER"
         ],
         "textposition": "auto",
         "type": "bar",
         "x": [
          "Down with the Sickness unto Death"
         ],
         "xaxis": "x",
         "y": [
          8.283599097812676
         ],
         "yaxis": "y"
        },
        {
         "alignmentgroup": "True",
         "customdata": [
          [
           9.561537018066465,
           38,
           "NEW ENGLAND PATRIOTS",
           "DF"
          ]
         ],
         "hovertemplate": "<b>%{hovertext}</b><br><br>scoreRemaining=%{y}<br>weeklyPred=%{customdata[0]}<br>scaled=%{customdata[1]}<extra></extra>",
         "hovertext": [
          "NEW ENGLAND PATRIOTS"
         ],
         "legendgroup": "NEW ENGLAND PATRIOTS",
         "marker": {
          "color": "rgb(217,255,217)",
          "pattern": {
           "shape": ""
          }
         },
         "name": "NEW ENGLAND PATRIOTS",
         "offsetgroup": "NEW ENGLAND PATRIOTS",
         "orientation": "v",
         "showlegend": true,
         "text": [
          "NEW ENGLAND PATRIOTS"
         ],
         "textposition": "auto",
         "type": "bar",
         "x": [
          "Down with the Sickness unto Death"
         ],
         "xaxis": "x",
         "y": [
          14
         ],
         "yaxis": "y"
        },
        {
         "alignmentgroup": "True",
         "customdata": [
          [
           13.873976576886927,
           -42,
           "AARON JONES",
           "RB"
          ]
         ],
         "hovertemplate": "<b>%{hovertext}</b><br><br>scoreRemaining=%{y}<br>weeklyPred=%{customdata[0]}<br>scaled=%{customdata[1]}<extra></extra>",
         "hovertext": [
          "AARON JONES"
         ],
         "legendgroup": "AARON JONES",
         "marker": {
          "color": "rgb(255,213,213)",
          "pattern": {
           "shape": ""
          }
         },
         "name": "AARON JONES",
         "offsetgroup": "AARON JONES",
         "orientation": "v",
         "showlegend": true,
         "text": [
          "AARON JONES"
         ],
         "textposition": "auto",
         "type": "bar",
         "x": [
          "Down with the Sickness unto Death"
         ],
         "xaxis": "x",
         "y": [
          8.9
         ],
         "yaxis": "y"
        },
        {
         "alignmentgroup": "True",
         "customdata": [
          [
           8.952653146439806,
           -34,
           "NEW ORLEANS SAINTS",
           "DF"
          ]
         ],
         "hovertemplate": "<b>%{hovertext}</b><br><br>scoreRemaining=%{y}<br>weeklyPred=%{customdata[0]}<br>scaled=%{customdata[1]}<extra></extra>",
         "hovertext": [
          "NEW ORLEANS SAINTS"
         ],
         "legendgroup": "NEW ORLEANS SAINTS",
         "marker": {
          "color": "rgb(255,221,221)",
          "pattern": {
           "shape": ""
          }
         },
         "name": "NEW ORLEANS SAINTS",
         "offsetgroup": "NEW ORLEANS SAINTS",
         "orientation": "v",
         "showlegend": true,
         "text": [
          "NEW ORLEANS SAINTS"
         ],
         "textposition": "auto",
         "type": "bar",
         "x": [
          "Down with the Sickness unto Death"
         ],
         "xaxis": "x",
         "y": [
          5
         ],
         "yaxis": "y"
        },
        {
         "alignmentgroup": "True",
         "customdata": [
          [
           20.07785064207305,
           31,
           "JUSTIN HERBERT",
           "QB"
          ]
         ],
         "hovertemplate": "<b>%{hovertext}</b><br><br>scoreRemaining=%{y}<br>weeklyPred=%{customdata[0]}<br>scaled=%{customdata[1]}<extra></extra>",
         "hovertext": [
          "JUSTIN HERBERT"
         ],
         "legendgroup": "JUSTIN HERBERT",
         "marker": {
          "color": "rgb(224,255,224)",
          "pattern": {
           "shape": ""
          }
         },
         "name": "JUSTIN HERBERT",
         "offsetgroup": "JUSTIN HERBERT",
         "orientation": "v",
         "showlegend": true,
         "text": [
          "JUSTIN HERBERT"
         ],
         "textposition": "auto",
         "type": "bar",
         "x": [
          "Down with the Sickness unto Death"
         ],
         "xaxis": "x",
         "y": [
          23.7
         ],
         "yaxis": "y"
        },
        {
         "alignmentgroup": "True",
         "customdata": [
          [
           8.161451220156492,
           9,
           "COREY DAVIS",
           "WR"
          ]
         ],
         "hovertemplate": "<b>%{hovertext}</b><br><br>scoreRemaining=%{y}<br>weeklyPred=%{customdata[0]}<br>scaled=%{customdata[1]}<extra></extra>",
         "hovertext": [
          "COREY DAVIS"
         ],
         "legendgroup": "COREY DAVIS",
         "marker": {
          "color": "rgb(246,255,246)",
          "pattern": {
           "shape": ""
          }
         },
         "name": "COREY DAVIS",
         "offsetgroup": "COREY DAVIS",
         "orientation": "v",
         "showlegend": true,
         "text": [
          "COREY DAVIS"
         ],
         "textposition": "auto",
         "type": "bar",
         "x": [
          "Down with the Sickness unto Death"
         ],
         "xaxis": "x",
         "y": [
          9.2
         ],
         "yaxis": "y"
        },
        {
         "alignmentgroup": "True",
         "customdata": [
          [
           13.547546066138208,
           28,
           "NICK CHUBB",
           "RB"
          ]
         ],
         "hovertemplate": "<b>%{hovertext}</b><br><br>scoreRemaining=%{y}<br>weeklyPred=%{customdata[0]}<br>scaled=%{customdata[1]}<extra></extra>",
         "hovertext": [
          "NICK CHUBB"
         ],
         "legendgroup": "NICK CHUBB",
         "marker": {
          "color": "rgb(227,255,227)",
          "pattern": {
           "shape": ""
          }
         },
         "name": "NICK CHUBB",
         "offsetgroup": "NICK CHUBB",
         "orientation": "v",
         "showlegend": true,
         "text": [
          "NICK CHUBB"
         ],
         "textposition": "auto",
         "type": "bar",
         "x": [
          "Down with the Sickness unto Death"
         ],
         "xaxis": "x",
         "y": [
          16.8
         ],
         "yaxis": "y"
        },
        {
         "alignmentgroup": "True",
         "customdata": [
          [
           6.477523122987372,
           -55,
           "ADAM TRAUTMAN",
           "TE"
          ]
         ],
         "hovertemplate": "<b>%{hovertext}</b><br><br>scoreRemaining=%{y}<br>weeklyPred=%{customdata[0]}<br>scaled=%{customdata[1]}<extra></extra>",
         "hovertext": [
          "ADAM TRAUTMAN"
         ],
         "legendgroup": "ADAM TRAUTMAN",
         "marker": {
          "color": "rgb(255,200,200)",
          "pattern": {
           "shape": ""
          }
         },
         "name": "ADAM TRAUTMAN",
         "offsetgroup": "ADAM TRAUTMAN",
         "orientation": "v",
         "showlegend": true,
         "text": [
          "ADAM TRAUTMAN"
         ],
         "textposition": "auto",
         "type": "bar",
         "x": [
          "Down with the Sickness unto Death"
         ],
         "xaxis": "x",
         "y": [
          0
         ],
         "yaxis": "y"
        },
        {
         "alignmentgroup": "True",
         "customdata": [
          [
           12.823574082641997,
           -109,
           "JK DOBBINS",
           "RB"
          ]
         ],
         "hovertemplate": "<b>%{hovertext}</b><br><br>scoreRemaining=%{y}<br>weeklyPred=%{customdata[0]}<br>scaled=%{customdata[1]}<extra></extra>",
         "hovertext": [
          "JK DOBBINS"
         ],
         "legendgroup": "JK DOBBINS",
         "marker": {
          "color": "rgb(255,146,146)",
          "pattern": {
           "shape": ""
          }
         },
         "name": "JK DOBBINS",
         "offsetgroup": "JK DOBBINS",
         "orientation": "v",
         "showlegend": true,
         "text": [
          "JK DOBBINS"
         ],
         "textposition": "auto",
         "type": "bar",
         "x": [
          "Pretty Big Wieners"
         ],
         "xaxis": "x",
         "y": [
          0
         ],
         "yaxis": "y"
        },
        {
         "alignmentgroup": "True",
         "customdata": [
          [
           15.267533757511858,
           -73,
           "MAC JONES",
           "QB"
          ]
         ],
         "hovertemplate": "<b>%{hovertext}</b><br><br>scoreRemaining=%{y}<br>weeklyPred=%{customdata[0]}<br>scaled=%{customdata[1]}<extra></extra>",
         "hovertext": [
          "MAC JONES"
         ],
         "legendgroup": "MAC JONES",
         "marker": {
          "color": "rgb(255,182,182)",
          "pattern": {
           "shape": ""
          }
         },
         "name": "MAC JONES",
         "offsetgroup": "MAC JONES",
         "orientation": "v",
         "showlegend": true,
         "text": [
          "MAC JONES"
         ],
         "textposition": "auto",
         "type": "bar",
         "x": [
          "Pretty Big Wieners"
         ],
         "xaxis": "x",
         "y": [
          6.7
         ],
         "yaxis": "y"
        },
        {
         "alignmentgroup": "True",
         "customdata": [
          [
           8.267881306782707,
           32,
           "CINCINNATI BENGALS",
           "DF"
          ]
         ],
         "hovertemplate": "<b>%{hovertext}</b><br><br>scoreRemaining=%{y}<br>weeklyPred=%{customdata[0]}<br>scaled=%{customdata[1]}<extra></extra>",
         "hovertext": [
          "CINCINNATI BENGALS"
         ],
         "legendgroup": "CINCINNATI BENGALS",
         "marker": {
          "color": "rgb(223,255,223)",
          "pattern": {
           "shape": ""
          }
         },
         "name": "CINCINNATI BENGALS",
         "offsetgroup": "CINCINNATI BENGALS",
         "orientation": "v",
         "showlegend": true,
         "text": [
          "CINCINNATI BENGALS"
         ],
         "textposition": "auto",
         "type": "bar",
         "x": [
          "Pretty Big Wieners"
         ],
         "xaxis": "x",
         "y": [
          12
         ],
         "yaxis": "y"
        },
        {
         "alignmentgroup": "True",
         "customdata": [
          [
           2.7787130025766467,
           -17,
           "BREVIN JORDAN",
           "TE"
          ]
         ],
         "hovertemplate": "<b>%{hovertext}</b><br><br>scoreRemaining=%{y}<br>weeklyPred=%{customdata[0]}<br>scaled=%{customdata[1]}<extra></extra>",
         "hovertext": [
          "BREVIN JORDAN"
         ],
         "legendgroup": "BREVIN JORDAN",
         "marker": {
          "color": "rgb(255,238,238)",
          "pattern": {
           "shape": ""
          }
         },
         "name": "BREVIN JORDAN",
         "offsetgroup": "BREVIN JORDAN",
         "orientation": "v",
         "showlegend": true,
         "text": [
          "BREVIN JORDAN"
         ],
         "textposition": "auto",
         "type": "bar",
         "x": [
          "Pretty Big Wieners"
         ],
         "xaxis": "x",
         "y": [
          0.8
         ],
         "yaxis": "y"
        },
        {
         "alignmentgroup": "True",
         "customdata": [
          [
           8.053628565864251,
           -60,
           "CAIRO SANTOS",
           "PK"
          ]
         ],
         "hovertemplate": "<b>%{hovertext}</b><br><br>scoreRemaining=%{y}<br>weeklyPred=%{customdata[0]}<br>scaled=%{customdata[1]}<extra></extra>",
         "hovertext": [
          "CAIRO SANTOS"
         ],
         "legendgroup": "CAIRO SANTOS",
         "marker": {
          "color": "rgb(255,195,195)",
          "pattern": {
           "shape": ""
          }
         },
         "name": "CAIRO SANTOS",
         "offsetgroup": "CAIRO SANTOS",
         "orientation": "v",
         "showlegend": true,
         "text": [
          "CAIRO SANTOS"
         ],
         "textposition": "auto",
         "type": "bar",
         "x": [
          "Pretty Big Wieners"
         ],
         "xaxis": "x",
         "y": [
          1
         ],
         "yaxis": "y"
        },
        {
         "alignmentgroup": "True",
         "customdata": [
          [
           7.343147667495498,
           -41,
           "KADARIUS TONEY",
           "WR"
          ]
         ],
         "hovertemplate": "<b>%{hovertext}</b><br><br>scoreRemaining=%{y}<br>weeklyPred=%{customdata[0]}<br>scaled=%{customdata[1]}<extra></extra>",
         "hovertext": [
          "KADARIUS TONEY"
         ],
         "legendgroup": "KADARIUS TONEY",
         "marker": {
          "color": "rgb(255,214,214)",
          "pattern": {
           "shape": ""
          }
         },
         "name": "KADARIUS TONEY",
         "offsetgroup": "KADARIUS TONEY",
         "orientation": "v",
         "showlegend": true,
         "text": [
          "KADARIUS TONEY"
         ],
         "textposition": "auto",
         "type": "bar",
         "x": [
          "Pretty Big Wieners"
         ],
         "xaxis": "x",
         "y": [
          2.5
         ],
         "yaxis": "y"
        },
        {
         "alignmentgroup": "True",
         "customdata": [
          [
           10.702297567461875,
           -77,
           "ROBERT WOODS",
           "WR"
          ]
         ],
         "hovertemplate": "<b>%{hovertext}</b><br><br>scoreRemaining=%{y}<br>weeklyPred=%{customdata[0]}<br>scaled=%{customdata[1]}<extra></extra>",
         "hovertext": [
          "ROBERT WOODS"
         ],
         "legendgroup": "ROBERT WOODS",
         "marker": {
          "color": "rgb(255,178,178)",
          "pattern": {
           "shape": ""
          }
         },
         "name": "ROBERT WOODS",
         "offsetgroup": "ROBERT WOODS",
         "orientation": "v",
         "showlegend": true,
         "text": [
          "ROBERT WOODS"
         ],
         "textposition": "auto",
         "type": "bar",
         "x": [
          "Pretty Big Wieners"
         ],
         "xaxis": "x",
         "y": [
          1.6
         ],
         "yaxis": "y"
        },
        {
         "alignmentgroup": "True",
         "customdata": [
          [
           11.532426422336776,
           -43,
           "MARK ANDREWS",
           "TE"
          ]
         ],
         "hovertemplate": "<b>%{hovertext}</b><br><br>scoreRemaining=%{y}<br>weeklyPred=%{customdata[0]}<br>scaled=%{customdata[1]}<extra></extra>",
         "hovertext": [
          "MARK ANDREWS"
         ],
         "legendgroup": "MARK ANDREWS",
         "marker": {
          "color": "rgb(255,212,212)",
          "pattern": {
           "shape": ""
          }
         },
         "name": "MARK ANDREWS",
         "offsetgroup": "MARK ANDREWS",
         "orientation": "v",
         "showlegend": true,
         "text": [
          "MARK ANDREWS"
         ],
         "textposition": "auto",
         "type": "bar",
         "x": [
          "Pretty Big Wieners"
         ],
         "xaxis": "x",
         "y": [
          6.5
         ],
         "yaxis": "y"
        },
        {
         "alignmentgroup": "True",
         "customdata": [
          [
           8.814275129821358,
           146,
           "MIAMI DOLPHINS",
           "DF"
          ]
         ],
         "hovertemplate": "<b>%{hovertext}</b><br><br>scoreRemaining=%{y}<br>weeklyPred=%{customdata[0]}<br>scaled=%{customdata[1]}<extra></extra>",
         "hovertext": [
          "MIAMI DOLPHINS"
         ],
         "legendgroup": "MIAMI DOLPHINS",
         "marker": {
          "color": "rgb(109,255,109)",
          "pattern": {
           "shape": ""
          }
         },
         "name": "MIAMI DOLPHINS",
         "offsetgroup": "MIAMI DOLPHINS",
         "orientation": "v",
         "showlegend": true,
         "text": [
          "MIAMI DOLPHINS"
         ],
         "textposition": "auto",
         "type": "bar",
         "x": [
          "Pretty Big Wieners"
         ],
         "xaxis": "x",
         "y": [
          26
         ],
         "yaxis": "y"
        },
        {
         "alignmentgroup": "True",
         "customdata": [
          [
           8.53062475420792,
           8,
           "DANIEL CARLSON",
           "PK"
          ]
         ],
         "hovertemplate": "<b>%{hovertext}</b><br><br>scoreRemaining=%{y}<br>weeklyPred=%{customdata[0]}<br>scaled=%{customdata[1]}<extra></extra>",
         "hovertext": [
          "DANIEL CARLSON"
         ],
         "legendgroup": "DANIEL CARLSON",
         "marker": {
          "color": "rgb(247,255,247)",
          "pattern": {
           "shape": ""
          }
         },
         "name": "DANIEL CARLSON",
         "offsetgroup": "DANIEL CARLSON",
         "orientation": "v",
         "showlegend": true,
         "text": [
          "DANIEL CARLSON"
         ],
         "textposition": "auto",
         "type": "bar",
         "x": [
          "Pretty Big Wieners"
         ],
         "xaxis": "x",
         "y": [
          9.5
         ],
         "yaxis": "y"
        },
        {
         "alignmentgroup": "True",
         "customdata": [
          [
           12.726736814885916,
           47,
           "MILES SANDERS",
           "RB"
          ]
         ],
         "hovertemplate": "<b>%{hovertext}</b><br><br>scoreRemaining=%{y}<br>weeklyPred=%{customdata[0]}<br>scaled=%{customdata[1]}<extra></extra>",
         "hovertext": [
          "MILES SANDERS"
         ],
         "legendgroup": "MILES SANDERS",
         "marker": {
          "color": "rgb(208,255,208)",
          "pattern": {
           "shape": ""
          }
         },
         "name": "MILES SANDERS",
         "offsetgroup": "MILES SANDERS",
         "orientation": "v",
         "showlegend": true,
         "text": [
          "MILES SANDERS"
         ],
         "textposition": "auto",
         "type": "bar",
         "x": [
          "Pretty Big Wieners"
         ],
         "xaxis": "x",
         "y": [
          18.3
         ],
         "yaxis": "y"
        },
        {
         "alignmentgroup": "True",
         "customdata": [
          [
           10.032220989309332,
           68,
           "AJ BROWN",
           "WR"
          ]
         ],
         "hovertemplate": "<b>%{hovertext}</b><br><br>scoreRemaining=%{y}<br>weeklyPred=%{customdata[0]}<br>scaled=%{customdata[1]}<extra></extra>",
         "hovertext": [
          "AJ BROWN"
         ],
         "legendgroup": "AJ BROWN",
         "marker": {
          "color": "rgb(187,255,187)",
          "pattern": {
           "shape": ""
          }
         },
         "name": "AJ BROWN",
         "offsetgroup": "AJ BROWN",
         "orientation": "v",
         "showlegend": true,
         "text": [
          "AJ BROWN"
         ],
         "textposition": "auto",
         "type": "bar",
         "x": [
          "Pretty Big Wieners"
         ],
         "xaxis": "x",
         "y": [
          18
         ],
         "yaxis": "y"
        },
        {
         "alignmentgroup": "True",
         "customdata": [
          [
           19.42590457981649,
           -161,
           "AARON RODGERS",
           "QB"
          ]
         ],
         "hovertemplate": "<b>%{hovertext}</b><br><br>scoreRemaining=%{y}<br>weeklyPred=%{customdata[0]}<br>scaled=%{customdata[1]}<extra></extra>",
         "hovertext": [
          "AARON RODGERS"
         ],
         "legendgroup": "AARON RODGERS",
         "marker": {
          "color": "rgb(255,94,94)",
          "pattern": {
           "shape": ""
          }
         },
         "name": "AARON RODGERS",
         "offsetgroup": "AARON RODGERS",
         "orientation": "v",
         "showlegend": true,
         "text": [
          "AARON RODGERS"
         ],
         "textposition": "auto",
         "type": "bar",
         "x": [
          "Pretty Big Wieners"
         ],
         "xaxis": "x",
         "y": [
          0.5
         ],
         "yaxis": "y"
        },
        {
         "alignmentgroup": "True",
         "customdata": [
          [
           13.540449952831382,
           0,
           "LEONARD FOURNETTE",
           "RB"
          ]
         ],
         "hovertemplate": "<b>%{hovertext}</b><br><br>scoreRemaining=%{y}<br>weeklyPred=%{customdata[0]}<br>scaled=%{customdata[1]}<extra></extra>",
         "hovertext": [
          "LEONARD FOURNETTE"
         ],
         "legendgroup": "LEONARD FOURNETTE",
         "marker": {
          "color": "rgb(255,255,255)",
          "pattern": {
           "shape": ""
          }
         },
         "name": "LEONARD FOURNETTE",
         "offsetgroup": "LEONARD FOURNETTE",
         "orientation": "v",
         "showlegend": true,
         "text": [
          "LEONARD FOURNETTE"
         ],
         "textposition": "auto",
         "type": "bar",
         "x": [
          "Pretty Big Wieners"
         ],
         "xaxis": "x",
         "y": [
          13.540449952831382
         ],
         "yaxis": "y"
        },
        {
         "alignmentgroup": "True",
         "customdata": [
          [
           12.357549085631069,
           173,
           "JUSTIN JEFFERSON",
           "WR"
          ]
         ],
         "hovertemplate": "<b>%{hovertext}</b><br><br>scoreRemaining=%{y}<br>weeklyPred=%{customdata[0]}<br>scaled=%{customdata[1]}<extra></extra>",
         "hovertext": [
          "JUSTIN JEFFERSON"
         ],
         "legendgroup": "JUSTIN JEFFERSON",
         "marker": {
          "color": "rgb(82,255,82)",
          "pattern": {
           "shape": ""
          }
         },
         "name": "JUSTIN JEFFERSON",
         "offsetgroup": "JUSTIN JEFFERSON",
         "orientation": "v",
         "showlegend": true,
         "text": [
          "JUSTIN JEFFERSON"
         ],
         "textposition": "auto",
         "type": "bar",
         "x": [
          "Pretty Big Wieners"
         ],
         "xaxis": "x",
         "y": [
          32.7
         ],
         "yaxis": "y"
        },
        {
         "alignmentgroup": "True",
         "customdata": [
          [
           8.567409835221202,
           97,
           "LOS ANGELES CHARGERS",
           "DF"
          ]
         ],
         "hovertemplate": "<b>%{hovertext}</b><br><br>scoreRemaining=%{y}<br>weeklyPred=%{customdata[0]}<br>scaled=%{customdata[1]}<extra></extra>",
         "hovertext": [
          "LOS ANGELES CHARGERS"
         ],
         "legendgroup": "LOS ANGELES CHARGERS",
         "marker": {
          "color": "rgb(158,255,158)",
          "pattern": {
           "shape": ""
          }
         },
         "name": "LOS ANGELES CHARGERS",
         "offsetgroup": "LOS ANGELES CHARGERS",
         "orientation": "v",
         "showlegend": true,
         "text": [
          "LOS ANGELES CHARGERS"
         ],
         "textposition": "auto",
         "type": "bar",
         "x": [
          "WHAM! BAM! Thank You CAM!"
         ],
         "xaxis": "x",
         "y": [
          20
         ],
         "yaxis": "y"
        },
        {
         "alignmentgroup": "True",
         "customdata": [
          [
           7.730408728580134,
           -61,
           "GEORGE PICKENS",
           "WR"
          ]
         ],
         "hovertemplate": "<b>%{hovertext}</b><br><br>scoreRemaining=%{y}<br>weeklyPred=%{customdata[0]}<br>scaled=%{customdata[1]}<extra></extra>",
         "hovertext": [
          "GEORGE PICKENS"
         ],
         "legendgroup": "GEORGE PICKENS",
         "marker": {
          "color": "rgb(255,194,194)",
          "pattern": {
           "shape": ""
          }
         },
         "name": "GEORGE PICKENS",
         "offsetgroup": "GEORGE PICKENS",
         "orientation": "v",
         "showlegend": true,
         "text": [
          "GEORGE PICKENS"
         ],
         "textposition": "auto",
         "type": "bar",
         "x": [
          "WHAM! BAM! Thank You CAM!"
         ],
         "xaxis": "x",
         "y": [
          0.6
         ],
         "yaxis": "y"
        },
        {
         "alignmentgroup": "True",
         "customdata": [
          [
           7.027892315805462,
           44,
           "GERALD EVERETT",
           "TE"
          ]
         ],
         "hovertemplate": "<b>%{hovertext}</b><br><br>scoreRemaining=%{y}<br>weeklyPred=%{customdata[0]}<br>scaled=%{customdata[1]}<extra></extra>",
         "hovertext": [
          "GERALD EVERETT"
         ],
         "legendgroup": "GERALD EVERETT",
         "marker": {
          "color": "rgb(211,255,211)",
          "pattern": {
           "shape": ""
          }
         },
         "name": "GERALD EVERETT",
         "offsetgroup": "GERALD EVERETT",
         "orientation": "v",
         "showlegend": true,
         "text": [
          "GERALD EVERETT"
         ],
         "textposition": "auto",
         "type": "bar",
         "x": [
          "WHAM! BAM! Thank You CAM!"
         ],
         "xaxis": "x",
         "y": [
          12.2
         ],
         "yaxis": "y"
        },
        {
         "alignmentgroup": "True",
         "customdata": [
          [
           8.874107849801923,
           0,
           "DARREN WALLER",
           "TE"
          ]
         ],
         "hovertemplate": "<b>%{hovertext}</b><br><br>scoreRemaining=%{y}<br>weeklyPred=%{customdata[0]}<br>scaled=%{customdata[1]}<extra></extra>",
         "hovertext": [
          "DARREN WALLER"
         ],
         "legendgroup": "DARREN WALLER",
         "marker": {
          "color": "rgb(255,255,255)",
          "pattern": {
           "shape": ""
          }
         },
         "name": "DARREN WALLER",
         "offsetgroup": "DARREN WALLER",
         "orientation": "v",
         "showlegend": true,
         "text": [
          "DARREN WALLER"
         ],
         "textposition": "auto",
         "type": "bar",
         "x": [
          "WHAM! BAM! Thank You CAM!"
         ],
         "xaxis": "x",
         "y": [
          8.9
         ],
         "yaxis": "y"
        },
        {
         "alignmentgroup": "True",
         "customdata": [
          [
           16.16797442890356,
           0,
           "RUSSELL WILSON",
           "QB"
          ]
         ],
         "hovertemplate": "<b>%{hovertext}</b><br><br>scoreRemaining=%{y}<br>weeklyPred=%{customdata[0]}<br>scaled=%{customdata[1]}<extra></extra>",
         "hovertext": [
          "RUSSELL WILSON"
         ],
         "legendgroup": "RUSSELL WILSON",
         "marker": {
          "color": "rgb(255,255,255)",
          "pattern": {
           "shape": ""
          }
         },
         "name": "RUSSELL WILSON",
         "offsetgroup": "RUSSELL WILSON",
         "orientation": "v",
         "showlegend": true,
         "text": [
          "RUSSELL WILSON"
         ],
         "textposition": "auto",
         "type": "bar",
         "x": [
          "WHAM! BAM! Thank You CAM!"
         ],
         "xaxis": "x",
         "y": [
          16.16797442890356
         ],
         "yaxis": "y"
        },
        {
         "alignmentgroup": "True",
         "customdata": [
          [
           7.189247748570214,
           -2,
           "CHRIS OLAVE",
           "WR"
          ]
         ],
         "hovertemplate": "<b>%{hovertext}</b><br><br>scoreRemaining=%{y}<br>weeklyPred=%{customdata[0]}<br>scaled=%{customdata[1]}<extra></extra>",
         "hovertext": [
          "CHRIS OLAVE"
         ],
         "legendgroup": "CHRIS OLAVE",
         "marker": {
          "color": "rgb(255,253,253)",
          "pattern": {
           "shape": ""
          }
         },
         "name": "CHRIS OLAVE",
         "offsetgroup": "CHRIS OLAVE",
         "orientation": "v",
         "showlegend": true,
         "text": [
          "CHRIS OLAVE"
         ],
         "textposition": "auto",
         "type": "bar",
         "x": [
          "WHAM! BAM! Thank You CAM!"
         ],
         "xaxis": "x",
         "y": [
          6.9
         ],
         "yaxis": "y"
        },
        {
         "alignmentgroup": "True",
         "customdata": [
          [
           7.991559778266895,
           -14,
           "EDDY PINEIRO",
           "PK"
          ]
         ],
         "hovertemplate": "<b>%{hovertext}</b><br><br>scoreRemaining=%{y}<br>weeklyPred=%{customdata[0]}<br>scaled=%{customdata[1]}<extra></extra>",
         "hovertext": [
          "EDDY PINEIRO"
         ],
         "legendgroup": "EDDY PINEIRO",
         "marker": {
          "color": "rgb(255,241,241)",
          "pattern": {
           "shape": ""
          }
         },
         "name": "EDDY PINEIRO",
         "offsetgroup": "EDDY PINEIRO",
         "orientation": "v",
         "showlegend": true,
         "text": [
          "EDDY PINEIRO"
         ],
         "textposition": "auto",
         "type": "bar",
         "x": [
          "WHAM! BAM! Thank You CAM!"
         ],
         "xaxis": "x",
         "y": [
          6.4
         ],
         "yaxis": "y"
        },
        {
         "alignmentgroup": "True",
         "customdata": [
          [
           9.00373846894561,
           -68,
           "GREEN BAY PACKERS",
           "DF"
          ]
         ],
         "hovertemplate": "<b>%{hovertext}</b><br><br>scoreRemaining=%{y}<br>weeklyPred=%{customdata[0]}<br>scaled=%{customdata[1]}<extra></extra>",
         "hovertext": [
          "GREEN BAY PACKERS"
         ],
         "legendgroup": "GREEN BAY PACKERS",
         "marker": {
          "color": "rgb(255,187,187)",
          "pattern": {
           "shape": ""
          }
         },
         "name": "GREEN BAY PACKERS",
         "offsetgroup": "GREEN BAY PACKERS",
         "orientation": "v",
         "showlegend": true,
         "text": [
          "GREEN BAY PACKERS"
         ],
         "textposition": "auto",
         "type": "bar",
         "x": [
          "WHAM! BAM! Thank You CAM!"
         ],
         "xaxis": "x",
         "y": [
          1
         ],
         "yaxis": "y"
        },
        {
         "alignmentgroup": "True",
         "customdata": [
          [
           15.60414733649108,
           -16,
           "CHRISTIAN MCCAFFREY",
           "RB"
          ]
         ],
         "hovertemplate": "<b>%{hovertext}</b><br><br>scoreRemaining=%{y}<br>weeklyPred=%{customdata[0]}<br>scaled=%{customdata[1]}<extra></extra>",
         "hovertext": [
          "CHRISTIAN MCCAFFREY"
         ],
         "legendgroup": "CHRISTIAN MCCAFFREY",
         "marker": {
          "color": "rgb(255,239,239)",
          "pattern": {
           "shape": ""
          }
         },
         "name": "CHRISTIAN MCCAFFREY",
         "offsetgroup": "CHRISTIAN MCCAFFREY",
         "orientation": "v",
         "showlegend": true,
         "text": [
          "CHRISTIAN MCCAFFREY"
         ],
         "textposition": "auto",
         "type": "bar",
         "x": [
          "WHAM! BAM! Thank You CAM!"
         ],
         "xaxis": "x",
         "y": [
          13.7
         ],
         "yaxis": "y"
        },
        {
         "alignmentgroup": "True",
         "customdata": [
          [
           8.162870156755513,
           -1,
           "JAKE ELLIOTT",
           "PK"
          ]
         ],
         "hovertemplate": "<b>%{hovertext}</b><br><br>scoreRemaining=%{y}<br>weeklyPred=%{customdata[0]}<br>scaled=%{customdata[1]}<extra></extra>",
         "hovertext": [
          "JAKE ELLIOTT"
         ],
         "legendgroup": "JAKE ELLIOTT",
         "marker": {
          "color": "rgb(255,254,254)",
          "pattern": {
           "shape": ""
          }
         },
         "name": "JAKE ELLIOTT",
         "offsetgroup": "JAKE ELLIOTT",
         "orientation": "v",
         "showlegend": true,
         "text": [
          "JAKE ELLIOTT"
         ],
         "textposition": "auto",
         "type": "bar",
         "x": [
          "WHAM! BAM! Thank You CAM!"
         ],
         "xaxis": "x",
         "y": [
          8
         ],
         "yaxis": "y"
        },
        {
         "alignmentgroup": "True",
         "customdata": [
          [
           13.615147854674758,
           -27,
           "TREY LANCE",
           "QB"
          ]
         ],
         "hovertemplate": "<b>%{hovertext}</b><br><br>scoreRemaining=%{y}<br>weeklyPred=%{customdata[0]}<br>scaled=%{customdata[1]}<extra></extra>",
         "hovertext": [
          "TREY LANCE"
         ],
         "legendgroup": "TREY LANCE",
         "marker": {
          "color": "rgb(255,228,228)",
          "pattern": {
           "shape": ""
          }
         },
         "name": "TREY LANCE",
         "offsetgroup": "TREY LANCE",
         "orientation": "v",
         "showlegend": true,
         "text": [
          "TREY LANCE"
         ],
         "textposition": "auto",
         "type": "bar",
         "x": [
          "WHAM! BAM! Thank You CAM!"
         ],
         "xaxis": "x",
         "y": [
          10.4
         ],
         "yaxis": "y"
        },
        {
         "alignmentgroup": "True",
         "customdata": [
          [
           14.403643362453767,
           -5,
           "JAMES CONNER",
           "RB"
          ]
         ],
         "hovertemplate": "<b>%{hovertext}</b><br><br>scoreRemaining=%{y}<br>weeklyPred=%{customdata[0]}<br>scaled=%{customdata[1]}<extra></extra>",
         "hovertext": [
          "JAMES CONNER"
         ],
         "legendgroup": "JAMES CONNER",
         "marker": {
          "color": "rgb(255,250,250)",
          "pattern": {
           "shape": ""
          }
         },
         "name": "JAMES CONNER",
         "offsetgroup": "JAMES CONNER",
         "orientation": "v",
         "showlegend": true,
         "text": [
          "JAMES CONNER"
         ],
         "textposition": "auto",
         "type": "bar",
         "x": [
          "WHAM! BAM! Thank You CAM!"
         ],
         "xaxis": "x",
         "y": [
          13.8
         ],
         "yaxis": "y"
        },
        {
         "alignmentgroup": "True",
         "customdata": [
          [
           10.275567548664874,
           0,
           "TYLER LOCKETT",
           "WR"
          ]
         ],
         "hovertemplate": "<b>%{hovertext}</b><br><br>scoreRemaining=%{y}<br>weeklyPred=%{customdata[0]}<br>scaled=%{customdata[1]}<extra></extra>",
         "hovertext": [
          "TYLER LOCKETT"
         ],
         "legendgroup": "TYLER LOCKETT",
         "marker": {
          "color": "rgb(255,255,255)",
          "pattern": {
           "shape": ""
          }
         },
         "name": "TYLER LOCKETT",
         "offsetgroup": "TYLER LOCKETT",
         "orientation": "v",
         "showlegend": true,
         "text": [
          "TYLER LOCKETT"
         ],
         "textposition": "auto",
         "type": "bar",
         "x": [
          "WHAM! BAM! Thank You CAM!"
         ],
         "xaxis": "x",
         "y": [
          10.275567548664874
         ],
         "yaxis": "y"
        },
        {
         "alignmentgroup": "True",
         "customdata": [
          [
           8.306544404286665,
           33,
           "DJ CHARK",
           "WR"
          ]
         ],
         "hovertemplate": "<b>%{hovertext}</b><br><br>scoreRemaining=%{y}<br>weeklyPred=%{customdata[0]}<br>scaled=%{customdata[1]}<extra></extra>",
         "hovertext": [
          "DJ CHARK"
         ],
         "legendgroup": "DJ CHARK",
         "marker": {
          "color": "rgb(222,255,222)",
          "pattern": {
           "shape": ""
          }
         },
         "name": "DJ CHARK",
         "offsetgroup": "DJ CHARK",
         "orientation": "v",
         "showlegend": true,
         "text": [
          "DJ CHARK"
         ],
         "textposition": "auto",
         "type": "bar",
         "x": [
          "WHAM! BAM! Thank You CAM!"
         ],
         "xaxis": "x",
         "y": [
          12.2
         ],
         "yaxis": "y"
        },
        {
         "alignmentgroup": "True",
         "customdata": [
          [
           8.82671081203067,
           -65,
           "DEVANTE PARKER",
           "WR"
          ]
         ],
         "hovertemplate": "<b>%{hovertext}</b><br><br>scoreRemaining=%{y}<br>weeklyPred=%{customdata[0]}<br>scaled=%{customdata[1]}<extra></extra>",
         "hovertext": [
          "DEVANTE PARKER"
         ],
         "legendgroup": "DEVANTE PARKER",
         "marker": {
          "color": "rgb(255,190,190)",
          "pattern": {
           "shape": ""
          }
         },
         "name": "DEVANTE PARKER",
         "offsetgroup": "DEVANTE PARKER",
         "orientation": "v",
         "showlegend": true,
         "text": [
          "DEVANTE PARKER"
         ],
         "textposition": "auto",
         "type": "bar",
         "x": [
          "WHAM! BAM! Thank You CAM!"
         ],
         "xaxis": "x",
         "y": [
          1.2
         ],
         "yaxis": "y"
        },
        {
         "alignmentgroup": "True",
         "customdata": [
          [
           2.5935838078118443,
           0,
           "JULIO JONES",
           "WR"
          ]
         ],
         "hovertemplate": "<b>%{hovertext}</b><br><br>scoreRemaining=%{y}<br>weeklyPred=%{customdata[0]}<br>scaled=%{customdata[1]}<extra></extra>",
         "hovertext": [
          "JULIO JONES"
         ],
         "legendgroup": "JULIO JONES",
         "marker": {
          "color": "rgb(255,255,255)",
          "pattern": {
           "shape": ""
          }
         },
         "name": "JULIO JONES",
         "offsetgroup": "JULIO JONES",
         "orientation": "v",
         "showlegend": true,
         "text": [
          "JULIO JONES"
         ],
         "textposition": "auto",
         "type": "bar",
         "x": [
          "O'Henry's Stiffies"
         ],
         "xaxis": "x",
         "y": [
          2.5935838078118443
         ],
         "yaxis": "y"
        },
        {
         "alignmentgroup": "True",
         "customdata": [
          [
           7.188823352244259,
           -45,
           "DEONTE HARTY",
           "WR"
          ]
         ],
         "hovertemplate": "<b>%{hovertext}</b><br><br>scoreRemaining=%{y}<br>weeklyPred=%{customdata[0]}<br>scaled=%{customdata[1]}<extra></extra>",
         "hovertext": [
          "DEONTE HARTY"
         ],
         "legendgroup": "DEONTE HARTY",
         "marker": {
          "color": "rgb(255,210,210)",
          "pattern": {
           "shape": ""
          }
         },
         "name": "DEONTE HARTY",
         "offsetgroup": "DEONTE HARTY",
         "orientation": "v",
         "showlegend": true,
         "text": [
          "DEONTE HARTY"
         ],
         "textposition": "auto",
         "type": "bar",
         "x": [
          "O'Henry's Stiffies"
         ],
         "xaxis": "x",
         "y": [
          1.9
         ],
         "yaxis": "y"
        },
        {
         "alignmentgroup": "True",
         "customdata": [
          [
           9.289669216458595,
           -59,
           "KYLE PITTS",
           "TE"
          ]
         ],
         "hovertemplate": "<b>%{hovertext}</b><br><br>scoreRemaining=%{y}<br>weeklyPred=%{customdata[0]}<br>scaled=%{customdata[1]}<extra></extra>",
         "hovertext": [
          "KYLE PITTS"
         ],
         "legendgroup": "KYLE PITTS",
         "marker": {
          "color": "rgb(255,196,196)",
          "pattern": {
           "shape": ""
          }
         },
         "name": "KYLE PITTS",
         "offsetgroup": "KYLE PITTS",
         "orientation": "v",
         "showlegend": true,
         "text": [
          "KYLE PITTS"
         ],
         "textposition": "auto",
         "type": "bar",
         "x": [
          "O'Henry's Stiffies"
         ],
         "xaxis": "x",
         "y": [
          2.4
         ],
         "yaxis": "y"
        },
        {
         "alignmentgroup": "True",
         "customdata": [
          [
           15.513372148912572,
           103,
           "JONATHAN TAYLOR",
           "RB"
          ]
         ],
         "hovertemplate": "<b>%{hovertext}</b><br><br>scoreRemaining=%{y}<br>weeklyPred=%{customdata[0]}<br>scaled=%{customdata[1]}<extra></extra>",
         "hovertext": [
          "JONATHAN TAYLOR"
         ],
         "legendgroup": "JONATHAN TAYLOR",
         "marker": {
          "color": "rgb(152,255,152)",
          "pattern": {
           "shape": ""
          }
         },
         "name": "JONATHAN TAYLOR",
         "offsetgroup": "JONATHAN TAYLOR",
         "orientation": "v",
         "showlegend": true,
         "text": [
          "JONATHAN TAYLOR"
         ],
         "textposition": "auto",
         "type": "bar",
         "x": [
          "O'Henry's Stiffies"
         ],
         "xaxis": "x",
         "y": [
          27.6
         ],
         "yaxis": "y"
        },
        {
         "alignmentgroup": "True",
         "customdata": [
          [
           8.422199976692267,
           8,
           "HARRISON BUTKER",
           "PK"
          ]
         ],
         "hovertemplate": "<b>%{hovertext}</b><br><br>scoreRemaining=%{y}<br>weeklyPred=%{customdata[0]}<br>scaled=%{customdata[1]}<extra></extra>",
         "hovertext": [
          "HARRISON BUTKER"
         ],
         "legendgroup": "HARRISON BUTKER",
         "marker": {
          "color": "rgb(247,255,247)",
          "pattern": {
           "shape": ""
          }
         },
         "name": "HARRISON BUTKER",
         "offsetgroup": "HARRISON BUTKER",
         "orientation": "v",
         "showlegend": true,
         "text": [
          "HARRISON BUTKER"
         ],
         "textposition": "auto",
         "type": "bar",
         "x": [
          "O'Henry's Stiffies"
         ],
         "xaxis": "x",
         "y": [
          9.4
         ],
         "yaxis": "y"
        },
        {
         "alignmentgroup": "True",
         "customdata": [
          [
           14.974589371269005,
           -9,
           "DAVIS MILLS",
           "QB"
          ]
         ],
         "hovertemplate": "<b>%{hovertext}</b><br><br>scoreRemaining=%{y}<br>weeklyPred=%{customdata[0]}<br>scaled=%{customdata[1]}<extra></extra>",
         "hovertext": [
          "DAVIS MILLS"
         ],
         "legendgroup": "DAVIS MILLS",
         "marker": {
          "color": "rgb(255,246,246)",
          "pattern": {
           "shape": ""
          }
         },
         "name": "DAVIS MILLS",
         "offsetgroup": "DAVIS MILLS",
         "orientation": "v",
         "showlegend": true,
         "text": [
          "DAVIS MILLS"
         ],
         "textposition": "auto",
         "type": "bar",
         "x": [
          "O'Henry's Stiffies"
         ],
         "xaxis": "x",
         "y": [
          13.9
         ],
         "yaxis": "y"
        },
        {
         "alignmentgroup": "True",
         "customdata": [
          [
           11.015459033482566,
           0,
           "CEEDEE LAMB",
           "WR"
          ]
         ],
         "hovertemplate": "<b>%{hovertext}</b><br><br>scoreRemaining=%{y}<br>weeklyPred=%{customdata[0]}<br>scaled=%{customdata[1]}<extra></extra>",
         "hovertext": [
          "CEEDEE LAMB"
         ],
         "legendgroup": "CEEDEE LAMB",
         "marker": {
          "color": "rgb(255,255,255)",
          "pattern": {
           "shape": ""
          }
         },
         "name": "CEEDEE LAMB",
         "offsetgroup": "CEEDEE LAMB",
         "orientation": "v",
         "showlegend": true,
         "text": [
          "CEEDEE LAMB"
         ],
         "textposition": "auto",
         "type": "bar",
         "x": [
          "O'Henry's Stiffies"
         ],
         "xaxis": "x",
         "y": [
          11.015459033482566
         ],
         "yaxis": "y"
        },
        {
         "alignmentgroup": "True",
         "customdata": [
          [
           7.989584182790492,
           -17,
           "ATLANTA FALCONS",
           "DF"
          ]
         ],
         "hovertemplate": "<b>%{hovertext}</b><br><br>scoreRemaining=%{y}<br>weeklyPred=%{customdata[0]}<br>scaled=%{customdata[1]}<extra></extra>",
         "hovertext": [
          "ATLANTA FALCONS"
         ],
         "legendgroup": "ATLANTA FALCONS",
         "marker": {
          "color": "rgb(255,238,238)",
          "pattern": {
           "shape": ""
          }
         },
         "name": "ATLANTA FALCONS",
         "offsetgroup": "ATLANTA FALCONS",
         "orientation": "v",
         "showlegend": true,
         "text": [
          "ATLANTA FALCONS"
         ],
         "textposition": "auto",
         "type": "bar",
         "x": [
          "O'Henry's Stiffies"
         ],
         "xaxis": "x",
         "y": [
          6
         ],
         "yaxis": "y"
        },
        {
         "alignmentgroup": "True",
         "customdata": [
          [
           8.771189082313263,
           6,
           "RODRIGO BLANKENSHIP",
           "PK"
          ]
         ],
         "hovertemplate": "<b>%{hovertext}</b><br><br>scoreRemaining=%{y}<br>weeklyPred=%{customdata[0]}<br>scaled=%{customdata[1]}<extra></extra>",
         "hovertext": [
          "RODRIGO BLANKENSHIP"
         ],
         "legendgroup": "RODRIGO BLANKENSHIP",
         "marker": {
          "color": "rgb(249,255,249)",
          "pattern": {
           "shape": ""
          }
         },
         "name": "RODRIGO BLANKENSHIP",
         "offsetgroup": "RODRIGO BLANKENSHIP",
         "orientation": "v",
         "showlegend": true,
         "text": [
          "RODRIGO BLANKENSHIP"
         ],
         "textposition": "auto",
         "type": "bar",
         "x": [
          "O'Henry's Stiffies"
         ],
         "xaxis": "x",
         "y": [
          9.5
         ],
         "yaxis": "y"
        },
        {
         "alignmentgroup": "True",
         "customdata": [
          [
           14.021170088843471,
           19,
           "ANTONIO GIBSON",
           "RB"
          ]
         ],
         "hovertemplate": "<b>%{hovertext}</b><br><br>scoreRemaining=%{y}<br>weeklyPred=%{customdata[0]}<br>scaled=%{customdata[1]}<extra></extra>",
         "hovertext": [
          "ANTONIO GIBSON"
         ],
         "legendgroup": "ANTONIO GIBSON",
         "marker": {
          "color": "rgb(236,255,236)",
          "pattern": {
           "shape": ""
          }
         },
         "name": "ANTONIO GIBSON",
         "offsetgroup": "ANTONIO GIBSON",
         "orientation": "v",
         "showlegend": true,
         "text": [
          "ANTONIO GIBSON"
         ],
         "textposition": "auto",
         "type": "bar",
         "x": [
          "O'Henry's Stiffies"
         ],
         "xaxis": "x",
         "y": [
          16.2
         ],
         "yaxis": "y"
        },
        {
         "alignmentgroup": "True",
         "customdata": [
          [
           6.325258406851288,
           -46,
           "AUSTIN HOOPER",
           "TE"
          ]
         ],
         "hovertemplate": "<b>%{hovertext}</b><br><br>scoreRemaining=%{y}<br>weeklyPred=%{customdata[0]}<br>scaled=%{customdata[1]}<extra></extra>",
         "hovertext": [
          "AUSTIN HOOPER"
         ],
         "legendgroup": "AUSTIN HOOPER",
         "marker": {
          "color": "rgb(255,209,209)",
          "pattern": {
           "shape": ""
          }
         },
         "name": "AUSTIN HOOPER",
         "offsetgroup": "AUSTIN HOOPER",
         "orientation": "v",
         "showlegend": true,
         "text": [
          "AUSTIN HOOPER"
         ],
         "textposition": "auto",
         "type": "bar",
         "x": [
          "O'Henry's Stiffies"
         ],
         "xaxis": "x",
         "y": [
          0.9
         ],
         "yaxis": "y"
        },
        {
         "alignmentgroup": "True",
         "customdata": [
          [
           14.979023243295199,
           6,
           "BAKER MAYFIELD",
           "QB"
          ]
         ],
         "hovertemplate": "<b>%{hovertext}</b><br><br>scoreRemaining=%{y}<br>weeklyPred=%{customdata[0]}<br>scaled=%{customdata[1]}<extra></extra>",
         "hovertext": [
          "BAKER MAYFIELD"
         ],
         "legendgroup": "BAKER MAYFIELD",
         "marker": {
          "color": "rgb(249,255,249)",
          "pattern": {
           "shape": ""
          }
         },
         "name": "BAKER MAYFIELD",
         "offsetgroup": "BAKER MAYFIELD",
         "orientation": "v",
         "showlegend": true,
         "text": [
          "BAKER MAYFIELD"
         ],
         "textposition": "auto",
         "type": "bar",
         "x": [
          "O'Henry's Stiffies"
         ],
         "xaxis": "x",
         "y": [
          15.7
         ],
         "yaxis": "y"
        },
        {
         "alignmentgroup": "True",
         "customdata": [
          [
           8.3358553998199,
           -71,
           "DEVONTA SMITH",
           "WR"
          ]
         ],
         "hovertemplate": "<b>%{hovertext}</b><br><br>scoreRemaining=%{y}<br>weeklyPred=%{customdata[0]}<br>scaled=%{customdata[1]}<extra></extra>",
         "hovertext": [
          "DEVONTA SMITH"
         ],
         "legendgroup": "DEVONTA SMITH",
         "marker": {
          "color": "rgb(255,184,184)",
          "pattern": {
           "shape": ""
          }
         },
         "name": "DEVONTA SMITH",
         "offsetgroup": "DEVONTA SMITH",
         "orientation": "v",
         "showlegend": true,
         "text": [
          "DEVONTA SMITH"
         ],
         "textposition": "auto",
         "type": "bar",
         "x": [
          "O'Henry's Stiffies"
         ],
         "xaxis": "x",
         "y": [
          0
         ],
         "yaxis": "y"
        },
        {
         "alignmentgroup": "True",
         "customdata": [
          [
           8.367645024397989,
           -29,
           "NEW YORK GIANTS",
           "DF"
          ]
         ],
         "hovertemplate": "<b>%{hovertext}</b><br><br>scoreRemaining=%{y}<br>weeklyPred=%{customdata[0]}<br>scaled=%{customdata[1]}<extra></extra>",
         "hovertext": [
          "NEW YORK GIANTS"
         ],
         "legendgroup": "NEW YORK GIANTS",
         "marker": {
          "color": "rgb(255,226,226)",
          "pattern": {
           "shape": ""
          }
         },
         "name": "NEW YORK GIANTS",
         "offsetgroup": "NEW YORK GIANTS",
         "orientation": "v",
         "showlegend": true,
         "text": [
          "NEW YORK GIANTS"
         ],
         "textposition": "auto",
         "type": "bar",
         "x": [
          "O'Henry's Stiffies"
         ],
         "xaxis": "x",
         "y": [
          5
         ],
         "yaxis": "y"
        },
        {
         "alignmentgroup": "True",
         "customdata": [
          [
           16.427691550379212,
           -52,
           "DERRICK HENRY",
           "RB"
          ]
         ],
         "hovertemplate": "<b>%{hovertext}</b><br><br>scoreRemaining=%{y}<br>weeklyPred=%{customdata[0]}<br>scaled=%{customdata[1]}<extra></extra>",
         "hovertext": [
          "DERRICK HENRY"
         ],
         "legendgroup": "DERRICK HENRY",
         "marker": {
          "color": "rgb(255,203,203)",
          "pattern": {
           "shape": ""
          }
         },
         "name": "DERRICK HENRY",
         "offsetgroup": "DERRICK HENRY",
         "orientation": "v",
         "showlegend": true,
         "text": [
          "DERRICK HENRY"
         ],
         "textposition": "auto",
         "type": "bar",
         "x": [
          "O'Henry's Stiffies"
         ],
         "xaxis": "x",
         "y": [
          10.3
         ],
         "yaxis": "y"
        },
        {
         "alignmentgroup": "True",
         "customdata": [
          [
           6.555994397279129,
           -47,
           "DAVID NJOKU",
           "TE"
          ]
         ],
         "hovertemplate": "<b>%{hovertext}</b><br><br>scoreRemaining=%{y}<br>weeklyPred=%{customdata[0]}<br>scaled=%{customdata[1]}<extra></extra>",
         "hovertext": [
          "DAVID NJOKU"
         ],
         "legendgroup": "DAVID NJOKU",
         "marker": {
          "color": "rgb(255,208,208)",
          "pattern": {
           "shape": ""
          }
         },
         "name": "DAVID NJOKU",
         "offsetgroup": "DAVID NJOKU",
         "orientation": "v",
         "showlegend": true,
         "text": [
          "DAVID NJOKU"
         ],
         "textposition": "auto",
         "type": "bar",
         "x": [
          "Verdansk Vaqueros FFC"
         ],
         "xaxis": "x",
         "y": [
          1
         ],
         "yaxis": "y"
        },
        {
         "alignmentgroup": "True",
         "customdata": [
          [
           2.3819649166999763,
           -20,
           "MARQUEZ CALLAWAY",
           "WR"
          ]
         ],
         "hovertemplate": "<b>%{hovertext}</b><br><br>scoreRemaining=%{y}<br>weeklyPred=%{customdata[0]}<br>scaled=%{customdata[1]}<extra></extra>",
         "hovertext": [
          "MARQUEZ CALLAWAY"
         ],
         "legendgroup": "MARQUEZ CALLAWAY",
         "marker": {
          "color": "rgb(255,235,235)",
          "pattern": {
           "shape": ""
          }
         },
         "name": "MARQUEZ CALLAWAY",
         "offsetgroup": "MARQUEZ CALLAWAY",
         "orientation": "v",
         "showlegend": true,
         "text": [
          "MARQUEZ CALLAWAY"
         ],
         "textposition": "auto",
         "type": "bar",
         "x": [
          "Verdansk Vaqueros FFC"
         ],
         "xaxis": "x",
         "y": [
          0
         ],
         "yaxis": "y"
        },
        {
         "alignmentgroup": "True",
         "customdata": [
          [
           8.0775352878158,
           -103,
           "DETROIT LIONS",
           "DF"
          ]
         ],
         "hovertemplate": "<b>%{hovertext}</b><br><br>scoreRemaining=%{y}<br>weeklyPred=%{customdata[0]}<br>scaled=%{customdata[1]}<extra></extra>",
         "hovertext": [
          "DETROIT LIONS"
         ],
         "legendgroup": "DETROIT LIONS",
         "marker": {
          "color": "rgb(255,152,152)",
          "pattern": {
           "shape": ""
          }
         },
         "name": "DETROIT LIONS",
         "offsetgroup": "DETROIT LIONS",
         "orientation": "v",
         "showlegend": true,
         "text": [
          "DETROIT LIONS"
         ],
         "textposition": "auto",
         "type": "bar",
         "x": [
          "Verdansk Vaqueros FFC"
         ],
         "xaxis": "x",
         "y": [
          -4
         ],
         "yaxis": "y"
        },
        {
         "alignmentgroup": "True",
         "customdata": [
          [
           13.554814813104874,
           68,
           "DAVANTE ADAMS",
           "WR"
          ]
         ],
         "hovertemplate": "<b>%{hovertext}</b><br><br>scoreRemaining=%{y}<br>weeklyPred=%{customdata[0]}<br>scaled=%{customdata[1]}<extra></extra>",
         "hovertext": [
          "DAVANTE ADAMS"
         ],
         "legendgroup": "DAVANTE ADAMS",
         "marker": {
          "color": "rgb(187,255,187)",
          "pattern": {
           "shape": ""
          }
         },
         "name": "DAVANTE ADAMS",
         "offsetgroup": "DAVANTE ADAMS",
         "orientation": "v",
         "showlegend": true,
         "text": [
          "DAVANTE ADAMS"
         ],
         "textposition": "auto",
         "type": "bar",
         "x": [
          "Verdansk Vaqueros FFC"
         ],
         "xaxis": "x",
         "y": [
          21.6
         ],
         "yaxis": "y"
        },
        {
         "alignmentgroup": "True",
         "customdata": [
          [
           10.417139554155519,
           -63,
           "CAROLINA PANTHERS",
           "DF"
          ]
         ],
         "hovertemplate": "<b>%{hovertext}</b><br><br>scoreRemaining=%{y}<br>weeklyPred=%{customdata[0]}<br>scaled=%{customdata[1]}<extra></extra>",
         "hovertext": [
          "CAROLINA PANTHERS"
         ],
         "legendgroup": "CAROLINA PANTHERS",
         "marker": {
          "color": "rgb(255,192,192)",
          "pattern": {
           "shape": ""
          }
         },
         "name": "CAROLINA PANTHERS",
         "offsetgroup": "CAROLINA PANTHERS",
         "orientation": "v",
         "showlegend": true,
         "text": [
          "CAROLINA PANTHERS"
         ],
         "textposition": "auto",
         "type": "bar",
         "x": [
          "Verdansk Vaqueros FFC"
         ],
         "xaxis": "x",
         "y": [
          3
         ],
         "yaxis": "y"
        },
        {
         "alignmentgroup": "True",
         "customdata": [
          [
           8.115749019968666,
           -35,
           "ROBBIE GOULD",
           "PK"
          ]
         ],
         "hovertemplate": "<b>%{hovertext}</b><br><br>scoreRemaining=%{y}<br>weeklyPred=%{customdata[0]}<br>scaled=%{customdata[1]}<extra></extra>",
         "hovertext": [
          "ROBBIE GOULD"
         ],
         "legendgroup": "ROBBIE GOULD",
         "marker": {
          "color": "rgb(255,220,220)",
          "pattern": {
           "shape": ""
          }
         },
         "name": "ROBBIE GOULD",
         "offsetgroup": "ROBBIE GOULD",
         "orientation": "v",
         "showlegend": true,
         "text": [
          "ROBBIE GOULD"
         ],
         "textposition": "auto",
         "type": "bar",
         "x": [
          "Verdansk Vaqueros FFC"
         ],
         "xaxis": "x",
         "y": [
          4
         ],
         "yaxis": "y"
        },
        {
         "alignmentgroup": "True",
         "customdata": [
          [
           13.001459153997686,
           60,
           "TRAVIS KELCE",
           "TE"
          ]
         ],
         "hovertemplate": "<b>%{hovertext}</b><br><br>scoreRemaining=%{y}<br>weeklyPred=%{customdata[0]}<br>scaled=%{customdata[1]}<extra></extra>",
         "hovertext": [
          "TRAVIS KELCE"
         ],
         "legendgroup": "TRAVIS KELCE",
         "marker": {
          "color": "rgb(195,255,195)",
          "pattern": {
           "shape": ""
          }
         },
         "name": "TRAVIS KELCE",
         "offsetgroup": "TRAVIS KELCE",
         "orientation": "v",
         "showlegend": true,
         "text": [
          "TRAVIS KELCE"
         ],
         "textposition": "auto",
         "type": "bar",
         "x": [
          "Verdansk Vaqueros FFC"
         ],
         "xaxis": "x",
         "y": [
          20.1
         ],
         "yaxis": "y"
        },
        {
         "alignmentgroup": "True",
         "customdata": [
          [
           15.637780709151059,
           0,
           "EZEKIEL ELLIOTT",
           "RB"
          ]
         ],
         "hovertemplate": "<b>%{hovertext}</b><br><br>scoreRemaining=%{y}<br>weeklyPred=%{customdata[0]}<br>scaled=%{customdata[1]}<extra></extra>",
         "hovertext": [
          "EZEKIEL ELLIOTT"
         ],
         "legendgroup": "EZEKIEL ELLIOTT",
         "marker": {
          "color": "rgb(255,255,255)",
          "pattern": {
           "shape": ""
          }
         },
         "name": "EZEKIEL ELLIOTT",
         "offsetgroup": "EZEKIEL ELLIOTT",
         "orientation": "v",
         "showlegend": true,
         "text": [
          "EZEKIEL ELLIOTT"
         ],
         "textposition": "auto",
         "type": "bar",
         "x": [
          "Verdansk Vaqueros FFC"
         ],
         "xaxis": "x",
         "y": [
          15.637780709151059
         ],
         "yaxis": "y"
        },
        {
         "alignmentgroup": "True",
         "customdata": [
          [
           2.1207499200460833,
           33,
           "KENYAN DRAKE",
           "RB"
          ]
         ],
         "hovertemplate": "<b>%{hovertext}</b><br><br>scoreRemaining=%{y}<br>weeklyPred=%{customdata[0]}<br>scaled=%{customdata[1]}<extra></extra>",
         "hovertext": [
          "KENYAN DRAKE"
         ],
         "legendgroup": "KENYAN DRAKE",
         "marker": {
          "color": "rgb(222,255,222)",
          "pattern": {
           "shape": ""
          }
         },
         "name": "KENYAN DRAKE",
         "offsetgroup": "KENYAN DRAKE",
         "orientation": "v",
         "showlegend": true,
         "text": [
          "KENYAN DRAKE"
         ],
         "textposition": "auto",
         "type": "bar",
         "x": [
          "Verdansk Vaqueros FFC"
         ],
         "xaxis": "x",
         "y": [
          6
         ],
         "yaxis": "y"
        },
        {
         "alignmentgroup": "True",
         "customdata": [
          [
           8.397230101379295,
           57,
           "CHRIS BOSWELL",
           "PK"
          ]
         ],
         "hovertemplate": "<b>%{hovertext}</b><br><br>scoreRemaining=%{y}<br>weeklyPred=%{customdata[0]}<br>scaled=%{customdata[1]}<extra></extra>",
         "hovertext": [
          "CHRIS BOSWELL"
         ],
         "legendgroup": "CHRIS BOSWELL",
         "marker": {
          "color": "rgb(198,255,198)",
          "pattern": {
           "shape": ""
          }
         },
         "name": "CHRIS BOSWELL",
         "offsetgroup": "CHRIS BOSWELL",
         "orientation": "v",
         "showlegend": true,
         "text": [
          "CHRIS BOSWELL"
         ],
         "textposition": "auto",
         "type": "bar",
         "x": [
          "Verdansk Vaqueros FFC"
         ],
         "xaxis": "x",
         "y": [
          15.1
         ],
         "yaxis": "y"
        },
        {
         "alignmentgroup": "True",
         "customdata": [
          [
           19.12425887724746,
           -36,
           "JOE BURROW",
           "QB"
          ]
         ],
         "hovertemplate": "<b>%{hovertext}</b><br><br>scoreRemaining=%{y}<br>weeklyPred=%{customdata[0]}<br>scaled=%{customdata[1]}<extra></extra>",
         "hovertext": [
          "JOE BURROW"
         ],
         "legendgroup": "JOE BURROW",
         "marker": {
          "color": "rgb(255,219,219)",
          "pattern": {
           "shape": ""
          }
         },
         "name": "JOE BURROW",
         "offsetgroup": "JOE BURROW",
         "orientation": "v",
         "showlegend": true,
         "text": [
          "JOE BURROW"
         ],
         "textposition": "auto",
         "type": "bar",
         "x": [
          "Verdansk Vaqueros FFC"
         ],
         "xaxis": "x",
         "y": [
          14.9
         ],
         "yaxis": "y"
        },
        {
         "alignmentgroup": "True",
         "customdata": [
          [
           2.0929017032124806,
           45,
           "TRAVIS ETIENNE",
           "RB"
          ]
         ],
         "hovertemplate": "<b>%{hovertext}</b><br><br>scoreRemaining=%{y}<br>weeklyPred=%{customdata[0]}<br>scaled=%{customdata[1]}<extra></extra>",
         "hovertext": [
          "TRAVIS ETIENNE"
         ],
         "legendgroup": "TRAVIS ETIENNE",
         "marker": {
          "color": "rgb(210,255,210)",
          "pattern": {
           "shape": ""
          }
         },
         "name": "TRAVIS ETIENNE",
         "offsetgroup": "TRAVIS ETIENNE",
         "orientation": "v",
         "showlegend": true,
         "text": [
          "TRAVIS ETIENNE"
         ],
         "textposition": "auto",
         "type": "bar",
         "x": [
          "Verdansk Vaqueros FFC"
         ],
         "xaxis": "x",
         "y": [
          7.4
         ],
         "yaxis": "y"
        },
        {
         "alignmentgroup": "True",
         "customdata": [
          [
           12.314838664600977,
           -41,
           "DEVIN SINGLETARY",
           "RB"
          ]
         ],
         "hovertemplate": "<b>%{hovertext}</b><br><br>scoreRemaining=%{y}<br>weeklyPred=%{customdata[0]}<br>scaled=%{customdata[1]}<extra></extra>",
         "hovertext": [
          "DEVIN SINGLETARY"
         ],
         "legendgroup": "DEVIN SINGLETARY",
         "marker": {
          "color": "rgb(255,214,214)",
          "pattern": {
           "shape": ""
          }
         },
         "name": "DEVIN SINGLETARY",
         "offsetgroup": "DEVIN SINGLETARY",
         "orientation": "v",
         "showlegend": true,
         "text": [
          "DEVIN SINGLETARY"
         ],
         "textposition": "auto",
         "type": "bar",
         "x": [
          "Verdansk Vaqueros FFC"
         ],
         "xaxis": "x",
         "y": [
          7.5
         ],
         "yaxis": "y"
        },
        {
         "alignmentgroup": "True",
         "customdata": [
          [
           9.45550305148011,
           -59,
           "AMARI COOPER",
           "WR"
          ]
         ],
         "hovertemplate": "<b>%{hovertext}</b><br><br>scoreRemaining=%{y}<br>weeklyPred=%{customdata[0]}<br>scaled=%{customdata[1]}<extra></extra>",
         "hovertext": [
          "AMARI COOPER"
         ],
         "legendgroup": "AMARI COOPER",
         "marker": {
          "color": "rgb(255,196,196)",
          "pattern": {
           "shape": ""
          }
         },
         "name": "AMARI COOPER",
         "offsetgroup": "AMARI COOPER",
         "orientation": "v",
         "showlegend": true,
         "text": [
          "AMARI COOPER"
         ],
         "textposition": "auto",
         "type": "bar",
         "x": [
          "Verdansk Vaqueros FFC"
         ],
         "xaxis": "x",
         "y": [
          2.5
         ],
         "yaxis": "y"
        },
        {
         "alignmentgroup": "True",
         "customdata": [
          [
           15.306460798330386,
           -26,
           "TUA TAGOVAILOA",
           "QB"
          ]
         ],
         "hovertemplate": "<b>%{hovertext}</b><br><br>scoreRemaining=%{y}<br>weeklyPred=%{customdata[0]}<br>scaled=%{customdata[1]}<extra></extra>",
         "hovertext": [
          "TUA TAGOVAILOA"
         ],
         "legendgroup": "TUA TAGOVAILOA",
         "marker": {
          "color": "rgb(255,229,229)",
          "pattern": {
           "shape": ""
          }
         },
         "name": "TUA TAGOVAILOA",
         "offsetgroup": "TUA TAGOVAILOA",
         "orientation": "v",
         "showlegend": true,
         "text": [
          "TUA TAGOVAILOA"
         ],
         "textposition": "auto",
         "type": "bar",
         "x": [
          "Verdansk Vaqueros FFC"
         ],
         "xaxis": "x",
         "y": [
          12.2
         ],
         "yaxis": "y"
        },
        {
         "alignmentgroup": "True",
         "customdata": [
          [
           2.728288489234677,
           -4,
           "HARRISON BRYANT",
           "TE"
          ]
         ],
         "hovertemplate": "<b>%{hovertext}</b><br><br>scoreRemaining=%{y}<br>weeklyPred=%{customdata[0]}<br>scaled=%{customdata[1]}<extra></extra>",
         "hovertext": [
          "HARRISON BRYANT"
         ],
         "legendgroup": "HARRISON BRYANT",
         "marker": {
          "color": "rgb(255,251,251)",
          "pattern": {
           "shape": ""
          }
         },
         "name": "HARRISON BRYANT",
         "offsetgroup": "HARRISON BRYANT",
         "orientation": "v",
         "showlegend": true,
         "text": [
          "HARRISON BRYANT"
         ],
         "textposition": "auto",
         "type": "bar",
         "x": [
          "IDK much about soccer "
         ],
         "xaxis": "x",
         "y": [
          2.3
         ],
         "yaxis": "y"
        },
        {
         "alignmentgroup": "True",
         "customdata": [
          [
           7.41507711781614,
           116,
           "KAREEM HUNT",
           "RB"
          ]
         ],
         "hovertemplate": "<b>%{hovertext}</b><br><br>scoreRemaining=%{y}<br>weeklyPred=%{customdata[0]}<br>scaled=%{customdata[1]}<extra></extra>",
         "hovertext": [
          "KAREEM HUNT"
         ],
         "legendgroup": "KAREEM HUNT",
         "marker": {
          "color": "rgb(139,255,139)",
          "pattern": {
           "shape": ""
          }
         },
         "name": "KAREEM HUNT",
         "offsetgroup": "KAREEM HUNT",
         "orientation": "v",
         "showlegend": true,
         "text": [
          "KAREEM HUNT"
         ],
         "textposition": "auto",
         "type": "bar",
         "x": [
          "IDK much about soccer "
         ],
         "xaxis": "x",
         "y": [
          21.1
         ],
         "yaxis": "y"
        },
        {
         "alignmentgroup": "True",
         "customdata": [
          [
           13.681514331455569,
           -5,
           "JUSTIN FIELDS",
           "QB"
          ]
         ],
         "hovertemplate": "<b>%{hovertext}</b><br><br>scoreRemaining=%{y}<br>weeklyPred=%{customdata[0]}<br>scaled=%{customdata[1]}<extra></extra>",
         "hovertext": [
          "JUSTIN FIELDS"
         ],
         "legendgroup": "JUSTIN FIELDS",
         "marker": {
          "color": "rgb(255,250,250)",
          "pattern": {
           "shape": ""
          }
         },
         "name": "JUSTIN FIELDS",
         "offsetgroup": "JUSTIN FIELDS",
         "orientation": "v",
         "showlegend": true,
         "text": [
          "JUSTIN FIELDS"
         ],
         "textposition": "auto",
         "type": "bar",
         "x": [
          "IDK much about soccer "
         ],
         "xaxis": "x",
         "y": [
          13.1
         ],
         "yaxis": "y"
        },
        {
         "alignmentgroup": "True",
         "customdata": [
          [
           13.209137758802823,
           -24,
           "JACOBY BRISSETT",
           "QB"
          ]
         ],
         "hovertemplate": "<b>%{hovertext}</b><br><br>scoreRemaining=%{y}<br>weeklyPred=%{customdata[0]}<br>scaled=%{customdata[1]}<extra></extra>",
         "hovertext": [
          "JACOBY BRISSETT"
         ],
         "legendgroup": "JACOBY BRISSETT",
         "marker": {
          "color": "rgb(255,231,231)",
          "pattern": {
           "shape": ""
          }
         },
         "name": "JACOBY BRISSETT",
         "offsetgroup": "JACOBY BRISSETT",
         "orientation": "v",
         "showlegend": true,
         "text": [
          "JACOBY BRISSETT"
         ],
         "textposition": "auto",
         "type": "bar",
         "x": [
          "IDK much about soccer "
         ],
         "xaxis": "x",
         "y": [
          10.4
         ],
         "yaxis": "y"
        },
        {
         "alignmentgroup": "True",
         "customdata": [
          [
           8.248579112463505,
           0,
           "JASON MYERS",
           "PK"
          ]
         ],
         "hovertemplate": "<b>%{hovertext}</b><br><br>scoreRemaining=%{y}<br>weeklyPred=%{customdata[0]}<br>scaled=%{customdata[1]}<extra></extra>",
         "hovertext": [
          "JASON MYERS"
         ],
         "legendgroup": "JASON MYERS",
         "marker": {
          "color": "rgb(255,255,255)",
          "pattern": {
           "shape": ""
          }
         },
         "name": "JASON MYERS",
         "offsetgroup": "JASON MYERS",
         "orientation": "v",
         "showlegend": true,
         "text": [
          "JASON MYERS"
         ],
         "textposition": "auto",
         "type": "bar",
         "x": [
          "IDK much about soccer "
         ],
         "xaxis": "x",
         "y": [
          8.248579112463505
         ],
         "yaxis": "y"
        },
        {
         "alignmentgroup": "True",
         "customdata": [
          [
           15.370489545508944,
           -49,
           "AUSTIN EKELER",
           "RB"
          ]
         ],
         "hovertemplate": "<b>%{hovertext}</b><br><br>scoreRemaining=%{y}<br>weeklyPred=%{customdata[0]}<br>scaled=%{customdata[1]}<extra></extra>",
         "hovertext": [
          "AUSTIN EKELER"
         ],
         "legendgroup": "AUSTIN EKELER",
         "marker": {
          "color": "rgb(255,206,206)",
          "pattern": {
           "shape": ""
          }
         },
         "name": "AUSTIN EKELER",
         "offsetgroup": "AUSTIN EKELER",
         "orientation": "v",
         "showlegend": true,
         "text": [
          "AUSTIN EKELER"
         ],
         "textposition": "auto",
         "type": "bar",
         "x": [
          "IDK much about soccer "
         ],
         "xaxis": "x",
         "y": [
          9.6
         ],
         "yaxis": "y"
        },
        {
         "alignmentgroup": "True",
         "customdata": [
          [
           8.246595221736415,
           0,
           "BRANDON MCMANUS",
           "PK"
          ]
         ],
         "hovertemplate": "<b>%{hovertext}</b><br><br>scoreRemaining=%{y}<br>weeklyPred=%{customdata[0]}<br>scaled=%{customdata[1]}<extra></extra>",
         "hovertext": [
          "BRANDON MCMANUS"
         ],
         "legendgroup": "BRANDON MCMANUS",
         "marker": {
          "color": "rgb(255,255,255)",
          "pattern": {
           "shape": ""
          }
         },
         "name": "BRANDON MCMANUS",
         "offsetgroup": "BRANDON MCMANUS",
         "orientation": "v",
         "showlegend": true,
         "text": [
          "BRANDON MCMANUS"
         ],
         "textposition": "auto",
         "type": "bar",
         "x": [
          "IDK much about soccer "
         ],
         "xaxis": "x",
         "y": [
          8.246595221736415
         ],
         "yaxis": "y"
        },
        {
         "alignmentgroup": "True",
         "customdata": [
          [
           11.368783827965595,
           -35,
           "DIONTAE JOHNSON",
           "WR"
          ]
         ],
         "hovertemplate": "<b>%{hovertext}</b><br><br>scoreRemaining=%{y}<br>weeklyPred=%{customdata[0]}<br>scaled=%{customdata[1]}<extra></extra>",
         "hovertext": [
          "DIONTAE JOHNSON"
         ],
         "legendgroup": "DIONTAE JOHNSON",
         "marker": {
          "color": "rgb(255,220,220)",
          "pattern": {
           "shape": ""
          }
         },
         "name": "DIONTAE JOHNSON",
         "offsetgroup": "DIONTAE JOHNSON",
         "orientation": "v",
         "showlegend": true,
         "text": [
          "DIONTAE JOHNSON"
         ],
         "textposition": "auto",
         "type": "bar",
         "x": [
          "IDK much about soccer "
         ],
         "xaxis": "x",
         "y": [
          7.3
         ],
         "yaxis": "y"
        },
        {
         "alignmentgroup": "True",
         "customdata": [
          [
           15.650705351954949,
           -79,
           "ALVIN KAMARA",
           "RB"
          ]
         ],
         "hovertemplate": "<b>%{hovertext}</b><br><br>scoreRemaining=%{y}<br>weeklyPred=%{customdata[0]}<br>scaled=%{customdata[1]}<extra></extra>",
         "hovertext": [
          "ALVIN KAMARA"
         ],
         "legendgroup": "ALVIN KAMARA",
         "marker": {
          "color": "rgb(255,176,176)",
          "pattern": {
           "shape": ""
          }
         },
         "name": "ALVIN KAMARA",
         "offsetgroup": "ALVIN KAMARA",
         "orientation": "v",
         "showlegend": true,
         "text": [
          "ALVIN KAMARA"
         ],
         "textposition": "auto",
         "type": "bar",
         "x": [
          "IDK much about soccer "
         ],
         "xaxis": "x",
         "y": [
          6.3
         ],
         "yaxis": "y"
        },
        {
         "alignmentgroup": "True",
         "customdata": [
          [
           6.1570012375512935,
           -2,
           "HAYDEN HURST",
           "TE"
          ]
         ],
         "hovertemplate": "<b>%{hovertext}</b><br><br>scoreRemaining=%{y}<br>weeklyPred=%{customdata[0]}<br>scaled=%{customdata[1]}<extra></extra>",
         "hovertext": [
          "HAYDEN HURST"
         ],
         "legendgroup": "HAYDEN HURST",
         "marker": {
          "color": "rgb(255,253,253)",
          "pattern": {
           "shape": ""
          }
         },
         "name": "HAYDEN HURST",
         "offsetgroup": "HAYDEN HURST",
         "orientation": "v",
         "showlegend": true,
         "text": [
          "HAYDEN HURST"
         ],
         "textposition": "auto",
         "type": "bar",
         "x": [
          "IDK much about soccer "
         ],
         "xaxis": "x",
         "y": [
          5.9
         ],
         "yaxis": "y"
        },
        {
         "alignmentgroup": "True",
         "customdata": [
          [
           9.46774097590945,
           -43,
           "ADAM THIELEN",
           "WR"
          ]
         ],
         "hovertemplate": "<b>%{hovertext}</b><br><br>scoreRemaining=%{y}<br>weeklyPred=%{customdata[0]}<br>scaled=%{customdata[1]}<extra></extra>",
         "hovertext": [
          "ADAM THIELEN"
         ],
         "legendgroup": "ADAM THIELEN",
         "marker": {
          "color": "rgb(255,212,212)",
          "pattern": {
           "shape": ""
          }
         },
         "name": "ADAM THIELEN",
         "offsetgroup": "ADAM THIELEN",
         "orientation": "v",
         "showlegend": true,
         "text": [
          "ADAM THIELEN"
         ],
         "textposition": "auto",
         "type": "bar",
         "x": [
          "IDK much about soccer "
         ],
         "xaxis": "x",
         "y": [
          4.4
         ],
         "yaxis": "y"
        },
        {
         "alignmentgroup": "True",
         "customdata": [
          [
           6.047299424828242,
           -39,
           "MIKE WILLIAMS",
           "WR"
          ]
         ],
         "hovertemplate": "<b>%{hovertext}</b><br><br>scoreRemaining=%{y}<br>weeklyPred=%{customdata[0]}<br>scaled=%{customdata[1]}<extra></extra>",
         "hovertext": [
          "MIKE WILLIAMS"
         ],
         "legendgroup": "MIKE WILLIAMS",
         "marker": {
          "color": "rgb(255,216,216)",
          "pattern": {
           "shape": ""
          }
         },
         "name": "MIKE WILLIAMS",
         "offsetgroup": "MIKE WILLIAMS",
         "orientation": "v",
         "showlegend": true,
         "text": [
          "MIKE WILLIAMS"
         ],
         "textposition": "auto",
         "type": "bar",
         "x": [
          "IDK much about soccer "
         ],
         "xaxis": "x",
         "y": [
          1.5
         ],
         "yaxis": "y"
        },
        {
         "alignmentgroup": "True",
         "customdata": [
          [
           2.539030873321277,
           0,
           "MELVIN GORDON",
           "RB"
          ]
         ],
         "hovertemplate": "<b>%{hovertext}</b><br><br>scoreRemaining=%{y}<br>weeklyPred=%{customdata[0]}<br>scaled=%{customdata[1]}<extra></extra>",
         "hovertext": [
          "MELVIN GORDON"
         ],
         "legendgroup": "MELVIN GORDON",
         "marker": {
          "color": "rgb(255,255,255)",
          "pattern": {
           "shape": ""
          }
         },
         "name": "MELVIN GORDON",
         "offsetgroup": "MELVIN GORDON",
         "orientation": "v",
         "showlegend": true,
         "text": [
          "MELVIN GORDON"
         ],
         "textposition": "auto",
         "type": "bar",
         "x": [
          "IDK much about soccer "
         ],
         "xaxis": "x",
         "y": [
          2.539030873321277
         ],
         "yaxis": "y"
        },
        {
         "alignmentgroup": "True",
         "customdata": [
          [
           8.615465925225227,
           12,
           "INDIANAPOLIS COLTS",
           "DF"
          ]
         ],
         "hovertemplate": "<b>%{hovertext}</b><br><br>scoreRemaining=%{y}<br>weeklyPred=%{customdata[0]}<br>scaled=%{customdata[1]}<extra></extra>",
         "hovertext": [
          "INDIANAPOLIS COLTS"
         ],
         "legendgroup": "INDIANAPOLIS COLTS",
         "marker": {
          "color": "rgb(243,255,243)",
          "pattern": {
           "shape": ""
          }
         },
         "name": "INDIANAPOLIS COLTS",
         "offsetgroup": "INDIANAPOLIS COLTS",
         "orientation": "v",
         "showlegend": true,
         "text": [
          "INDIANAPOLIS COLTS"
         ],
         "textposition": "auto",
         "type": "bar",
         "x": [
          "IDK much about soccer "
         ],
         "xaxis": "x",
         "y": [
          10
         ],
         "yaxis": "y"
        },
        {
         "alignmentgroup": "True",
         "customdata": [
          [
           8.120067317886488,
           7,
           "KANSAS CITY CHIEFS",
           "DF"
          ]
         ],
         "hovertemplate": "<b>%{hovertext}</b><br><br>scoreRemaining=%{y}<br>weeklyPred=%{customdata[0]}<br>scaled=%{customdata[1]}<extra></extra>",
         "hovertext": [
          "KANSAS CITY CHIEFS"
         ],
         "legendgroup": "KANSAS CITY CHIEFS",
         "marker": {
          "color": "rgb(248,255,248)",
          "pattern": {
           "shape": ""
          }
         },
         "name": "KANSAS CITY CHIEFS",
         "offsetgroup": "KANSAS CITY CHIEFS",
         "orientation": "v",
         "showlegend": true,
         "text": [
          "KANSAS CITY CHIEFS"
         ],
         "textposition": "auto",
         "type": "bar",
         "x": [
          "IDK much about soccer "
         ],
         "xaxis": "x",
         "y": [
          9
         ],
         "yaxis": "y"
        }
       ],
       "layout": {
        "barmode": "stack",
        "font": {
         "family": "Skia"
        },
        "legend": {
         "title": {
          "text": "player"
         },
         "tracegroupgap": 0
        },
        "margin": {
         "t": 60
        },
        "plot_bgcolor": "rgba(0,0,0,0)",
        "showlegend": false,
        "template": {
         "data": {
          "bar": [
           {
            "error_x": {
             "color": "#2a3f5f"
            },
            "error_y": {
             "color": "#2a3f5f"
            },
            "marker": {
             "line": {
              "color": "#E5ECF6",
              "width": 0.5
             },
             "pattern": {
              "fillmode": "overlay",
              "size": 10,
              "solidity": 0.2
             }
            },
            "type": "bar"
           }
          ],
          "barpolar": [
           {
            "marker": {
             "line": {
              "color": "#E5ECF6",
              "width": 0.5
             },
             "pattern": {
              "fillmode": "overlay",
              "size": 10,
              "solidity": 0.2
             }
            },
            "type": "barpolar"
           }
          ],
          "carpet": [
           {
            "aaxis": {
             "endlinecolor": "#2a3f5f",
             "gridcolor": "white",
             "linecolor": "white",
             "minorgridcolor": "white",
             "startlinecolor": "#2a3f5f"
            },
            "baxis": {
             "endlinecolor": "#2a3f5f",
             "gridcolor": "white",
             "linecolor": "white",
             "minorgridcolor": "white",
             "startlinecolor": "#2a3f5f"
            },
            "type": "carpet"
           }
          ],
          "choropleth": [
           {
            "colorbar": {
             "outlinewidth": 0,
             "ticks": ""
            },
            "type": "choropleth"
           }
          ],
          "contour": [
           {
            "colorbar": {
             "outlinewidth": 0,
             "ticks": ""
            },
            "colorscale": [
             [
              0,
              "#0d0887"
             ],
             [
              0.1111111111111111,
              "#46039f"
             ],
             [
              0.2222222222222222,
              "#7201a8"
             ],
             [
              0.3333333333333333,
              "#9c179e"
             ],
             [
              0.4444444444444444,
              "#bd3786"
             ],
             [
              0.5555555555555556,
              "#d8576b"
             ],
             [
              0.6666666666666666,
              "#ed7953"
             ],
             [
              0.7777777777777778,
              "#fb9f3a"
             ],
             [
              0.8888888888888888,
              "#fdca26"
             ],
             [
              1,
              "#f0f921"
             ]
            ],
            "type": "contour"
           }
          ],
          "contourcarpet": [
           {
            "colorbar": {
             "outlinewidth": 0,
             "ticks": ""
            },
            "type": "contourcarpet"
           }
          ],
          "heatmap": [
           {
            "colorbar": {
             "outlinewidth": 0,
             "ticks": ""
            },
            "colorscale": [
             [
              0,
              "#0d0887"
             ],
             [
              0.1111111111111111,
              "#46039f"
             ],
             [
              0.2222222222222222,
              "#7201a8"
             ],
             [
              0.3333333333333333,
              "#9c179e"
             ],
             [
              0.4444444444444444,
              "#bd3786"
             ],
             [
              0.5555555555555556,
              "#d8576b"
             ],
             [
              0.6666666666666666,
              "#ed7953"
             ],
             [
              0.7777777777777778,
              "#fb9f3a"
             ],
             [
              0.8888888888888888,
              "#fdca26"
             ],
             [
              1,
              "#f0f921"
             ]
            ],
            "type": "heatmap"
           }
          ],
          "heatmapgl": [
           {
            "colorbar": {
             "outlinewidth": 0,
             "ticks": ""
            },
            "colorscale": [
             [
              0,
              "#0d0887"
             ],
             [
              0.1111111111111111,
              "#46039f"
             ],
             [
              0.2222222222222222,
              "#7201a8"
             ],
             [
              0.3333333333333333,
              "#9c179e"
             ],
             [
              0.4444444444444444,
              "#bd3786"
             ],
             [
              0.5555555555555556,
              "#d8576b"
             ],
             [
              0.6666666666666666,
              "#ed7953"
             ],
             [
              0.7777777777777778,
              "#fb9f3a"
             ],
             [
              0.8888888888888888,
              "#fdca26"
             ],
             [
              1,
              "#f0f921"
             ]
            ],
            "type": "heatmapgl"
           }
          ],
          "histogram": [
           {
            "marker": {
             "pattern": {
              "fillmode": "overlay",
              "size": 10,
              "solidity": 0.2
             }
            },
            "type": "histogram"
           }
          ],
          "histogram2d": [
           {
            "colorbar": {
             "outlinewidth": 0,
             "ticks": ""
            },
            "colorscale": [
             [
              0,
              "#0d0887"
             ],
             [
              0.1111111111111111,
              "#46039f"
             ],
             [
              0.2222222222222222,
              "#7201a8"
             ],
             [
              0.3333333333333333,
              "#9c179e"
             ],
             [
              0.4444444444444444,
              "#bd3786"
             ],
             [
              0.5555555555555556,
              "#d8576b"
             ],
             [
              0.6666666666666666,
              "#ed7953"
             ],
             [
              0.7777777777777778,
              "#fb9f3a"
             ],
             [
              0.8888888888888888,
              "#fdca26"
             ],
             [
              1,
              "#f0f921"
             ]
            ],
            "type": "histogram2d"
           }
          ],
          "histogram2dcontour": [
           {
            "colorbar": {
             "outlinewidth": 0,
             "ticks": ""
            },
            "colorscale": [
             [
              0,
              "#0d0887"
             ],
             [
              0.1111111111111111,
              "#46039f"
             ],
             [
              0.2222222222222222,
              "#7201a8"
             ],
             [
              0.3333333333333333,
              "#9c179e"
             ],
             [
              0.4444444444444444,
              "#bd3786"
             ],
             [
              0.5555555555555556,
              "#d8576b"
             ],
             [
              0.6666666666666666,
              "#ed7953"
             ],
             [
              0.7777777777777778,
              "#fb9f3a"
             ],
             [
              0.8888888888888888,
              "#fdca26"
             ],
             [
              1,
              "#f0f921"
             ]
            ],
            "type": "histogram2dcontour"
           }
          ],
          "mesh3d": [
           {
            "colorbar": {
             "outlinewidth": 0,
             "ticks": ""
            },
            "type": "mesh3d"
           }
          ],
          "parcoords": [
           {
            "line": {
             "colorbar": {
              "outlinewidth": 0,
              "ticks": ""
             }
            },
            "type": "parcoords"
           }
          ],
          "pie": [
           {
            "automargin": true,
            "type": "pie"
           }
          ],
          "scatter": [
           {
            "fillpattern": {
             "fillmode": "overlay",
             "size": 10,
             "solidity": 0.2
            },
            "type": "scatter"
           }
          ],
          "scatter3d": [
           {
            "line": {
             "colorbar": {
              "outlinewidth": 0,
              "ticks": ""
             }
            },
            "marker": {
             "colorbar": {
              "outlinewidth": 0,
              "ticks": ""
             }
            },
            "type": "scatter3d"
           }
          ],
          "scattercarpet": [
           {
            "marker": {
             "colorbar": {
              "outlinewidth": 0,
              "ticks": ""
             }
            },
            "type": "scattercarpet"
           }
          ],
          "scattergeo": [
           {
            "marker": {
             "colorbar": {
              "outlinewidth": 0,
              "ticks": ""
             }
            },
            "type": "scattergeo"
           }
          ],
          "scattergl": [
           {
            "marker": {
             "colorbar": {
              "outlinewidth": 0,
              "ticks": ""
             }
            },
            "type": "scattergl"
           }
          ],
          "scattermapbox": [
           {
            "marker": {
             "colorbar": {
              "outlinewidth": 0,
              "ticks": ""
             }
            },
            "type": "scattermapbox"
           }
          ],
          "scatterpolar": [
           {
            "marker": {
             "colorbar": {
              "outlinewidth": 0,
              "ticks": ""
             }
            },
            "type": "scatterpolar"
           }
          ],
          "scatterpolargl": [
           {
            "marker": {
             "colorbar": {
              "outlinewidth": 0,
              "ticks": ""
             }
            },
            "type": "scatterpolargl"
           }
          ],
          "scatterternary": [
           {
            "marker": {
             "colorbar": {
              "outlinewidth": 0,
              "ticks": ""
             }
            },
            "type": "scatterternary"
           }
          ],
          "surface": [
           {
            "colorbar": {
             "outlinewidth": 0,
             "ticks": ""
            },
            "colorscale": [
             [
              0,
              "#0d0887"
             ],
             [
              0.1111111111111111,
              "#46039f"
             ],
             [
              0.2222222222222222,
              "#7201a8"
             ],
             [
              0.3333333333333333,
              "#9c179e"
             ],
             [
              0.4444444444444444,
              "#bd3786"
             ],
             [
              0.5555555555555556,
              "#d8576b"
             ],
             [
              0.6666666666666666,
              "#ed7953"
             ],
             [
              0.7777777777777778,
              "#fb9f3a"
             ],
             [
              0.8888888888888888,
              "#fdca26"
             ],
             [
              1,
              "#f0f921"
             ]
            ],
            "type": "surface"
           }
          ],
          "table": [
           {
            "cells": {
             "fill": {
              "color": "#EBF0F8"
             },
             "line": {
              "color": "white"
             }
            },
            "header": {
             "fill": {
              "color": "#C8D4E3"
             },
             "line": {
              "color": "white"
             }
            },
            "type": "table"
           }
          ]
         },
         "layout": {
          "annotationdefaults": {
           "arrowcolor": "#2a3f5f",
           "arrowhead": 0,
           "arrowwidth": 1
          },
          "autotypenumbers": "strict",
          "coloraxis": {
           "colorbar": {
            "outlinewidth": 0,
            "ticks": ""
           }
          },
          "colorscale": {
           "diverging": [
            [
             0,
             "#8e0152"
            ],
            [
             0.1,
             "#c51b7d"
            ],
            [
             0.2,
             "#de77ae"
            ],
            [
             0.3,
             "#f1b6da"
            ],
            [
             0.4,
             "#fde0ef"
            ],
            [
             0.5,
             "#f7f7f7"
            ],
            [
             0.6,
             "#e6f5d0"
            ],
            [
             0.7,
             "#b8e186"
            ],
            [
             0.8,
             "#7fbc41"
            ],
            [
             0.9,
             "#4d9221"
            ],
            [
             1,
             "#276419"
            ]
           ],
           "sequential": [
            [
             0,
             "#0d0887"
            ],
            [
             0.1111111111111111,
             "#46039f"
            ],
            [
             0.2222222222222222,
             "#7201a8"
            ],
            [
             0.3333333333333333,
             "#9c179e"
            ],
            [
             0.4444444444444444,
             "#bd3786"
            ],
            [
             0.5555555555555556,
             "#d8576b"
            ],
            [
             0.6666666666666666,
             "#ed7953"
            ],
            [
             0.7777777777777778,
             "#fb9f3a"
            ],
            [
             0.8888888888888888,
             "#fdca26"
            ],
            [
             1,
             "#f0f921"
            ]
           ],
           "sequentialminus": [
            [
             0,
             "#0d0887"
            ],
            [
             0.1111111111111111,
             "#46039f"
            ],
            [
             0.2222222222222222,
             "#7201a8"
            ],
            [
             0.3333333333333333,
             "#9c179e"
            ],
            [
             0.4444444444444444,
             "#bd3786"
            ],
            [
             0.5555555555555556,
             "#d8576b"
            ],
            [
             0.6666666666666666,
             "#ed7953"
            ],
            [
             0.7777777777777778,
             "#fb9f3a"
            ],
            [
             0.8888888888888888,
             "#fdca26"
            ],
            [
             1,
             "#f0f921"
            ]
           ]
          },
          "colorway": [
           "#636efa",
           "#EF553B",
           "#00cc96",
           "#ab63fa",
           "#FFA15A",
           "#19d3f3",
           "#FF6692",
           "#B6E880",
           "#FF97FF",
           "#FECB52"
          ],
          "font": {
           "color": "#2a3f5f"
          },
          "geo": {
           "bgcolor": "white",
           "lakecolor": "white",
           "landcolor": "#E5ECF6",
           "showlakes": true,
           "showland": true,
           "subunitcolor": "white"
          },
          "hoverlabel": {
           "align": "left"
          },
          "hovermode": "closest",
          "mapbox": {
           "style": "light"
          },
          "paper_bgcolor": "white",
          "plot_bgcolor": "#E5ECF6",
          "polar": {
           "angularaxis": {
            "gridcolor": "white",
            "linecolor": "white",
            "ticks": ""
           },
           "bgcolor": "#E5ECF6",
           "radialaxis": {
            "gridcolor": "white",
            "linecolor": "white",
            "ticks": ""
           }
          },
          "scene": {
           "xaxis": {
            "backgroundcolor": "#E5ECF6",
            "gridcolor": "white",
            "gridwidth": 2,
            "linecolor": "white",
            "showbackground": true,
            "ticks": "",
            "zerolinecolor": "white"
           },
           "yaxis": {
            "backgroundcolor": "#E5ECF6",
            "gridcolor": "white",
            "gridwidth": 2,
            "linecolor": "white",
            "showbackground": true,
            "ticks": "",
            "zerolinecolor": "white"
           },
           "zaxis": {
            "backgroundcolor": "#E5ECF6",
            "gridcolor": "white",
            "gridwidth": 2,
            "linecolor": "white",
            "showbackground": true,
            "ticks": "",
            "zerolinecolor": "white"
           }
          },
          "shapedefaults": {
           "line": {
            "color": "#2a3f5f"
           }
          },
          "ternary": {
           "aaxis": {
            "gridcolor": "white",
            "linecolor": "white",
            "ticks": ""
           },
           "baxis": {
            "gridcolor": "white",
            "linecolor": "white",
            "ticks": ""
           },
           "bgcolor": "#E5ECF6",
           "caxis": {
            "gridcolor": "white",
            "linecolor": "white",
            "ticks": ""
           }
          },
          "title": {
           "x": 0.05
          },
          "xaxis": {
           "automargin": true,
           "gridcolor": "white",
           "linecolor": "white",
           "ticks": "",
           "title": {
            "standoff": 15
           },
           "zerolinecolor": "white",
           "zerolinewidth": 2
          },
          "yaxis": {
           "automargin": true,
           "gridcolor": "white",
           "linecolor": "white",
           "ticks": "",
           "title": {
            "standoff": 15
           },
           "zerolinecolor": "white",
           "zerolinewidth": 2
          }
         }
        },
        "title": {
         "text": "ChopBlock Predictions"
        },
        "xaxis": {
         "anchor": "y",
         "categoryorder": "total descending",
         "domain": [
          0,
          1
         ],
         "title": {
          "text": "Franchise"
         }
        },
        "yaxis": {
         "anchor": "x",
         "domain": [
          0,
          1
         ],
         "title": {
          "text": "scoreRemaining"
         }
        }
       }
      }
     },
     "metadata": {},
     "output_type": "display_data"
    }
   ],
   "source": [
    "# chart\n",
    "players_onthefield = merged.loc[merged.status==\"starter\"]\n",
    "players_onthefield = players_onthefield.sort_values(by='scoreRemaining', ascending=False, ignore_index=True)\n",
    "\n",
    "fran_rank = players_onthefield.groupby('franchiseName').sum().sort_values(by='scoreRemaining', ascending=False)\n",
    "\n",
    "sorter = fran_rank.index\n",
    "\n",
    "players_onthefield.franchiseName = players_onthefield.franchiseName.astype(\"category\")\n",
    "players_onthefield.franchiseName.cat.set_categories(sorter, inplace=True)\n",
    "players_onthefield.sort_values([\"franchiseName\"], inplace=True)\n",
    "color_discrete_map = dict(zip(players_onthefield.id_mfl, players_onthefield.color))\n",
    "# Create bar chart\n",
    "figPred = px.bar(players_onthefield, \n",
    "            x=\"franchiseName\", \n",
    "            y=\"scoreRemaining\", \n",
    "            color=\"player\", \n",
    "            color_discrete_sequence=list(players_onthefield['color']),\n",
    "            #     \"QB\": \"hsla(210, 60%, 25%, 1)\", #blue #1033a6 #0c2987 1033a6 062647 #293745 \n",
    "            #     \"RB\": \"hsla(12, 50%, 45%, 1)\", #gold #f5d000 ffa524 a23419 a34e39\n",
    "            #     \"WR\": \"hsla(267, 40%, 45%, 1)\", #purple #4f22bc #643fc1 643fc1 621B74 675280\n",
    "            #     \"TE\": \"hsla(177, 68%, 36%, 1)\", #teal #02687b #038097 1295ad 43B3AE\n",
    "            #     \"PK\": \"hsla(14, 30%, 40%, 1)\", #gold #f5d000 ffa524 664e47\n",
    "            #     \"DF\": \"hsla(35, 70%, 65%, 1)\"}, #gold #f5d000 ffa524 a49375 ffb54d\n",
    "            category_orders={\n",
    "                \"pos\": [\"QB\", \"RB\", \"WR\", \"TE\", \"PK\", \"DF\"]},\n",
    "            text='player', \n",
    "            hover_name=\"player\",\n",
    "            hover_data={\n",
    "                'scoreRemaining':True, 'weeklyPred':True, 'scaled':True,\n",
    "                'player':False, 'pos':False, 'franchiseName':False\n",
    "                },\n",
    "            labels={\n",
    "                \"franchiseName\":\"Franchise\",\n",
    "                \"predRelative\":\"Player Value\",\n",
    "                \"pred\":\"ChopBlock Prediction\",\n",
    "                \"sharkAbsolute\":\"FantasySharks Prediction\",\n",
    "                \"adpAbsolute\":\"ADP-Based Prediction\"\n",
    "            }\n",
    "            )\n",
    "figPred.update_layout(\n",
    "            barmode='stack', \n",
    "            xaxis={'categoryorder':'total descending'},\n",
    "            plot_bgcolor='rgba(0,0,0,0)',\n",
    "            title=\"ChopBlock Predictions\",\n",
    "            font_family=\"Skia\",\n",
    "            showlegend=False\n",
    "            )\n",
    "figPred.show()\n",
    "#graphJSON_pred = json.dumps(figPred, cls=plotly.utils.PlotlyJSONEncoder)\n",
    "#return render_template('compareFranchises2.html', graphJSON_pred=graphJSON_pred, graphJSON_adp=graphJSON_adp, graphJSON_shark=graphJSON_shark)\n"
   ]
  },
  {
   "cell_type": "code",
   "execution_count": null,
   "metadata": {},
   "outputs": [],
   "source": []
  }
 ],
 "metadata": {
  "kernelspec": {
   "display_name": "Python 3.7.13 ('ffdemo')",
   "language": "python",
   "name": "python3"
  },
  "language_info": {
   "codemirror_mode": {
    "name": "ipython",
    "version": 3
   },
   "file_extension": ".py",
   "mimetype": "text/x-python",
   "name": "python",
   "nbconvert_exporter": "python",
   "pygments_lexer": "ipython3",
   "version": "3.7.13"
  },
  "orig_nbformat": 4,
  "vscode": {
   "interpreter": {
    "hash": "8d905582af795a1d852d8b489de0aa5c13367f17d826c05fe58bb0ea835ffe19"
   }
  }
 },
 "nbformat": 4,
 "nbformat_minor": 2
}
