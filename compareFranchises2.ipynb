{
 "cells": [
  {
   "cell_type": "code",
   "execution_count": 1,
   "metadata": {},
   "outputs": [],
   "source": [
    "# Import dependencies\n",
    "# Standard python libraries\n",
    "import json\n",
    "import os\n",
    "# Third-party libraries\n",
    "from flask import Flask, redirect, request, url_for, render_template, session\n",
    "from flask_login import (\n",
    "    UserMixin,\n",
    "    LoginManager,\n",
    "    current_user,\n",
    "    login_required,\n",
    "    login_user,\n",
    "    logout_user,\n",
    ")\n",
    "from bs4 import BeautifulSoup\n",
    "from oauthlib.oauth2 import WebApplicationClient\n",
    "import requests\n",
    "import pandas as pd\n",
    "import psycopg2\n",
    "import plotly\n",
    "import plotly.express as px\n",
    "import plotly.graph_objects as go\n",
    "\n",
    "# Internal imports\n",
    "from user import User\n",
    "from db import get_df\n",
    "\n",
    "# Configuration (These variables are stored as environment variables)\n",
    "GOOGLE_CLIENT_ID = os.environ.get(\"GOOGLE_CLIENT_ID\", None)\n",
    "GOOGLE_CLIENT_SECRET = os.environ.get(\"GOOGLE_CLIENT_SECRET\", None)\n",
    "GOOGLE_DISCOVERY_URL = (\"https://accounts.google.com/.well-known/openid-configuration\")\n",
    "\n",
    "# Find environment variables\n",
    "DATABASE_URL = os.environ.get(\"DATABASE_URL\", None)\n",
    "# sqlalchemy deprecated urls which begin with \"postgres://\"; now it needs to start with \"postgresql://\"\n",
    "if DATABASE_URL.startswith(\"postgres://\"):\n",
    "    DATABASE_URL = DATABASE_URL.replace(\"postgres://\", \"postgresql://\", 1)"
   ]
  },
  {
   "cell_type": "code",
   "execution_count": 57,
   "metadata": {},
   "outputs": [],
   "source": [
    "# @app.route('/compareFranchises2')\n",
    "# #@login_required\n",
    "# def compareFranchises2():\n",
    "    # user_league = session.get(\"user_league\")\n",
    "user_league = \"53906\"\n",
    "# Get Franchises in the league\n",
    "urlString = f\"https://www54.myfantasyleague.com/2022/export?TYPE=league&L={user_league}\"\n",
    "response = requests.get(urlString)\n",
    "soup = BeautifulSoup(response.content,'xml')\n",
    "data = []\n",
    "franchises = soup.find_all('franchise')\n",
    "for i in range(len(franchises)):\n",
    "    rows = [franchises[i].get(\"id\"), franchises[i].get(\"name\")]\n",
    "    data.append(rows)\n",
    "franchise_df = pd.DataFrame(data)\n",
    "franchise_df.columns=['FranchiseID','FranchiseName']\n",
    "franchise_df = franchise_df.append({\"FranchiseID\":\"FA\", \"FranchiseName\":\"Free Agent\"}, ignore_index=True)\n",
    "\n",
    "# Get franchise rosters\n",
    "urlString = f\"https://www54.myfantasyleague.com/2022/export?TYPE=rosters&L={user_league}\"\n",
    "response = requests.get(urlString)\n",
    "soup = BeautifulSoup(response.content,'xml')\n",
    "data = []\n",
    "franchises = soup.find_all('franchise')\n",
    "for i in range(0,len(franchises)):\n",
    "    current_franchise = franchises[i].find_all('player')\n",
    "    for j in range(0,len(current_franchise)):\n",
    "        rows = [franchises[i].get(\"id\"), franchises[i].get(\"week\"), current_franchise[j].get(\"id\"), current_franchise[j].get(\"status\")]\n",
    "        data.append(rows)\n",
    "rosters_df = pd.DataFrame(data)\n",
    "\n",
    "# Get Free Agents\n",
    "urlString = f\"https://www54.myfantasyleague.com/2022/export?TYPE=freeAgents&L={user_league}\"\n",
    "response = requests.get(urlString)\n",
    "soup = BeautifulSoup(response.content,'xml')\n",
    "data = []\n",
    "freeAgents = soup.find_all('player')\n",
    "for i in range(len(freeAgents)):\n",
    "    rows = [\"FA\", \"\", freeAgents[i].get(\"id\"), \"Free Agent\"]\n",
    "    data.append(rows)\n",
    "fa_df = pd.DataFrame(data)\n",
    "rosters_df = rosters_df.append(fa_df)\n",
    "rosters_df.columns=['FranchiseID','Week','PlayerID','RosterStatus']\n",
    "\n",
    "\n",
    "\n",
    "# Get all players, sharkRank, and ADP\n",
    "predictions = get_df(\"predictions\")\n",
    "\n",
    "\n",
    "\n",
    "# Merge all dfs\n",
    "complete = predictions.merge(rosters_df, left_on='id_mfl', right_on='PlayerID', how='left').merge(franchise_df[['FranchiseID', 'FranchiseName']], on='FranchiseID', how='left')\n",
    "complete['FranchiseID'].fillna(\"FA\", inplace=True)\n",
    "complete['FranchiseName'].fillna(\"Free Agent\", inplace=True)\n",
    "complete['RosterStatus'].fillna(\"Free Agent\", inplace=True)\n",
    "\n",
    "\n",
    "\n",
    "# Split complete df by player pos\n",
    "qbs = complete[complete['pos'] == \"QB\"]\n",
    "qbs.reset_index(inplace=True, drop=True)\n",
    "rbs = complete[complete['pos'] == \"RB\"]\n",
    "rbs.reset_index(inplace=True, drop=True)\n",
    "wrs = complete[complete['pos'] == \"WR\"]\n",
    "wrs.reset_index(inplace=True, drop=True)\n",
    "tes = complete[complete['pos'] == \"TE\"]\n",
    "tes.reset_index(inplace=True, drop=True)\n",
    "pks = complete[complete['pos'] == \"PK\"]\n",
    "pks.reset_index(inplace=True, drop=True)\n",
    "defs = complete[complete['pos'] == \"DF\"]\n",
    "defs.reset_index(inplace=True, drop=True)\n",
    "\n",
    "\n",
    "### ADP Predictions\n",
    "# Roster Builder logic\n",
    "qbs_top = qbs.sort_values(by='adpAbsolute', ascending=False, ignore_index=True).groupby('FranchiseName').head(1)\n",
    "rbs_top = rbs.sort_values(by='adpAbsolute', ascending=False, ignore_index=True).groupby('FranchiseName').head(2)\n",
    "wrs_top = wrs.sort_values(by='adpAbsolute', ascending=False, ignore_index=True).groupby('FranchiseName').head(3)\n",
    "tes_top = tes.sort_values(by='adpAbsolute', ascending=False, ignore_index=True).groupby('FranchiseName').head(2)\n",
    "pks_top = pks.sort_values(by='adpAbsolute', ascending=False, ignore_index=True).groupby('FranchiseName').head(2)\n",
    "defs_top = defs.sort_values(by='adpAbsolute', ascending=False, ignore_index=True).groupby('FranchiseName').head(2)\n",
    "\n",
    "qbs_remainder = qbs[~qbs['PlayerID'].isin(qbs_top['PlayerID'])].groupby('FranchiseName').head(1)\n",
    "rbs_remainder = rbs[~rbs['PlayerID'].isin(rbs_top['PlayerID'])].groupby('FranchiseName').head(3)\n",
    "wrs_remainder = wrs[~wrs['PlayerID'].isin(wrs_top['PlayerID'])].groupby('FranchiseName').head(3)\n",
    "tes_remainder = tes[~tes['PlayerID'].isin(tes_top['PlayerID'])].groupby('FranchiseName').head(3)\n",
    "\n",
    "remainder = pd.concat([qbs_remainder, rbs_remainder, wrs_remainder, tes_remainder])\n",
    "\n",
    "top_remainders = remainder.sort_values(by='adpAbsolute', ascending=False, ignore_index=True).groupby('FranchiseName').head(3)\n",
    "\n",
    "players_onthefield = pd.concat([qbs_top, rbs_top, wrs_top, tes_top, pks_top, defs_top, top_remainders])\n",
    "players_onthefield = players_onthefield.sort_values(by='adpAbsolute', ascending=False, ignore_index=True)\n",
    "\n",
    "fran_rank = players_onthefield.groupby('FranchiseName').sum().sort_values(by='adpAbsolute', ascending=False)\n",
    "\n",
    "sorter = fran_rank.index\n",
    "\n",
    "players_onthefield.FranchiseName = players_onthefield.FranchiseName.astype(\"category\")\n",
    "players_onthefield.FranchiseName.cat.set_categories(sorter, inplace=True)\n",
    "players_onthefield.sort_values([\"FranchiseName\"], inplace=True)\n",
    "\n",
    "# remove Free Agents\n",
    "players_onthefield = players_onthefield.loc[players_onthefield.FranchiseID!=\"FA\"]\n",
    "\n",
    "# Find the lowest scoring player on the field and set them as the low bar\n",
    "for x in [\"QB\", \"RB\", \"WR\", \"TE\", \"PK\", \"DF\"]:\n",
    "    players_onthefield.loc[players_onthefield['pos']==x, 'adpComp'] = players_onthefield.loc[players_onthefield['pos']==x, 'adpAbsolute'].min()\n",
    "players_onthefield['adpRelative'] = players_onthefield['adpAbsolute'] - players_onthefield['adpComp']\n",
    "\n",
    "# Create bar chart\n",
    "figADP = px.bar(players_onthefield, \n",
    "            x=\"FranchiseName\", \n",
    "            y=\"adpRelative\", \n",
    "            color=\"pos\", \n",
    "            text='player', \n",
    "            color_discrete_map={\n",
    "                \"RB\": \"#062647\", #blue #1033a6 #0c2987 1033a6 062647\n",
    "                \"TE\": \"#43B3AE\", #teal #02687b #038097 1295ad 43B3AE\n",
    "                \"WR\": \"#621B74\", #purple #4f22bc #643fc1 643fc1 621B74\n",
    "                \"QB\": \"#ffa524\", #gold #f5d000 f5d000 ffa524\n",
    "                \"PK\": \"#0c2987\", #gold #f5d000 f5d000 ffa524\n",
    "                \"DF\": \"#1033a6\"}, #gold #f5d000 f5d000 ffa524\n",
    "            category_orders={\n",
    "                \"pos\": [\"RB\", \"QB\", \"WR\", \"TE\", \"PK\", \"DF\"]}\n",
    "            )\n",
    "figADP.update_layout(barmode='stack', xaxis={'categoryorder':'total descending'})\n",
    "\n",
    "graphJSON_adp = json.dumps(figADP, cls=plotly.utils.PlotlyJSONEncoder)\n",
    "\n",
    "\n",
    "### Shark Predictions\n",
    "# Roster Builder logic\n",
    "qbs_top = qbs.sort_values(by='sharkAbsolute', ascending=False, ignore_index=True).groupby('FranchiseName').head(1)\n",
    "rbs_top = rbs.sort_values(by='sharkAbsolute', ascending=False, ignore_index=True).groupby('FranchiseName').head(2)\n",
    "wrs_top = wrs.sort_values(by='sharkAbsolute', ascending=False, ignore_index=True).groupby('FranchiseName').head(3)\n",
    "tes_top = tes.sort_values(by='sharkAbsolute', ascending=False, ignore_index=True).groupby('FranchiseName').head(2)\n",
    "pks_top = pks.sort_values(by='sharkAbsolute', ascending=False, ignore_index=True).groupby('FranchiseName').head(2)\n",
    "defs_top = defs.sort_values(by='sharkAbsolute', ascending=False, ignore_index=True).groupby('FranchiseName').head(2)\n",
    "\n",
    "qbs_remainder = qbs[~qbs['PlayerID'].isin(qbs_top['PlayerID'])].groupby('FranchiseName').head(1)\n",
    "rbs_remainder = rbs[~rbs['PlayerID'].isin(rbs_top['PlayerID'])].groupby('FranchiseName').head(3)\n",
    "wrs_remainder = wrs[~wrs['PlayerID'].isin(wrs_top['PlayerID'])].groupby('FranchiseName').head(3)\n",
    "tes_remainder = tes[~tes['PlayerID'].isin(tes_top['PlayerID'])].groupby('FranchiseName').head(3)\n",
    "\n",
    "remainder = pd.concat([qbs_remainder, rbs_remainder, wrs_remainder, tes_remainder])\n",
    "\n",
    "top_remainders = remainder.sort_values(by='sharkAbsolute', ascending=False, ignore_index=True).groupby('FranchiseName').head(3)\n",
    "\n",
    "players_onthefield = pd.concat([qbs_top, rbs_top, wrs_top, tes_top, pks_top, defs_top, top_remainders])\n",
    "players_onthefield = players_onthefield.sort_values(by='sharkAbsolute', ascending=False, ignore_index=True)\n",
    "\n",
    "fran_rank = players_onthefield.groupby('FranchiseName').sum().sort_values(by='sharkAbsolute', ascending=False)\n",
    "\n",
    "sorter = fran_rank.index\n",
    "\n",
    "players_onthefield.FranchiseName = players_onthefield.FranchiseName.astype(\"category\")\n",
    "players_onthefield.FranchiseName.cat.set_categories(sorter, inplace=True)\n",
    "players_onthefield.sort_values([\"FranchiseName\"], inplace=True)\n",
    "\n",
    "# remove Free Agents\n",
    "players_onthefield = players_onthefield.loc[players_onthefield.FranchiseID!=\"FA\"]\n",
    "\n",
    "# Find the lowest scoring player on the field and set them as the low bar\n",
    "for x in [\"QB\", \"RB\", \"WR\", \"TE\", \"PK\", \"DF\"]:\n",
    "    players_onthefield.loc[players_onthefield['pos']==x, 'sharkComp'] = players_onthefield.loc[players_onthefield['pos']==x, 'sharkAbsolute'].min()\n",
    "players_onthefield['sharkRelative'] = players_onthefield['sharkAbsolute'] - players_onthefield['sharkComp']\n",
    "\n",
    "# Create bar chart\n",
    "figShark = px.bar(players_onthefield, \n",
    "            x=\"FranchiseName\", \n",
    "            y=\"sharkRelative\", \n",
    "            color=\"pos\", \n",
    "            text='player', \n",
    "            color_discrete_map={\n",
    "                \"RB\": \"#062647\", #blue #1033a6 #0c2987 1033a6 062647\n",
    "                \"TE\": \"#43B3AE\", #teal #02687b #038097 1295ad 43B3AE\n",
    "                \"WR\": \"#621B74\", #purple #4f22bc #643fc1 643fc1 621B74\n",
    "                \"QB\": \"#ffa524\", #gold #f5d000 f5d000 ffa524\n",
    "                \"PK\": \"#0c2987\", #gold #f5d000 f5d000 ffa524\n",
    "                \"DF\": \"#1033a6\"}, #gold #f5d000 f5d000 ffa524\n",
    "            category_orders={\n",
    "                \"pos\": [\"RB\", \"QB\", \"WR\", \"TE\", \"PK\", \"DF\"]}\n",
    "            )\n",
    "figShark.update_layout(barmode='stack', xaxis={'categoryorder':'total descending'})\n",
    "\n",
    "graphJSON_shark = json.dumps(figShark, cls=plotly.utils.PlotlyJSONEncoder)\n",
    "\n",
    "\n",
    "\n",
    "### My predictions\n",
    "# Roster Builder logic\n",
    "qbs_top = qbs.sort_values(by='pred', ascending=False, ignore_index=True).groupby('FranchiseName').head(1)\n",
    "rbs_top = rbs.sort_values(by='pred', ascending=False, ignore_index=True).groupby('FranchiseName').head(2)\n",
    "wrs_top = wrs.sort_values(by='pred', ascending=False, ignore_index=True).groupby('FranchiseName').head(3)\n",
    "tes_top = tes.sort_values(by='pred', ascending=False, ignore_index=True).groupby('FranchiseName').head(2)\n",
    "pks_top = pks.sort_values(by='pred', ascending=False, ignore_index=True).groupby('FranchiseName').head(2)\n",
    "defs_top = defs.sort_values(by='pred', ascending=False, ignore_index=True).groupby('FranchiseName').head(2)\n",
    "\n",
    "qbs_remainder = qbs[~qbs['PlayerID'].isin(qbs_top['PlayerID'])].groupby('FranchiseName').head(1)\n",
    "rbs_remainder = rbs[~rbs['PlayerID'].isin(rbs_top['PlayerID'])].groupby('FranchiseName').head(3)\n",
    "wrs_remainder = wrs[~wrs['PlayerID'].isin(wrs_top['PlayerID'])].groupby('FranchiseName').head(3)\n",
    "tes_remainder = tes[~tes['PlayerID'].isin(tes_top['PlayerID'])].groupby('FranchiseName').head(3)\n",
    "\n",
    "remainder = pd.concat([qbs_remainder, rbs_remainder, wrs_remainder, tes_remainder])\n",
    "\n",
    "top_remainders = remainder.sort_values(by='pred', ascending=False, ignore_index=True).groupby('FranchiseName').head(3)\n",
    "\n",
    "players_onthefield = pd.concat([qbs_top, rbs_top, wrs_top, tes_top, pks_top, defs_top, top_remainders])\n",
    "players_onthefield = players_onthefield.sort_values(by='pred', ascending=False, ignore_index=True)\n",
    "\n",
    "fran_rank = players_onthefield.groupby('FranchiseName').sum().sort_values(by='pred', ascending=False)\n",
    "\n",
    "sorter = fran_rank.index\n",
    "\n",
    "players_onthefield.FranchiseName = players_onthefield.FranchiseName.astype(\"category\")\n",
    "players_onthefield.FranchiseName.cat.set_categories(sorter, inplace=True)\n",
    "players_onthefield.sort_values([\"FranchiseName\"], inplace=True)\n",
    "\n",
    "# remove Free Agents\n",
    "players_onthefield = players_onthefield.loc[players_onthefield.FranchiseID!=\"FA\"]\n",
    "\n",
    "# Find the lowest scoring player on the field and set them as the low bar\n",
    "for x in [\"QB\", \"RB\", \"WR\", \"TE\", \"PK\", \"DF\"]:\n",
    "    players_onthefield.loc[players_onthefield['pos']==x, 'predComp'] = players_onthefield.loc[players_onthefield['pos']==x, 'pred'].min()\n",
    "players_onthefield['predRelative'] = players_onthefield['pred'] - players_onthefield['predComp']\n"
   ]
  },
  {
   "cell_type": "code",
   "execution_count": 136,
   "metadata": {},
   "outputs": [
    {
     "data": {
      "application/vnd.plotly.v1+json": {
       "config": {
        "plotlyServerURL": "https://plot.ly"
       },
       "data": [
        {
         "alignmentgroup": "True",
         "customdata": [
          [
           347.79867237467755,
           329.2466644,
           294.2400014,
           "TOM BRADY",
           "QB"
          ],
          [
           310.7684531036826,
           225.54333340000002,
           205.2100001,
           "KIRK COUSINS",
           "QB"
          ],
          [
           328.81783135637795,
           302.6699992,
           321.0633321,
           "KYLER MURRAY",
           "QB"
          ],
          [
           246.61009134938752,
           280.950002,
           302.6699992,
           "JALEN HURTS",
           "QB"
          ],
          [
           313.02860394838586,
           260.00666859999995,
           225.54333340000002,
           "DEREK CARR",
           "QB"
          ],
          [
           339.3474530011374,
           351.0099986,
           351.0099986,
           "PATRICK MAHOMES",
           "QB"
          ],
          [
           266.1212113600973,
           162.996669,
           162.996669,
           "JARED GOFF",
           "QB"
          ],
          [
           325.11240091320684,
           275.6800008,
           311.5299978,
           "JOE BURROW",
           "QB"
          ],
          [
           330.24037785688034,
           311.5299978,
           280.950002,
           "AARON RODGERS",
           "QB"
          ],
          [
           259.74053921680695,
           195.49333090000002,
           173.9599986,
           "MAC JONES",
           "QB"
          ],
          [
           254.64339513601837,
           187.106664,
           167.096667,
           "BAKER MAYFIELD",
           "QB"
          ],
          [
           254.5680193115731,
           193.35333300000002,
           134.7733337,
           "DAVIS MILLS",
           "QB"
          ],
          [
           324.742713942439,
           362.949998,
           362.949998,
           "JOSH ALLEN",
           "QB"
          ],
          [
           331.41500101346094,
           243.2000015,
           243.2000015,
           "MATTHEW STAFFORD",
           "QB"
          ],
          [
           341.3234609152418,
           335.6466675,
           335.6466675,
           "JUSTIN HERBERT",
           "QB"
          ],
          [
           266.3993024075694,
           219.30666549999998,
           187.106664,
           "RYAN TANNEHILL",
           "QB"
          ],
          [
           261.0277768954832,
           321.0633321,
           329.2466644,
           "LAMAR JACKSON",
           "QB"
          ],
          [
           332.5414234105502,
           294.2400014,
           275.6800008,
           "DAK PRESCOTT",
           "QB"
          ],
          [
           307.1213146833726,
           211.04666699999999,
           193.35333300000002,
           "MATT RYAN",
           "QB"
          ],
          [
           231.45751352947087,
           199.07666519999998,
           216.4166656,
           "TREY LANCE",
           "QB"
          ],
          [
           274.8555652913605,
           288.14333500000004,
           288.14333500000004,
           "RUSSELL WILSON",
           "QB"
          ],
          [
           232.58574363474466,
           191.60666659999998,
           179.8799967,
           "JUSTIN FIELDS",
           "QB"
          ],
          [
           224.555341899648,
           131.853331,
           127.18666940000001,
           "JACOBY BRISSETT",
           "QB"
          ]
         ],
         "hovertemplate": "<b>%{hovertext}</b><br><br>Player Value=%{y}<br>ChopBlock Projection=%{customdata[0]}<br>FantasySharks Projection=%{customdata[1]}<br>ADP Projection=%{customdata[2]}<extra></extra>",
         "hovertext": [
          "TOM BRADY",
          "KIRK COUSINS",
          "KYLER MURRAY",
          "JALEN HURTS",
          "DEREK CARR",
          "PATRICK MAHOMES",
          "JARED GOFF",
          "JOE BURROW",
          "AARON RODGERS",
          "MAC JONES",
          "BAKER MAYFIELD",
          "DAVIS MILLS",
          "JOSH ALLEN",
          "MATTHEW STAFFORD",
          "JUSTIN HERBERT",
          "RYAN TANNEHILL",
          "LAMAR JACKSON",
          "DAK PRESCOTT",
          "MATT RYAN",
          "TREY LANCE",
          "RUSSELL WILSON",
          "JUSTIN FIELDS",
          "JACOBY BRISSETT"
         ],
         "legendgroup": "QB",
         "marker": {
          "color": "hsla(210, 60%, 25%, 1)",
          "pattern": {
           "shape": ""
          }
         },
         "name": "QB",
         "offsetgroup": "QB",
         "orientation": "v",
         "showlegend": true,
         "text": [
          "TOM BRADY",
          "KIRK COUSINS",
          "KYLER MURRAY",
          "JALEN HURTS",
          "DEREK CARR",
          "PATRICK MAHOMES",
          "JARED GOFF",
          "JOE BURROW",
          "AARON RODGERS",
          "MAC JONES",
          "BAKER MAYFIELD",
          "DAVIS MILLS",
          "JOSH ALLEN",
          "MATTHEW STAFFORD",
          "JUSTIN HERBERT",
          "RYAN TANNEHILL",
          "LAMAR JACKSON",
          "DAK PRESCOTT",
          "MATT RYAN",
          "TREY LANCE",
          "RUSSELL WILSON",
          "JUSTIN FIELDS",
          "JACOBY BRISSETT"
         ],
         "textposition": "auto",
         "type": "bar",
         "x": [
          "Washington Fantasy Football Team",
          "Washington Fantasy Football Team",
          "Crocodilopolis Body Snatchers",
          "Crocodilopolis Body Snatchers",
          "Saskatoon Squatches",
          "Saskatoon Squatches",
          "Verdansk Vaqueros FFC",
          "Verdansk Vaqueros FFC",
          "Pretty Big Wieners",
          "Pretty Big Wieners",
          "O'Henry's Stiffies",
          "O'Henry's Stiffies",
          "Comeback Kings",
          "Comeback Kings",
          "Down with the Sickness unto Death",
          "Down with the Sickness unto Death",
          "Gus The Bus",
          "Providence Monastic Spirits",
          "Providence Monastic Spirits",
          "WHAM! BAM! Thank You CAM!",
          "WHAM! BAM! Thank You CAM!",
          "IDK much about soccer ",
          "IDK much about soccer "
         ],
         "xaxis": "x",
         "y": [
          123.24333047502955,
          86.21311120403459,
          104.26248945672995,
          22.054749449739518,
          88.47326204873787,
          114.79211110148941,
          41.56586946044928,
          100.55705901355884,
          105.68503595723234,
          35.18519731715895,
          30.08805323637037,
          30.012677411925097,
          100.18737204279103,
          106.85965911381294,
          116.76811901559381,
          41.843960507921395,
          36.472434995835215,
          107.98608151090218,
          82.56597278372459,
          6.902171629822874,
          50.30022339171251,
          8.03040173509666,
          0
         ],
         "yaxis": "y"
        },
        {
         "alignmentgroup": "True",
         "customdata": [
          [
           193.58823644228698,
           136.29666699999999,
           142.4133336,
           "TONY POLLARD",
           "RB"
          ],
          [
           228.3797654483475,
           162.3066681,
           148.6399994,
           "DAMIEN HARRIS",
           "RB"
          ],
          [
           239.76286360382989,
           241.6733307,
           250.8499969,
           "NAJEE HARRIS",
           "RB"
          ],
          [
           228.44555402343963,
           187.35333400000002,
           184.0266673,
           "JOSH JACOBS",
           "RB"
          ],
          [
           235.24974024879208,
           195.54666540000002,
           191.51666559999998,
           "DAVID MONTGOMERY",
           "RB"
          ],
          [
           247.90985285553472,
           240.23333080000003,
           241.6733307,
           "JOE MIXON",
           "RB"
          ],
          [
           222.68746183725432,
           191.51666559999998,
           208.38333380000003,
           "JAVONTE WILLIAMS",
           "RB"
          ],
          [
           217.90826144868709,
           232.2466665,
           224.9766663,
           "SAQUON BARKLEY",
           "RB"
          ],
          [
           208.63062666530521,
           184.0266673,
           162.3066681,
           "DEVIN SINGLETARY",
           "RB"
          ],
          [
           265.842272055568,
           220.38333280000003,
           202.2133352,
           "EZEKIEL ELLIOTT",
           "RB"
          ],
          [
           223.36772714015873,
           176.8966665,
           180.9799988,
           "ELIJAH MITCHELL",
           "RB"
          ],
          [
           216.35452585306058,
           154.92666780000002,
           145.293335,
           "MILES SANDERS",
           "RB"
          ],
          [
           218.00075940491394,
           157.6533351,
           182.403333,
           "JK DOBBINS",
           "RB"
          ],
          [
           230.1876491981335,
           202.2133352,
           213.09333340000003,
           "LEONARD FOURNETTE",
           "RB"
          ],
          [
           263.7273265315137,
           344.2333293,
           344.2333293,
           "JONATHAN TAYLOR",
           "RB"
          ],
          [
           238.359891510339,
           182.403333,
           167.3033356,
           "ANTONIO GIBSON",
           "RB"
          ],
          [
           279.2707563564466,
           283.2766642,
           283.2766642,
           "DERRICK HENRY",
           "RB"
          ],
          [
           145.97476837079824,
           131.4633336,
           93.29999924,
           "JD MCKISSIC",
           "RB"
          ],
          [
           203.6912591685106,
           145.293335,
           187.35333400000002,
           "BREECE HALL",
           "RB"
          ],
          [
           124.78101840453327,
           103.56666640000002,
           71.89333420000001,
           "MIKE DAVIS",
           "RB"
          ],
          [
           242.99995187510012,
           180.9799988,
           176.8966665,
           "CLYDE EDWARDS-HELAIRE",
           "RB"
          ],
          [
           152.32811823086843,
           121.8599986,
           109.59000120000002,
           "NYHEIM HINES",
           "RB"
          ],
          [
           209.55930324607178,
           153.7333333,
           151.9466665,
           "CHASE EDMONDS",
           "RB"
          ],
          [
           235.85760180707774,
           208.38333380000003,
           220.38333280000003,
           "AARON JONES",
           "RB"
          ],
          [
           230.30828312434954,
           250.8499969,
           236.41333109999997,
           "NICK CHUBB",
           "RB"
          ],
          [
           201.13795747989585,
           236.41333109999997,
           157.6533351,
           "RASHAAD PENNY",
           "RB"
          ],
          [
           192.2753378929566,
           32.85999997,
           154.92666780000002,
           "DAMEON PIERCE",
           "RB"
          ],
          [
           251.81529732809787,
           265.73999530000003,
           265.73999530000003,
           "DALVIN COOK",
           "RB"
          ],
          [
           198.4949867050487,
           197.0633331,
           197.0633331,
           "CAM AKERS",
           "RB"
          ],
          [
           238.43819276602687,
           213.09333340000003,
           232.2466665,
           "DANDRE SWIFT",
           "RB"
          ],
          [
           231.99518988495888,
           167.3033356,
           153.7333333,
           "CORDARRELLE PATTERSON",
           "RB"
          ],
          [
           265.27050472034836,
           294.58999839999996,
           320.90333250000003,
           "CHRISTIAN MCCAFFREY",
           "RB"
          ],
          [
           244.86193716171405,
           199.0400004,
           199.0400004,
           "JAMES CONNER",
           "RB"
          ],
          [
           266.0619909832341,
           224.9766663,
           240.23333080000003,
           "ALVIN KAMARA",
           "RB"
          ],
          [
           261.29832227365205,
           320.90333250000003,
           294.58999839999996,
           "AUSTIN EKELER",
           "RB"
          ]
         ],
         "hovertemplate": "<b>%{hovertext}</b><br><br>Player Value=%{y}<br>ChopBlock Projection=%{customdata[0]}<br>FantasySharks Projection=%{customdata[1]}<br>ADP Projection=%{customdata[2]}<extra></extra>",
         "hovertext": [
          "TONY POLLARD",
          "DAMIEN HARRIS",
          "NAJEE HARRIS",
          "JOSH JACOBS",
          "DAVID MONTGOMERY",
          "JOE MIXON",
          "JAVONTE WILLIAMS",
          "SAQUON BARKLEY",
          "DEVIN SINGLETARY",
          "EZEKIEL ELLIOTT",
          "ELIJAH MITCHELL",
          "MILES SANDERS",
          "JK DOBBINS",
          "LEONARD FOURNETTE",
          "JONATHAN TAYLOR",
          "ANTONIO GIBSON",
          "DERRICK HENRY",
          "JD MCKISSIC",
          "BREECE HALL",
          "MIKE DAVIS",
          "CLYDE EDWARDS-HELAIRE",
          "NYHEIM HINES",
          "CHASE EDMONDS",
          "AARON JONES",
          "NICK CHUBB",
          "RASHAAD PENNY",
          "DAMEON PIERCE",
          "DALVIN COOK",
          "CAM AKERS",
          "DANDRE SWIFT",
          "CORDARRELLE PATTERSON",
          "CHRISTIAN MCCAFFREY",
          "JAMES CONNER",
          "ALVIN KAMARA",
          "AUSTIN EKELER"
         ],
         "legendgroup": "RB",
         "marker": {
          "color": "hsla(12, 50%, 45%, 1)",
          "pattern": {
           "shape": ""
          }
         },
         "name": "RB",
         "offsetgroup": "RB",
         "orientation": "v",
         "showlegend": true,
         "text": [
          "TONY POLLARD",
          "DAMIEN HARRIS",
          "NAJEE HARRIS",
          "JOSH JACOBS",
          "DAVID MONTGOMERY",
          "JOE MIXON",
          "JAVONTE WILLIAMS",
          "SAQUON BARKLEY",
          "DEVIN SINGLETARY",
          "EZEKIEL ELLIOTT",
          "ELIJAH MITCHELL",
          "MILES SANDERS",
          "JK DOBBINS",
          "LEONARD FOURNETTE",
          "JONATHAN TAYLOR",
          "ANTONIO GIBSON",
          "DERRICK HENRY",
          "JD MCKISSIC",
          "BREECE HALL",
          "MIKE DAVIS",
          "CLYDE EDWARDS-HELAIRE",
          "NYHEIM HINES",
          "CHASE EDMONDS",
          "AARON JONES",
          "NICK CHUBB",
          "RASHAAD PENNY",
          "DAMEON PIERCE",
          "DALVIN COOK",
          "CAM AKERS",
          "DANDRE SWIFT",
          "CORDARRELLE PATTERSON",
          "CHRISTIAN MCCAFFREY",
          "JAMES CONNER",
          "ALVIN KAMARA",
          "AUSTIN EKELER"
         ],
         "textposition": "auto",
         "type": "bar",
         "x": [
          "Washington Fantasy Football Team",
          "Washington Fantasy Football Team",
          "Washington Fantasy Football Team",
          "Crocodilopolis Body Snatchers",
          "Crocodilopolis Body Snatchers",
          "Crocodilopolis Body Snatchers",
          "Saskatoon Squatches",
          "Saskatoon Squatches",
          "Verdansk Vaqueros FFC",
          "Verdansk Vaqueros FFC",
          "Verdansk Vaqueros FFC",
          "Pretty Big Wieners",
          "Pretty Big Wieners",
          "Pretty Big Wieners",
          "O'Henry's Stiffies",
          "O'Henry's Stiffies",
          "O'Henry's Stiffies",
          "Comeback Kings",
          "Comeback Kings",
          "Comeback Kings",
          "Comeback Kings",
          "Down with the Sickness unto Death",
          "Down with the Sickness unto Death",
          "Down with the Sickness unto Death",
          "Down with the Sickness unto Death",
          "Gus The Bus",
          "Gus The Bus",
          "Gus The Bus",
          "Gus The Bus",
          "Providence Monastic Spirits",
          "Providence Monastic Spirits",
          "WHAM! BAM! Thank You CAM!",
          "WHAM! BAM! Thank You CAM!",
          "IDK much about soccer ",
          "IDK much about soccer "
         ],
         "xaxis": "x",
         "y": [
          68.80721803775371,
          103.59874704381424,
          114.98184519929661,
          103.66453561890636,
          110.46872184425881,
          123.12883445100145,
          97.90644343272105,
          93.12724304415381,
          83.84960826077194,
          141.06125365103475,
          98.58670873562546,
          91.57350744852731,
          93.21974100038067,
          105.40663079360023,
          138.94630812698045,
          113.57887310580573,
          154.48973795191336,
          21.193749966264974,
          78.91024076397734,
          0,
          118.21893347056685,
          27.547099826335156,
          84.77828484153851,
          111.07658340254447,
          105.52726471981627,
          76.35693907536258,
          67.49431948842333,
          127.0342789235646,
          73.71396830051542,
          113.6571743614936,
          107.2141714804256,
          140.4894863158151,
          120.08091875718078,
          141.28097257870087,
          136.5173038691188
         ],
         "yaxis": "y"
        },
        {
         "alignmentgroup": "True",
         "customdata": [
          [
           169.67633926673219,
           173.55333149999998,
           176.2399994,
           "DK METCALF",
           "WR"
          ],
          [
           187.89380493433936,
           158.9633336,
           190.64333390000002,
           "TEE HIGGINS",
           "WR"
          ],
          [
           230.95543632870923,
           301.17999669999995,
           301.17999669999995,
           "COOPER KUPP",
           "WR"
          ],
          [
           237.68219804542653,
           252.1866684,
           229.2899994,
           "DEEBO SAMUEL",
           "WR"
          ],
          [
           191.02900412358508,
           100.41333309999999,
           72.38666687,
           "DEVIN DUVERNAY",
           "WR"
          ],
          [
           201.69585059982634,
           157.6800003,
           155.61333359999998,
           "CHRIS GODWIN",
           "WR"
          ],
          [
           174.68995141219668,
           164.73333380000003,
           187.7733337,
           "DJ MOORE",
           "WR"
          ],
          [
           166.59676322905653,
           148.1533325,
           154.1333344,
           "MARQUISE BROWN",
           "WR"
          ],
          [
           225.757810623727,
           229.2899994,
           263.99000040000004,
           "JAMARR CHASE",
           "WR"
          ],
          [
           144.24646178487563,
           112.0533335,
           132.79333290000002,
           "ELIJAH MOORE",
           "WR"
          ],
          [
           150.25209617272998,
           124.8933317,
           97.55,
           "JAKOBI MEYERS",
           "WR"
          ],
          [
           230.44936910114507,
           242.41000010000002,
           202.01333359999998,
           "TYREEK HILL",
           "WR"
          ],
          [
           164.62980041081238,
           142.6366659,
           118.1400009,
           "CHASE CLAYPOOL",
           "WR"
          ],
          [
           160.74355187516187,
           176.2399994,
           150.5100006,
           "AMARI COOPER",
           "WR"
          ],
          [
           230.43185182278287,
           263.99000040000004,
           252.1866684,
           "DAVANTE ADAMS",
           "WR"
          ],
          [
           128.42655611891652,
           82.52666677,
           69.14999975,
           "CURTIS SAMUEL",
           "WR"
          ],
          [
           181.93905864685186,
           141.07333269999998,
           120.87999930000001,
           "ROBERT WOODS",
           "WR"
          ],
          [
           170.54775681825865,
           187.7733337,
           192.0833349,
           "AJ BROWN",
           "WR"
          ],
          [
           178.56790166584713,
           99.92333221,
           88.71666667,
           "RUSSELL GAGE",
           "WR"
          ],
          [
           210.07833445572817,
           283.8766652,
           283.8766652,
           "JUSTIN JEFFERSON",
           "WR"
          ],
          [
           124.07160892881566,
           58.67333374,
           116.78666640000002,
           "TREYLON BURKS",
           "WR"
          ],
          [
           210.0924444063402,
           91.74333394,
           91.74333394,
           "RONDALE MOORE",
           "WR"
          ],
          [
           187.2628035692036,
           195.5000005,
           214.0300003,
           "CEEDEE LAMB",
           "WR"
          ],
          [
           141.7095417969383,
           104.5933334,
           128.023332,
           "DEVONTA SMITH",
           "WR"
          ],
          [
           164.42222410490064,
           190.64333390000002,
           167.9933314,
           "BRANDIN COOKS",
           "WR"
          ],
          [
           194.01788394855464,
           214.0300003,
           242.41000010000002,
           "STEFON DIGGS",
           "WR"
          ],
          [
           134.4273022102138,
           51.97333349,
           119.6966665,
           "DAVID BELL",
           "WR"
          ],
          [
           170.32948589475183,
           194.45000100000001,
           195.5000005,
           "MIKE EVANS",
           "WR"
          ],
          [
           166.90972465690362,
           167.08333330000002,
           178.18333330000002,
           "TERRY MCLAURIN",
           "WR"
          ],
          [
           149.03632827457508,
           116.78666640000002,
           94.75,
           "JARVIS LANDRY",
           "WR"
          ],
          [
           188.47856967325814,
           146.4633331,
           145.32333119999998,
           "HUNTER RENFROW",
           "WR"
          ],
          [
           171.3027621870006,
           180.199999,
           173.55333149999998,
           "JAYLEN WADDLE",
           "WR"
          ],
          [
           148.9205421751823,
           105.2199997,
           68.96999995,
           "STERLING SHEPARD",
           "WR"
          ],
          [
           155.3609014464182,
           136.2833338,
           134.7433339,
           "CHRISTIAN KIRK",
           "WR"
          ],
          [
           136.5696911246621,
           155.61333359999998,
           158.9633336,
           "JUJU SMITH-SCHUSTER",
           "WR"
          ],
          [
           123.3438786029511,
           145.70333300000001,
           180.199999,
           "COURTLAND SUTTON",
           "WR"
          ],
          [
           121.79071550078417,
           69.79999924,
           109.94666720000001,
           "GARRETT WILSON",
           "WR"
          ],
          [
           145.23612257537323,
           120.2466662,
           100.41333309999999,
           "TYLER BOYD",
           "WR"
          ],
          [
           123.19094109290535,
           77.33000005,
           104.5933334,
           "JAHAN DOTSON",
           "WR"
          ],
          [
           135.37622432301566,
           117.45666729999999,
           80.49666646,
           "AJ GREEN",
           "WR"
          ],
          [
           138.13117132194608,
           130.5999987,
           84.87666677,
           "KENDRICK BOURNE",
           "WR"
          ],
          [
           141.2112548728733,
           152.2166677,
           112.0533335,
           "DJ CHARK",
           "WR"
          ],
          [
           174.68464832730285,
           150.5100006,
           139.61333159999998,
           "TYLER LOCKETT",
           "WR"
          ],
          [
           150.0540838045214,
           145.4799998,
           114.6366669,
           "DEVANTE PARKER",
           "WR"
          ],
          [
           160.95159659046064,
           170.78333130000001,
           167.08333330000002,
           "ADAM THIELEN",
           "WR"
          ],
          [
           129.4504458657136,
           182.1633326,
           162.10333400000002,
           "MICHAEL THOMAS",
           "WR"
          ],
          [
           153.0816759216765,
           122.5699982,
           98.88333359,
           "MECOLE HARDMAN",
           "WR"
          ],
          [
           193.2693250754151,
           192.0833349,
           182.1633326,
           "DIONTAE JOHNSON",
           "WR"
          ],
          [
           131.52059859417076,
           128.023332,
           142.6366659,
           "DRAKE LONDON",
           "WR"
          ]
         ],
         "hovertemplate": "<b>%{hovertext}</b><br><br>Player Value=%{y}<br>ChopBlock Projection=%{customdata[0]}<br>FantasySharks Projection=%{customdata[1]}<br>ADP Projection=%{customdata[2]}<extra></extra>",
         "hovertext": [
          "DK METCALF",
          "TEE HIGGINS",
          "COOPER KUPP",
          "DEEBO SAMUEL",
          "DEVIN DUVERNAY",
          "CHRIS GODWIN",
          "DJ MOORE",
          "MARQUISE BROWN",
          "JAMARR CHASE",
          "ELIJAH MOORE",
          "JAKOBI MEYERS",
          "TYREEK HILL",
          "CHASE CLAYPOOL",
          "AMARI COOPER",
          "DAVANTE ADAMS",
          "CURTIS SAMUEL",
          "ROBERT WOODS",
          "AJ BROWN",
          "RUSSELL GAGE",
          "JUSTIN JEFFERSON",
          "TREYLON BURKS",
          "RONDALE MOORE",
          "CEEDEE LAMB",
          "DEVONTA SMITH",
          "BRANDIN COOKS",
          "STEFON DIGGS",
          "DAVID BELL",
          "MIKE EVANS",
          "TERRY MCLAURIN",
          "JARVIS LANDRY",
          "HUNTER RENFROW",
          "JAYLEN WADDLE",
          "STERLING SHEPARD",
          "CHRISTIAN KIRK",
          "JUJU SMITH-SCHUSTER",
          "COURTLAND SUTTON",
          "GARRETT WILSON",
          "TYLER BOYD",
          "JAHAN DOTSON",
          "AJ GREEN",
          "KENDRICK BOURNE",
          "DJ CHARK",
          "TYLER LOCKETT",
          "DEVANTE PARKER",
          "ADAM THIELEN",
          "MICHAEL THOMAS",
          "MECOLE HARDMAN",
          "DIONTAE JOHNSON",
          "DRAKE LONDON"
         ],
         "legendgroup": "WR",
         "marker": {
          "color": "hsla(267, 40%, 45%, 1)",
          "pattern": {
           "shape": ""
          }
         },
         "name": "WR",
         "offsetgroup": "WR",
         "orientation": "v",
         "showlegend": true,
         "text": [
          "DK METCALF",
          "TEE HIGGINS",
          "COOPER KUPP",
          "DEEBO SAMUEL",
          "DEVIN DUVERNAY",
          "CHRIS GODWIN",
          "DJ MOORE",
          "MARQUISE BROWN",
          "JAMARR CHASE",
          "ELIJAH MOORE",
          "JAKOBI MEYERS",
          "TYREEK HILL",
          "CHASE CLAYPOOL",
          "AMARI COOPER",
          "DAVANTE ADAMS",
          "CURTIS SAMUEL",
          "ROBERT WOODS",
          "AJ BROWN",
          "RUSSELL GAGE",
          "JUSTIN JEFFERSON",
          "TREYLON BURKS",
          "RONDALE MOORE",
          "CEEDEE LAMB",
          "DEVONTA SMITH",
          "BRANDIN COOKS",
          "STEFON DIGGS",
          "DAVID BELL",
          "MIKE EVANS",
          "TERRY MCLAURIN",
          "JARVIS LANDRY",
          "HUNTER RENFROW",
          "JAYLEN WADDLE",
          "STERLING SHEPARD",
          "CHRISTIAN KIRK",
          "JUJU SMITH-SCHUSTER",
          "COURTLAND SUTTON",
          "GARRETT WILSON",
          "TYLER BOYD",
          "JAHAN DOTSON",
          "AJ GREEN",
          "KENDRICK BOURNE",
          "DJ CHARK",
          "TYLER LOCKETT",
          "DEVANTE PARKER",
          "ADAM THIELEN",
          "MICHAEL THOMAS",
          "MECOLE HARDMAN",
          "DIONTAE JOHNSON",
          "DRAKE LONDON"
         ],
         "textposition": "auto",
         "type": "bar",
         "x": [
          "Washington Fantasy Football Team",
          "Washington Fantasy Football Team",
          "Washington Fantasy Football Team",
          "Washington Fantasy Football Team",
          "Crocodilopolis Body Snatchers",
          "Crocodilopolis Body Snatchers",
          "Crocodilopolis Body Snatchers",
          "Crocodilopolis Body Snatchers",
          "Saskatoon Squatches",
          "Saskatoon Squatches",
          "Saskatoon Squatches",
          "Saskatoon Squatches",
          "Saskatoon Squatches",
          "Verdansk Vaqueros FFC",
          "Verdansk Vaqueros FFC",
          "Verdansk Vaqueros FFC",
          "Pretty Big Wieners",
          "Pretty Big Wieners",
          "Pretty Big Wieners",
          "Pretty Big Wieners",
          "O'Henry's Stiffies",
          "O'Henry's Stiffies",
          "O'Henry's Stiffies",
          "O'Henry's Stiffies",
          "Comeback Kings",
          "Comeback Kings",
          "Comeback Kings",
          "Down with the Sickness unto Death",
          "Down with the Sickness unto Death",
          "Down with the Sickness unto Death",
          "Gus The Bus",
          "Gus The Bus",
          "Gus The Bus",
          "Gus The Bus",
          "Providence Monastic Spirits",
          "Providence Monastic Spirits",
          "Providence Monastic Spirits",
          "Providence Monastic Spirits",
          "Providence Monastic Spirits",
          "WHAM! BAM! Thank You CAM!",
          "WHAM! BAM! Thank You CAM!",
          "WHAM! BAM! Thank You CAM!",
          "WHAM! BAM! Thank You CAM!",
          "WHAM! BAM! Thank You CAM!",
          "IDK much about soccer ",
          "IDK much about soccer ",
          "IDK much about soccer ",
          "IDK much about soccer ",
          "IDK much about soccer "
         ],
         "xaxis": "x",
         "y": [
          47.88562376594801,
          66.10308943355518,
          109.16472082792505,
          115.89148254464236,
          69.23828862280091,
          79.90513509904217,
          52.899235911412504,
          44.80604772827236,
          103.96709512294284,
          22.45574628409146,
          28.461380671945804,
          108.65865360036089,
          42.839084910028205,
          38.952836374377696,
          108.6411363219987,
          6.635840618132349,
          60.14834314606769,
          48.757041317474474,
          56.77718616506296,
          88.287618954944,
          2.28089342803149,
          88.30172890555603,
          65.47208806841944,
          19.918826296154137,
          42.63150860411646,
          72.22716844777047,
          12.636586709429636,
          48.53877039396765,
          45.119009156119446,
          27.24561277379091,
          66.68785417247396,
          49.512046686216436,
          27.12982667439813,
          33.57018594563404,
          14.77897562387794,
          1.5531631021669199,
          0,
          23.445407074589056,
          1.4002255921211741,
          13.585508822231489,
          16.34045582116191,
          19.420539372089124,
          52.89393282651868,
          28.263368303737238,
          39.160881089676465,
          7.659730364929416,
          31.29096042089232,
          71.47860957463094,
          9.72988309338659
         ],
         "yaxis": "y"
        },
        {
         "alignmentgroup": "True",
         "customdata": [
          [
           125.97585694567418,
           61.03333333,
           56.65999959,
           "EVAN ENGRAM",
           "TE"
          ],
          [
           139.52922940534606,
           116.7266658,
           111.1866659,
           "ZACH ERTZ",
           "TE"
          ],
          [
           154.90326088731797,
           119.5333318,
           101.1799995,
           "MIKE GESICKI",
           "TE"
          ],
          [
           114.86894336971251,
           113.91999969999999,
           107.2399999,
           "DAWSON KNOX",
           "TE"
          ],
          [
           158.53630662232763,
           131.13999840000002,
           127.4499995,
           "DALLAS GOEDERT",
           "TE"
          ],
          [
           147.1516386712434,
           123.0900004,
           123.0900004,
           "TJ HOCKENSON",
           "TE"
          ],
          [
           221.02480561796065,
           203.893335,
           203.893335,
           "TRAVIS KELCE",
           "TE"
          ],
          [
           110.48817342075269,
           56.65999959,
           0.086666665,
           "CJ UZOMAH",
           "TE"
          ],
          [
           111.4519047537452,
           111.1866659,
           72.51666667,
           "DAVID NJOKU",
           "TE"
          ],
          [
           196.0512491797252,
           186.850002,
           186.850002,
           "MARK ANDREWS",
           "TE"
          ],
          [
           47.23812104380299,
           58.75666695,
           51.68999926,
           "BREVIN JORDAN",
           "TE"
          ],
          [
           157.92437667979613,
           127.4499995,
           163.5266693,
           "KYLE PITTS",
           "TE"
          ],
          [
           114.37982357869139,
           95.80333227,
           85.59000015,
           "HUNTER HENRY",
           "TE"
          ],
          [
           155.05268873204898,
           145.3700002,
           131.13999840000002,
           "DALTON SCHULTZ",
           "TE"
          ],
          [
           101.94812743229947,
           66.70333303,
           60.01333326,
           "ROBERT TONYAN",
           "TE"
          ],
          [
           110.11789309078533,
           62.00999959,
           0,
           "ADAM TRAUTMAN",
           "TE"
          ],
          [
           27.896624669692752,
           13.96666686,
           null,
           "RICKY SEALS-JONES",
           "TE"
          ],
          [
           121.8037009458739,
           85.59000015,
           57.73333346,
           "LOGAN THOMAS",
           "TE"
          ],
          [
           150.4661533721767,
           116.1499987,
           76.22666702,
           "NOAH FANT",
           "TE"
          ],
          [
           110.90614657821799,
           70.03666712,
           62.00999959,
           "TYLER HIGBEE",
           "TE"
          ],
          [
           107.80897108987388,
           90.41666540000001,
           66.70333303,
           "ALBERT OKWUEGBUNAM",
           "TE"
          ],
          [
           150.8598334466327,
           163.5266693,
           135.5999985,
           "DARREN WALLER",
           "TE"
          ],
          [
           197.26058057239356,
           135.5999985,
           145.3700002,
           "GEORGE KITTLE",
           "TE"
          ],
          [
           104.669021038372,
           91.47999852,
           61.03333333,
           "HAYDEN HURST",
           "TE"
          ],
          [
           46.38090431698951,
           51.68999926,
           0.666666663,
           "HARRISON BRYANT",
           "TE"
          ]
         ],
         "hovertemplate": "<b>%{hovertext}</b><br><br>Player Value=%{y}<br>ChopBlock Projection=%{customdata[0]}<br>FantasySharks Projection=%{customdata[1]}<br>ADP Projection=%{customdata[2]}<extra></extra>",
         "hovertext": [
          "EVAN ENGRAM",
          "ZACH ERTZ",
          "MIKE GESICKI",
          "DAWSON KNOX",
          "DALLAS GOEDERT",
          "TJ HOCKENSON",
          "TRAVIS KELCE",
          "CJ UZOMAH",
          "DAVID NJOKU",
          "MARK ANDREWS",
          "BREVIN JORDAN",
          "KYLE PITTS",
          "HUNTER HENRY",
          "DALTON SCHULTZ",
          "ROBERT TONYAN",
          "ADAM TRAUTMAN",
          "RICKY SEALS-JONES",
          "LOGAN THOMAS",
          "NOAH FANT",
          "TYLER HIGBEE",
          "ALBERT OKWUEGBUNAM",
          "DARREN WALLER",
          "GEORGE KITTLE",
          "HAYDEN HURST",
          "HARRISON BRYANT"
         ],
         "legendgroup": "TE",
         "marker": {
          "color": "hsla(177, 68%, 36%, 1)",
          "pattern": {
           "shape": ""
          }
         },
         "name": "TE",
         "offsetgroup": "TE",
         "orientation": "v",
         "showlegend": true,
         "text": [
          "EVAN ENGRAM",
          "ZACH ERTZ",
          "MIKE GESICKI",
          "DAWSON KNOX",
          "DALLAS GOEDERT",
          "TJ HOCKENSON",
          "TRAVIS KELCE",
          "CJ UZOMAH",
          "DAVID NJOKU",
          "MARK ANDREWS",
          "BREVIN JORDAN",
          "KYLE PITTS",
          "HUNTER HENRY",
          "DALTON SCHULTZ",
          "ROBERT TONYAN",
          "ADAM TRAUTMAN",
          "RICKY SEALS-JONES",
          "LOGAN THOMAS",
          "NOAH FANT",
          "TYLER HIGBEE",
          "ALBERT OKWUEGBUNAM",
          "DARREN WALLER",
          "GEORGE KITTLE",
          "HAYDEN HURST",
          "HARRISON BRYANT"
         ],
         "textposition": "auto",
         "type": "bar",
         "x": [
          "Washington Fantasy Football Team",
          "Washington Fantasy Football Team",
          "Crocodilopolis Body Snatchers",
          "Crocodilopolis Body Snatchers",
          "Saskatoon Squatches",
          "Saskatoon Squatches",
          "Verdansk Vaqueros FFC",
          "Verdansk Vaqueros FFC",
          "Verdansk Vaqueros FFC",
          "Pretty Big Wieners",
          "Pretty Big Wieners",
          "O'Henry's Stiffies",
          "O'Henry's Stiffies",
          "Comeback Kings",
          "Comeback Kings",
          "Down with the Sickness unto Death",
          "Down with the Sickness unto Death",
          "Gus The Bus",
          "Gus The Bus",
          "Providence Monastic Spirits",
          "Providence Monastic Spirits",
          "WHAM! BAM! Thank You CAM!",
          "WHAM! BAM! Thank You CAM!",
          "IDK much about soccer ",
          "IDK much about soccer "
         ],
         "xaxis": "x",
         "y": [
          98.07923227598143,
          111.6326047356533,
          127.00663621762521,
          86.97231870001976,
          130.63968195263487,
          119.25501400155065,
          193.1281809482679,
          82.59154875105993,
          83.55528008405244,
          168.15462451003245,
          19.34149637411024,
          130.02775201010337,
          86.48319890899863,
          127.15606406235622,
          74.05150276260672,
          82.22126842109257,
          0,
          93.90707627618114,
          122.56952870248395,
          83.00952190852523,
          79.91234642018112,
          122.96320877693995,
          169.3639559027008,
          76.77239636867924,
          18.484279647296756
         ],
         "yaxis": "y"
        },
        {
         "alignmentgroup": "True",
         "customdata": [
          [
           143.7830982898065,
           113.44333519999999,
           129.1033351,
           "WIL LUTZ",
           "PK"
          ],
          [
           143.8157781644001,
           121.77666599999999,
           136.7566676,
           "MATT PRATER",
           "PK"
          ],
          [
           136.76906633589175,
           151.4399984,
           148.07666469999998,
           "YOUNGHOE KOO",
           "PK"
          ],
          [
           147.05642474127507,
           160.9366669,
           147.4133316,
           "NICK FOLK",
           "PK"
          ],
          [
           141.8266796833305,
           168.49000039999999,
           162.68333330000002,
           "MATT GAY",
           "PK"
          ],
          [
           146.1750792919682,
           134.4166687,
           123.17666650000001,
           "GREG JOSEPH",
           "PK"
          ],
          [
           137.96773333946732,
           136.7566676,
           134.4166687,
           "ROBBIE GOULD",
           "PK"
          ],
          [
           142.75291172344802,
           145.7166656,
           145.7166656,
           "CHRIS BOSWELL",
           "PK"
          ],
          [
           145.02062082153464,
           172.23999990000002,
           164.696667,
           "DANIEL CARLSON",
           "PK"
          ],
          [
           136.91168561969226,
           138.8100011,
           116.56333390000002,
           "CAIRO SANTOS",
           "PK"
          ],
          [
           143.17739960376855,
           148.07666469999998,
           156.23999990000002,
           "HARRISON BUTKER",
           "PK"
          ],
          [
           149.11021439932549,
           140.3300003,
           142.9700002,
           "RODRIGO BLANKENSHIP",
           "PK"
          ],
          [
           142.84796849396264,
           129.1033351,
           121.77666599999999,
           "JASON SANDERS",
           "PK"
          ],
          [
           140.70615013708849,
           156.23999990000002,
           151.4399984,
           "RYAN SUCCOP",
           "PK"
          ],
          [
           145.09843473891192,
           92.54666646,
           119.6433337,
           "MASON CROSBY",
           "PK"
          ],
          [
           114.66751456890375,
           104.3633329,
           86.54000066,
           "ZANE GONZALEZ",
           "PK"
          ],
          [
           139.94109250777774,
           147.4133316,
           140.3300003,
           "DUSTIN HOPKINS",
           "PK"
          ],
          [
           145.3314905136618,
           163.0366659,
           172.23999990000002,
           "JUSTIN TUCKER",
           "PK"
          ],
          [
           146.15567239548375,
           164.696667,
           168.49000039999999,
           "EVAN MCPHERSON",
           "PK"
          ],
          [
           144.00206850458807,
           162.68333330000002,
           163.0366659,
           "TYLER BASS",
           "PK"
          ],
          [
           138.76879266484372,
           116.56333390000002,
           126.21333359999998,
           "JAKE ELLIOTT",
           "PK"
          ],
          [
           140.2258449118796,
           126.21333359999998,
           69.04666646,
           "JASON MYERS",
           "PK"
          ],
          [
           140.19211876951906,
           107.8200007,
           138.8100011,
           "BRANDON MCMANUS",
           "PK"
          ]
         ],
         "hovertemplate": "<b>%{hovertext}</b><br><br>Player Value=%{y}<br>ChopBlock Projection=%{customdata[0]}<br>FantasySharks Projection=%{customdata[1]}<br>ADP Projection=%{customdata[2]}<extra></extra>",
         "hovertext": [
          "WIL LUTZ",
          "MATT PRATER",
          "YOUNGHOE KOO",
          "NICK FOLK",
          "MATT GAY",
          "GREG JOSEPH",
          "ROBBIE GOULD",
          "CHRIS BOSWELL",
          "DANIEL CARLSON",
          "CAIRO SANTOS",
          "HARRISON BUTKER",
          "RODRIGO BLANKENSHIP",
          "JASON SANDERS",
          "RYAN SUCCOP",
          "MASON CROSBY",
          "ZANE GONZALEZ",
          "DUSTIN HOPKINS",
          "JUSTIN TUCKER",
          "EVAN MCPHERSON",
          "TYLER BASS",
          "JAKE ELLIOTT",
          "JASON MYERS",
          "BRANDON MCMANUS"
         ],
         "legendgroup": "PK",
         "marker": {
          "color": "hsla(14, 30%, 40%, 1)",
          "pattern": {
           "shape": ""
          }
         },
         "name": "PK",
         "offsetgroup": "PK",
         "orientation": "v",
         "showlegend": true,
         "text": [
          "WIL LUTZ",
          "MATT PRATER",
          "YOUNGHOE KOO",
          "NICK FOLK",
          "MATT GAY",
          "GREG JOSEPH",
          "ROBBIE GOULD",
          "CHRIS BOSWELL",
          "DANIEL CARLSON",
          "CAIRO SANTOS",
          "HARRISON BUTKER",
          "RODRIGO BLANKENSHIP",
          "JASON SANDERS",
          "RYAN SUCCOP",
          "MASON CROSBY",
          "ZANE GONZALEZ",
          "DUSTIN HOPKINS",
          "JUSTIN TUCKER",
          "EVAN MCPHERSON",
          "TYLER BASS",
          "JAKE ELLIOTT",
          "JASON MYERS",
          "BRANDON MCMANUS"
         ],
         "textposition": "auto",
         "type": "bar",
         "x": [
          "Washington Fantasy Football Team",
          "Washington Fantasy Football Team",
          "Crocodilopolis Body Snatchers",
          "Crocodilopolis Body Snatchers",
          "Saskatoon Squatches",
          "Saskatoon Squatches",
          "Verdansk Vaqueros FFC",
          "Verdansk Vaqueros FFC",
          "Pretty Big Wieners",
          "Pretty Big Wieners",
          "O'Henry's Stiffies",
          "O'Henry's Stiffies",
          "Comeback Kings",
          "Comeback Kings",
          "Down with the Sickness unto Death",
          "Down with the Sickness unto Death",
          "Gus The Bus",
          "Gus The Bus",
          "Providence Monastic Spirits",
          "Providence Monastic Spirits",
          "WHAM! BAM! Thank You CAM!",
          "IDK much about soccer ",
          "IDK much about soccer "
         ],
         "xaxis": "x",
         "y": [
          29.115583720902748,
          29.14826359549633,
          22.101551766987996,
          32.38891017237131,
          27.15916511442674,
          31.507564723064434,
          23.30021877056356,
          28.085397154544268,
          30.35310625263088,
          22.24417105078851,
          28.509885034864794,
          34.44269983042173,
          28.180453925058885,
          26.03863556818473,
          30.430920170008164,
          0,
          25.273577938873984,
          30.66397594475805,
          31.488157826579993,
          29.334553935684312,
          24.10127809593996,
          25.558330342975836,
          25.5246042006153
         ],
         "yaxis": "y"
        },
        {
         "alignmentgroup": "True",
         "customdata": [
          [
           200.41665151369662,
           150.3399989,
           123.3199997,
           "WASHINGTON COMMANDERS",
           "DF"
          ],
          [
           157.7259720757817,
           141.0066668,
           132.6800003,
           "CHICAGO BEARS",
           "DF"
          ],
          [
           151.66180351727448,
           119.9733327,
           168,
           "DENVER BRONCOS",
           "DF"
          ],
          [
           158.80885007738408,
           200.6800003,
           211.346667,
           "SAN FRANCISCO 49ERS",
           "DF"
          ],
          [
           139.717747781974,
           71.31999969,
           103.34666700000001,
           "JACKSONVILLE JAGUARS",
           "DF"
          ],
          [
           138.7125835435088,
           103.34666700000001,
           79.67333349,
           "SEATTLE SEAHAWKS",
           "DF"
          ],
          [
           147.47285749537133,
           117.30666609999999,
           119.9733327,
           "ARIZONA CARDINALS",
           "DF"
          ],
          [
           177.0913724206438,
           110.9933332,
           117.30666609999999,
           "CAROLINA PANTHERS",
           "DF"
          ],
          [
           155.70343699535022,
           170.3399989,
           155.3466644,
           "PHILADELPHIA EAGLES",
           "DF"
          ],
          [
           149.8426772069631,
           171.0199966,
           160.35333,
           "MIAMI DOLPHINS",
           "DF"
          ],
          [
           143.99008956419604,
           67.64666621,
           125.33333329999999,
           "LAS VEGAS RAIDERS",
           "DF"
          ],
          [
           142.24996541476582,
           123.3199997,
           110.9933332,
           "NEW YORK GIANTS",
           "DF"
          ],
          [
           145.03854780641262,
           181.6866659,
           200.6800003,
           "TAMPA BAY BUCCANEERS",
           "DF"
          ],
          [
           143.90307677796855,
           222.69333140000003,
           220.35333250000002,
           "LOS ANGELES RAMS",
           "DF"
          ],
          [
           187.30542359265817,
           220.35333250000002,
           222.69333140000003,
           "BUFFALO BILLS",
           "DF"
          ],
          [
           162.54612930712992,
           179.6733322,
           181.6866659,
           "NEW ENGLAND PATRIOTS",
           "DF"
          ],
          [
           139.9935184259768,
           125.33333329999999,
           169.33333330000002,
           "BALTIMORE RAVENS",
           "DF"
          ],
          [
           146.25353817245067,
           172.0266647,
           174.3399989,
           "PITTSBURGH STEELERS",
           "DF"
          ],
          [
           143.33536648943863,
           190.01333359999998,
           172.0266647,
           "TENNESSEE TITANS",
           "DF"
          ],
          [
           147.7861483748379,
           211.346667,
           190.01333359999998,
           "DALLAS COWBOYS",
           "DF"
          ],
          [
           153.06355397207537,
           174.3399989,
           177.0066655,
           "GREEN BAY PACKERS",
           "DF"
          ],
          [
           145.64596719876045,
           160.35333,
           171.0199966,
           "LOS ANGELES CHARGERS",
           "DF"
          ],
          [
           138.04114440407028,
           169.33333330000002,
           164.67999780000002,
           "KANSAS CITY CHIEFS",
           "DF"
          ],
          [
           146.46292072882886,
           168,
           179.6733322,
           "INDIANAPOLIS COLTS",
           "DF"
          ]
         ],
         "hovertemplate": "<b>%{hovertext}</b><br><br>Player Value=%{y}<br>ChopBlock Projection=%{customdata[0]}<br>FantasySharks Projection=%{customdata[1]}<br>ADP Projection=%{customdata[2]}<extra></extra>",
         "hovertext": [
          "WASHINGTON COMMANDERS",
          "CHICAGO BEARS",
          "DENVER BRONCOS",
          "SAN FRANCISCO 49ERS",
          "JACKSONVILLE JAGUARS",
          "SEATTLE SEAHAWKS",
          "ARIZONA CARDINALS",
          "CAROLINA PANTHERS",
          "PHILADELPHIA EAGLES",
          "MIAMI DOLPHINS",
          "LAS VEGAS RAIDERS",
          "NEW YORK GIANTS",
          "TAMPA BAY BUCCANEERS",
          "LOS ANGELES RAMS",
          "BUFFALO BILLS",
          "NEW ENGLAND PATRIOTS",
          "BALTIMORE RAVENS",
          "PITTSBURGH STEELERS",
          "TENNESSEE TITANS",
          "DALLAS COWBOYS",
          "GREEN BAY PACKERS",
          "LOS ANGELES CHARGERS",
          "KANSAS CITY CHIEFS",
          "INDIANAPOLIS COLTS"
         ],
         "legendgroup": "DF",
         "marker": {
          "color": "hsla(35, 70%, 65%, 1)",
          "pattern": {
           "shape": ""
          }
         },
         "name": "DF",
         "offsetgroup": "DF",
         "orientation": "v",
         "showlegend": true,
         "text": [
          "WASHINGTON COMMANDERS",
          "CHICAGO BEARS",
          "DENVER BRONCOS",
          "SAN FRANCISCO 49ERS",
          "JACKSONVILLE JAGUARS",
          "SEATTLE SEAHAWKS",
          "ARIZONA CARDINALS",
          "CAROLINA PANTHERS",
          "PHILADELPHIA EAGLES",
          "MIAMI DOLPHINS",
          "LAS VEGAS RAIDERS",
          "NEW YORK GIANTS",
          "TAMPA BAY BUCCANEERS",
          "LOS ANGELES RAMS",
          "BUFFALO BILLS",
          "NEW ENGLAND PATRIOTS",
          "BALTIMORE RAVENS",
          "PITTSBURGH STEELERS",
          "TENNESSEE TITANS",
          "DALLAS COWBOYS",
          "GREEN BAY PACKERS",
          "LOS ANGELES CHARGERS",
          "KANSAS CITY CHIEFS",
          "INDIANAPOLIS COLTS"
         ],
         "textposition": "auto",
         "type": "bar",
         "x": [
          "Washington Fantasy Football Team",
          "Washington Fantasy Football Team",
          "Crocodilopolis Body Snatchers",
          "Crocodilopolis Body Snatchers",
          "Saskatoon Squatches",
          "Saskatoon Squatches",
          "Verdansk Vaqueros FFC",
          "Verdansk Vaqueros FFC",
          "Pretty Big Wieners",
          "Pretty Big Wieners",
          "O'Henry's Stiffies",
          "O'Henry's Stiffies",
          "Comeback Kings",
          "Comeback Kings",
          "Down with the Sickness unto Death",
          "Down with the Sickness unto Death",
          "Gus The Bus",
          "Gus The Bus",
          "Providence Monastic Spirits",
          "Providence Monastic Spirits",
          "WHAM! BAM! Thank You CAM!",
          "WHAM! BAM! Thank You CAM!",
          "IDK much about soccer ",
          "IDK much about soccer "
         ],
         "xaxis": "x",
         "y": [
          62.37550710962634,
          19.684827671711417,
          13.620659113204198,
          20.7677056733138,
          1.6766033779037173,
          0.6714391394385189,
          9.431713091301049,
          39.05022801657353,
          17.662292591279936,
          11.801532802892808,
          5.94894516012576,
          4.208821010695544,
          6.997403402342343,
          5.86193237389827,
          49.26427918858789,
          24.504984903059636,
          1.9523740219065076,
          8.212393768380394,
          5.294222085368347,
          9.745003970767613,
          15.022409568005088,
          7.604822794690165,
          0,
          8.421776324758582
         ],
         "yaxis": "y"
        }
       ],
       "layout": {
        "barmode": "stack",
        "font": {
         "family": "Skia"
        },
        "legend": {
         "title": {
          "text": "pos"
         },
         "tracegroupgap": 0
        },
        "margin": {
         "t": 60
        },
        "plot_bgcolor": "rgba(0,0,0,0)",
        "showlegend": false,
        "template": {
         "data": {
          "bar": [
           {
            "error_x": {
             "color": "#2a3f5f"
            },
            "error_y": {
             "color": "#2a3f5f"
            },
            "marker": {
             "line": {
              "color": "#E5ECF6",
              "width": 0.5
             },
             "pattern": {
              "fillmode": "overlay",
              "size": 10,
              "solidity": 0.2
             }
            },
            "type": "bar"
           }
          ],
          "barpolar": [
           {
            "marker": {
             "line": {
              "color": "#E5ECF6",
              "width": 0.5
             },
             "pattern": {
              "fillmode": "overlay",
              "size": 10,
              "solidity": 0.2
             }
            },
            "type": "barpolar"
           }
          ],
          "carpet": [
           {
            "aaxis": {
             "endlinecolor": "#2a3f5f",
             "gridcolor": "white",
             "linecolor": "white",
             "minorgridcolor": "white",
             "startlinecolor": "#2a3f5f"
            },
            "baxis": {
             "endlinecolor": "#2a3f5f",
             "gridcolor": "white",
             "linecolor": "white",
             "minorgridcolor": "white",
             "startlinecolor": "#2a3f5f"
            },
            "type": "carpet"
           }
          ],
          "choropleth": [
           {
            "colorbar": {
             "outlinewidth": 0,
             "ticks": ""
            },
            "type": "choropleth"
           }
          ],
          "contour": [
           {
            "colorbar": {
             "outlinewidth": 0,
             "ticks": ""
            },
            "colorscale": [
             [
              0,
              "#0d0887"
             ],
             [
              0.1111111111111111,
              "#46039f"
             ],
             [
              0.2222222222222222,
              "#7201a8"
             ],
             [
              0.3333333333333333,
              "#9c179e"
             ],
             [
              0.4444444444444444,
              "#bd3786"
             ],
             [
              0.5555555555555556,
              "#d8576b"
             ],
             [
              0.6666666666666666,
              "#ed7953"
             ],
             [
              0.7777777777777778,
              "#fb9f3a"
             ],
             [
              0.8888888888888888,
              "#fdca26"
             ],
             [
              1,
              "#f0f921"
             ]
            ],
            "type": "contour"
           }
          ],
          "contourcarpet": [
           {
            "colorbar": {
             "outlinewidth": 0,
             "ticks": ""
            },
            "type": "contourcarpet"
           }
          ],
          "heatmap": [
           {
            "colorbar": {
             "outlinewidth": 0,
             "ticks": ""
            },
            "colorscale": [
             [
              0,
              "#0d0887"
             ],
             [
              0.1111111111111111,
              "#46039f"
             ],
             [
              0.2222222222222222,
              "#7201a8"
             ],
             [
              0.3333333333333333,
              "#9c179e"
             ],
             [
              0.4444444444444444,
              "#bd3786"
             ],
             [
              0.5555555555555556,
              "#d8576b"
             ],
             [
              0.6666666666666666,
              "#ed7953"
             ],
             [
              0.7777777777777778,
              "#fb9f3a"
             ],
             [
              0.8888888888888888,
              "#fdca26"
             ],
             [
              1,
              "#f0f921"
             ]
            ],
            "type": "heatmap"
           }
          ],
          "heatmapgl": [
           {
            "colorbar": {
             "outlinewidth": 0,
             "ticks": ""
            },
            "colorscale": [
             [
              0,
              "#0d0887"
             ],
             [
              0.1111111111111111,
              "#46039f"
             ],
             [
              0.2222222222222222,
              "#7201a8"
             ],
             [
              0.3333333333333333,
              "#9c179e"
             ],
             [
              0.4444444444444444,
              "#bd3786"
             ],
             [
              0.5555555555555556,
              "#d8576b"
             ],
             [
              0.6666666666666666,
              "#ed7953"
             ],
             [
              0.7777777777777778,
              "#fb9f3a"
             ],
             [
              0.8888888888888888,
              "#fdca26"
             ],
             [
              1,
              "#f0f921"
             ]
            ],
            "type": "heatmapgl"
           }
          ],
          "histogram": [
           {
            "marker": {
             "pattern": {
              "fillmode": "overlay",
              "size": 10,
              "solidity": 0.2
             }
            },
            "type": "histogram"
           }
          ],
          "histogram2d": [
           {
            "colorbar": {
             "outlinewidth": 0,
             "ticks": ""
            },
            "colorscale": [
             [
              0,
              "#0d0887"
             ],
             [
              0.1111111111111111,
              "#46039f"
             ],
             [
              0.2222222222222222,
              "#7201a8"
             ],
             [
              0.3333333333333333,
              "#9c179e"
             ],
             [
              0.4444444444444444,
              "#bd3786"
             ],
             [
              0.5555555555555556,
              "#d8576b"
             ],
             [
              0.6666666666666666,
              "#ed7953"
             ],
             [
              0.7777777777777778,
              "#fb9f3a"
             ],
             [
              0.8888888888888888,
              "#fdca26"
             ],
             [
              1,
              "#f0f921"
             ]
            ],
            "type": "histogram2d"
           }
          ],
          "histogram2dcontour": [
           {
            "colorbar": {
             "outlinewidth": 0,
             "ticks": ""
            },
            "colorscale": [
             [
              0,
              "#0d0887"
             ],
             [
              0.1111111111111111,
              "#46039f"
             ],
             [
              0.2222222222222222,
              "#7201a8"
             ],
             [
              0.3333333333333333,
              "#9c179e"
             ],
             [
              0.4444444444444444,
              "#bd3786"
             ],
             [
              0.5555555555555556,
              "#d8576b"
             ],
             [
              0.6666666666666666,
              "#ed7953"
             ],
             [
              0.7777777777777778,
              "#fb9f3a"
             ],
             [
              0.8888888888888888,
              "#fdca26"
             ],
             [
              1,
              "#f0f921"
             ]
            ],
            "type": "histogram2dcontour"
           }
          ],
          "mesh3d": [
           {
            "colorbar": {
             "outlinewidth": 0,
             "ticks": ""
            },
            "type": "mesh3d"
           }
          ],
          "parcoords": [
           {
            "line": {
             "colorbar": {
              "outlinewidth": 0,
              "ticks": ""
             }
            },
            "type": "parcoords"
           }
          ],
          "pie": [
           {
            "automargin": true,
            "type": "pie"
           }
          ],
          "scatter": [
           {
            "fillpattern": {
             "fillmode": "overlay",
             "size": 10,
             "solidity": 0.2
            },
            "type": "scatter"
           }
          ],
          "scatter3d": [
           {
            "line": {
             "colorbar": {
              "outlinewidth": 0,
              "ticks": ""
             }
            },
            "marker": {
             "colorbar": {
              "outlinewidth": 0,
              "ticks": ""
             }
            },
            "type": "scatter3d"
           }
          ],
          "scattercarpet": [
           {
            "marker": {
             "colorbar": {
              "outlinewidth": 0,
              "ticks": ""
             }
            },
            "type": "scattercarpet"
           }
          ],
          "scattergeo": [
           {
            "marker": {
             "colorbar": {
              "outlinewidth": 0,
              "ticks": ""
             }
            },
            "type": "scattergeo"
           }
          ],
          "scattergl": [
           {
            "marker": {
             "colorbar": {
              "outlinewidth": 0,
              "ticks": ""
             }
            },
            "type": "scattergl"
           }
          ],
          "scattermapbox": [
           {
            "marker": {
             "colorbar": {
              "outlinewidth": 0,
              "ticks": ""
             }
            },
            "type": "scattermapbox"
           }
          ],
          "scatterpolar": [
           {
            "marker": {
             "colorbar": {
              "outlinewidth": 0,
              "ticks": ""
             }
            },
            "type": "scatterpolar"
           }
          ],
          "scatterpolargl": [
           {
            "marker": {
             "colorbar": {
              "outlinewidth": 0,
              "ticks": ""
             }
            },
            "type": "scatterpolargl"
           }
          ],
          "scatterternary": [
           {
            "marker": {
             "colorbar": {
              "outlinewidth": 0,
              "ticks": ""
             }
            },
            "type": "scatterternary"
           }
          ],
          "surface": [
           {
            "colorbar": {
             "outlinewidth": 0,
             "ticks": ""
            },
            "colorscale": [
             [
              0,
              "#0d0887"
             ],
             [
              0.1111111111111111,
              "#46039f"
             ],
             [
              0.2222222222222222,
              "#7201a8"
             ],
             [
              0.3333333333333333,
              "#9c179e"
             ],
             [
              0.4444444444444444,
              "#bd3786"
             ],
             [
              0.5555555555555556,
              "#d8576b"
             ],
             [
              0.6666666666666666,
              "#ed7953"
             ],
             [
              0.7777777777777778,
              "#fb9f3a"
             ],
             [
              0.8888888888888888,
              "#fdca26"
             ],
             [
              1,
              "#f0f921"
             ]
            ],
            "type": "surface"
           }
          ],
          "table": [
           {
            "cells": {
             "fill": {
              "color": "#EBF0F8"
             },
             "line": {
              "color": "white"
             }
            },
            "header": {
             "fill": {
              "color": "#C8D4E3"
             },
             "line": {
              "color": "white"
             }
            },
            "type": "table"
           }
          ]
         },
         "layout": {
          "annotationdefaults": {
           "arrowcolor": "#2a3f5f",
           "arrowhead": 0,
           "arrowwidth": 1
          },
          "autotypenumbers": "strict",
          "coloraxis": {
           "colorbar": {
            "outlinewidth": 0,
            "ticks": ""
           }
          },
          "colorscale": {
           "diverging": [
            [
             0,
             "#8e0152"
            ],
            [
             0.1,
             "#c51b7d"
            ],
            [
             0.2,
             "#de77ae"
            ],
            [
             0.3,
             "#f1b6da"
            ],
            [
             0.4,
             "#fde0ef"
            ],
            [
             0.5,
             "#f7f7f7"
            ],
            [
             0.6,
             "#e6f5d0"
            ],
            [
             0.7,
             "#b8e186"
            ],
            [
             0.8,
             "#7fbc41"
            ],
            [
             0.9,
             "#4d9221"
            ],
            [
             1,
             "#276419"
            ]
           ],
           "sequential": [
            [
             0,
             "#0d0887"
            ],
            [
             0.1111111111111111,
             "#46039f"
            ],
            [
             0.2222222222222222,
             "#7201a8"
            ],
            [
             0.3333333333333333,
             "#9c179e"
            ],
            [
             0.4444444444444444,
             "#bd3786"
            ],
            [
             0.5555555555555556,
             "#d8576b"
            ],
            [
             0.6666666666666666,
             "#ed7953"
            ],
            [
             0.7777777777777778,
             "#fb9f3a"
            ],
            [
             0.8888888888888888,
             "#fdca26"
            ],
            [
             1,
             "#f0f921"
            ]
           ],
           "sequentialminus": [
            [
             0,
             "#0d0887"
            ],
            [
             0.1111111111111111,
             "#46039f"
            ],
            [
             0.2222222222222222,
             "#7201a8"
            ],
            [
             0.3333333333333333,
             "#9c179e"
            ],
            [
             0.4444444444444444,
             "#bd3786"
            ],
            [
             0.5555555555555556,
             "#d8576b"
            ],
            [
             0.6666666666666666,
             "#ed7953"
            ],
            [
             0.7777777777777778,
             "#fb9f3a"
            ],
            [
             0.8888888888888888,
             "#fdca26"
            ],
            [
             1,
             "#f0f921"
            ]
           ]
          },
          "colorway": [
           "#636efa",
           "#EF553B",
           "#00cc96",
           "#ab63fa",
           "#FFA15A",
           "#19d3f3",
           "#FF6692",
           "#B6E880",
           "#FF97FF",
           "#FECB52"
          ],
          "font": {
           "color": "#2a3f5f"
          },
          "geo": {
           "bgcolor": "white",
           "lakecolor": "white",
           "landcolor": "#E5ECF6",
           "showlakes": true,
           "showland": true,
           "subunitcolor": "white"
          },
          "hoverlabel": {
           "align": "left"
          },
          "hovermode": "closest",
          "mapbox": {
           "style": "light"
          },
          "paper_bgcolor": "white",
          "plot_bgcolor": "#E5ECF6",
          "polar": {
           "angularaxis": {
            "gridcolor": "white",
            "linecolor": "white",
            "ticks": ""
           },
           "bgcolor": "#E5ECF6",
           "radialaxis": {
            "gridcolor": "white",
            "linecolor": "white",
            "ticks": ""
           }
          },
          "scene": {
           "xaxis": {
            "backgroundcolor": "#E5ECF6",
            "gridcolor": "white",
            "gridwidth": 2,
            "linecolor": "white",
            "showbackground": true,
            "ticks": "",
            "zerolinecolor": "white"
           },
           "yaxis": {
            "backgroundcolor": "#E5ECF6",
            "gridcolor": "white",
            "gridwidth": 2,
            "linecolor": "white",
            "showbackground": true,
            "ticks": "",
            "zerolinecolor": "white"
           },
           "zaxis": {
            "backgroundcolor": "#E5ECF6",
            "gridcolor": "white",
            "gridwidth": 2,
            "linecolor": "white",
            "showbackground": true,
            "ticks": "",
            "zerolinecolor": "white"
           }
          },
          "shapedefaults": {
           "line": {
            "color": "#2a3f5f"
           }
          },
          "ternary": {
           "aaxis": {
            "gridcolor": "white",
            "linecolor": "white",
            "ticks": ""
           },
           "baxis": {
            "gridcolor": "white",
            "linecolor": "white",
            "ticks": ""
           },
           "bgcolor": "#E5ECF6",
           "caxis": {
            "gridcolor": "white",
            "linecolor": "white",
            "ticks": ""
           }
          },
          "title": {
           "x": 0.05
          },
          "xaxis": {
           "automargin": true,
           "gridcolor": "white",
           "linecolor": "white",
           "ticks": "",
           "title": {
            "standoff": 15
           },
           "zerolinecolor": "white",
           "zerolinewidth": 2
          },
          "yaxis": {
           "automargin": true,
           "gridcolor": "white",
           "linecolor": "white",
           "ticks": "",
           "title": {
            "standoff": 15
           },
           "zerolinecolor": "white",
           "zerolinewidth": 2
          }
         }
        },
        "title": {
         "text": "ChopBlock Projections"
        },
        "xaxis": {
         "anchor": "y",
         "categoryorder": "total descending",
         "domain": [
          0,
          1
         ],
         "title": {
          "text": "Franchise"
         }
        },
        "yaxis": {
         "anchor": "x",
         "domain": [
          0,
          1
         ],
         "title": {
          "text": "Player Value"
         }
        }
       }
      }
     },
     "metadata": {},
     "output_type": "display_data"
    }
   ],
   "source": [
    "\n",
    "# Create bar chart\n",
    "figPred = px.bar(players_onthefield, \n",
    "            x=\"FranchiseName\", \n",
    "            y=\"predRelative\", \n",
    "            color=\"pos\", \n",
    "            text='player', \n",
    "            color_discrete_map={\n",
    "                \"QB\": \"hsla(210, 60%, 25%, 1)\", #blue #1033a6 #0c2987 1033a6 062647 #293745 \n",
    "                \"RB\": \"hsla(12, 50%, 45%, 1)\", #gold #f5d000 ffa524 a23419 a34e39\n",
    "                \"WR\": \"hsla(267, 40%, 45%, 1)\", #purple #4f22bc #643fc1 643fc1 621B74 675280\n",
    "                \"TE\": \"hsla(177, 68%, 36%, 1)\", #teal #02687b #038097 1295ad 43B3AE\n",
    "                \"PK\": \"hsla(14, 30%, 40%, 1)\", #gold #f5d000 ffa524 664e47\n",
    "                \"DF\": \"hsla(35, 70%, 65%, 1)\"}, #gold #f5d000 ffa524 a49375 ffb54d\n",
    "            category_orders={\n",
    "                \"pos\": [\"QB\", \"RB\", \"WR\", \"TE\", \"PK\", \"DF\"]},\n",
    "            hover_name=\"player\",\n",
    "            hover_data={\n",
    "                'predRelative':True, 'pred':True, 'sharkAbsolute':True, 'adpAbsolute':True,\n",
    "                'player':False, 'pos':False, 'FranchiseName':False\n",
    "                },\n",
    "                labels={\n",
    "                    \"FranchiseName\":\"Franchise\",\n",
    "                    \"predRelative\":\"Player Value\",\n",
    "                    \"pred\":\"ChopBlock Projection\",\n",
    "                    \"sharkAbsolute\":\"FantasySharks Projection\",\n",
    "                    \"adpAbsolute\":\"ADP Projection\"\n",
    "                }\n",
    "            )\n",
    "figPred.update_layout(\n",
    "    barmode='stack', \n",
    "    xaxis={'categoryorder':'total descending'},\n",
    "    plot_bgcolor='rgba(0,0,0,0)',\n",
    "    title=\"ChopBlock Projections\",\n",
    "    font_family=\"Skia\",\n",
    "    showlegend=False\n",
    "    )\n",
    "figPred.show()\n",
    "# graphJSON_pred = json.dumps(figPred, cls=plotly.utils.PlotlyJSONEncoder)\n",
    "# return render_template('compareFranchises2.html', graphJSON_pred=graphJSON_pred, graphJSON_adp=graphJSON_adp, graphJSON_shark=graphJSON_shark)"
   ]
  },
  {
   "cell_type": "code",
   "execution_count": 55,
   "metadata": {},
   "outputs": [],
   "source": []
  },
  {
   "cell_type": "code",
   "execution_count": 117,
   "metadata": {},
   "outputs": [
    {
     "data": {
      "text/html": [
       "<div>\n",
       "<style scoped>\n",
       "    .dataframe tbody tr th:only-of-type {\n",
       "        vertical-align: middle;\n",
       "    }\n",
       "\n",
       "    .dataframe tbody tr th {\n",
       "        vertical-align: top;\n",
       "    }\n",
       "\n",
       "    .dataframe thead th {\n",
       "        text-align: right;\n",
       "    }\n",
       "</style>\n",
       "<table border=\"1\" class=\"dataframe\">\n",
       "  <thead>\n",
       "    <tr style=\"text-align: right;\">\n",
       "      <th></th>\n",
       "      <th>id_mfl</th>\n",
       "      <th>player</th>\n",
       "      <th>age</th>\n",
       "      <th>team</th>\n",
       "      <th>pos</th>\n",
       "      <th>posRank</th>\n",
       "      <th>KR</th>\n",
       "      <th>PR</th>\n",
       "      <th>RES</th>\n",
       "      <th>sharkRank</th>\n",
       "      <th>...</th>\n",
       "      <th>sharkAbsolute</th>\n",
       "      <th>adpRelative</th>\n",
       "      <th>adpAbsolute</th>\n",
       "      <th>FranchiseID</th>\n",
       "      <th>Week</th>\n",
       "      <th>PlayerID</th>\n",
       "      <th>RosterStatus</th>\n",
       "      <th>FranchiseName</th>\n",
       "      <th>predComp</th>\n",
       "      <th>predRelative</th>\n",
       "    </tr>\n",
       "  </thead>\n",
       "  <tbody>\n",
       "    <tr>\n",
       "      <th>0</th>\n",
       "      <td>5848</td>\n",
       "      <td>TOM BRADY</td>\n",
       "      <td>45.0</td>\n",
       "      <td>TBB</td>\n",
       "      <td>QB</td>\n",
       "      <td>QB1</td>\n",
       "      <td>NO</td>\n",
       "      <td>NO</td>\n",
       "      <td>NO</td>\n",
       "      <td>63.0</td>\n",
       "      <td>...</td>\n",
       "      <td>329.246664</td>\n",
       "      <td>136.640001</td>\n",
       "      <td>294.240001</td>\n",
       "      <td>0002</td>\n",
       "      <td>1</td>\n",
       "      <td>5848</td>\n",
       "      <td>ROSTER</td>\n",
       "      <td>Washington Fantasy Football Team</td>\n",
       "      <td>224.555342</td>\n",
       "      <td>123.243330</td>\n",
       "    </tr>\n",
       "    <tr>\n",
       "      <th>164</th>\n",
       "      <td>13189</td>\n",
       "      <td>EVAN ENGRAM</td>\n",
       "      <td>27.0</td>\n",
       "      <td>JAC</td>\n",
       "      <td>TE</td>\n",
       "      <td>TE1</td>\n",
       "      <td>NO</td>\n",
       "      <td>NO</td>\n",
       "      <td>NO</td>\n",
       "      <td>305.0</td>\n",
       "      <td>...</td>\n",
       "      <td>61.033333</td>\n",
       "      <td>-3.040000</td>\n",
       "      <td>56.660000</td>\n",
       "      <td>0002</td>\n",
       "      <td>1</td>\n",
       "      <td>13189</td>\n",
       "      <td>ROSTER</td>\n",
       "      <td>Washington Fantasy Football Team</td>\n",
       "      <td>27.896625</td>\n",
       "      <td>98.079232</td>\n",
       "    </tr>\n",
       "    <tr>\n",
       "      <th>149</th>\n",
       "      <td>11247</td>\n",
       "      <td>ZACH ERTZ</td>\n",
       "      <td>31.0</td>\n",
       "      <td>ARI</td>\n",
       "      <td>TE</td>\n",
       "      <td>TE1</td>\n",
       "      <td>NO</td>\n",
       "      <td>NO</td>\n",
       "      <td>NO</td>\n",
       "      <td>129.0</td>\n",
       "      <td>...</td>\n",
       "      <td>116.726666</td>\n",
       "      <td>51.486666</td>\n",
       "      <td>111.186666</td>\n",
       "      <td>0002</td>\n",
       "      <td>1</td>\n",
       "      <td>11247</td>\n",
       "      <td>ROSTER</td>\n",
       "      <td>Washington Fantasy Football Team</td>\n",
       "      <td>27.896625</td>\n",
       "      <td>111.632605</td>\n",
       "    </tr>\n",
       "    <tr>\n",
       "      <th>134</th>\n",
       "      <td>12956</td>\n",
       "      <td>WIL LUTZ</td>\n",
       "      <td>28.0</td>\n",
       "      <td>NOS</td>\n",
       "      <td>PK</td>\n",
       "      <td>PK1</td>\n",
       "      <td>NO</td>\n",
       "      <td>NO</td>\n",
       "      <td>NO</td>\n",
       "      <td>735.0</td>\n",
       "      <td>...</td>\n",
       "      <td>113.443335</td>\n",
       "      <td>28.103335</td>\n",
       "      <td>129.103335</td>\n",
       "      <td>0002</td>\n",
       "      <td>1</td>\n",
       "      <td>12956</td>\n",
       "      <td>ROSTER</td>\n",
       "      <td>Washington Fantasy Football Team</td>\n",
       "      <td>114.667515</td>\n",
       "      <td>29.115584</td>\n",
       "    </tr>\n",
       "    <tr>\n",
       "      <th>133</th>\n",
       "      <td>8930</td>\n",
       "      <td>MATT PRATER</td>\n",
       "      <td>38.0</td>\n",
       "      <td>ARI</td>\n",
       "      <td>PK</td>\n",
       "      <td>PK1</td>\n",
       "      <td>NO</td>\n",
       "      <td>NO</td>\n",
       "      <td>NO</td>\n",
       "      <td>668.0</td>\n",
       "      <td>...</td>\n",
       "      <td>121.776666</td>\n",
       "      <td>35.756668</td>\n",
       "      <td>136.756668</td>\n",
       "      <td>0002</td>\n",
       "      <td>1</td>\n",
       "      <td>8930</td>\n",
       "      <td>ROSTER</td>\n",
       "      <td>Washington Fantasy Football Team</td>\n",
       "      <td>114.667515</td>\n",
       "      <td>29.148264</td>\n",
       "    </tr>\n",
       "    <tr>\n",
       "      <th>...</th>\n",
       "      <td>...</td>\n",
       "      <td>...</td>\n",
       "      <td>...</td>\n",
       "      <td>...</td>\n",
       "      <td>...</td>\n",
       "      <td>...</td>\n",
       "      <td>...</td>\n",
       "      <td>...</td>\n",
       "      <td>...</td>\n",
       "      <td>...</td>\n",
       "      <td>...</td>\n",
       "      <td>...</td>\n",
       "      <td>...</td>\n",
       "      <td>...</td>\n",
       "      <td>...</td>\n",
       "      <td>...</td>\n",
       "      <td>...</td>\n",
       "      <td>...</td>\n",
       "      <td>...</td>\n",
       "      <td>...</td>\n",
       "      <td>...</td>\n",
       "    </tr>\n",
       "    <tr>\n",
       "      <th>153</th>\n",
       "      <td>0512</td>\n",
       "      <td>KANSAS CITY CHIEFS</td>\n",
       "      <td>0.0</td>\n",
       "      <td>KCC</td>\n",
       "      <td>DF</td>\n",
       "      <td>DF1</td>\n",
       "      <td>NO</td>\n",
       "      <td>NO</td>\n",
       "      <td>NO</td>\n",
       "      <td>405.0</td>\n",
       "      <td>...</td>\n",
       "      <td>169.333333</td>\n",
       "      <td>47.679998</td>\n",
       "      <td>164.679998</td>\n",
       "      <td>0012</td>\n",
       "      <td>1</td>\n",
       "      <td>0512</td>\n",
       "      <td>ROSTER</td>\n",
       "      <td>IDK much about soccer</td>\n",
       "      <td>138.041144</td>\n",
       "      <td>0.000000</td>\n",
       "    </tr>\n",
       "    <tr>\n",
       "      <th>117</th>\n",
       "      <td>0502</td>\n",
       "      <td>INDIANAPOLIS COLTS</td>\n",
       "      <td>0.0</td>\n",
       "      <td>IND</td>\n",
       "      <td>DF</td>\n",
       "      <td>DF1</td>\n",
       "      <td>NO</td>\n",
       "      <td>NO</td>\n",
       "      <td>NO</td>\n",
       "      <td>406.0</td>\n",
       "      <td>...</td>\n",
       "      <td>168.000000</td>\n",
       "      <td>62.673332</td>\n",
       "      <td>179.673332</td>\n",
       "      <td>0012</td>\n",
       "      <td>1</td>\n",
       "      <td>0502</td>\n",
       "      <td>ROSTER</td>\n",
       "      <td>IDK much about soccer</td>\n",
       "      <td>138.041144</td>\n",
       "      <td>8.421776</td>\n",
       "    </tr>\n",
       "    <tr>\n",
       "      <th>67</th>\n",
       "      <td>14208</td>\n",
       "      <td>DIONTAE JOHNSON</td>\n",
       "      <td>26.0</td>\n",
       "      <td>PIT</td>\n",
       "      <td>WR</td>\n",
       "      <td>WR1</td>\n",
       "      <td>NO</td>\n",
       "      <td>NO</td>\n",
       "      <td>NO</td>\n",
       "      <td>34.0</td>\n",
       "      <td>...</td>\n",
       "      <td>192.083335</td>\n",
       "      <td>66.563333</td>\n",
       "      <td>182.163333</td>\n",
       "      <td>0012</td>\n",
       "      <td>1</td>\n",
       "      <td>14208</td>\n",
       "      <td>ROSTER</td>\n",
       "      <td>IDK much about soccer</td>\n",
       "      <td>121.790716</td>\n",
       "      <td>71.478610</td>\n",
       "    </tr>\n",
       "    <tr>\n",
       "      <th>161</th>\n",
       "      <td>15751</td>\n",
       "      <td>DRAKE LONDON</td>\n",
       "      <td>21.0</td>\n",
       "      <td>ATL</td>\n",
       "      <td>WR</td>\n",
       "      <td>WR1</td>\n",
       "      <td>NO</td>\n",
       "      <td>NO</td>\n",
       "      <td>NO</td>\n",
       "      <td>115.0</td>\n",
       "      <td>...</td>\n",
       "      <td>128.023332</td>\n",
       "      <td>27.036666</td>\n",
       "      <td>142.636666</td>\n",
       "      <td>0012</td>\n",
       "      <td>1</td>\n",
       "      <td>15751</td>\n",
       "      <td>ROSTER</td>\n",
       "      <td>IDK much about soccer</td>\n",
       "      <td>121.790716</td>\n",
       "      <td>9.729883</td>\n",
       "    </tr>\n",
       "    <tr>\n",
       "      <th>47</th>\n",
       "      <td>12616</td>\n",
       "      <td>JACOBY BRISSETT</td>\n",
       "      <td>29.0</td>\n",
       "      <td>CLE</td>\n",
       "      <td>QB</td>\n",
       "      <td>QB1</td>\n",
       "      <td>NO</td>\n",
       "      <td>NO</td>\n",
       "      <td>NO</td>\n",
       "      <td>1599.0</td>\n",
       "      <td>...</td>\n",
       "      <td>131.853331</td>\n",
       "      <td>-30.413331</td>\n",
       "      <td>127.186669</td>\n",
       "      <td>0012</td>\n",
       "      <td>1</td>\n",
       "      <td>12616</td>\n",
       "      <td>ROSTER</td>\n",
       "      <td>IDK much about soccer</td>\n",
       "      <td>224.555342</td>\n",
       "      <td>0.000000</td>\n",
       "    </tr>\n",
       "  </tbody>\n",
       "</table>\n",
       "<p>179 rows × 23 columns</p>\n",
       "</div>"
      ],
      "text/plain": [
       "    id_mfl              player   age team pos posRank  KR  PR RES  sharkRank  \\\n",
       "0     5848           TOM BRADY  45.0  TBB  QB     QB1  NO  NO  NO       63.0   \n",
       "164  13189         EVAN ENGRAM  27.0  JAC  TE     TE1  NO  NO  NO      305.0   \n",
       "149  11247           ZACH ERTZ  31.0  ARI  TE     TE1  NO  NO  NO      129.0   \n",
       "134  12956            WIL LUTZ  28.0  NOS  PK     PK1  NO  NO  NO      735.0   \n",
       "133   8930         MATT PRATER  38.0  ARI  PK     PK1  NO  NO  NO      668.0   \n",
       "..     ...                 ...   ...  ...  ..     ...  ..  ..  ..        ...   \n",
       "153   0512  KANSAS CITY CHIEFS   0.0  KCC  DF     DF1  NO  NO  NO      405.0   \n",
       "117   0502  INDIANAPOLIS COLTS   0.0  IND  DF     DF1  NO  NO  NO      406.0   \n",
       "67   14208     DIONTAE JOHNSON  26.0  PIT  WR     WR1  NO  NO  NO       34.0   \n",
       "161  15751        DRAKE LONDON  21.0  ATL  WR     WR1  NO  NO  NO      115.0   \n",
       "47   12616     JACOBY BRISSETT  29.0  CLE  QB     QB1  NO  NO  NO     1599.0   \n",
       "\n",
       "     ...  sharkAbsolute  adpRelative  adpAbsolute  FranchiseID  Week  \\\n",
       "0    ...     329.246664   136.640001   294.240001         0002     1   \n",
       "164  ...      61.033333    -3.040000    56.660000         0002     1   \n",
       "149  ...     116.726666    51.486666   111.186666         0002     1   \n",
       "134  ...     113.443335    28.103335   129.103335         0002     1   \n",
       "133  ...     121.776666    35.756668   136.756668         0002     1   \n",
       "..   ...            ...          ...          ...          ...   ...   \n",
       "153  ...     169.333333    47.679998   164.679998         0012     1   \n",
       "117  ...     168.000000    62.673332   179.673332         0012     1   \n",
       "67   ...     192.083335    66.563333   182.163333         0012     1   \n",
       "161  ...     128.023332    27.036666   142.636666         0012     1   \n",
       "47   ...     131.853331   -30.413331   127.186669         0012     1   \n",
       "\n",
       "     PlayerID RosterStatus                     FranchiseName    predComp  \\\n",
       "0        5848       ROSTER  Washington Fantasy Football Team  224.555342   \n",
       "164     13189       ROSTER  Washington Fantasy Football Team   27.896625   \n",
       "149     11247       ROSTER  Washington Fantasy Football Team   27.896625   \n",
       "134     12956       ROSTER  Washington Fantasy Football Team  114.667515   \n",
       "133      8930       ROSTER  Washington Fantasy Football Team  114.667515   \n",
       "..        ...          ...                               ...         ...   \n",
       "153      0512       ROSTER            IDK much about soccer   138.041144   \n",
       "117      0502       ROSTER            IDK much about soccer   138.041144   \n",
       "67      14208       ROSTER            IDK much about soccer   121.790716   \n",
       "161     15751       ROSTER            IDK much about soccer   121.790716   \n",
       "47      12616       ROSTER            IDK much about soccer   224.555342   \n",
       "\n",
       "    predRelative  \n",
       "0     123.243330  \n",
       "164    98.079232  \n",
       "149   111.632605  \n",
       "134    29.115584  \n",
       "133    29.148264  \n",
       "..           ...  \n",
       "153     0.000000  \n",
       "117     8.421776  \n",
       "67     71.478610  \n",
       "161     9.729883  \n",
       "47      0.000000  \n",
       "\n",
       "[179 rows x 23 columns]"
      ]
     },
     "execution_count": 117,
     "metadata": {},
     "output_type": "execute_result"
    }
   ],
   "source": [
    "players_onthefield"
   ]
  },
  {
   "cell_type": "code",
   "execution_count": null,
   "metadata": {},
   "outputs": [],
   "source": []
  }
 ],
 "metadata": {
  "kernelspec": {
   "display_name": "Python 3.7.13 ('ffdemo')",
   "language": "python",
   "name": "python3"
  },
  "language_info": {
   "codemirror_mode": {
    "name": "ipython",
    "version": 3
   },
   "file_extension": ".py",
   "mimetype": "text/x-python",
   "name": "python",
   "nbconvert_exporter": "python",
   "pygments_lexer": "ipython3",
   "version": "3.7.13"
  },
  "orig_nbformat": 4,
  "vscode": {
   "interpreter": {
    "hash": "8d905582af795a1d852d8b489de0aa5c13367f17d826c05fe58bb0ea835ffe19"
   }
  }
 },
 "nbformat": 4,
 "nbformat_minor": 2
}
