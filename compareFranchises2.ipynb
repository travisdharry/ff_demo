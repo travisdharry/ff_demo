{
 "cells": [
  {
   "cell_type": "code",
   "execution_count": 1,
   "metadata": {},
   "outputs": [],
   "source": [
    "# Import dependencies\n",
    "# Standard python libraries\n",
    "import json\n",
    "import os\n",
    "# Third-party libraries\n",
    "from flask import Flask, redirect, request, url_for, render_template, session\n",
    "from flask_login import (\n",
    "    UserMixin,\n",
    "    LoginManager,\n",
    "    current_user,\n",
    "    login_required,\n",
    "    login_user,\n",
    "    logout_user,\n",
    ")\n",
    "from bs4 import BeautifulSoup\n",
    "from oauthlib.oauth2 import WebApplicationClient\n",
    "import requests\n",
    "import pandas as pd\n",
    "import psycopg2\n",
    "import plotly\n",
    "import plotly.express as px\n",
    "import plotly.graph_objects as go\n",
    "\n",
    "# Internal imports\n",
    "from user import User\n",
    "from db import get_df\n",
    "\n",
    "# Configuration (These variables are stored as environment variables)\n",
    "GOOGLE_CLIENT_ID = os.environ.get(\"GOOGLE_CLIENT_ID\", None)\n",
    "GOOGLE_CLIENT_SECRET = os.environ.get(\"GOOGLE_CLIENT_SECRET\", None)\n",
    "GOOGLE_DISCOVERY_URL = (\"https://accounts.google.com/.well-known/openid-configuration\")\n",
    "\n",
    "# Find environment variables\n",
    "DATABASE_URL = os.environ.get(\"DATABASE_URL\", None)\n",
    "# sqlalchemy deprecated urls which begin with \"postgres://\"; now it needs to start with \"postgresql://\"\n",
    "if DATABASE_URL.startswith(\"postgres://\"):\n",
    "    DATABASE_URL = DATABASE_URL.replace(\"postgres://\", \"postgresql://\", 1)"
   ]
  },
  {
   "cell_type": "code",
   "execution_count": 2,
   "metadata": {},
   "outputs": [
    {
     "name": "stderr",
     "output_type": "stream",
     "text": [
      "/Users/travisharry/opt/anaconda3/envs/ffdemo/lib/python3.7/site-packages/pandas/core/arrays/categorical.py:2631: FutureWarning: The `inplace` parameter in pandas.Categorical.set_categories is deprecated and will be removed in a future version. Removing unused categories will always return a new Categorical object.\n",
      "  res = method(*args, **kwargs)\n",
      "/Users/travisharry/opt/anaconda3/envs/ffdemo/lib/python3.7/site-packages/pandas/core/arrays/categorical.py:2631: FutureWarning:\n",
      "\n",
      "The `inplace` parameter in pandas.Categorical.set_categories is deprecated and will be removed in a future version. Removing unused categories will always return a new Categorical object.\n",
      "\n"
     ]
    }
   ],
   "source": [
    "# @app.route('/compareFranchises2')\n",
    "# #@login_required\n",
    "# def compareFranchises2():\n",
    "    # user_league = session.get(\"user_league\")\n",
    "user_league = \"53906\"\n",
    "# Get Franchises in the league\n",
    "urlString = f\"https://www54.myfantasyleague.com/2022/export?TYPE=league&L={user_league}\"\n",
    "response = requests.get(urlString)\n",
    "soup = BeautifulSoup(response.content,'xml')\n",
    "data = []\n",
    "franchises = soup.find_all('franchise')\n",
    "for i in range(len(franchises)):\n",
    "    rows = [franchises[i].get(\"id\"), franchises[i].get(\"name\")]\n",
    "    data.append(rows)\n",
    "franchise_df = pd.DataFrame(data)\n",
    "franchise_df.columns=['FranchiseID','FranchiseName']\n",
    "franchise_df = franchise_df.append({\"FranchiseID\":\"FA\", \"FranchiseName\":\"Free Agent\"}, ignore_index=True)\n",
    "\n",
    "# Get franchise rosters\n",
    "urlString = f\"https://www54.myfantasyleague.com/2022/export?TYPE=rosters&L={user_league}\"\n",
    "response = requests.get(urlString)\n",
    "soup = BeautifulSoup(response.content,'xml')\n",
    "data = []\n",
    "franchises = soup.find_all('franchise')\n",
    "for i in range(0,len(franchises)):\n",
    "    current_franchise = franchises[i].find_all('player')\n",
    "    for j in range(0,len(current_franchise)):\n",
    "        rows = [franchises[i].get(\"id\"), franchises[i].get(\"week\"), current_franchise[j].get(\"id\"), current_franchise[j].get(\"status\")]\n",
    "        data.append(rows)\n",
    "rosters_df = pd.DataFrame(data)\n",
    "\n",
    "# Get Free Agents\n",
    "urlString = f\"https://www54.myfantasyleague.com/2022/export?TYPE=freeAgents&L={user_league}\"\n",
    "response = requests.get(urlString)\n",
    "soup = BeautifulSoup(response.content,'xml')\n",
    "data = []\n",
    "freeAgents = soup.find_all('player')\n",
    "for i in range(len(freeAgents)):\n",
    "    rows = [\"FA\", \"\", freeAgents[i].get(\"id\"), \"Free Agent\"]\n",
    "    data.append(rows)\n",
    "fa_df = pd.DataFrame(data)\n",
    "rosters_df = rosters_df.append(fa_df)\n",
    "rosters_df.columns=['FranchiseID','Week','PlayerID','RosterStatus']\n",
    "\n",
    "\n",
    "\n",
    "# Get all players, sharkRank, and ADP\n",
    "predictions = get_df(\"predictions\")\n",
    "\n",
    "\n",
    "\n",
    "# Merge all dfs\n",
    "complete = predictions.merge(rosters_df, left_on='id_mfl', right_on='PlayerID', how='left').merge(franchise_df[['FranchiseID', 'FranchiseName']], on='FranchiseID', how='left')\n",
    "complete['FranchiseID'].fillna(\"FA\", inplace=True)\n",
    "complete['FranchiseName'].fillna(\"Free Agent\", inplace=True)\n",
    "complete['RosterStatus'].fillna(\"Free Agent\", inplace=True)\n",
    "\n",
    "\n",
    "\n",
    "# Split complete df by player pos\n",
    "qbs = complete[complete['pos'] == \"QB\"]\n",
    "qbs.reset_index(inplace=True, drop=True)\n",
    "rbs = complete[complete['pos'] == \"RB\"]\n",
    "rbs.reset_index(inplace=True, drop=True)\n",
    "wrs = complete[complete['pos'] == \"WR\"]\n",
    "wrs.reset_index(inplace=True, drop=True)\n",
    "tes = complete[complete['pos'] == \"TE\"]\n",
    "tes.reset_index(inplace=True, drop=True)\n",
    "pks = complete[complete['pos'] == \"PK\"]\n",
    "pks.reset_index(inplace=True, drop=True)\n",
    "defs = complete[complete['pos'] == \"DF\"]\n",
    "defs.reset_index(inplace=True, drop=True)\n",
    "\n",
    "\n",
    "### ADP Predictions\n",
    "# Roster Builder logic\n",
    "qbs_top = qbs.sort_values(by='adpAbsolute', ascending=False, ignore_index=True).groupby('FranchiseName').head(1)\n",
    "rbs_top = rbs.sort_values(by='adpAbsolute', ascending=False, ignore_index=True).groupby('FranchiseName').head(2)\n",
    "wrs_top = wrs.sort_values(by='adpAbsolute', ascending=False, ignore_index=True).groupby('FranchiseName').head(3)\n",
    "tes_top = tes.sort_values(by='adpAbsolute', ascending=False, ignore_index=True).groupby('FranchiseName').head(2)\n",
    "pks_top = pks.sort_values(by='adpAbsolute', ascending=False, ignore_index=True).groupby('FranchiseName').head(2)\n",
    "defs_top = defs.sort_values(by='adpAbsolute', ascending=False, ignore_index=True).groupby('FranchiseName').head(2)\n",
    "\n",
    "qbs_remainder = qbs[~qbs['PlayerID'].isin(qbs_top['PlayerID'])].groupby('FranchiseName').head(1)\n",
    "rbs_remainder = rbs[~rbs['PlayerID'].isin(rbs_top['PlayerID'])].groupby('FranchiseName').head(3)\n",
    "wrs_remainder = wrs[~wrs['PlayerID'].isin(wrs_top['PlayerID'])].groupby('FranchiseName').head(3)\n",
    "tes_remainder = tes[~tes['PlayerID'].isin(tes_top['PlayerID'])].groupby('FranchiseName').head(3)\n",
    "\n",
    "remainder = pd.concat([qbs_remainder, rbs_remainder, wrs_remainder, tes_remainder])\n",
    "\n",
    "top_remainders = remainder.sort_values(by='adpAbsolute', ascending=False, ignore_index=True).groupby('FranchiseName').head(3)\n",
    "\n",
    "players_onthefield = pd.concat([qbs_top, rbs_top, wrs_top, tes_top, pks_top, defs_top, top_remainders])\n",
    "players_onthefield = players_onthefield.sort_values(by='adpAbsolute', ascending=False, ignore_index=True)\n",
    "\n",
    "fran_rank = players_onthefield.groupby('FranchiseName').sum().sort_values(by='adpAbsolute', ascending=False)\n",
    "\n",
    "sorter = fran_rank.index\n",
    "\n",
    "players_onthefield.FranchiseName = players_onthefield.FranchiseName.astype(\"category\")\n",
    "players_onthefield.FranchiseName.cat.set_categories(sorter, inplace=True)\n",
    "players_onthefield.sort_values([\"FranchiseName\"], inplace=True)\n",
    "\n",
    "# remove Free Agents\n",
    "players_onthefield = players_onthefield.loc[players_onthefield.FranchiseID!=\"FA\"]\n",
    "\n",
    "# Find the lowest scoring player on the field and set them as the low bar\n",
    "for x in [\"QB\", \"RB\", \"WR\", \"TE\", \"PK\", \"DF\"]:\n",
    "    players_onthefield.loc[players_onthefield['pos']==x, 'adpComp'] = players_onthefield.loc[players_onthefield['pos']==x, 'adpAbsolute'].min()\n",
    "players_onthefield['adpRelative'] = players_onthefield['adpAbsolute'] - players_onthefield['adpComp']\n",
    "\n",
    "# Create bar chart\n",
    "figADP = px.bar(players_onthefield, \n",
    "            x=\"FranchiseName\", \n",
    "            y=\"adpRelative\", \n",
    "            color=\"pos\", \n",
    "            text='player', \n",
    "            color_discrete_map={\n",
    "                \"RB\": \"#062647\", #blue #1033a6 #0c2987 1033a6 062647\n",
    "                \"TE\": \"#43B3AE\", #teal #02687b #038097 1295ad 43B3AE\n",
    "                \"WR\": \"#621B74\", #purple #4f22bc #643fc1 643fc1 621B74\n",
    "                \"QB\": \"#ffa524\", #gold #f5d000 f5d000 ffa524\n",
    "                \"PK\": \"#0c2987\", #gold #f5d000 f5d000 ffa524\n",
    "                \"DF\": \"#1033a6\"}, #gold #f5d000 f5d000 ffa524\n",
    "            category_orders={\n",
    "                \"pos\": [\"RB\", \"QB\", \"WR\", \"TE\", \"PK\", \"DF\"]}\n",
    "            )\n",
    "figADP.update_layout(barmode='stack', xaxis={'categoryorder':'total descending'})\n",
    "\n",
    "graphJSON_adp = json.dumps(figADP, cls=plotly.utils.PlotlyJSONEncoder)\n",
    "\n",
    "\n",
    "### Shark Predictions\n",
    "# Roster Builder logic\n",
    "qbs_top = qbs.sort_values(by='sharkAbsolute', ascending=False, ignore_index=True).groupby('FranchiseName').head(1)\n",
    "rbs_top = rbs.sort_values(by='sharkAbsolute', ascending=False, ignore_index=True).groupby('FranchiseName').head(2)\n",
    "wrs_top = wrs.sort_values(by='sharkAbsolute', ascending=False, ignore_index=True).groupby('FranchiseName').head(3)\n",
    "tes_top = tes.sort_values(by='sharkAbsolute', ascending=False, ignore_index=True).groupby('FranchiseName').head(2)\n",
    "pks_top = pks.sort_values(by='sharkAbsolute', ascending=False, ignore_index=True).groupby('FranchiseName').head(2)\n",
    "defs_top = defs.sort_values(by='sharkAbsolute', ascending=False, ignore_index=True).groupby('FranchiseName').head(2)\n",
    "\n",
    "qbs_remainder = qbs[~qbs['PlayerID'].isin(qbs_top['PlayerID'])].groupby('FranchiseName').head(1)\n",
    "rbs_remainder = rbs[~rbs['PlayerID'].isin(rbs_top['PlayerID'])].groupby('FranchiseName').head(3)\n",
    "wrs_remainder = wrs[~wrs['PlayerID'].isin(wrs_top['PlayerID'])].groupby('FranchiseName').head(3)\n",
    "tes_remainder = tes[~tes['PlayerID'].isin(tes_top['PlayerID'])].groupby('FranchiseName').head(3)\n",
    "\n",
    "remainder = pd.concat([qbs_remainder, rbs_remainder, wrs_remainder, tes_remainder])\n",
    "\n",
    "top_remainders = remainder.sort_values(by='sharkAbsolute', ascending=False, ignore_index=True).groupby('FranchiseName').head(3)\n",
    "\n",
    "players_onthefield = pd.concat([qbs_top, rbs_top, wrs_top, tes_top, pks_top, defs_top, top_remainders])\n",
    "players_onthefield = players_onthefield.sort_values(by='sharkAbsolute', ascending=False, ignore_index=True)\n",
    "\n",
    "fran_rank = players_onthefield.groupby('FranchiseName').sum().sort_values(by='sharkAbsolute', ascending=False)\n",
    "\n",
    "sorter = fran_rank.index\n",
    "\n",
    "players_onthefield.FranchiseName = players_onthefield.FranchiseName.astype(\"category\")\n",
    "players_onthefield.FranchiseName.cat.set_categories(sorter, inplace=True)\n",
    "players_onthefield.sort_values([\"FranchiseName\"], inplace=True)\n",
    "\n",
    "# remove Free Agents\n",
    "players_onthefield = players_onthefield.loc[players_onthefield.FranchiseID!=\"FA\"]\n",
    "\n",
    "# Find the lowest scoring player on the field and set them as the low bar\n",
    "for x in [\"QB\", \"RB\", \"WR\", \"TE\", \"PK\", \"DF\"]:\n",
    "    players_onthefield.loc[players_onthefield['pos']==x, 'sharkComp'] = players_onthefield.loc[players_onthefield['pos']==x, 'sharkAbsolute'].min()\n",
    "players_onthefield['sharkRelative'] = players_onthefield['sharkAbsolute'] - players_onthefield['sharkComp']\n",
    "\n",
    "# Create bar chart\n",
    "figShark = px.bar(players_onthefield, \n",
    "            x=\"FranchiseName\", \n",
    "            y=\"sharkRelative\", \n",
    "            color=\"pos\", \n",
    "            text='player', \n",
    "            color_discrete_map={\n",
    "                \"RB\": \"#062647\", #blue #1033a6 #0c2987 1033a6 062647\n",
    "                \"TE\": \"#43B3AE\", #teal #02687b #038097 1295ad 43B3AE\n",
    "                \"WR\": \"#621B74\", #purple #4f22bc #643fc1 643fc1 621B74\n",
    "                \"QB\": \"#ffa524\", #gold #f5d000 f5d000 ffa524\n",
    "                \"PK\": \"#0c2987\", #gold #f5d000 f5d000 ffa524\n",
    "                \"DF\": \"#1033a6\"}, #gold #f5d000 f5d000 ffa524\n",
    "            category_orders={\n",
    "                \"pos\": [\"RB\", \"QB\", \"WR\", \"TE\", \"PK\", \"DF\"]}\n",
    "            )\n",
    "figShark.update_layout(barmode='stack', xaxis={'categoryorder':'total descending'})\n",
    "\n",
    "graphJSON_shark = json.dumps(figShark, cls=plotly.utils.PlotlyJSONEncoder)\n",
    "\n",
    "\n",
    "\n",
    "### My predictions\n",
    "# Roster Builder logic\n",
    "qbs_top = qbs.sort_values(by='pred', ascending=False, ignore_index=True).groupby('FranchiseName').head(1)\n",
    "rbs_top = rbs.sort_values(by='pred', ascending=False, ignore_index=True).groupby('FranchiseName').head(2)\n",
    "wrs_top = wrs.sort_values(by='pred', ascending=False, ignore_index=True).groupby('FranchiseName').head(3)\n",
    "tes_top = tes.sort_values(by='pred', ascending=False, ignore_index=True).groupby('FranchiseName').head(2)\n",
    "pks_top = pks.sort_values(by='pred', ascending=False, ignore_index=True).groupby('FranchiseName').head(2)\n",
    "defs_top = defs.sort_values(by='pred', ascending=False, ignore_index=True).groupby('FranchiseName').head(2)\n",
    "\n",
    "qbs_remainder = qbs[~qbs['PlayerID'].isin(qbs_top['PlayerID'])].groupby('FranchiseName').head(1)\n",
    "rbs_remainder = rbs[~rbs['PlayerID'].isin(rbs_top['PlayerID'])].groupby('FranchiseName').head(3)\n",
    "wrs_remainder = wrs[~wrs['PlayerID'].isin(wrs_top['PlayerID'])].groupby('FranchiseName').head(3)\n",
    "tes_remainder = tes[~tes['PlayerID'].isin(tes_top['PlayerID'])].groupby('FranchiseName').head(3)\n",
    "\n",
    "remainder = pd.concat([qbs_remainder, rbs_remainder, wrs_remainder, tes_remainder])\n",
    "\n",
    "top_remainders = remainder.sort_values(by='pred', ascending=False, ignore_index=True).groupby('FranchiseName').head(3)\n",
    "\n",
    "players_onthefield = pd.concat([qbs_top, rbs_top, wrs_top, tes_top, pks_top, defs_top, top_remainders])\n",
    "players_onthefield = players_onthefield.sort_values(by='pred', ascending=False, ignore_index=True)\n",
    "\n",
    "fran_rank = players_onthefield.groupby('FranchiseName').sum().sort_values(by='pred', ascending=False)\n",
    "\n",
    "sorter = fran_rank.index\n",
    "\n",
    "players_onthefield.FranchiseName = players_onthefield.FranchiseName.astype(\"category\")\n",
    "players_onthefield.FranchiseName.cat.set_categories(sorter, inplace=True)\n",
    "players_onthefield.sort_values([\"FranchiseName\"], inplace=True)\n",
    "\n",
    "# remove Free Agents\n",
    "players_onthefield = players_onthefield.loc[players_onthefield.FranchiseID!=\"FA\"]\n",
    "\n",
    "# Find the lowest scoring player on the field and set them as the low bar\n",
    "for x in [\"QB\", \"RB\", \"WR\", \"TE\", \"PK\", \"DF\"]:\n",
    "    players_onthefield.loc[players_onthefield['pos']==x, 'predComp'] = players_onthefield.loc[players_onthefield['pos']==x, 'pred'].min()\n",
    "players_onthefield['predRelative'] = players_onthefield['pred'] - players_onthefield['predComp']\n"
   ]
  },
  {
   "cell_type": "code",
   "execution_count": 3,
   "metadata": {},
   "outputs": [
    {
     "data": {
      "application/vnd.plotly.v1+json": {
       "config": {
        "plotlyServerURL": "https://plot.ly"
       },
       "data": [
        {
         "alignmentgroup": "True",
         "customdata": [
          [
           347.79867237467755,
           302.6699992,
           294.2400014,
           "TOM BRADY",
           "QB"
          ],
          [
           310.7684531036826,
           275.6800008,
           225.54333340000002,
           "KIRK COUSINS",
           "QB"
          ],
          [
           246.61009134938752,
           294.2400014,
           302.6699992,
           "JALEN HURTS",
           "QB"
          ],
          [
           328.81783135637795,
           321.0633321,
           321.0633321,
           "KYLER MURRAY",
           "QB"
          ],
          [
           330.24037785688034,
           280.950002,
           280.950002,
           "AARON RODGERS",
           "QB"
          ],
          [
           259.5480738777016,
           195.49333090000002,
           179.8799967,
           "MAC JONES",
           "QB"
          ],
          [
           339.3474530011374,
           351.0099986,
           351.0099986,
           "PATRICK MAHOMES",
           "QB"
          ],
          [
           313.02860394838586,
           243.2000015,
           243.2000015,
           "DEREK CARR",
           "QB"
          ],
          [
           325.11240091320684,
           288.14333500000004,
           311.5299978,
           "JOE BURROW",
           "QB"
          ],
          [
           266.1212113600973,
           162.996669,
           167.096667,
           "JARED GOFF",
           "QB"
          ],
          [
           254.64339513601837,
           187.106664,
           173.9599986,
           "BAKER MAYFIELD",
           "QB"
          ],
          [
           254.5680193115731,
           193.35333300000002,
           142.1633352,
           "DAVIS MILLS",
           "QB"
          ],
          [
           266.3993024075694,
           219.30666549999998,
           193.35333300000002,
           "RYAN TANNEHILL",
           "QB"
          ],
          [
           341.3234609152418,
           335.6466675,
           335.6466675,
           "JUSTIN HERBERT",
           "QB"
          ],
          [
           231.45751352947087,
           199.07666519999998,
           219.30666549999998,
           "TREY LANCE",
           "QB"
          ],
          [
           274.8555652913605,
           260.00666859999995,
           288.14333500000004,
           "RUSSELL WILSON",
           "QB"
          ],
          [
           307.1213146833726,
           205.2100001,
           199.07666519999998,
           "MATT RYAN",
           "QB"
          ],
          [
           332.5414234105502,
           311.5299978,
           275.6800008,
           "DAK PRESCOTT",
           "QB"
          ],
          [
           331.41500101346094,
           225.54333340000002,
           260.00666859999995,
           "MATTHEW STAFFORD",
           "QB"
          ],
          [
           324.742713942439,
           362.949998,
           362.949998,
           "JOSH ALLEN",
           "QB"
          ],
          [
           261.0277768954832,
           329.2466644,
           329.2466644,
           "LAMAR JACKSON",
           "QB"
          ],
          [
           232.58574363474466,
           191.60666659999998,
           189.55666609999997,
           "JUSTIN FIELDS",
           "QB"
          ],
          [
           224.555341899648,
           130.0866664,
           128.8033346,
           "JACOBY BRISSETT",
           "QB"
          ]
         ],
         "hovertemplate": "<b>%{hovertext}</b><br><br>Player Value=%{y}<br>ChopBlock Projection=%{customdata[0]}<br>FantasySharks Projection=%{customdata[1]}<br>ADP Projection=%{customdata[2]}<extra></extra>",
         "hovertext": [
          "TOM BRADY",
          "KIRK COUSINS",
          "JALEN HURTS",
          "KYLER MURRAY",
          "AARON RODGERS",
          "MAC JONES",
          "PATRICK MAHOMES",
          "DEREK CARR",
          "JOE BURROW",
          "JARED GOFF",
          "BAKER MAYFIELD",
          "DAVIS MILLS",
          "RYAN TANNEHILL",
          "JUSTIN HERBERT",
          "TREY LANCE",
          "RUSSELL WILSON",
          "MATT RYAN",
          "DAK PRESCOTT",
          "MATTHEW STAFFORD",
          "JOSH ALLEN",
          "LAMAR JACKSON",
          "JUSTIN FIELDS",
          "JACOBY BRISSETT"
         ],
         "legendgroup": "QB",
         "marker": {
          "color": "hsla(210, 60%, 25%, 1)",
          "pattern": {
           "shape": ""
          }
         },
         "name": "QB",
         "offsetgroup": "QB",
         "orientation": "v",
         "showlegend": true,
         "text": [
          "TOM BRADY",
          "KIRK COUSINS",
          "JALEN HURTS",
          "KYLER MURRAY",
          "AARON RODGERS",
          "MAC JONES",
          "PATRICK MAHOMES",
          "DEREK CARR",
          "JOE BURROW",
          "JARED GOFF",
          "BAKER MAYFIELD",
          "DAVIS MILLS",
          "RYAN TANNEHILL",
          "JUSTIN HERBERT",
          "TREY LANCE",
          "RUSSELL WILSON",
          "MATT RYAN",
          "DAK PRESCOTT",
          "MATTHEW STAFFORD",
          "JOSH ALLEN",
          "LAMAR JACKSON",
          "JUSTIN FIELDS",
          "JACOBY BRISSETT"
         ],
         "textposition": "auto",
         "type": "bar",
         "x": [
          "Washington Fantasy Football Team",
          "Washington Fantasy Football Team",
          "Crocodilopolis Body Snatchers",
          "Crocodilopolis Body Snatchers",
          "Pretty Big Wieners",
          "Pretty Big Wieners",
          "Saskatoon Squatches",
          "Saskatoon Squatches",
          "Verdansk Vaqueros FFC",
          "Verdansk Vaqueros FFC",
          "O'Henry's Stiffies",
          "O'Henry's Stiffies",
          "Down with the Sickness unto Death",
          "Down with the Sickness unto Death",
          "WHAM! BAM! Thank You CAM!",
          "WHAM! BAM! Thank You CAM!",
          "Providence Monastic Spirits",
          "Providence Monastic Spirits",
          "Comeback Kings",
          "Comeback Kings",
          "Gus The Bus",
          "IDK much about soccer ",
          "IDK much about soccer "
         ],
         "xaxis": "x",
         "y": [
          123.24333047502955,
          86.21311120403459,
          22.054749449739518,
          104.26248945672995,
          105.68503595723234,
          34.9927319780536,
          114.79211110148941,
          88.47326204873787,
          100.55705901355884,
          41.56586946044928,
          30.08805323637037,
          30.012677411925097,
          41.843960507921395,
          116.76811901559381,
          6.902171629822874,
          50.30022339171251,
          82.56597278372459,
          107.98608151090218,
          106.85965911381294,
          100.18737204279103,
          36.472434995835215,
          8.03040173509666,
          0
         ],
         "yaxis": "y"
        },
        {
         "alignmentgroup": "True",
         "customdata": [
          [
           218.18947227708077,
           139.9466665,
           129,
           "MICHAEL CARTER",
           "RB"
          ],
          [
           239.76286360382989,
           208.38333380000003,
           250.8499969,
           "NAJEE HARRIS",
           "RB"
          ],
          [
           228.3797654483475,
           180.9799988,
           151.9466665,
           "DAMIEN HARRIS",
           "RB"
          ],
          [
           247.90985285553472,
           232.2466665,
           241.6733307,
           "JOE MIXON",
           "RB"
          ],
          [
           228.44555402343963,
           197.0633331,
           187.35333400000002,
           "JOSH JACOBS",
           "RB"
          ],
          [
           235.24974024879208,
           224.9766663,
           195.54666540000002,
           "DAVID MONTGOMERY",
           "RB"
          ],
          [
           216.35452585306058,
           173.246668,
           145.293335,
           "MILES SANDERS",
           "RB"
          ],
          [
           230.1876491981335,
           241.6733307,
           213.09333340000003,
           "LEONARD FOURNETTE",
           "RB"
          ],
          [
           218.00075940491394,
           136.29666699999999,
           167.3033356,
           "JK DOBBINS",
           "RB"
          ],
          [
           217.90826144868709,
           167.3033356,
           224.9766663,
           "SAQUON BARKLEY",
           "RB"
          ],
          [
           222.68746183725432,
           182.403333,
           208.38333380000003,
           "JAVONTE WILLIAMS",
           "RB"
          ],
          [
           78.79841980636452,
           83.18000031,
           68.51999995,
           "ZACK MOSS",
           "RB"
          ],
          [
           223.36772714015873,
           184.0266673,
           182.403333,
           "ELIJAH MITCHELL",
           "RB"
          ],
          [
           209.3522572982166,
           191.51666559999998,
           154.92666780000002,
           "DEVIN SINGLETARY",
           "RB"
          ],
          [
           265.842272055568,
           195.54666540000002,
           199.0400004,
           "EZEKIEL ELLIOTT",
           "RB"
          ],
          [
           279.2707563564466,
           294.58999839999996,
           283.2766642,
           "DERRICK HENRY",
           "RB"
          ],
          [
           263.7273265315137,
           344.2333293,
           344.2333293,
           "JONATHAN TAYLOR",
           "RB"
          ],
          [
           130.22245829512596,
           178.679999,
           141.68000031,
           "ENO BENJAMIN",
           "RB"
          ],
          [
           238.359891510339,
           202.2133352,
           176.8966665,
           "ANTONIO GIBSON",
           "RB"
          ],
          [
           152.32811823086843,
           149.8833333,
           151.1233348,
           "NYHEIM HINES",
           "RB"
          ],
          [
           230.30828312434954,
           213.09333340000003,
           236.41333109999997,
           "NICK CHUBB",
           "RB"
          ],
          [
           235.85760180707774,
           220.38333280000003,
           220.38333280000003,
           "AARON JONES",
           "RB"
          ],
          [
           209.55930324607178,
           151.9466665,
           153.7333333,
           "CHASE EDMONDS",
           "RB"
          ],
          [
           244.86193716171405,
           250.8499969,
           202.2133352,
           "JAMES CONNER",
           "RB"
          ],
          [
           265.27050472034836,
           240.23333080000003,
           320.90333250000003,
           "CHRISTIAN MCCAFFREY",
           "RB"
          ],
          [
           231.99518988495888,
           133.52999930000001,
           148.6399994,
           "CORDARRELLE PATTERSON",
           "RB"
          ],
          [
           238.43819276602687,
           199.0400004,
           232.2466665,
           "DANDRE SWIFT",
           "RB"
          ],
          [
           127.09250394860877,
           162.06666640000003,
           181.76666409999999,
           "RACHAAD WHITE",
           "RB"
          ],
          [
           124.78101840453327,
           121.8599986,
           93.29999924,
           "MIKE DAVIS",
           "RB"
          ],
          [
           145.97476837079824,
           137.93333330000002,
           116.06999840000002,
           "JD MCKISSIC",
           "RB"
          ],
          [
           242.99995187510012,
           176.8966665,
           173.246668,
           "CLYDE EDWARDS-HELAIRE",
           "RB"
          ],
          [
           130.2825377708689,
           125.6233348,
           131.4633336,
           "JAMES ROBINSON",
           "RB"
          ],
          [
           137.4410689064175,
           143.57999929,
           166.74000039999999,
           "KHALIL HERBERT",
           "RB"
          ],
          [
           192.2753378929566,
           157.6533351,
           180.9799988,
           "DAMEON PIERCE",
           "RB"
          ],
          [
           251.81529732809787,
           283.2766642,
           265.73999530000003,
           "DALVIN COOK",
           "RB"
          ],
          [
           201.13795747989585,
           236.41333109999997,
           157.6533351,
           "RASHAAD PENNY",
           "RB"
          ],
          [
           266.0619909832341,
           265.73999530000003,
           240.23333080000003,
           "ALVIN KAMARA",
           "RB"
          ],
          [
           261.29832227365205,
           320.90333250000003,
           294.58999839999996,
           "AUSTIN EKELER",
           "RB"
          ]
         ],
         "hovertemplate": "<b>%{hovertext}</b><br><br>Player Value=%{y}<br>ChopBlock Projection=%{customdata[0]}<br>FantasySharks Projection=%{customdata[1]}<br>ADP Projection=%{customdata[2]}<extra></extra>",
         "hovertext": [
          "MICHAEL CARTER",
          "NAJEE HARRIS",
          "DAMIEN HARRIS",
          "JOE MIXON",
          "JOSH JACOBS",
          "DAVID MONTGOMERY",
          "MILES SANDERS",
          "LEONARD FOURNETTE",
          "JK DOBBINS",
          "SAQUON BARKLEY",
          "JAVONTE WILLIAMS",
          "ZACK MOSS",
          "ELIJAH MITCHELL",
          "DEVIN SINGLETARY",
          "EZEKIEL ELLIOTT",
          "DERRICK HENRY",
          "JONATHAN TAYLOR",
          "ENO BENJAMIN",
          "ANTONIO GIBSON",
          "NYHEIM HINES",
          "NICK CHUBB",
          "AARON JONES",
          "CHASE EDMONDS",
          "JAMES CONNER",
          "CHRISTIAN MCCAFFREY",
          "CORDARRELLE PATTERSON",
          "DANDRE SWIFT",
          "RACHAAD WHITE",
          "MIKE DAVIS",
          "JD MCKISSIC",
          "CLYDE EDWARDS-HELAIRE",
          "JAMES ROBINSON",
          "KHALIL HERBERT",
          "DAMEON PIERCE",
          "DALVIN COOK",
          "RASHAAD PENNY",
          "ALVIN KAMARA",
          "AUSTIN EKELER"
         ],
         "legendgroup": "RB",
         "marker": {
          "color": "hsla(12, 50%, 45%, 1)",
          "pattern": {
           "shape": ""
          }
         },
         "name": "RB",
         "offsetgroup": "RB",
         "orientation": "v",
         "showlegend": true,
         "text": [
          "MICHAEL CARTER",
          "NAJEE HARRIS",
          "DAMIEN HARRIS",
          "JOE MIXON",
          "JOSH JACOBS",
          "DAVID MONTGOMERY",
          "MILES SANDERS",
          "LEONARD FOURNETTE",
          "JK DOBBINS",
          "SAQUON BARKLEY",
          "JAVONTE WILLIAMS",
          "ZACK MOSS",
          "ELIJAH MITCHELL",
          "DEVIN SINGLETARY",
          "EZEKIEL ELLIOTT",
          "DERRICK HENRY",
          "JONATHAN TAYLOR",
          "ENO BENJAMIN",
          "ANTONIO GIBSON",
          "NYHEIM HINES",
          "NICK CHUBB",
          "AARON JONES",
          "CHASE EDMONDS",
          "JAMES CONNER",
          "CHRISTIAN MCCAFFREY",
          "CORDARRELLE PATTERSON",
          "DANDRE SWIFT",
          "RACHAAD WHITE",
          "MIKE DAVIS",
          "JD MCKISSIC",
          "CLYDE EDWARDS-HELAIRE",
          "JAMES ROBINSON",
          "KHALIL HERBERT",
          "DAMEON PIERCE",
          "DALVIN COOK",
          "RASHAAD PENNY",
          "ALVIN KAMARA",
          "AUSTIN EKELER"
         ],
         "textposition": "auto",
         "type": "bar",
         "x": [
          "Washington Fantasy Football Team",
          "Washington Fantasy Football Team",
          "Washington Fantasy Football Team",
          "Crocodilopolis Body Snatchers",
          "Crocodilopolis Body Snatchers",
          "Crocodilopolis Body Snatchers",
          "Pretty Big Wieners",
          "Pretty Big Wieners",
          "Pretty Big Wieners",
          "Saskatoon Squatches",
          "Saskatoon Squatches",
          "Verdansk Vaqueros FFC",
          "Verdansk Vaqueros FFC",
          "Verdansk Vaqueros FFC",
          "Verdansk Vaqueros FFC",
          "O'Henry's Stiffies",
          "O'Henry's Stiffies",
          "O'Henry's Stiffies",
          "O'Henry's Stiffies",
          "Down with the Sickness unto Death",
          "Down with the Sickness unto Death",
          "Down with the Sickness unto Death",
          "Down with the Sickness unto Death",
          "WHAM! BAM! Thank You CAM!",
          "WHAM! BAM! Thank You CAM!",
          "Providence Monastic Spirits",
          "Providence Monastic Spirits",
          "Providence Monastic Spirits",
          "Comeback Kings",
          "Comeback Kings",
          "Comeback Kings",
          "Gus The Bus",
          "Gus The Bus",
          "Gus The Bus",
          "Gus The Bus",
          "Gus The Bus",
          "IDK much about soccer ",
          "IDK much about soccer "
         ],
         "xaxis": "x",
         "y": [
          139.39105247071626,
          160.96444379746538,
          149.58134564198298,
          169.11143304917022,
          149.64713421707512,
          156.45132044242757,
          137.55610604669607,
          151.389229391769,
          139.20233959854943,
          139.10984164232258,
          143.8890420308898,
          0,
          144.5693073337942,
          130.5538374918521,
          187.0438522492035,
          200.4723365500821,
          184.9289067251492,
          51.42403848876144,
          159.56147170397446,
          73.5296984245039,
          151.50986331798504,
          157.05918200071324,
          130.76088343970724,
          166.06351735534952,
          186.47208491398385,
          153.19677007859434,
          159.63977295966237,
          48.294084142244245,
          45.98259859816875,
          67.17634856443372,
          164.20153206873562,
          51.48411796450439,
          58.64264910005299,
          113.47691808659208,
          173.01687752173336,
          122.33953767353132,
          187.26357117686962,
          182.49990246728754
         ],
         "yaxis": "y"
        },
        {
         "alignmentgroup": "True",
         "customdata": [
          [
           169.67633926673219,
           184.6199997,
           182.1633326,
           "DK METCALF",
           "WR"
          ],
          [
           187.89380493433936,
           170.78333130000001,
           190.64333390000002,
           "TEE HIGGINS",
           "WR"
          ],
          [
           230.95543632870923,
           301.17999669999995,
           301.17999669999995,
           "COOPER KUPP",
           "WR"
          ],
          [
           237.68219804542653,
           214.0300003,
           229.2899994,
           "DEEBO SAMUEL",
           "WR"
          ],
          [
           199.95261367725615,
           172.71666667,
           105.33666649,
           "BRAXTON BERRIOS",
           "WR"
          ],
          [
           190.34698837194975,
           184.4133331,
           159.37666651,
           "DEVIN DUVERNAY",
           "WR"
          ],
          [
           201.69585059982634,
           178.18333330000002,
           157.6800003,
           "CHRIS GODWIN",
           "WR"
          ],
          [
           174.68995141219668,
           167.08333330000002,
           187.7733337,
           "DJ MOORE",
           "WR"
          ],
          [
           181.93905864685186,
           164.73333380000003,
           138.3399989,
           "ROBERT WOODS",
           "WR"
          ],
          [
           178.56790166584713,
           105.2199997,
           98.40666682,
           "RUSSELL GAGE",
           "WR"
          ],
          [
           170.54775681825865,
           144.1766658,
           192.0833349,
           "AJ BROWN",
           "WR"
          ],
          [
           210.07833445572817,
           263.99000040000004,
           283.8766652,
           "JUSTIN JEFFERSON",
           "WR"
          ],
          [
           164.62980041081238,
           148.1533325,
           130.5999987,
           "CHASE CLAYPOOL",
           "WR"
          ],
          [
           150.25209617272998,
           130.5999987,
           101.52333320000001,
           "JAKOBI MEYERS",
           "WR"
          ],
          [
           144.24646178487563,
           119.6966665,
           136.2833338,
           "ELIJAH MOORE",
           "WR"
          ],
          [
           230.44936910114507,
           277.68666840000003,
           239.5300003,
           "TYREEK HILL",
           "WR"
          ],
          [
           225.757810623727,
           242.41000010000002,
           263.99000040000004,
           "JAMARR CHASE",
           "WR"
          ],
          [
           105.44017162674139,
           66.16333338,
           30.35333309,
           "NOAH BROWN",
           "WR"
          ],
          [
           160.74355187516187,
           141.07333269999998,
           146.4633331,
           "AMARI COOPER",
           "WR"
          ],
          [
           230.43185182278287,
           283.8766652,
           252.1866684,
           "DAVANTE ADAMS",
           "WR"
          ],
          [
           126.0924444063402,
           80.49666646,
           99.92333221,
           "RONDALE MOORE",
           "WR"
          ],
          [
           187.2628035692036,
           195.5000005,
           202.01333359999998,
           "CEEDEE LAMB",
           "WR"
          ],
          [
           141.7095417969383,
           109.94666720000001,
           134.7433339,
           "DEVONTA SMITH",
           "WR"
          ],
          [
           149.03632827457508,
           117.45666729999999,
           100.41333309999999,
           "JARVIS LANDRY",
           "WR"
          ],
          [
           170.32948589475183,
           194.45000100000001,
           195.5000005,
           "MIKE EVANS",
           "WR"
          ],
          [
           166.90972465690362,
           157.6800003,
           176.2399994,
           "TERRY MCLAURIN",
           "WR"
          ],
          [
           141.2112548728733,
           145.70333300000001,
           120.87999930000001,
           "DJ CHARK",
           "WR"
          ],
          [
           131.41694838586227,
           91.74333394,
           124.8933317,
           "GEORGE PICKENS",
           "WR"
          ],
          [
           174.68464832730285,
           180.199999,
           144.1766658,
           "TYLER LOCKETT",
           "WR"
          ],
          [
           135.37622432301566,
           112.0533335,
           82.52666677,
           "AJ GREEN",
           "WR"
          ],
          [
           150.0540838045214,
           154.1333344,
           122.5699982,
           "DEVANTE PARKER",
           "WR"
          ],
          [
           134.32339894457775,
           10.6666666,
           97.55,
           "WANDALE ROBINSON",
           "WR"
          ],
          [
           123.3438786029511,
           122.5699982,
           180.199999,
           "COURTLAND SUTTON",
           "WR"
          ],
          [
           136.5696911246621,
           173.55333149999998,
           167.9933314,
           "JUJU SMITH-SCHUSTER",
           "WR"
          ],
          [
           145.23612257537323,
           128.023332,
           116.78666640000002,
           "TYLER BOYD",
           "WR"
          ],
          [
           164.42222410490064,
           182.1633326,
           173.55333149999998,
           "BRANDIN COOKS",
           "WR"
          ],
          [
           134.4273022102138,
           61.6200002,
           109.94666720000001,
           "DAVID BELL",
           "WR"
          ],
          [
           106.85754260455141,
           86.92666651,
           96.90666682,
           "NICO COLLINS",
           "WR"
          ],
          [
           194.01788394855464,
           229.2899994,
           242.41000010000002,
           "STEFON DIGGS",
           "WR"
          ],
          [
           171.3027621870006,
           150.5100006,
           167.08333330000002,
           "JAYLEN WADDLE",
           "WR"
          ],
          [
           188.47856967325814,
           177.7166677,
           170.9799998,
           "HUNTER RENFROW",
           "WR"
          ],
          [
           155.3609014464182,
           138.3399989,
           142.6366659,
           "CHRISTIAN KIRK",
           "WR"
          ],
          [
           129.4504458657136,
           145.4799998,
           155.61333359999998,
           "MICHAEL THOMAS",
           "WR"
          ],
          [
           160.95159659046064,
           193.22000219999998,
           164.73333380000003,
           "ADAM THIELEN",
           "WR"
          ],
          [
           131.52059859417076,
           132.79333290000002,
           139.61333159999998,
           "DRAKE LONDON",
           "WR"
          ],
          [
           153.0816759216765,
           140.1366669,
           133.0899991,
           "MECOLE HARDMAN",
           "WR"
          ],
          [
           193.2693250754151,
           192.0833349,
           178.18333330000002,
           "DIONTAE JOHNSON",
           "WR"
          ]
         ],
         "hovertemplate": "<b>%{hovertext}</b><br><br>Player Value=%{y}<br>ChopBlock Projection=%{customdata[0]}<br>FantasySharks Projection=%{customdata[1]}<br>ADP Projection=%{customdata[2]}<extra></extra>",
         "hovertext": [
          "DK METCALF",
          "TEE HIGGINS",
          "COOPER KUPP",
          "DEEBO SAMUEL",
          "BRAXTON BERRIOS",
          "DEVIN DUVERNAY",
          "CHRIS GODWIN",
          "DJ MOORE",
          "ROBERT WOODS",
          "RUSSELL GAGE",
          "AJ BROWN",
          "JUSTIN JEFFERSON",
          "CHASE CLAYPOOL",
          "JAKOBI MEYERS",
          "ELIJAH MOORE",
          "TYREEK HILL",
          "JAMARR CHASE",
          "NOAH BROWN",
          "AMARI COOPER",
          "DAVANTE ADAMS",
          "RONDALE MOORE",
          "CEEDEE LAMB",
          "DEVONTA SMITH",
          "JARVIS LANDRY",
          "MIKE EVANS",
          "TERRY MCLAURIN",
          "DJ CHARK",
          "GEORGE PICKENS",
          "TYLER LOCKETT",
          "AJ GREEN",
          "DEVANTE PARKER",
          "WANDALE ROBINSON",
          "COURTLAND SUTTON",
          "JUJU SMITH-SCHUSTER",
          "TYLER BOYD",
          "BRANDIN COOKS",
          "DAVID BELL",
          "NICO COLLINS",
          "STEFON DIGGS",
          "JAYLEN WADDLE",
          "HUNTER RENFROW",
          "CHRISTIAN KIRK",
          "MICHAEL THOMAS",
          "ADAM THIELEN",
          "DRAKE LONDON",
          "MECOLE HARDMAN",
          "DIONTAE JOHNSON"
         ],
         "legendgroup": "WR",
         "marker": {
          "color": "hsla(267, 40%, 45%, 1)",
          "pattern": {
           "shape": ""
          }
         },
         "name": "WR",
         "offsetgroup": "WR",
         "orientation": "v",
         "showlegend": true,
         "text": [
          "DK METCALF",
          "TEE HIGGINS",
          "COOPER KUPP",
          "DEEBO SAMUEL",
          "BRAXTON BERRIOS",
          "DEVIN DUVERNAY",
          "CHRIS GODWIN",
          "DJ MOORE",
          "ROBERT WOODS",
          "RUSSELL GAGE",
          "AJ BROWN",
          "JUSTIN JEFFERSON",
          "CHASE CLAYPOOL",
          "JAKOBI MEYERS",
          "ELIJAH MOORE",
          "TYREEK HILL",
          "JAMARR CHASE",
          "NOAH BROWN",
          "AMARI COOPER",
          "DAVANTE ADAMS",
          "RONDALE MOORE",
          "CEEDEE LAMB",
          "DEVONTA SMITH",
          "JARVIS LANDRY",
          "MIKE EVANS",
          "TERRY MCLAURIN",
          "DJ CHARK",
          "GEORGE PICKENS",
          "TYLER LOCKETT",
          "AJ GREEN",
          "DEVANTE PARKER",
          "WANDALE ROBINSON",
          "COURTLAND SUTTON",
          "JUJU SMITH-SCHUSTER",
          "TYLER BOYD",
          "BRANDIN COOKS",
          "DAVID BELL",
          "NICO COLLINS",
          "STEFON DIGGS",
          "JAYLEN WADDLE",
          "HUNTER RENFROW",
          "CHRISTIAN KIRK",
          "MICHAEL THOMAS",
          "ADAM THIELEN",
          "DRAKE LONDON",
          "MECOLE HARDMAN",
          "DIONTAE JOHNSON"
         ],
         "textposition": "auto",
         "type": "bar",
         "x": [
          "Washington Fantasy Football Team",
          "Washington Fantasy Football Team",
          "Washington Fantasy Football Team",
          "Washington Fantasy Football Team",
          "Crocodilopolis Body Snatchers",
          "Crocodilopolis Body Snatchers",
          "Crocodilopolis Body Snatchers",
          "Crocodilopolis Body Snatchers",
          "Pretty Big Wieners",
          "Pretty Big Wieners",
          "Pretty Big Wieners",
          "Pretty Big Wieners",
          "Saskatoon Squatches",
          "Saskatoon Squatches",
          "Saskatoon Squatches",
          "Saskatoon Squatches",
          "Saskatoon Squatches",
          "Verdansk Vaqueros FFC",
          "Verdansk Vaqueros FFC",
          "Verdansk Vaqueros FFC",
          "O'Henry's Stiffies",
          "O'Henry's Stiffies",
          "O'Henry's Stiffies",
          "Down with the Sickness unto Death",
          "Down with the Sickness unto Death",
          "Down with the Sickness unto Death",
          "WHAM! BAM! Thank You CAM!",
          "WHAM! BAM! Thank You CAM!",
          "WHAM! BAM! Thank You CAM!",
          "WHAM! BAM! Thank You CAM!",
          "WHAM! BAM! Thank You CAM!",
          "Providence Monastic Spirits",
          "Providence Monastic Spirits",
          "Providence Monastic Spirits",
          "Providence Monastic Spirits",
          "Comeback Kings",
          "Comeback Kings",
          "Comeback Kings",
          "Comeback Kings",
          "Gus The Bus",
          "Gus The Bus",
          "Gus The Bus",
          "IDK much about soccer ",
          "IDK much about soccer ",
          "IDK much about soccer ",
          "IDK much about soccer ",
          "IDK much about soccer "
         ],
         "xaxis": "x",
         "y": [
          64.2361676399908,
          82.45363330759797,
          125.51526470196784,
          132.24202641868516,
          94.51244205051476,
          84.90681674520836,
          96.25567897308495,
          69.24977978545529,
          76.49888702011047,
          73.12773003910574,
          65.10758519151726,
          104.63816282898678,
          59.18962878407099,
          44.81192454598859,
          38.806290158134246,
          125.00919747440368,
          120.31763899698562,
          0,
          55.30338024842048,
          124.99168019604149,
          20.652272779598817,
          81.82263194246222,
          36.26937017019692,
          43.596156647833695,
          64.88931426801044,
          61.46955303016223,
          35.77108324613191,
          25.97677675912088,
          69.24447670056146,
          29.936052696274274,
          44.61391217778002,
          28.883227317836358,
          17.903706976209705,
          31.129519497920725,
          39.79595094863184,
          58.98205247815925,
          28.98713058347242,
          1.4173709778100232,
          88.57771232181325,
          65.86259056025922,
          83.03839804651675,
          49.92072981967682,
          24.0102742389722,
          55.51142496371925,
          26.080426967429375,
          47.6415042949351,
          87.82915344867372
         ],
         "yaxis": "y"
        },
        {
         "alignmentgroup": "True",
         "customdata": [
          [
           139.52922940534606,
           119.5333318,
           116.7266658,
           "ZACH ERTZ",
           "TE"
          ],
          [
           125.7252631013163,
           60.01333326,
           60.01333326,
           "EVAN ENGRAM",
           "TE"
          ],
          [
           114.86894336971251,
           123.0900004,
           119.5333318,
           "DAWSON KNOX",
           "TE"
          ],
          [
           154.90326088731797,
           95.80333227,
           95.80333227,
           "MIKE GESICKI",
           "TE"
          ],
          [
           114.98588923680852,
           56.65999959,
           6.146666654,
           "TYLER CONKLIN",
           "TE"
          ],
          [
           196.0512491797252,
           186.850002,
           186.850002,
           "MARK ANDREWS",
           "TE"
          ],
          [
           158.53630662232763,
           135.5999985,
           127.4499995,
           "DALLAS GOEDERT",
           "TE"
          ],
          [
           147.1516386712434,
           127.4499995,
           123.0900004,
           "TJ HOCKENSON",
           "TE"
          ],
          [
           111.4519047537452,
           116.7266658,
           90.41666540000001,
           "DAVID NJOKU",
           "TE"
          ],
          [
           221.02480561796065,
           203.893335,
           203.893335,
           "TRAVIS KELCE",
           "TE"
          ],
          [
           157.92437667979613,
           131.13999840000002,
           163.5266693,
           "KYLE PITTS",
           "TE"
          ],
          [
           114.37982357869139,
           107.2399999,
           91.47999852,
           "HUNTER HENRY",
           "TE"
          ],
          [
           110.11789309078533,
           63.679999800000004,
           5.45666666,
           "ADAM TRAUTMAN",
           "TE"
          ],
          [
           27.31149780757524,
           3.3899999860000003,
           16.67999986,
           "ANTHONY FIRKSER",
           "TE"
          ],
          [
           150.8598334466327,
           163.5266693,
           135.5999985,
           "DARREN WALLER",
           "TE"
          ],
          [
           197.26058057239356,
           72.51666667,
           145.3700002,
           "GEORGE KITTLE",
           "TE"
          ],
          [
           110.90614657821799,
           70.03666712,
           70.03666712,
           "TYLER HIGBEE",
           "TE"
          ],
          [
           107.80897108987388,
           101.1799995,
           76.22666702,
           "ALBERT OKWUEGBUNAM",
           "TE"
          ],
          [
           47.47920739307662,
           66.70333303,
           62.00999959,
           "ROBERT TONYAN",
           "TE"
          ],
          [
           155.05268873204898,
           145.3700002,
           131.13999840000002,
           "DALTON SCHULTZ",
           "TE"
          ],
          [
           150.4661533721767,
           116.1499987,
           85.59000015,
           "NOAH FANT",
           "TE"
          ],
          [
           121.8037009458739,
           85.59000015,
           58.75666695,
           "LOGAN THOMAS",
           "TE"
          ],
          [
           104.669021038372,
           90.41666540000001,
           63.679999800000004,
           "HAYDEN HURST",
           "TE"
          ],
          [
           46.38090431698951,
           53.42666626,
           7.2800000670000005,
           "HARRISON BRYANT",
           "TE"
          ]
         ],
         "hovertemplate": "<b>%{hovertext}</b><br><br>Player Value=%{y}<br>ChopBlock Projection=%{customdata[0]}<br>FantasySharks Projection=%{customdata[1]}<br>ADP Projection=%{customdata[2]}<extra></extra>",
         "hovertext": [
          "ZACH ERTZ",
          "EVAN ENGRAM",
          "DAWSON KNOX",
          "MIKE GESICKI",
          "TYLER CONKLIN",
          "MARK ANDREWS",
          "DALLAS GOEDERT",
          "TJ HOCKENSON",
          "DAVID NJOKU",
          "TRAVIS KELCE",
          "KYLE PITTS",
          "HUNTER HENRY",
          "ADAM TRAUTMAN",
          "ANTHONY FIRKSER",
          "DARREN WALLER",
          "GEORGE KITTLE",
          "TYLER HIGBEE",
          "ALBERT OKWUEGBUNAM",
          "ROBERT TONYAN",
          "DALTON SCHULTZ",
          "NOAH FANT",
          "LOGAN THOMAS",
          "HAYDEN HURST",
          "HARRISON BRYANT"
         ],
         "legendgroup": "TE",
         "marker": {
          "color": "hsla(177, 68%, 36%, 1)",
          "pattern": {
           "shape": ""
          }
         },
         "name": "TE",
         "offsetgroup": "TE",
         "orientation": "v",
         "showlegend": true,
         "text": [
          "ZACH ERTZ",
          "EVAN ENGRAM",
          "DAWSON KNOX",
          "MIKE GESICKI",
          "TYLER CONKLIN",
          "MARK ANDREWS",
          "DALLAS GOEDERT",
          "TJ HOCKENSON",
          "DAVID NJOKU",
          "TRAVIS KELCE",
          "KYLE PITTS",
          "HUNTER HENRY",
          "ADAM TRAUTMAN",
          "ANTHONY FIRKSER",
          "DARREN WALLER",
          "GEORGE KITTLE",
          "TYLER HIGBEE",
          "ALBERT OKWUEGBUNAM",
          "ROBERT TONYAN",
          "DALTON SCHULTZ",
          "NOAH FANT",
          "LOGAN THOMAS",
          "HAYDEN HURST",
          "HARRISON BRYANT"
         ],
         "textposition": "auto",
         "type": "bar",
         "x": [
          "Washington Fantasy Football Team",
          "Washington Fantasy Football Team",
          "Crocodilopolis Body Snatchers",
          "Crocodilopolis Body Snatchers",
          "Pretty Big Wieners",
          "Pretty Big Wieners",
          "Saskatoon Squatches",
          "Saskatoon Squatches",
          "Verdansk Vaqueros FFC",
          "Verdansk Vaqueros FFC",
          "O'Henry's Stiffies",
          "O'Henry's Stiffies",
          "Down with the Sickness unto Death",
          "Down with the Sickness unto Death",
          "WHAM! BAM! Thank You CAM!",
          "WHAM! BAM! Thank You CAM!",
          "Providence Monastic Spirits",
          "Providence Monastic Spirits",
          "Comeback Kings",
          "Comeback Kings",
          "Gus The Bus",
          "Gus The Bus",
          "IDK much about soccer ",
          "IDK much about soccer "
         ],
         "xaxis": "x",
         "y": [
          112.21773159777082,
          98.41376529374106,
          87.55744556213727,
          127.59176307974273,
          87.67439142923328,
          168.73975137214995,
          131.22480881475238,
          119.84014086366817,
          84.14040694616996,
          193.7133078103854,
          130.61287887222088,
          87.06832577111615,
          82.8063952832101,
          0,
          123.54833563905747,
          169.94908276481831,
          83.59464877064275,
          80.49747328229864,
          20.16770958550138,
          127.74119092447374,
          123.15465556460147,
          94.49220313829866,
          77.35752323079676,
          19.069406509414268
         ],
         "yaxis": "y"
        },
        {
         "alignmentgroup": "True",
         "customdata": [
          [
           143.8157781644001,
           121.77666599999999,
           136.7566676,
           "MATT PRATER",
           "PK"
          ],
          [
           143.7830982898065,
           126.21333359999998,
           129.1033351,
           "WIL LUTZ",
           "PK"
          ],
          [
           147.05642474127507,
           162.68333330000002,
           148.07666469999998,
           "NICK FOLK",
           "PK"
          ],
          [
           136.76906633589175,
           151.4399984,
           147.4133316,
           "YOUNGHOE KOO",
           "PK"
          ],
          [
           145.02062082153464,
           172.23999990000002,
           164.696667,
           "DANIEL CARLSON",
           "PK"
          ],
          [
           136.91168561969226,
           138.8100011,
           123.17666650000001,
           "CAIRO SANTOS",
           "PK"
          ],
          [
           146.1750792919682,
           131.9566686,
           131.9566686,
           "GREG JOSEPH",
           "PK"
          ],
          [
           141.8266796833305,
           168.49000039999999,
           162.68333330000002,
           "MATT GAY",
           "PK"
          ],
          [
           142.75291172344802,
           142.9700002,
           142.9700002,
           "CHRIS BOSWELL",
           "PK"
          ],
          [
           143.9845999911087,
           119.6433337,
           113.44333519999999,
           "RANDY BULLOCK",
           "PK"
          ],
          [
           143.17739960376855,
           156.23999990000002,
           160.9366669,
           "HARRISON BUTKER",
           "PK"
          ],
          [
           149.11021439932549,
           148.07666469999998,
           145.7166656,
           "RODRIGO BLANKENSHIP",
           "PK"
          ],
          [
           144.76874886186548,
           107.8200007,
           116.56333390000002,
           "MASON CROSBY",
           "PK"
          ],
          [
           140.82118466281548,
           140.3300003,
           119.6433337,
           "BRETT MAHER",
           "PK"
          ],
          [
           138.76879266484372,
           116.56333390000002,
           121.77666599999999,
           "JAKE ELLIOTT",
           "PK"
          ],
          [
           135.8565162305372,
           96.69000015,
           78.36333313,
           "EDDY PINEIRO",
           "PK"
          ],
          [
           144.00206850458807,
           163.0366659,
           163.0366659,
           "TYLER BASS",
           "PK"
          ],
          [
           146.15567239548375,
           164.696667,
           168.49000039999999,
           "EVAN MCPHERSON",
           "PK"
          ],
          [
           140.70615013708849,
           160.9366669,
           156.23999990000002,
           "RYAN SUCCOP",
           "PK"
          ],
          [
           142.84796849396264,
           134.4166687,
           126.21333359999998,
           "JASON SANDERS",
           "PK"
          ],
          [
           145.3314905136618,
           147.4133316,
           172.23999990000002,
           "JUSTIN TUCKER",
           "PK"
          ],
          [
           139.94109250777774,
           145.7166656,
           140.3300003,
           "DUSTIN HOPKINS",
           "PK"
          ],
          [
           140.19211876951906,
           111.08666869999999,
           138.8100011,
           "BRANDON MCMANUS",
           "PK"
          ],
          [
           140.2258449118796,
           123.17666650000001,
           86.54000066,
           "JASON MYERS",
           "PK"
          ]
         ],
         "hovertemplate": "<b>%{hovertext}</b><br><br>Player Value=%{y}<br>ChopBlock Projection=%{customdata[0]}<br>FantasySharks Projection=%{customdata[1]}<br>ADP Projection=%{customdata[2]}<extra></extra>",
         "hovertext": [
          "MATT PRATER",
          "WIL LUTZ",
          "NICK FOLK",
          "YOUNGHOE KOO",
          "DANIEL CARLSON",
          "CAIRO SANTOS",
          "GREG JOSEPH",
          "MATT GAY",
          "CHRIS BOSWELL",
          "RANDY BULLOCK",
          "HARRISON BUTKER",
          "RODRIGO BLANKENSHIP",
          "MASON CROSBY",
          "BRETT MAHER",
          "JAKE ELLIOTT",
          "EDDY PINEIRO",
          "TYLER BASS",
          "EVAN MCPHERSON",
          "RYAN SUCCOP",
          "JASON SANDERS",
          "JUSTIN TUCKER",
          "DUSTIN HOPKINS",
          "BRANDON MCMANUS",
          "JASON MYERS"
         ],
         "legendgroup": "PK",
         "marker": {
          "color": "hsla(14, 30%, 40%, 1)",
          "pattern": {
           "shape": ""
          }
         },
         "name": "PK",
         "offsetgroup": "PK",
         "orientation": "v",
         "showlegend": true,
         "text": [
          "MATT PRATER",
          "WIL LUTZ",
          "NICK FOLK",
          "YOUNGHOE KOO",
          "DANIEL CARLSON",
          "CAIRO SANTOS",
          "GREG JOSEPH",
          "MATT GAY",
          "CHRIS BOSWELL",
          "RANDY BULLOCK",
          "HARRISON BUTKER",
          "RODRIGO BLANKENSHIP",
          "MASON CROSBY",
          "BRETT MAHER",
          "JAKE ELLIOTT",
          "EDDY PINEIRO",
          "TYLER BASS",
          "EVAN MCPHERSON",
          "RYAN SUCCOP",
          "JASON SANDERS",
          "JUSTIN TUCKER",
          "DUSTIN HOPKINS",
          "BRANDON MCMANUS",
          "JASON MYERS"
         ],
         "textposition": "auto",
         "type": "bar",
         "x": [
          "Washington Fantasy Football Team",
          "Washington Fantasy Football Team",
          "Crocodilopolis Body Snatchers",
          "Crocodilopolis Body Snatchers",
          "Pretty Big Wieners",
          "Pretty Big Wieners",
          "Saskatoon Squatches",
          "Saskatoon Squatches",
          "Verdansk Vaqueros FFC",
          "Verdansk Vaqueros FFC",
          "O'Henry's Stiffies",
          "O'Henry's Stiffies",
          "Down with the Sickness unto Death",
          "Down with the Sickness unto Death",
          "WHAM! BAM! Thank You CAM!",
          "WHAM! BAM! Thank You CAM!",
          "Providence Monastic Spirits",
          "Providence Monastic Spirits",
          "Comeback Kings",
          "Comeback Kings",
          "Gus The Bus",
          "Gus The Bus",
          "IDK much about soccer ",
          "IDK much about soccer "
         ],
         "xaxis": "x",
         "y": [
          7.9592619338628765,
          7.926582059269293,
          11.199908510737856,
          0.9125501053545406,
          9.164104590997425,
          1.0551693891550542,
          10.318563061430979,
          5.970163452793287,
          6.896395492910813,
          8.128083760571485,
          7.320883373231339,
          13.253698168788276,
          8.912232631328266,
          4.964668432278273,
          2.9122764343065057,
          0,
          8.145552274050857,
          10.299156164946538,
          4.849633906551276,
          6.99145226342543,
          9.474974283124595,
          4.084576277240529,
          4.3356025389818456,
          4.369328681342381
         ],
         "yaxis": "y"
        },
        {
         "alignmentgroup": "True",
         "customdata": [
          [
           200.41665151369662,
           164.67999780000002,
           123.3199997,
           "WASHINGTON COMMANDERS",
           "DF"
          ],
          [
           157.7259720757817,
           160.35333,
           132.6800003,
           "CHICAGO BEARS",
           "DF"
          ],
          [
           151.66180351727448,
           117.30666609999999,
           168,
           "DENVER BRONCOS",
           "DF"
          ],
          [
           158.80885007738408,
           179.6733322,
           211.346667,
           "SAN FRANCISCO 49ERS",
           "DF"
          ],
          [
           149.8426772069631,
           220.35333250000002,
           170.3399989,
           "MIAMI DOLPHINS",
           "DF"
          ],
          [
           155.70343699535022,
           171.0199966,
           164.67999780000002,
           "PHILADELPHIA EAGLES",
           "DF"
          ],
          [
           138.7125835435088,
           110.9933332,
           79.67333349,
           "SEATTLE SEAHAWKS",
           "DF"
          ],
          [
           139.717747781974,
           71.31999969,
           103.34666700000001,
           "JACKSONVILLE JAGUARS",
           "DF"
          ],
          [
           177.0913724206438,
           92,
           117.30666609999999,
           "CAROLINA PANTHERS",
           "DF"
          ],
          [
           147.47285749537133,
           125.33333329999999,
           119.9733327,
           "ARIZONA CARDINALS",
           "DF"
          ],
          [
           142.24996541476582,
           123.3199997,
           113.9866664,
           "NEW YORK GIANTS",
           "DF"
          ],
          [
           143.99008956419604,
           67.64666621,
           125.33333329999999,
           "LAS VEGAS RAIDERS",
           "DF"
          ],
          [
           187.30542359265817,
           172.0266647,
           222.69333140000003,
           "BUFFALO BILLS",
           "DF"
          ],
          [
           162.54612930712992,
           155.3466644,
           177.0066655,
           "NEW ENGLAND PATRIOTS",
           "DF"
          ],
          [
           145.64596719876045,
           141.0066668,
           172.0266647,
           "LOS ANGELES CHARGERS",
           "DF"
          ],
          [
           153.06355397207537,
           174.3399989,
           181.6866659,
           "GREEN BAY PACKERS",
           "DF"
          ],
          [
           143.33536648943863,
           177.0066655,
           169.33333330000002,
           "TENNESSEE TITANS",
           "DF"
          ],
          [
           147.7861483748379,
           222.69333140000003,
           190.01333359999998,
           "DALLAS COWBOYS",
           "DF"
          ],
          [
           143.90307677796855,
           185.3600006,
           220.35333250000002,
           "LOS ANGELES RAMS",
           "DF"
          ],
          [
           145.03854780641262,
           170.3399989,
           200.6800003,
           "TAMPA BAY BUCCANEERS",
           "DF"
          ],
          [
           139.9935184259768,
           119.9733327,
           171.0199966,
           "BALTIMORE RAVENS",
           "DF"
          ],
          [
           146.25353817245067,
           200.6800003,
           174.3399989,
           "PITTSBURGH STEELERS",
           "DF"
          ],
          [
           146.46292072882886,
           169.33333330000002,
           179.6733322,
           "INDIANAPOLIS COLTS",
           "DF"
          ],
          [
           138.04114440407028,
           150.3399989,
           155.3466644,
           "KANSAS CITY CHIEFS",
           "DF"
          ]
         ],
         "hovertemplate": "<b>%{hovertext}</b><br><br>Player Value=%{y}<br>ChopBlock Projection=%{customdata[0]}<br>FantasySharks Projection=%{customdata[1]}<br>ADP Projection=%{customdata[2]}<extra></extra>",
         "hovertext": [
          "WASHINGTON COMMANDERS",
          "CHICAGO BEARS",
          "DENVER BRONCOS",
          "SAN FRANCISCO 49ERS",
          "MIAMI DOLPHINS",
          "PHILADELPHIA EAGLES",
          "SEATTLE SEAHAWKS",
          "JACKSONVILLE JAGUARS",
          "CAROLINA PANTHERS",
          "ARIZONA CARDINALS",
          "NEW YORK GIANTS",
          "LAS VEGAS RAIDERS",
          "BUFFALO BILLS",
          "NEW ENGLAND PATRIOTS",
          "LOS ANGELES CHARGERS",
          "GREEN BAY PACKERS",
          "TENNESSEE TITANS",
          "DALLAS COWBOYS",
          "LOS ANGELES RAMS",
          "TAMPA BAY BUCCANEERS",
          "BALTIMORE RAVENS",
          "PITTSBURGH STEELERS",
          "INDIANAPOLIS COLTS",
          "KANSAS CITY CHIEFS"
         ],
         "legendgroup": "DF",
         "marker": {
          "color": "hsla(35, 70%, 65%, 1)",
          "pattern": {
           "shape": ""
          }
         },
         "name": "DF",
         "offsetgroup": "DF",
         "orientation": "v",
         "showlegend": true,
         "text": [
          "WASHINGTON COMMANDERS",
          "CHICAGO BEARS",
          "DENVER BRONCOS",
          "SAN FRANCISCO 49ERS",
          "MIAMI DOLPHINS",
          "PHILADELPHIA EAGLES",
          "SEATTLE SEAHAWKS",
          "JACKSONVILLE JAGUARS",
          "CAROLINA PANTHERS",
          "ARIZONA CARDINALS",
          "NEW YORK GIANTS",
          "LAS VEGAS RAIDERS",
          "BUFFALO BILLS",
          "NEW ENGLAND PATRIOTS",
          "LOS ANGELES CHARGERS",
          "GREEN BAY PACKERS",
          "TENNESSEE TITANS",
          "DALLAS COWBOYS",
          "LOS ANGELES RAMS",
          "TAMPA BAY BUCCANEERS",
          "BALTIMORE RAVENS",
          "PITTSBURGH STEELERS",
          "INDIANAPOLIS COLTS",
          "KANSAS CITY CHIEFS"
         ],
         "textposition": "auto",
         "type": "bar",
         "x": [
          "Washington Fantasy Football Team",
          "Washington Fantasy Football Team",
          "Crocodilopolis Body Snatchers",
          "Crocodilopolis Body Snatchers",
          "Pretty Big Wieners",
          "Pretty Big Wieners",
          "Saskatoon Squatches",
          "Saskatoon Squatches",
          "Verdansk Vaqueros FFC",
          "Verdansk Vaqueros FFC",
          "O'Henry's Stiffies",
          "O'Henry's Stiffies",
          "Down with the Sickness unto Death",
          "Down with the Sickness unto Death",
          "WHAM! BAM! Thank You CAM!",
          "WHAM! BAM! Thank You CAM!",
          "Providence Monastic Spirits",
          "Providence Monastic Spirits",
          "Comeback Kings",
          "Comeback Kings",
          "Gus The Bus",
          "Gus The Bus",
          "IDK much about soccer ",
          "IDK much about soccer "
         ],
         "xaxis": "x",
         "y": [
          62.37550710962634,
          19.684827671711417,
          13.620659113204198,
          20.7677056733138,
          11.801532802892808,
          17.662292591279936,
          0.6714391394385189,
          1.6766033779037173,
          39.05022801657353,
          9.431713091301049,
          4.208821010695544,
          5.94894516012576,
          49.26427918858789,
          24.504984903059636,
          7.604822794690165,
          15.022409568005088,
          5.294222085368347,
          9.745003970767613,
          5.86193237389827,
          6.997403402342343,
          1.9523740219065076,
          8.212393768380394,
          8.421776324758582,
          0
         ],
         "yaxis": "y"
        }
       ],
       "layout": {
        "barmode": "stack",
        "font": {
         "family": "Skia"
        },
        "legend": {
         "title": {
          "text": "pos"
         },
         "tracegroupgap": 0
        },
        "margin": {
         "t": 60
        },
        "plot_bgcolor": "rgba(0,0,0,0)",
        "showlegend": false,
        "template": {
         "data": {
          "bar": [
           {
            "error_x": {
             "color": "#2a3f5f"
            },
            "error_y": {
             "color": "#2a3f5f"
            },
            "marker": {
             "line": {
              "color": "#E5ECF6",
              "width": 0.5
             },
             "pattern": {
              "fillmode": "overlay",
              "size": 10,
              "solidity": 0.2
             }
            },
            "type": "bar"
           }
          ],
          "barpolar": [
           {
            "marker": {
             "line": {
              "color": "#E5ECF6",
              "width": 0.5
             },
             "pattern": {
              "fillmode": "overlay",
              "size": 10,
              "solidity": 0.2
             }
            },
            "type": "barpolar"
           }
          ],
          "carpet": [
           {
            "aaxis": {
             "endlinecolor": "#2a3f5f",
             "gridcolor": "white",
             "linecolor": "white",
             "minorgridcolor": "white",
             "startlinecolor": "#2a3f5f"
            },
            "baxis": {
             "endlinecolor": "#2a3f5f",
             "gridcolor": "white",
             "linecolor": "white",
             "minorgridcolor": "white",
             "startlinecolor": "#2a3f5f"
            },
            "type": "carpet"
           }
          ],
          "choropleth": [
           {
            "colorbar": {
             "outlinewidth": 0,
             "ticks": ""
            },
            "type": "choropleth"
           }
          ],
          "contour": [
           {
            "colorbar": {
             "outlinewidth": 0,
             "ticks": ""
            },
            "colorscale": [
             [
              0,
              "#0d0887"
             ],
             [
              0.1111111111111111,
              "#46039f"
             ],
             [
              0.2222222222222222,
              "#7201a8"
             ],
             [
              0.3333333333333333,
              "#9c179e"
             ],
             [
              0.4444444444444444,
              "#bd3786"
             ],
             [
              0.5555555555555556,
              "#d8576b"
             ],
             [
              0.6666666666666666,
              "#ed7953"
             ],
             [
              0.7777777777777778,
              "#fb9f3a"
             ],
             [
              0.8888888888888888,
              "#fdca26"
             ],
             [
              1,
              "#f0f921"
             ]
            ],
            "type": "contour"
           }
          ],
          "contourcarpet": [
           {
            "colorbar": {
             "outlinewidth": 0,
             "ticks": ""
            },
            "type": "contourcarpet"
           }
          ],
          "heatmap": [
           {
            "colorbar": {
             "outlinewidth": 0,
             "ticks": ""
            },
            "colorscale": [
             [
              0,
              "#0d0887"
             ],
             [
              0.1111111111111111,
              "#46039f"
             ],
             [
              0.2222222222222222,
              "#7201a8"
             ],
             [
              0.3333333333333333,
              "#9c179e"
             ],
             [
              0.4444444444444444,
              "#bd3786"
             ],
             [
              0.5555555555555556,
              "#d8576b"
             ],
             [
              0.6666666666666666,
              "#ed7953"
             ],
             [
              0.7777777777777778,
              "#fb9f3a"
             ],
             [
              0.8888888888888888,
              "#fdca26"
             ],
             [
              1,
              "#f0f921"
             ]
            ],
            "type": "heatmap"
           }
          ],
          "heatmapgl": [
           {
            "colorbar": {
             "outlinewidth": 0,
             "ticks": ""
            },
            "colorscale": [
             [
              0,
              "#0d0887"
             ],
             [
              0.1111111111111111,
              "#46039f"
             ],
             [
              0.2222222222222222,
              "#7201a8"
             ],
             [
              0.3333333333333333,
              "#9c179e"
             ],
             [
              0.4444444444444444,
              "#bd3786"
             ],
             [
              0.5555555555555556,
              "#d8576b"
             ],
             [
              0.6666666666666666,
              "#ed7953"
             ],
             [
              0.7777777777777778,
              "#fb9f3a"
             ],
             [
              0.8888888888888888,
              "#fdca26"
             ],
             [
              1,
              "#f0f921"
             ]
            ],
            "type": "heatmapgl"
           }
          ],
          "histogram": [
           {
            "marker": {
             "pattern": {
              "fillmode": "overlay",
              "size": 10,
              "solidity": 0.2
             }
            },
            "type": "histogram"
           }
          ],
          "histogram2d": [
           {
            "colorbar": {
             "outlinewidth": 0,
             "ticks": ""
            },
            "colorscale": [
             [
              0,
              "#0d0887"
             ],
             [
              0.1111111111111111,
              "#46039f"
             ],
             [
              0.2222222222222222,
              "#7201a8"
             ],
             [
              0.3333333333333333,
              "#9c179e"
             ],
             [
              0.4444444444444444,
              "#bd3786"
             ],
             [
              0.5555555555555556,
              "#d8576b"
             ],
             [
              0.6666666666666666,
              "#ed7953"
             ],
             [
              0.7777777777777778,
              "#fb9f3a"
             ],
             [
              0.8888888888888888,
              "#fdca26"
             ],
             [
              1,
              "#f0f921"
             ]
            ],
            "type": "histogram2d"
           }
          ],
          "histogram2dcontour": [
           {
            "colorbar": {
             "outlinewidth": 0,
             "ticks": ""
            },
            "colorscale": [
             [
              0,
              "#0d0887"
             ],
             [
              0.1111111111111111,
              "#46039f"
             ],
             [
              0.2222222222222222,
              "#7201a8"
             ],
             [
              0.3333333333333333,
              "#9c179e"
             ],
             [
              0.4444444444444444,
              "#bd3786"
             ],
             [
              0.5555555555555556,
              "#d8576b"
             ],
             [
              0.6666666666666666,
              "#ed7953"
             ],
             [
              0.7777777777777778,
              "#fb9f3a"
             ],
             [
              0.8888888888888888,
              "#fdca26"
             ],
             [
              1,
              "#f0f921"
             ]
            ],
            "type": "histogram2dcontour"
           }
          ],
          "mesh3d": [
           {
            "colorbar": {
             "outlinewidth": 0,
             "ticks": ""
            },
            "type": "mesh3d"
           }
          ],
          "parcoords": [
           {
            "line": {
             "colorbar": {
              "outlinewidth": 0,
              "ticks": ""
             }
            },
            "type": "parcoords"
           }
          ],
          "pie": [
           {
            "automargin": true,
            "type": "pie"
           }
          ],
          "scatter": [
           {
            "fillpattern": {
             "fillmode": "overlay",
             "size": 10,
             "solidity": 0.2
            },
            "type": "scatter"
           }
          ],
          "scatter3d": [
           {
            "line": {
             "colorbar": {
              "outlinewidth": 0,
              "ticks": ""
             }
            },
            "marker": {
             "colorbar": {
              "outlinewidth": 0,
              "ticks": ""
             }
            },
            "type": "scatter3d"
           }
          ],
          "scattercarpet": [
           {
            "marker": {
             "colorbar": {
              "outlinewidth": 0,
              "ticks": ""
             }
            },
            "type": "scattercarpet"
           }
          ],
          "scattergeo": [
           {
            "marker": {
             "colorbar": {
              "outlinewidth": 0,
              "ticks": ""
             }
            },
            "type": "scattergeo"
           }
          ],
          "scattergl": [
           {
            "marker": {
             "colorbar": {
              "outlinewidth": 0,
              "ticks": ""
             }
            },
            "type": "scattergl"
           }
          ],
          "scattermapbox": [
           {
            "marker": {
             "colorbar": {
              "outlinewidth": 0,
              "ticks": ""
             }
            },
            "type": "scattermapbox"
           }
          ],
          "scatterpolar": [
           {
            "marker": {
             "colorbar": {
              "outlinewidth": 0,
              "ticks": ""
             }
            },
            "type": "scatterpolar"
           }
          ],
          "scatterpolargl": [
           {
            "marker": {
             "colorbar": {
              "outlinewidth": 0,
              "ticks": ""
             }
            },
            "type": "scatterpolargl"
           }
          ],
          "scatterternary": [
           {
            "marker": {
             "colorbar": {
              "outlinewidth": 0,
              "ticks": ""
             }
            },
            "type": "scatterternary"
           }
          ],
          "surface": [
           {
            "colorbar": {
             "outlinewidth": 0,
             "ticks": ""
            },
            "colorscale": [
             [
              0,
              "#0d0887"
             ],
             [
              0.1111111111111111,
              "#46039f"
             ],
             [
              0.2222222222222222,
              "#7201a8"
             ],
             [
              0.3333333333333333,
              "#9c179e"
             ],
             [
              0.4444444444444444,
              "#bd3786"
             ],
             [
              0.5555555555555556,
              "#d8576b"
             ],
             [
              0.6666666666666666,
              "#ed7953"
             ],
             [
              0.7777777777777778,
              "#fb9f3a"
             ],
             [
              0.8888888888888888,
              "#fdca26"
             ],
             [
              1,
              "#f0f921"
             ]
            ],
            "type": "surface"
           }
          ],
          "table": [
           {
            "cells": {
             "fill": {
              "color": "#EBF0F8"
             },
             "line": {
              "color": "white"
             }
            },
            "header": {
             "fill": {
              "color": "#C8D4E3"
             },
             "line": {
              "color": "white"
             }
            },
            "type": "table"
           }
          ]
         },
         "layout": {
          "annotationdefaults": {
           "arrowcolor": "#2a3f5f",
           "arrowhead": 0,
           "arrowwidth": 1
          },
          "autotypenumbers": "strict",
          "coloraxis": {
           "colorbar": {
            "outlinewidth": 0,
            "ticks": ""
           }
          },
          "colorscale": {
           "diverging": [
            [
             0,
             "#8e0152"
            ],
            [
             0.1,
             "#c51b7d"
            ],
            [
             0.2,
             "#de77ae"
            ],
            [
             0.3,
             "#f1b6da"
            ],
            [
             0.4,
             "#fde0ef"
            ],
            [
             0.5,
             "#f7f7f7"
            ],
            [
             0.6,
             "#e6f5d0"
            ],
            [
             0.7,
             "#b8e186"
            ],
            [
             0.8,
             "#7fbc41"
            ],
            [
             0.9,
             "#4d9221"
            ],
            [
             1,
             "#276419"
            ]
           ],
           "sequential": [
            [
             0,
             "#0d0887"
            ],
            [
             0.1111111111111111,
             "#46039f"
            ],
            [
             0.2222222222222222,
             "#7201a8"
            ],
            [
             0.3333333333333333,
             "#9c179e"
            ],
            [
             0.4444444444444444,
             "#bd3786"
            ],
            [
             0.5555555555555556,
             "#d8576b"
            ],
            [
             0.6666666666666666,
             "#ed7953"
            ],
            [
             0.7777777777777778,
             "#fb9f3a"
            ],
            [
             0.8888888888888888,
             "#fdca26"
            ],
            [
             1,
             "#f0f921"
            ]
           ],
           "sequentialminus": [
            [
             0,
             "#0d0887"
            ],
            [
             0.1111111111111111,
             "#46039f"
            ],
            [
             0.2222222222222222,
             "#7201a8"
            ],
            [
             0.3333333333333333,
             "#9c179e"
            ],
            [
             0.4444444444444444,
             "#bd3786"
            ],
            [
             0.5555555555555556,
             "#d8576b"
            ],
            [
             0.6666666666666666,
             "#ed7953"
            ],
            [
             0.7777777777777778,
             "#fb9f3a"
            ],
            [
             0.8888888888888888,
             "#fdca26"
            ],
            [
             1,
             "#f0f921"
            ]
           ]
          },
          "colorway": [
           "#636efa",
           "#EF553B",
           "#00cc96",
           "#ab63fa",
           "#FFA15A",
           "#19d3f3",
           "#FF6692",
           "#B6E880",
           "#FF97FF",
           "#FECB52"
          ],
          "font": {
           "color": "#2a3f5f"
          },
          "geo": {
           "bgcolor": "white",
           "lakecolor": "white",
           "landcolor": "#E5ECF6",
           "showlakes": true,
           "showland": true,
           "subunitcolor": "white"
          },
          "hoverlabel": {
           "align": "left"
          },
          "hovermode": "closest",
          "mapbox": {
           "style": "light"
          },
          "paper_bgcolor": "white",
          "plot_bgcolor": "#E5ECF6",
          "polar": {
           "angularaxis": {
            "gridcolor": "white",
            "linecolor": "white",
            "ticks": ""
           },
           "bgcolor": "#E5ECF6",
           "radialaxis": {
            "gridcolor": "white",
            "linecolor": "white",
            "ticks": ""
           }
          },
          "scene": {
           "xaxis": {
            "backgroundcolor": "#E5ECF6",
            "gridcolor": "white",
            "gridwidth": 2,
            "linecolor": "white",
            "showbackground": true,
            "ticks": "",
            "zerolinecolor": "white"
           },
           "yaxis": {
            "backgroundcolor": "#E5ECF6",
            "gridcolor": "white",
            "gridwidth": 2,
            "linecolor": "white",
            "showbackground": true,
            "ticks": "",
            "zerolinecolor": "white"
           },
           "zaxis": {
            "backgroundcolor": "#E5ECF6",
            "gridcolor": "white",
            "gridwidth": 2,
            "linecolor": "white",
            "showbackground": true,
            "ticks": "",
            "zerolinecolor": "white"
           }
          },
          "shapedefaults": {
           "line": {
            "color": "#2a3f5f"
           }
          },
          "ternary": {
           "aaxis": {
            "gridcolor": "white",
            "linecolor": "white",
            "ticks": ""
           },
           "baxis": {
            "gridcolor": "white",
            "linecolor": "white",
            "ticks": ""
           },
           "bgcolor": "#E5ECF6",
           "caxis": {
            "gridcolor": "white",
            "linecolor": "white",
            "ticks": ""
           }
          },
          "title": {
           "x": 0.05
          },
          "xaxis": {
           "automargin": true,
           "gridcolor": "white",
           "linecolor": "white",
           "ticks": "",
           "title": {
            "standoff": 15
           },
           "zerolinecolor": "white",
           "zerolinewidth": 2
          },
          "yaxis": {
           "automargin": true,
           "gridcolor": "white",
           "linecolor": "white",
           "ticks": "",
           "title": {
            "standoff": 15
           },
           "zerolinecolor": "white",
           "zerolinewidth": 2
          }
         }
        },
        "title": {
         "text": "ChopBlock Projections"
        },
        "xaxis": {
         "anchor": "y",
         "categoryorder": "total descending",
         "domain": [
          0,
          1
         ],
         "title": {
          "text": "Franchise"
         }
        },
        "yaxis": {
         "anchor": "x",
         "domain": [
          0,
          1
         ],
         "title": {
          "text": "Player Value"
         }
        }
       }
      }
     },
     "metadata": {},
     "output_type": "display_data"
    }
   ],
   "source": [
    "\n",
    "# Create bar chart\n",
    "figPred = px.bar(players_onthefield, \n",
    "            x=\"FranchiseName\", \n",
    "            y=\"predRelative\", \n",
    "            color=\"pos\", \n",
    "            text='player', \n",
    "            color_discrete_map={\n",
    "                \"QB\": \"hsla(210, 60%, 25%, 1)\", #blue #1033a6 #0c2987 1033a6 062647 #293745 \n",
    "                \"RB\": \"hsla(12, 50%, 45%, 1)\", #gold #f5d000 ffa524 a23419 a34e39\n",
    "                \"WR\": \"hsla(267, 40%, 45%, 1)\", #purple #4f22bc #643fc1 643fc1 621B74 675280\n",
    "                \"TE\": \"hsla(177, 68%, 36%, 1)\", #teal #02687b #038097 1295ad 43B3AE\n",
    "                \"PK\": \"hsla(14, 30%, 40%, 1)\", #gold #f5d000 ffa524 664e47\n",
    "                \"DF\": \"hsla(35, 70%, 65%, 1)\"}, #gold #f5d000 ffa524 a49375 ffb54d\n",
    "            category_orders={\n",
    "                \"pos\": [\"QB\", \"RB\", \"WR\", \"TE\", \"PK\", \"DF\"]},\n",
    "            hover_name=\"player\",\n",
    "            hover_data={\n",
    "                'predRelative':True, 'pred':True, 'sharkAbsolute':True, 'adpAbsolute':True,\n",
    "                'player':False, 'pos':False, 'FranchiseName':False\n",
    "                },\n",
    "                labels={\n",
    "                    \"FranchiseName\":\"Franchise\",\n",
    "                    \"predRelative\":\"Player Value\",\n",
    "                    \"pred\":\"ChopBlock Projection\",\n",
    "                    \"sharkAbsolute\":\"FantasySharks Projection\",\n",
    "                    \"adpAbsolute\":\"ADP Projection\"\n",
    "                }\n",
    "            )\n",
    "figPred.update_layout(\n",
    "    barmode='stack', \n",
    "    xaxis={'categoryorder':'total descending'},\n",
    "    plot_bgcolor='rgba(0,0,0,0)',\n",
    "    title=\"ChopBlock Projections\",\n",
    "    font_family=\"Skia\",\n",
    "    showlegend=False\n",
    "    )\n",
    "figPred.show()\n",
    "# graphJSON_pred = json.dumps(figPred, cls=plotly.utils.PlotlyJSONEncoder)\n",
    "# return render_template('compareFranchises2.html', graphJSON_pred=graphJSON_pred, graphJSON_adp=graphJSON_adp, graphJSON_shark=graphJSON_shark)"
   ]
  },
  {
   "cell_type": "code",
   "execution_count": 55,
   "metadata": {},
   "outputs": [],
   "source": []
  },
  {
   "cell_type": "code",
   "execution_count": 6,
   "metadata": {},
   "outputs": [
    {
     "data": {
      "text/html": [
       "<div>\n",
       "<style scoped>\n",
       "    .dataframe tbody tr th:only-of-type {\n",
       "        vertical-align: middle;\n",
       "    }\n",
       "\n",
       "    .dataframe tbody tr th {\n",
       "        vertical-align: top;\n",
       "    }\n",
       "\n",
       "    .dataframe thead th {\n",
       "        text-align: right;\n",
       "    }\n",
       "</style>\n",
       "<table border=\"1\" class=\"dataframe\">\n",
       "  <thead>\n",
       "    <tr style=\"text-align: right;\">\n",
       "      <th></th>\n",
       "      <th>id_mfl</th>\n",
       "      <th>sharkProjection</th>\n",
       "    </tr>\n",
       "  </thead>\n",
       "  <tbody>\n",
       "    <tr>\n",
       "      <th>0</th>\n",
       "      <td>13116</td>\n",
       "      <td>23.4</td>\n",
       "    </tr>\n",
       "    <tr>\n",
       "      <th>1</th>\n",
       "      <td>13589</td>\n",
       "      <td>22.9</td>\n",
       "    </tr>\n",
       "    <tr>\n",
       "      <th>2</th>\n",
       "      <td>12626</td>\n",
       "      <td>22.9</td>\n",
       "    </tr>\n",
       "    <tr>\n",
       "      <th>3</th>\n",
       "      <td>14779</td>\n",
       "      <td>22.5</td>\n",
       "    </tr>\n",
       "    <tr>\n",
       "      <th>4</th>\n",
       "      <td>13593</td>\n",
       "      <td>22.1</td>\n",
       "    </tr>\n",
       "    <tr>\n",
       "      <th>...</th>\n",
       "      <td>...</td>\n",
       "      <td>...</td>\n",
       "    </tr>\n",
       "    <tr>\n",
       "      <th>477</th>\n",
       "      <td>15697</td>\n",
       "      <td>0.1</td>\n",
       "    </tr>\n",
       "    <tr>\n",
       "      <th>478</th>\n",
       "      <td>9706</td>\n",
       "      <td>0.1</td>\n",
       "    </tr>\n",
       "    <tr>\n",
       "      <th>479</th>\n",
       "      <td>15694</td>\n",
       "      <td>0.1</td>\n",
       "    </tr>\n",
       "    <tr>\n",
       "      <th>480</th>\n",
       "      <td></td>\n",
       "      <td></td>\n",
       "    </tr>\n",
       "    <tr>\n",
       "      <th>481</th>\n",
       "      <td>15035</td>\n",
       "      <td>-0.1</td>\n",
       "    </tr>\n",
       "  </tbody>\n",
       "</table>\n",
       "<p>482 rows × 2 columns</p>\n",
       "</div>"
      ],
      "text/plain": [
       "    id_mfl sharkProjection\n",
       "0    13116            23.4\n",
       "1    13589            22.9\n",
       "2    12626            22.9\n",
       "3    14779            22.5\n",
       "4    13593            22.1\n",
       "..     ...             ...\n",
       "477  15697             0.1\n",
       "478   9706             0.1\n",
       "479  15694             0.1\n",
       "480                       \n",
       "481  15035            -0.1\n",
       "\n",
       "[482 rows x 2 columns]"
      ]
     },
     "execution_count": 6,
     "metadata": {},
     "output_type": "execute_result"
    }
   ],
   "source": [
    "\n",
    "def get_mfl_projectedScores(user_league, week):\n",
    "    urlString = f\"https://www54.myfantasyleague.com/2022/export?TYPE=projectedScores&W={week}&L={user_league}\"\n",
    "    response = requests.get(urlString)\n",
    "    soup = BeautifulSoup(response.content,'xml')\n",
    "    data = []\n",
    "    elems = soup.find_all('playerScore')\n",
    "    for i in range(len(elems)):\n",
    "        rows = [elems[i].get(\"id\"), elems[i].get(\"score\")]\n",
    "        data.append(rows)\n",
    "    df = pd.DataFrame(data)\n",
    "    df.columns=['id_mfl','sharkProjection']\n",
    "    return df\n",
    "\n",
    "\n",
    "week=\"1\"\n",
    "get_mfl_projectedScores(user_league, week)"
   ]
  },
  {
   "cell_type": "code",
   "execution_count": null,
   "metadata": {},
   "outputs": [],
   "source": []
  }
 ],
 "metadata": {
  "kernelspec": {
   "display_name": "Python 3.7.13 ('ffdemo')",
   "language": "python",
   "name": "python3"
  },
  "language_info": {
   "codemirror_mode": {
    "name": "ipython",
    "version": 3
   },
   "file_extension": ".py",
   "mimetype": "text/x-python",
   "name": "python",
   "nbconvert_exporter": "python",
   "pygments_lexer": "ipython3",
   "version": "3.7.13"
  },
  "orig_nbformat": 4,
  "vscode": {
   "interpreter": {
    "hash": "8d905582af795a1d852d8b489de0aa5c13367f17d826c05fe58bb0ea835ffe19"
   }
  }
 },
 "nbformat": 4,
 "nbformat_minor": 2
}
